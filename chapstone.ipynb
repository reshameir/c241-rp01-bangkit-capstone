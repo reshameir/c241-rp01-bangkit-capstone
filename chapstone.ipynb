{
 "cells": [
  {
   "cell_type": "code",
   "execution_count": 1,
   "metadata": {},
   "outputs": [],
   "source": [
    "import numpy as np\n",
    "import pandas as pd\n",
    "from scipy import stats\n",
    "import seaborn as sns\n",
    "import plotly.io as pio\n",
    "import plotly.express as px\n",
    "import plotly.graph_objects as go\n",
    "import matplotlib.pyplot as plt\n",
    "from sklearn.cluster import KMeans\n",
    "import plotly.figure_factory as ff\n",
    "from prettytable import PrettyTable\n",
    "\n",
    "from plotly.subplots import make_subplots\n",
    "\n",
    "\n",
    "#Modeling\n",
    "from sklearn.preprocessing import LabelEncoder\n",
    "from sklearn.model_selection import RepeatedKFold\n",
    "import lightgbm as lgbm\n",
    "from yellowbrick.cluster import KElbowVisualizer\n",
    "from sklearn.metrics import mean_squared_error, mean_absolute_error, r2_score      \n",
    "from sklearn.svm import SVR\n",
    "from sklearn.linear_model import LinearRegression, Ridge, Lasso\n",
    "from sklearn.linear_model import ElasticNet, BayesianRidge\n",
    "from sklearn.ensemble import AdaBoostRegressor\n",
    "\n",
    "\n",
    "\n",
    "\n",
    "from catboost import CatBoostRegressor\n",
    "\n",
    "#from sklego.linear_model import LADRegression\n",
    "from xgboost import XGBRegressor\n",
    "from scipy.stats import yeojohnson\n",
    "from sklearn.ensemble import VotingRegressor\n",
    "from sklearn.ensemble import IsolationForest\n",
    "from sklearn.preprocessing import StandardScaler\n",
    "from sklearn.model_selection import train_test_split\n",
    "from scipy.stats import skew\n",
    "from scipy.special import boxcox1p\n",
    "from scipy.stats import boxcox_normmax\n",
    "from mlxtend.regressor import StackingCVRegressor\n",
    "from sklearn.preprocessing import PolynomialFeatures\n",
    "\n",
    "import warnings\n",
    "warnings.filterwarnings('ignore')"
   ]
  },
  {
   "cell_type": "markdown",
   "metadata": {},
   "source": [
    "# **2. Data Collection**"
   ]
  },
  {
   "cell_type": "code",
   "execution_count": 2,
   "metadata": {},
   "outputs": [
    {
     "data": {
      "text/html": [
       "<div>\n",
       "<style scoped>\n",
       "    .dataframe tbody tr th:only-of-type {\n",
       "        vertical-align: middle;\n",
       "    }\n",
       "\n",
       "    .dataframe tbody tr th {\n",
       "        vertical-align: top;\n",
       "    }\n",
       "\n",
       "    .dataframe thead th {\n",
       "        text-align: right;\n",
       "    }\n",
       "</style>\n",
       "<table border=\"1\" class=\"dataframe\">\n",
       "  <thead>\n",
       "    <tr style=\"text-align: right;\">\n",
       "      <th></th>\n",
       "      <th>booking_id</th>\n",
       "      <th>booking_status</th>\n",
       "      <th>booking_check_in</th>\n",
       "      <th>booking_check_out</th>\n",
       "      <th>booking_guest_number</th>\n",
       "      <th>booking_currency</th>\n",
       "      <th>booking_received_timestamp</th>\n",
       "      <th>listing_id</th>\n",
       "      <th>review_sentiment</th>\n",
       "      <th>review_sentiment_score</th>\n",
       "      <th>...</th>\n",
       "      <th>workspace</th>\n",
       "      <th>pool</th>\n",
       "      <th>parking</th>\n",
       "      <th>gym</th>\n",
       "      <th>kitchen</th>\n",
       "      <th>property_id1</th>\n",
       "      <th>area_id</th>\n",
       "      <th>area_name</th>\n",
       "      <th>area_distance_to_airport</th>\n",
       "      <th>airport_pickup_price_idr</th>\n",
       "    </tr>\n",
       "  </thead>\n",
       "  <tbody>\n",
       "    <tr>\n",
       "      <th>0</th>\n",
       "      <td>2REFMR</td>\n",
       "      <td>1</td>\n",
       "      <td>2016-04-06</td>\n",
       "      <td>2016-04-16</td>\n",
       "      <td>NaN</td>\n",
       "      <td>2</td>\n",
       "      <td>NaN</td>\n",
       "      <td>6384209</td>\n",
       "      <td>positive</td>\n",
       "      <td>0.655466</td>\n",
       "      <td>...</td>\n",
       "      <td>1.0</td>\n",
       "      <td>1.0</td>\n",
       "      <td>1.0</td>\n",
       "      <td>0.0</td>\n",
       "      <td>1.0</td>\n",
       "      <td>PR0196</td>\n",
       "      <td>A0012</td>\n",
       "      <td>Nusa Dua</td>\n",
       "      <td>45 minutes</td>\n",
       "      <td>325000.0</td>\n",
       "    </tr>\n",
       "    <tr>\n",
       "      <th>1</th>\n",
       "      <td>9NBTPK</td>\n",
       "      <td>1</td>\n",
       "      <td>2016-04-02</td>\n",
       "      <td>2016-04-05</td>\n",
       "      <td>NaN</td>\n",
       "      <td>2</td>\n",
       "      <td>NaN</td>\n",
       "      <td>945876</td>\n",
       "      <td>positive</td>\n",
       "      <td>0.656976</td>\n",
       "      <td>...</td>\n",
       "      <td>1.0</td>\n",
       "      <td>1.0</td>\n",
       "      <td>1.0</td>\n",
       "      <td>0.0</td>\n",
       "      <td>1.0</td>\n",
       "      <td>PR0242</td>\n",
       "      <td>A0012</td>\n",
       "      <td>Nusa Dua</td>\n",
       "      <td>45 minutes</td>\n",
       "      <td>325000.0</td>\n",
       "    </tr>\n",
       "    <tr>\n",
       "      <th>2</th>\n",
       "      <td>A2SQJN</td>\n",
       "      <td>1</td>\n",
       "      <td>2016-10-06</td>\n",
       "      <td>2016-10-08</td>\n",
       "      <td>NaN</td>\n",
       "      <td>2</td>\n",
       "      <td>NaN</td>\n",
       "      <td>945876</td>\n",
       "      <td>positive</td>\n",
       "      <td>0.687372</td>\n",
       "      <td>...</td>\n",
       "      <td>1.0</td>\n",
       "      <td>1.0</td>\n",
       "      <td>1.0</td>\n",
       "      <td>0.0</td>\n",
       "      <td>1.0</td>\n",
       "      <td>PR0242</td>\n",
       "      <td>A0012</td>\n",
       "      <td>Nusa Dua</td>\n",
       "      <td>45 minutes</td>\n",
       "      <td>325000.0</td>\n",
       "    </tr>\n",
       "    <tr>\n",
       "      <th>3</th>\n",
       "      <td>AKJCTJ</td>\n",
       "      <td>1</td>\n",
       "      <td>2015-10-30</td>\n",
       "      <td>2015-11-04</td>\n",
       "      <td>NaN</td>\n",
       "      <td>2</td>\n",
       "      <td>NaN</td>\n",
       "      <td>6384209</td>\n",
       "      <td>positive</td>\n",
       "      <td>0.979358</td>\n",
       "      <td>...</td>\n",
       "      <td>1.0</td>\n",
       "      <td>1.0</td>\n",
       "      <td>1.0</td>\n",
       "      <td>0.0</td>\n",
       "      <td>1.0</td>\n",
       "      <td>PR0196</td>\n",
       "      <td>A0012</td>\n",
       "      <td>Nusa Dua</td>\n",
       "      <td>45 minutes</td>\n",
       "      <td>325000.0</td>\n",
       "    </tr>\n",
       "    <tr>\n",
       "      <th>4</th>\n",
       "      <td>B3T92M</td>\n",
       "      <td>1</td>\n",
       "      <td>2016-10-10</td>\n",
       "      <td>2016-10-14</td>\n",
       "      <td>NaN</td>\n",
       "      <td>2</td>\n",
       "      <td>NaN</td>\n",
       "      <td>6384209</td>\n",
       "      <td>positive</td>\n",
       "      <td>0.670770</td>\n",
       "      <td>...</td>\n",
       "      <td>1.0</td>\n",
       "      <td>1.0</td>\n",
       "      <td>1.0</td>\n",
       "      <td>0.0</td>\n",
       "      <td>1.0</td>\n",
       "      <td>PR0196</td>\n",
       "      <td>A0012</td>\n",
       "      <td>Nusa Dua</td>\n",
       "      <td>45 minutes</td>\n",
       "      <td>325000.0</td>\n",
       "    </tr>\n",
       "  </tbody>\n",
       "</table>\n",
       "<p>5 rows × 38 columns</p>\n",
       "</div>"
      ],
      "text/plain": [
       "  booking_id  booking_status booking_check_in booking_check_out   \n",
       "0     2REFMR               1       2016-04-06        2016-04-16  \\\n",
       "1     9NBTPK               1       2016-04-02        2016-04-05   \n",
       "2     A2SQJN               1       2016-10-06        2016-10-08   \n",
       "3     AKJCTJ               1       2015-10-30        2015-11-04   \n",
       "4     B3T92M               1       2016-10-10        2016-10-14   \n",
       "\n",
       "   booking_guest_number  booking_currency booking_received_timestamp   \n",
       "0                   NaN                 2                        NaN  \\\n",
       "1                   NaN                 2                        NaN   \n",
       "2                   NaN                 2                        NaN   \n",
       "3                   NaN                 2                        NaN   \n",
       "4                   NaN                 2                        NaN   \n",
       "\n",
       "  listing_id review_sentiment  review_sentiment_score  ...  workspace  pool   \n",
       "0    6384209         positive                0.655466  ...        1.0   1.0  \\\n",
       "1     945876         positive                0.656976  ...        1.0   1.0   \n",
       "2     945876         positive                0.687372  ...        1.0   1.0   \n",
       "3    6384209         positive                0.979358  ...        1.0   1.0   \n",
       "4    6384209         positive                0.670770  ...        1.0   1.0   \n",
       "\n",
       "   parking  gym  kitchen  property_id1 area_id  area_name   \n",
       "0      1.0  0.0      1.0        PR0196   A0012   Nusa Dua  \\\n",
       "1      1.0  0.0      1.0        PR0242   A0012   Nusa Dua   \n",
       "2      1.0  0.0      1.0        PR0242   A0012   Nusa Dua   \n",
       "3      1.0  0.0      1.0        PR0196   A0012   Nusa Dua   \n",
       "4      1.0  0.0      1.0        PR0196   A0012   Nusa Dua   \n",
       "\n",
       "   area_distance_to_airport  airport_pickup_price_idr  \n",
       "0                45 minutes                  325000.0  \n",
       "1                45 minutes                  325000.0  \n",
       "2                45 minutes                  325000.0  \n",
       "3                45 minutes                  325000.0  \n",
       "4                45 minutes                  325000.0  \n",
       "\n",
       "[5 rows x 38 columns]"
      ]
     },
     "execution_count": 2,
     "metadata": {},
     "output_type": "execute_result"
    }
   ],
   "source": [
    "import pandas as pd\n",
    "\n",
    "# Definisikan nama file\n",
    "filename = \"booking_dataset_2024_06_03_with_nan.csv\"\n",
    "\n",
    "# Membaca dataset dari file CSV\n",
    "raw_data = pd.read_csv(filename)\n",
    "df = raw_data\n",
    "data_eda =raw_data\n",
    "\n",
    "# Menampilkan 5 baris pertama dari dataset\n",
    "raw_data.head()"
   ]
  },
  {
   "cell_type": "code",
   "execution_count": 3,
   "metadata": {},
   "outputs": [],
   "source": [
    "df = raw_data\n",
    "data_eda =raw_data"
   ]
  },
  {
   "cell_type": "code",
   "execution_count": 4,
   "metadata": {},
   "outputs": [
    {
     "name": "stdout",
     "output_type": "stream",
     "text": [
      "<class 'pandas.core.frame.DataFrame'>\n",
      "RangeIndex: 56825 entries, 0 to 56824\n",
      "Data columns (total 38 columns):\n",
      " #   Column                      Non-Null Count  Dtype  \n",
      "---  ------                      --------------  -----  \n",
      " 0   booking_id                  56825 non-null  object \n",
      " 1   booking_status              56825 non-null  int64  \n",
      " 2   booking_check_in            56825 non-null  object \n",
      " 3   booking_check_out           56825 non-null  object \n",
      " 4   booking_guest_number        9015 non-null   float64\n",
      " 5   booking_currency            56825 non-null  int64  \n",
      " 6   booking_received_timestamp  30445 non-null  object \n",
      " 7   listing_id                  56825 non-null  object \n",
      " 8   review_sentiment            6030 non-null   object \n",
      " 9   review_sentiment_score      6030 non-null   float64\n",
      " 10  cancellation_policy         0 non-null      float64\n",
      " 11  booking_earned_in_idr       51166 non-null  float64\n",
      " 12  length_of_stay              56825 non-null  int64  \n",
      " 13  booking_window              30445 non-null  float64\n",
      " 14  seasonality                 56825 non-null  int64  \n",
      " 15  average_daily_rate          51166 non-null  float64\n",
      " 16  unit_id                     56811 non-null  object \n",
      " 17  status                      56378 non-null  float64\n",
      " 18  bedroom                     56312 non-null  float64\n",
      " 19  bathroom                    45230 non-null  float64\n",
      " 20  beds                        45230 non-null  float64\n",
      " 21  capacity                    41269 non-null  float64\n",
      " 22  property_id                 56378 non-null  object \n",
      " 23  avg_daily_rate_per_unit     51166 non-null  float64\n",
      " 24  wifi                        42082 non-null  float64\n",
      " 25  tv                          42082 non-null  float64\n",
      " 26  cable_tv                    42082 non-null  float64\n",
      " 27  ac                          42082 non-null  float64\n",
      " 28  workspace                   42082 non-null  float64\n",
      " 29  pool                        42082 non-null  float64\n",
      " 30  parking                     42082 non-null  float64\n",
      " 31  gym                         42082 non-null  float64\n",
      " 32  kitchen                     42082 non-null  float64\n",
      " 33  property_id1                56247 non-null  object \n",
      " 34  area_id                     56247 non-null  object \n",
      " 35  area_name                   56247 non-null  object \n",
      " 36  area_distance_to_airport    55356 non-null  object \n",
      " 37  airport_pickup_price_idr    48044 non-null  float64\n",
      "dtypes: float64(22), int64(4), object(12)\n",
      "memory usage: 16.5+ MB\n"
     ]
    }
   ],
   "source": [
    "raw_data.info()"
   ]
  },
  {
   "cell_type": "code",
   "execution_count": 5,
   "metadata": {},
   "outputs": [
    {
     "data": {
      "text/html": [
       "<div>\n",
       "<style scoped>\n",
       "    .dataframe tbody tr th:only-of-type {\n",
       "        vertical-align: middle;\n",
       "    }\n",
       "\n",
       "    .dataframe tbody tr th {\n",
       "        vertical-align: top;\n",
       "    }\n",
       "\n",
       "    .dataframe thead th {\n",
       "        text-align: right;\n",
       "    }\n",
       "</style>\n",
       "<table border=\"1\" class=\"dataframe\">\n",
       "  <thead>\n",
       "    <tr style=\"text-align: right;\">\n",
       "      <th></th>\n",
       "      <th>booking_status</th>\n",
       "      <th>booking_guest_number</th>\n",
       "      <th>booking_currency</th>\n",
       "      <th>review_sentiment_score</th>\n",
       "      <th>cancellation_policy</th>\n",
       "      <th>booking_earned_in_idr</th>\n",
       "      <th>length_of_stay</th>\n",
       "      <th>booking_window</th>\n",
       "      <th>seasonality</th>\n",
       "      <th>average_daily_rate</th>\n",
       "      <th>...</th>\n",
       "      <th>wifi</th>\n",
       "      <th>tv</th>\n",
       "      <th>cable_tv</th>\n",
       "      <th>ac</th>\n",
       "      <th>workspace</th>\n",
       "      <th>pool</th>\n",
       "      <th>parking</th>\n",
       "      <th>gym</th>\n",
       "      <th>kitchen</th>\n",
       "      <th>airport_pickup_price_idr</th>\n",
       "    </tr>\n",
       "  </thead>\n",
       "  <tbody>\n",
       "    <tr>\n",
       "      <th>count</th>\n",
       "      <td>56825.000000</td>\n",
       "      <td>9015.000000</td>\n",
       "      <td>56825.000000</td>\n",
       "      <td>6030.000000</td>\n",
       "      <td>0.0</td>\n",
       "      <td>5.116600e+04</td>\n",
       "      <td>56825.000000</td>\n",
       "      <td>30445.000000</td>\n",
       "      <td>56825.000000</td>\n",
       "      <td>5.116600e+04</td>\n",
       "      <td>...</td>\n",
       "      <td>42082.000000</td>\n",
       "      <td>42082.000000</td>\n",
       "      <td>42082.000000</td>\n",
       "      <td>42082.000000</td>\n",
       "      <td>42082.000000</td>\n",
       "      <td>42082.000000</td>\n",
       "      <td>42082.000000</td>\n",
       "      <td>42082.000000</td>\n",
       "      <td>42082.000000</td>\n",
       "      <td>48044.000000</td>\n",
       "    </tr>\n",
       "    <tr>\n",
       "      <th>mean</th>\n",
       "      <td>1.063968</td>\n",
       "      <td>2.618525</td>\n",
       "      <td>1.233295</td>\n",
       "      <td>0.729690</td>\n",
       "      <td>NaN</td>\n",
       "      <td>2.578506e+06</td>\n",
       "      <td>2.839366</td>\n",
       "      <td>23.068944</td>\n",
       "      <td>0.372107</td>\n",
       "      <td>8.505980e+05</td>\n",
       "      <td>...</td>\n",
       "      <td>0.989449</td>\n",
       "      <td>0.576137</td>\n",
       "      <td>0.213892</td>\n",
       "      <td>0.991754</td>\n",
       "      <td>0.936101</td>\n",
       "      <td>0.820755</td>\n",
       "      <td>0.947032</td>\n",
       "      <td>0.005988</td>\n",
       "      <td>0.321468</td>\n",
       "      <td>325682.499376</td>\n",
       "    </tr>\n",
       "    <tr>\n",
       "      <th>std</th>\n",
       "      <td>0.281550</td>\n",
       "      <td>2.274074</td>\n",
       "      <td>0.427279</td>\n",
       "      <td>0.413806</td>\n",
       "      <td>NaN</td>\n",
       "      <td>4.703238e+06</td>\n",
       "      <td>2.982119</td>\n",
       "      <td>36.979856</td>\n",
       "      <td>0.483371</td>\n",
       "      <td>1.018562e+06</td>\n",
       "      <td>...</td>\n",
       "      <td>0.102175</td>\n",
       "      <td>0.494175</td>\n",
       "      <td>0.410056</td>\n",
       "      <td>0.090432</td>\n",
       "      <td>0.244576</td>\n",
       "      <td>0.383562</td>\n",
       "      <td>0.223972</td>\n",
       "      <td>0.077153</td>\n",
       "      <td>0.467045</td>\n",
       "      <td>39039.625935</td>\n",
       "    </tr>\n",
       "    <tr>\n",
       "      <th>min</th>\n",
       "      <td>1.000000</td>\n",
       "      <td>0.000000</td>\n",
       "      <td>1.000000</td>\n",
       "      <td>-0.998203</td>\n",
       "      <td>NaN</td>\n",
       "      <td>0.000000e+00</td>\n",
       "      <td>-30.000000</td>\n",
       "      <td>0.000000</td>\n",
       "      <td>0.000000</td>\n",
       "      <td>-4.938270e+04</td>\n",
       "      <td>...</td>\n",
       "      <td>0.000000</td>\n",
       "      <td>0.000000</td>\n",
       "      <td>0.000000</td>\n",
       "      <td>0.000000</td>\n",
       "      <td>0.000000</td>\n",
       "      <td>0.000000</td>\n",
       "      <td>0.000000</td>\n",
       "      <td>0.000000</td>\n",
       "      <td>0.000000</td>\n",
       "      <td>195000.000000</td>\n",
       "    </tr>\n",
       "    <tr>\n",
       "      <th>25%</th>\n",
       "      <td>1.000000</td>\n",
       "      <td>2.000000</td>\n",
       "      <td>1.000000</td>\n",
       "      <td>0.704758</td>\n",
       "      <td>NaN</td>\n",
       "      <td>6.367480e+05</td>\n",
       "      <td>1.000000</td>\n",
       "      <td>1.000000</td>\n",
       "      <td>0.000000</td>\n",
       "      <td>3.492000e+05</td>\n",
       "      <td>...</td>\n",
       "      <td>1.000000</td>\n",
       "      <td>0.000000</td>\n",
       "      <td>0.000000</td>\n",
       "      <td>1.000000</td>\n",
       "      <td>1.000000</td>\n",
       "      <td>1.000000</td>\n",
       "      <td>1.000000</td>\n",
       "      <td>0.000000</td>\n",
       "      <td>0.000000</td>\n",
       "      <td>325000.000000</td>\n",
       "    </tr>\n",
       "    <tr>\n",
       "      <th>50%</th>\n",
       "      <td>1.000000</td>\n",
       "      <td>2.000000</td>\n",
       "      <td>1.000000</td>\n",
       "      <td>0.887651</td>\n",
       "      <td>NaN</td>\n",
       "      <td>1.236796e+06</td>\n",
       "      <td>2.000000</td>\n",
       "      <td>6.000000</td>\n",
       "      <td>0.000000</td>\n",
       "      <td>5.130320e+05</td>\n",
       "      <td>...</td>\n",
       "      <td>1.000000</td>\n",
       "      <td>1.000000</td>\n",
       "      <td>0.000000</td>\n",
       "      <td>1.000000</td>\n",
       "      <td>1.000000</td>\n",
       "      <td>1.000000</td>\n",
       "      <td>1.000000</td>\n",
       "      <td>0.000000</td>\n",
       "      <td>0.000000</td>\n",
       "      <td>325000.000000</td>\n",
       "    </tr>\n",
       "    <tr>\n",
       "      <th>75%</th>\n",
       "      <td>1.000000</td>\n",
       "      <td>2.000000</td>\n",
       "      <td>1.000000</td>\n",
       "      <td>0.972097</td>\n",
       "      <td>NaN</td>\n",
       "      <td>2.520008e+06</td>\n",
       "      <td>3.000000</td>\n",
       "      <td>31.000000</td>\n",
       "      <td>1.000000</td>\n",
       "      <td>9.409000e+05</td>\n",
       "      <td>...</td>\n",
       "      <td>1.000000</td>\n",
       "      <td>1.000000</td>\n",
       "      <td>0.000000</td>\n",
       "      <td>1.000000</td>\n",
       "      <td>1.000000</td>\n",
       "      <td>1.000000</td>\n",
       "      <td>1.000000</td>\n",
       "      <td>0.000000</td>\n",
       "      <td>1.000000</td>\n",
       "      <td>325000.000000</td>\n",
       "    </tr>\n",
       "    <tr>\n",
       "      <th>max</th>\n",
       "      <td>6.000000</td>\n",
       "      <td>30.000000</td>\n",
       "      <td>3.000000</td>\n",
       "      <td>0.999999</td>\n",
       "      <td>NaN</td>\n",
       "      <td>1.303185e+08</td>\n",
       "      <td>349.000000</td>\n",
       "      <td>383.000000</td>\n",
       "      <td>1.000000</td>\n",
       "      <td>2.129842e+07</td>\n",
       "      <td>...</td>\n",
       "      <td>1.000000</td>\n",
       "      <td>1.000000</td>\n",
       "      <td>1.000000</td>\n",
       "      <td>1.000000</td>\n",
       "      <td>1.000000</td>\n",
       "      <td>1.000000</td>\n",
       "      <td>1.000000</td>\n",
       "      <td>1.000000</td>\n",
       "      <td>1.000000</td>\n",
       "      <td>585000.000000</td>\n",
       "    </tr>\n",
       "  </tbody>\n",
       "</table>\n",
       "<p>8 rows × 26 columns</p>\n",
       "</div>"
      ],
      "text/plain": [
       "       booking_status  booking_guest_number  booking_currency   \n",
       "count    56825.000000           9015.000000      56825.000000  \\\n",
       "mean         1.063968              2.618525          1.233295   \n",
       "std          0.281550              2.274074          0.427279   \n",
       "min          1.000000              0.000000          1.000000   \n",
       "25%          1.000000              2.000000          1.000000   \n",
       "50%          1.000000              2.000000          1.000000   \n",
       "75%          1.000000              2.000000          1.000000   \n",
       "max          6.000000             30.000000          3.000000   \n",
       "\n",
       "       review_sentiment_score  cancellation_policy  booking_earned_in_idr   \n",
       "count             6030.000000                  0.0           5.116600e+04  \\\n",
       "mean                 0.729690                  NaN           2.578506e+06   \n",
       "std                  0.413806                  NaN           4.703238e+06   \n",
       "min                 -0.998203                  NaN           0.000000e+00   \n",
       "25%                  0.704758                  NaN           6.367480e+05   \n",
       "50%                  0.887651                  NaN           1.236796e+06   \n",
       "75%                  0.972097                  NaN           2.520008e+06   \n",
       "max                  0.999999                  NaN           1.303185e+08   \n",
       "\n",
       "       length_of_stay  booking_window   seasonality  average_daily_rate  ...   \n",
       "count    56825.000000    30445.000000  56825.000000        5.116600e+04  ...  \\\n",
       "mean         2.839366       23.068944      0.372107        8.505980e+05  ...   \n",
       "std          2.982119       36.979856      0.483371        1.018562e+06  ...   \n",
       "min        -30.000000        0.000000      0.000000       -4.938270e+04  ...   \n",
       "25%          1.000000        1.000000      0.000000        3.492000e+05  ...   \n",
       "50%          2.000000        6.000000      0.000000        5.130320e+05  ...   \n",
       "75%          3.000000       31.000000      1.000000        9.409000e+05  ...   \n",
       "max        349.000000      383.000000      1.000000        2.129842e+07  ...   \n",
       "\n",
       "               wifi            tv      cable_tv            ac     workspace   \n",
       "count  42082.000000  42082.000000  42082.000000  42082.000000  42082.000000  \\\n",
       "mean       0.989449      0.576137      0.213892      0.991754      0.936101   \n",
       "std        0.102175      0.494175      0.410056      0.090432      0.244576   \n",
       "min        0.000000      0.000000      0.000000      0.000000      0.000000   \n",
       "25%        1.000000      0.000000      0.000000      1.000000      1.000000   \n",
       "50%        1.000000      1.000000      0.000000      1.000000      1.000000   \n",
       "75%        1.000000      1.000000      0.000000      1.000000      1.000000   \n",
       "max        1.000000      1.000000      1.000000      1.000000      1.000000   \n",
       "\n",
       "               pool       parking           gym       kitchen   \n",
       "count  42082.000000  42082.000000  42082.000000  42082.000000  \\\n",
       "mean       0.820755      0.947032      0.005988      0.321468   \n",
       "std        0.383562      0.223972      0.077153      0.467045   \n",
       "min        0.000000      0.000000      0.000000      0.000000   \n",
       "25%        1.000000      1.000000      0.000000      0.000000   \n",
       "50%        1.000000      1.000000      0.000000      0.000000   \n",
       "75%        1.000000      1.000000      0.000000      1.000000   \n",
       "max        1.000000      1.000000      1.000000      1.000000   \n",
       "\n",
       "       airport_pickup_price_idr  \n",
       "count              48044.000000  \n",
       "mean              325682.499376  \n",
       "std                39039.625935  \n",
       "min               195000.000000  \n",
       "25%               325000.000000  \n",
       "50%               325000.000000  \n",
       "75%               325000.000000  \n",
       "max               585000.000000  \n",
       "\n",
       "[8 rows x 26 columns]"
      ]
     },
     "execution_count": 5,
     "metadata": {},
     "output_type": "execute_result"
    }
   ],
   "source": [
    "raw_data.describe()"
   ]
  },
  {
   "cell_type": "code",
   "execution_count": 6,
   "metadata": {},
   "outputs": [
    {
     "data": {
      "text/plain": [
       "booking_id                        0\n",
       "booking_status                    0\n",
       "booking_check_in                  0\n",
       "booking_check_out                 0\n",
       "booking_guest_number          47810\n",
       "booking_currency                  0\n",
       "booking_received_timestamp    26380\n",
       "listing_id                        0\n",
       "review_sentiment              50795\n",
       "review_sentiment_score        50795\n",
       "cancellation_policy           56825\n",
       "booking_earned_in_idr          5659\n",
       "length_of_stay                    0\n",
       "booking_window                26380\n",
       "seasonality                       0\n",
       "average_daily_rate             5659\n",
       "unit_id                          14\n",
       "status                          447\n",
       "bedroom                         513\n",
       "bathroom                      11595\n",
       "beds                          11595\n",
       "capacity                      15556\n",
       "property_id                     447\n",
       "avg_daily_rate_per_unit        5659\n",
       "wifi                          14743\n",
       "tv                            14743\n",
       "cable_tv                      14743\n",
       "ac                            14743\n",
       "workspace                     14743\n",
       "pool                          14743\n",
       "parking                       14743\n",
       "gym                           14743\n",
       "kitchen                       14743\n",
       "property_id1                    578\n",
       "area_id                         578\n",
       "area_name                       578\n",
       "area_distance_to_airport       1469\n",
       "airport_pickup_price_idr       8781\n",
       "dtype: int64"
      ]
     },
     "execution_count": 6,
     "metadata": {},
     "output_type": "execute_result"
    }
   ],
   "source": [
    "raw_data.isnull().sum()"
   ]
  },
  {
   "cell_type": "markdown",
   "metadata": {},
   "source": [
    "# **3. EDA** \n",
    "\n",
    "**Analisis Data Eksplorasi (EDA)** adalah salah satu teknik yang digunakan untuk mengekstraksi fitur dan tren vital yang digunakan oleh pembelajaran mesin dan model pembelajaran mendalam dalam Sains Data. Memahami data secara menyeluruh membutuhkan eksplorasi dari setiap aspek. Fitur yang berdampak memungkinkan pengambilan keputusan yang bermakna dan bermanfaat; oleh karena itu, EDA menempati tempat yang tak ternilai dalam Sains Data.\n",
    "\n",
    "**Types of Exploratory Data Analysis**\n",
    "\n",
    "1. Univariate\n",
    "2. Bivariate\n",
    "3. Multivariate\n"
   ]
  },
  {
   "cell_type": "code",
   "execution_count": 7,
   "metadata": {},
   "outputs": [
    {
     "data": {
      "application/vnd.plotly.v1+json": {
       "config": {
        "plotlyServerURL": "https://plot.ly"
       },
       "data": [
        {
         "hole": 0.5,
         "hoverinfo": "label+value",
         "labels": [
          "Uluwatu",
          "Canggu",
          "Bingin",
          "Balangan",
          "Nusa Penida",
          "Padang Padang",
          "Jimbaran",
          "Yogyakarta",
          "Ungasan",
          "Ubud"
         ],
         "textfont": {
          "size": 12
         },
         "textinfo": "label+percent",
         "title": {
          "font": {
           "family": "Serif",
           "size": 18
          },
          "text": "Top 10 Frequent of area"
         },
         "type": "pie",
         "values": [
          13063,
          9920,
          8748,
          7729,
          5967,
          3121,
          1946,
          1471,
          1332,
          851
         ]
        }
       ],
       "layout": {
        "height": 700,
        "showlegend": false,
        "template": {},
        "title": {
         "font": {
          "family": "Serif",
          "size": 24
         },
         "text": "<b>Count of daerah properti<b>"
        },
        "width": 700
       }
      }
     },
     "metadata": {},
     "output_type": "display_data"
    }
   ],
   "source": [
    "mask = df['area_name'].value_counts().reset_index(name='count').sort_values('count', ascending=False)\n",
    "total_count = mask['count'].sum()\n",
    "mask['percentage'] = round((mask['count'] / total_count) * 100)\n",
    "mask = mask.head(10)\n",
    "\n",
    "fig = go.Figure()\n",
    "fig.add_trace(\n",
    "    go.Pie(\n",
    "        labels=mask['area_name'],\n",
    "        title=\"Top 10 Frequent of area\",\n",
    "                  titlefont={'size':18, 'family': 'Serif',},\n",
    "         values=mask['count'],\n",
    "        hole=0.5,\n",
    "        )\n",
    "    )\n",
    "fig.update_traces(\n",
    "    hoverinfo='label+value',\n",
    "    textinfo='label+percent',\n",
    "    textfont_size=12,\n",
    "    )\n",
    "fig.layout.update(title=\"<b>Count of daerah properti<b>\",\n",
    "                  titlefont={'size':24, 'family': 'Serif',},\n",
    "                  showlegend=False, \n",
    "                  height=700, \n",
    "                  width=700, \n",
    "                  template=None, \n",
    "                 )\n",
    "\n",
    "fig.show()"
   ]
  },
  {
   "cell_type": "code",
   "execution_count": 8,
   "metadata": {},
   "outputs": [
    {
     "name": "stdout",
     "output_type": "stream",
     "text": [
      "Index(['property_id', 'count', 'percentage'], dtype='object')\n"
     ]
    },
    {
     "data": {
      "application/vnd.plotly.v1+json": {
       "config": {
        "plotlyServerURL": "https://plot.ly"
       },
       "data": [
        {
         "text": [
          9,
          9,
          3,
          3,
          3,
          3,
          2,
          2,
          2,
          2
         ],
         "textposition": "auto",
         "type": "bar",
         "x": [
          "PR0238",
          "PR0245",
          "PR0254",
          "PR0168",
          "PR0198",
          "PR0170",
          "PR0282",
          "PR0188",
          "PR0115",
          "PR0160"
         ],
         "y": [
          4999,
          4871,
          1855,
          1794,
          1577,
          1518,
          1339,
          1092,
          1082,
          1066
         ]
        }
       ],
       "layout": {
        "height": 700,
        "showlegend": false,
        "template": {},
        "title": {
         "font": {
          "family": "Serif",
          "size": 24
         },
         "text": "<b>Count of Property ID<b>"
        },
        "width": 700,
        "xaxis": {
         "title": {
          "text": "Property ID"
         }
        },
        "yaxis": {
         "title": {
          "text": "Count"
         }
        }
       }
      }
     },
     "metadata": {},
     "output_type": "display_data"
    }
   ],
   "source": [
    "import plotly.graph_objects as go\n",
    "\n",
    "# Assuming df is already defined\n",
    "mask = df['property_id'].value_counts().reset_index(name='count').sort_values('count', ascending=False)\n",
    "total_count = mask['count'].sum()\n",
    "mask['percentage'] = round((mask['count'] / total_count) * 100)\n",
    "mask = mask.head(10)\n",
    "\n",
    "print(mask.columns)  # To verify the column names\n",
    "\n",
    "fig = go.Figure()\n",
    "fig.add_trace(\n",
    "    go.Bar(\n",
    "        x=mask.iloc[:, 0],  # Using iloc to access the first column\n",
    "        y=mask['count'],\n",
    "        text=mask['percentage'],\n",
    "        textposition='auto',\n",
    "    )\n",
    ")\n",
    "\n",
    "fig.update_layout(\n",
    "    title=\"<b>Count of Property ID<b>\",\n",
    "    titlefont={'size':24, 'family': 'Serif'},\n",
    "    xaxis_title=\"Property ID\",\n",
    "    yaxis_title=\"Count\",\n",
    "    showlegend=False,\n",
    "    height=700,\n",
    "    width=700,\n",
    "    template=None,\n",
    ")\n",
    "\n",
    "fig.show()\n"
   ]
  },
  {
   "cell_type": "code",
   "execution_count": 9,
   "metadata": {},
   "outputs": [
    {
     "data": {
      "image/png": "[encoded data removed]",
      "text/plain": [
       "<Figure size 1500x800 with 1 Axes>"
      ]
     },
     "metadata": {},
     "output_type": "display_data"
    },
    {
     "name": "stdout",
     "output_type": "stream",
     "text": [
      "Lower, Upper Bounds, and Median for Quartiles:\n",
      "+--------------------------+-------------------+--------------------+-----------+\n",
      "|          Column          |    Lower Bound    |    Upper Bound     |   Median  |\n",
      "+--------------------------+-------------------+--------------------+-----------+\n",
      "|      length_of_stay      |        1.0        |        6.0         |    2.00   |\n",
      "| airport_pickup_price_idr |      325000.0     |      325000.0      | 325000.00 |\n",
      "|    average_daily_rate    |      349200.0     |     1828450.0      | 513032.00 |\n",
      "| avg_daily_rate_per_unit  | 408481.8570931922 | 1727508.0258894828 | 592991.52 |\n",
      "+--------------------------+-------------------+--------------------+-----------+\n"
     ]
    }
   ],
   "source": [
    "columns = df[['length_of_stay', 'airport_pickup_price_idr','average_daily_rate', 'avg_daily_rate_per_unit']]\n",
    "pal = ['#163020', '#3A4D39', '#4F6F52', '#739072', '#98BF97', '#B1DEAF', '#B9E8B7', '#C7F7C6']\n",
    "\n",
    "plt.figure(figsize=(15, 8))\n",
    "sns.boxplot(data=columns,palette=pal)\n",
    "plt.title('Boxplot Groups')\n",
    "plt.show()\n",
    "\n",
    "table_bounds = PrettyTable()\n",
    "table_bounds.field_names = [\"Column\", \"Lower Bound\", \"Upper Bound\", \"Median\"]\n",
    "\n",
    "for column in columns.columns:\n",
    "    Q1 = columns[column].quantile(0.25)\n",
    "    Q2 = columns[column].median()\n",
    "    Q3 = columns[column].quantile(0.75)\n",
    "    IQR = Q3 - Q1\n",
    "\n",
    "    lower_bound = Q1\n",
    "    upper_bound = Q3 + 1.5 * IQR\n",
    "\n",
    "    table_bounds.add_row([column, f'{lower_bound}', f'{upper_bound}', f'{Q2:.2f}'])\n",
    "\n",
    "print(\"Lower, Upper Bounds, and Median for Quartiles:\")\n",
    "print(table_bounds)"
   ]
  },
  {
   "cell_type": "code",
   "execution_count": 10,
   "metadata": {},
   "outputs": [
    {
     "data": {
      "application/vnd.plotly.v1+json": {
       "config": {
        "plotlyServerURL": "https://plot.ly"
       },
       "data": [
        {
         "colorbar": {
          "thickness": 30,
          "ticklen": 3
         },
         "colorscale": [
          [
           0,
           "rgb(161, 105, 40)"
          ],
          [
           0.16666666666666666,
           "rgb(189, 146, 90)"
          ],
          [
           0.3333333333333333,
           "rgb(214, 189, 141)"
          ],
          [
           0.5,
           "rgb(237, 234, 194)"
          ],
          [
           0.6666666666666666,
           "rgb(181, 200, 184)"
          ],
          [
           0.8333333333333334,
           "rgb(121, 167, 172)"
          ],
          [
           1,
           "rgb(40, 135, 161)"
          ]
         ],
         "reversescale": false,
         "showscale": false,
         "type": "heatmap",
         "x": [
          "booking_guest_number",
          "booking_currency",
          "review_sentiment_score",
          "cancellation_policy",
          "booking_earned_in_idr",
          "length_of_stay",
          "booking_window",
          "seasonality",
          "average_daily_rate",
          "status",
          "bedroom",
          "bathroom",
          "beds",
          "capacity",
          "avg_daily_rate_per_unit",
          "wifi",
          "tv",
          "cable_tv",
          "ac",
          "workspace",
          "pool",
          "parking",
          "gym",
          "kitchen",
          "airport_pickup_price_idr"
         ],
         "xgap": 3,
         "y": [
          "booking_guest_number",
          "booking_currency",
          "review_sentiment_score",
          "cancellation_policy",
          "booking_earned_in_idr",
          "length_of_stay",
          "booking_window",
          "seasonality",
          "average_daily_rate",
          "status",
          "bedroom",
          "bathroom",
          "beds",
          "capacity",
          "avg_daily_rate_per_unit",
          "wifi",
          "tv",
          "cable_tv",
          "ac",
          "workspace",
          "pool",
          "parking",
          "gym",
          "kitchen",
          "airport_pickup_price_idr"
         ],
         "ygap": 3,
         "z": [
          [
           1,
           0.01,
           0.06,
           null,
           0.31,
           0,
           0.2,
           0.04,
           0.42,
           0.05,
           0.22,
           0.31,
           0.33,
           0.22,
           0.43,
           -0.01,
           0.15,
           0.01,
           0.03,
           0.04,
           0.04,
           0.01,
           -0.02,
           0.18,
           -0.01
          ],
          [
           0.01,
           1,
           -0.03,
           null,
           0.28,
           0.03,
           0.11,
           0.06,
           0.35,
           0.04,
           0.17,
           0.06,
           0.05,
           0.27,
           0.42,
           0.04,
           -0.07,
           0.03,
           -0.17,
           0.02,
           0.04,
           -0.18,
           -0.03,
           -0.01,
           0.02
          ],
          [
           0.06,
           -0.03,
           1,
           null,
           0.02,
           0.02,
           0,
           0.02,
           0.01,
           -0.02,
           -0.05,
           -0.02,
           -0.02,
           0.01,
           0,
           0.03,
           -0.01,
           -0.02,
           0.04,
           -0.01,
           0.03,
           0.01,
           0,
           0.02,
           0
          ],
          [
           null,
           null,
           null,
           null,
           null,
           null,
           null,
           null,
           null,
           null,
           null,
           null,
           null,
           null,
           null,
           null,
           null,
           null,
           null,
           null,
           null,
           null,
           null,
           null,
           null
          ],
          [
           0.31,
           0.28,
           0.02,
           null,
           1,
           0.44,
           0.29,
           0,
           0.72,
           0.03,
           0.24,
           0.29,
           0.28,
           0.38,
           0.56,
           0,
           0.07,
           0.08,
           0.02,
           0.05,
           0.1,
           -0.03,
           -0.01,
           0.23,
           0.01
          ],
          [
           0,
           0.03,
           0.02,
           null,
           0.44,
           1,
           0.13,
           0.01,
           0.04,
           0.02,
           0.03,
           0.03,
           0.02,
           0.01,
           0.04,
           -0.01,
           0.03,
           0.01,
           0,
           0.03,
           0.05,
           0,
           0.02,
           0.11,
           -0.02
          ],
          [
           0.2,
           0.11,
           0,
           null,
           0.29,
           0.13,
           1,
           -0.05,
           0.23,
           -0.02,
           0.08,
           0.06,
           0.07,
           0.09,
           0.19,
           0.03,
           0.1,
           0.02,
           0.02,
           0.02,
           0.09,
           -0.02,
           -0.02,
           0.08,
           -0.01
          ],
          [
           0.04,
           0.06,
           0.02,
           null,
           0,
           0.01,
           -0.05,
           1,
           -0.01,
           0.03,
           0.02,
           -0.01,
           0,
           0.02,
           0.04,
           0,
           0.03,
           0.04,
           0.04,
           0.05,
           0.04,
           0.03,
           -0.01,
           0.01,
           0
          ],
          [
           0.42,
           0.35,
           0.01,
           null,
           0.72,
           0.04,
           0.23,
           -0.01,
           1,
           0,
           0.35,
           0.44,
           0.43,
           0.58,
           0.81,
           0,
           0.08,
           0.12,
           0.02,
           0.05,
           0.11,
           -0.05,
           -0.02,
           0.24,
           0.03
          ],
          [
           0.05,
           0.04,
           -0.02,
           null,
           0.03,
           0.02,
           -0.02,
           0.03,
           0,
           1,
           0.12,
           -0.13,
           -0.11,
           0,
           0,
           -0.08,
           -0.11,
           -0.04,
           0.12,
           0.03,
           0.15,
           0.19,
           0,
           0.01,
           0.03
          ],
          [
           0.22,
           0.17,
           -0.05,
           null,
           0.24,
           0.03,
           0.08,
           0.02,
           0.35,
           0.12,
           1,
           0.82,
           0.88,
           0.73,
           0.43,
           -0.08,
           0.14,
           0.11,
           0.03,
           0.06,
           0.02,
           -0.03,
           -0.01,
           0.31,
           0.04
          ],
          [
           0.31,
           0.06,
           -0.02,
           null,
           0.29,
           0.03,
           0.06,
           -0.01,
           0.44,
           -0.13,
           0.82,
           1,
           0.93,
           0.68,
           0.56,
           -0.03,
           0.14,
           0.12,
           -0.1,
           0.04,
           0.05,
           -0.02,
           -0.05,
           0.27,
           -0.03
          ],
          [
           0.33,
           0.05,
           -0.02,
           null,
           0.28,
           0.02,
           0.07,
           0,
           0.43,
           -0.11,
           0.88,
           0.93,
           1,
           0.73,
           0.55,
           -0.09,
           0.11,
           0.07,
           0.03,
           0.05,
           0.02,
           -0.03,
           -0.05,
           0.29,
           -0.05
          ],
          [
           0.22,
           0.27,
           0.01,
           null,
           0.38,
           0.01,
           0.09,
           0.02,
           0.58,
           0,
           0.73,
           0.68,
           0.73,
           1,
           0.74,
           -0.08,
           0.06,
           0.13,
           0.04,
           0.08,
           0.04,
           0,
           0.02,
           0.33,
           -0.03
          ],
          [
           0.43,
           0.42,
           0,
           null,
           0.56,
           0.04,
           0.19,
           0.04,
           0.81,
           0,
           0.43,
           0.56,
           0.55,
           0.74,
           1,
           0.01,
           0.1,
           0.15,
           0.03,
           0.07,
           0.14,
           -0.07,
           -0.03,
           0.31,
           0.04
          ],
          [
           -0.01,
           0.04,
           0.03,
           null,
           0,
           -0.01,
           0.03,
           0,
           0,
           -0.08,
           -0.08,
           -0.03,
           -0.09,
           -0.08,
           0.01,
           1,
           -0.09,
           0.05,
           -0.01,
           -0.03,
           0.11,
           0.15,
           -0.02,
           -0.08,
           0.17
          ],
          [
           0.15,
           -0.07,
           -0.01,
           null,
           0.07,
           0.03,
           0.1,
           0.03,
           0.08,
           -0.11,
           0.14,
           0.14,
           0.11,
           0.06,
           0.1,
           -0.09,
           1,
           0.45,
           0.09,
           0.05,
           0.14,
           0.07,
           0.07,
           0.17,
           -0.15
          ],
          [
           0.01,
           0.03,
           -0.02,
           null,
           0.08,
           0.01,
           0.02,
           0.04,
           0.12,
           -0.04,
           0.11,
           0.12,
           0.07,
           0.13,
           0.15,
           0.05,
           0.45,
           1,
           0.05,
           0.14,
           0.22,
           0.1,
           0.09,
           -0.05,
           -0.04
          ],
          [
           0.03,
           -0.17,
           0.04,
           null,
           0.02,
           0,
           0.02,
           0.04,
           0.02,
           0.12,
           0.03,
           -0.1,
           0.03,
           0.04,
           0.03,
           -0.01,
           0.09,
           0.05,
           1,
           -0.02,
           0.2,
           0.35,
           0.01,
           0.06,
           -0.07
          ],
          [
           0.04,
           0.02,
           -0.01,
           null,
           0.05,
           0.03,
           0.02,
           0.05,
           0.05,
           0.03,
           0.06,
           0.04,
           0.05,
           0.08,
           0.07,
           -0.03,
           0.05,
           0.14,
           -0.02,
           1,
           0.2,
           0.13,
           -0.07,
           0.11,
           -0.08
          ],
          [
           0.04,
           0.04,
           0.03,
           null,
           0.1,
           0.05,
           0.09,
           0.04,
           0.11,
           0.15,
           0.02,
           0.05,
           0.02,
           0.04,
           0.14,
           0.11,
           0.14,
           0.22,
           0.2,
           0.2,
           1,
           0.27,
           0.04,
           0.05,
           0.02
          ],
          [
           0.01,
           -0.18,
           0.01,
           null,
           -0.03,
           0,
           -0.02,
           0.03,
           -0.05,
           0.19,
           -0.03,
           -0.02,
           -0.03,
           0,
           -0.07,
           0.15,
           0.07,
           0.1,
           0.35,
           0.13,
           0.27,
           1,
           -0.11,
           0,
           0.08
          ],
          [
           -0.02,
           -0.03,
           0,
           null,
           -0.01,
           0.02,
           -0.02,
           -0.01,
           -0.02,
           0,
           -0.01,
           -0.05,
           -0.05,
           0.02,
           -0.03,
           -0.02,
           0.07,
           0.09,
           0.01,
           -0.07,
           0.04,
           -0.11,
           1,
           0.05,
           -0.11
          ],
          [
           0.18,
           -0.01,
           0.02,
           null,
           0.23,
           0.11,
           0.08,
           0.01,
           0.24,
           0.01,
           0.31,
           0.27,
           0.29,
           0.33,
           0.31,
           -0.08,
           0.17,
           -0.05,
           0.06,
           0.11,
           0.05,
           0,
           0.05,
           1,
           -0.16
          ],
          [
           -0.01,
           0.02,
           0,
           null,
           0.01,
           -0.02,
           -0.01,
           0,
           0.03,
           0.03,
           0.04,
           -0.03,
           -0.05,
           -0.03,
           0.04,
           0.17,
           -0.15,
           -0.04,
           -0.07,
           -0.08,
           0.02,
           0.08,
           -0.11,
           -0.16,
           1
          ]
         ],
         "zmax": 1,
         "zmin": -1
        }
       ],
       "layout": {
        "annotations": [
         {
          "font": {
           "color": "#FFFFFF"
          },
          "showarrow": false,
          "text": "1.0",
          "x": "booking_guest_number",
          "xref": "x",
          "y": "booking_guest_number",
          "yref": "y"
         },
         {
          "font": {
           "color": "#FFFFFF"
          },
          "showarrow": false,
          "text": "0.01",
          "x": "booking_currency",
          "xref": "x",
          "y": "booking_guest_number",
          "yref": "y"
         },
         {
          "font": {
           "color": "#FFFFFF"
          },
          "showarrow": false,
          "text": "0.06",
          "x": "review_sentiment_score",
          "xref": "x",
          "y": "booking_guest_number",
          "yref": "y"
         },
         {
          "font": {
           "color": "#FFFFFF"
          },
          "showarrow": false,
          "text": "nan",
          "x": "cancellation_policy",
          "xref": "x",
          "y": "booking_guest_number",
          "yref": "y"
         },
         {
          "font": {
           "color": "#FFFFFF"
          },
          "showarrow": false,
          "text": "0.31",
          "x": "booking_earned_in_idr",
          "xref": "x",
          "y": "booking_guest_number",
          "yref": "y"
         },
         {
          "font": {
           "color": "#FFFFFF"
          },
          "showarrow": false,
          "text": "0.0",
          "x": "length_of_stay",
          "xref": "x",
          "y": "booking_guest_number",
          "yref": "y"
         },
         {
          "font": {
           "color": "#FFFFFF"
          },
          "showarrow": false,
          "text": "0.2",
          "x": "booking_window",
          "xref": "x",
          "y": "booking_guest_number",
          "yref": "y"
         },
         {
          "font": {
           "color": "#FFFFFF"
          },
          "showarrow": false,
          "text": "0.04",
          "x": "seasonality",
          "xref": "x",
          "y": "booking_guest_number",
          "yref": "y"
         },
         {
          "font": {
           "color": "#FFFFFF"
          },
          "showarrow": false,
          "text": "0.42",
          "x": "average_daily_rate",
          "xref": "x",
          "y": "booking_guest_number",
          "yref": "y"
         },
         {
          "font": {
           "color": "#FFFFFF"
          },
          "showarrow": false,
          "text": "0.05",
          "x": "status",
          "xref": "x",
          "y": "booking_guest_number",
          "yref": "y"
         },
         {
          "font": {
           "color": "#FFFFFF"
          },
          "showarrow": false,
          "text": "0.22",
          "x": "bedroom",
          "xref": "x",
          "y": "booking_guest_number",
          "yref": "y"
         },
         {
          "font": {
           "color": "#FFFFFF"
          },
          "showarrow": false,
          "text": "0.31",
          "x": "bathroom",
          "xref": "x",
          "y": "booking_guest_number",
          "yref": "y"
         },
         {
          "font": {
           "color": "#FFFFFF"
          },
          "showarrow": false,
          "text": "0.33",
          "x": "beds",
          "xref": "x",
          "y": "booking_guest_number",
          "yref": "y"
         },
         {
          "font": {
           "color": "#FFFFFF"
          },
          "showarrow": false,
          "text": "0.22",
          "x": "capacity",
          "xref": "x",
          "y": "booking_guest_number",
          "yref": "y"
         },
         {
          "font": {
           "color": "#FFFFFF"
          },
          "showarrow": false,
          "text": "0.43",
          "x": "avg_daily_rate_per_unit",
          "xref": "x",
          "y": "booking_guest_number",
          "yref": "y"
         },
         {
          "font": {
           "color": "#FFFFFF"
          },
          "showarrow": false,
          "text": "-0.01",
          "x": "wifi",
          "xref": "x",
          "y": "booking_guest_number",
          "yref": "y"
         },
         {
          "font": {
           "color": "#FFFFFF"
          },
          "showarrow": false,
          "text": "0.15",
          "x": "tv",
          "xref": "x",
          "y": "booking_guest_number",
          "yref": "y"
         },
         {
          "font": {
           "color": "#FFFFFF"
          },
          "showarrow": false,
          "text": "0.01",
          "x": "cable_tv",
          "xref": "x",
          "y": "booking_guest_number",
          "yref": "y"
         },
         {
          "font": {
           "color": "#FFFFFF"
          },
          "showarrow": false,
          "text": "0.03",
          "x": "ac",
          "xref": "x",
          "y": "booking_guest_number",
          "yref": "y"
         },
         {
          "font": {
           "color": "#FFFFFF"
          },
          "showarrow": false,
          "text": "0.04",
          "x": "workspace",
          "xref": "x",
          "y": "booking_guest_number",
          "yref": "y"
         },
         {
          "font": {
           "color": "#FFFFFF"
          },
          "showarrow": false,
          "text": "0.04",
          "x": "pool",
          "xref": "x",
          "y": "booking_guest_number",
          "yref": "y"
         },
         {
          "font": {
           "color": "#FFFFFF"
          },
          "showarrow": false,
          "text": "0.01",
          "x": "parking",
          "xref": "x",
          "y": "booking_guest_number",
          "yref": "y"
         },
         {
          "font": {
           "color": "#FFFFFF"
          },
          "showarrow": false,
          "text": "-0.02",
          "x": "gym",
          "xref": "x",
          "y": "booking_guest_number",
          "yref": "y"
         },
         {
          "font": {
           "color": "#FFFFFF"
          },
          "showarrow": false,
          "text": "0.18",
          "x": "kitchen",
          "xref": "x",
          "y": "booking_guest_number",
          "yref": "y"
         },
         {
          "font": {
           "color": "#FFFFFF"
          },
          "showarrow": false,
          "text": "-0.01",
          "x": "airport_pickup_price_idr",
          "xref": "x",
          "y": "booking_guest_number",
          "yref": "y"
         },
         {
          "font": {
           "color": "#FFFFFF"
          },
          "showarrow": false,
          "text": "0.01",
          "x": "booking_guest_number",
          "xref": "x",
          "y": "booking_currency",
          "yref": "y"
         },
         {
          "font": {
           "color": "#FFFFFF"
          },
          "showarrow": false,
          "text": "1.0",
          "x": "booking_currency",
          "xref": "x",
          "y": "booking_currency",
          "yref": "y"
         },
         {
          "font": {
           "color": "#FFFFFF"
          },
          "showarrow": false,
          "text": "-0.03",
          "x": "review_sentiment_score",
          "xref": "x",
          "y": "booking_currency",
          "yref": "y"
         },
         {
          "font": {
           "color": "#FFFFFF"
          },
          "showarrow": false,
          "text": "nan",
          "x": "cancellation_policy",
          "xref": "x",
          "y": "booking_currency",
          "yref": "y"
         },
         {
          "font": {
           "color": "#FFFFFF"
          },
          "showarrow": false,
          "text": "0.28",
          "x": "booking_earned_in_idr",
          "xref": "x",
          "y": "booking_currency",
          "yref": "y"
         },
         {
          "font": {
           "color": "#FFFFFF"
          },
          "showarrow": false,
          "text": "0.03",
          "x": "length_of_stay",
          "xref": "x",
          "y": "booking_currency",
          "yref": "y"
         },
         {
          "font": {
           "color": "#FFFFFF"
          },
          "showarrow": false,
          "text": "0.11",
          "x": "booking_window",
          "xref": "x",
          "y": "booking_currency",
          "yref": "y"
         },
         {
          "font": {
           "color": "#FFFFFF"
          },
          "showarrow": false,
          "text": "0.06",
          "x": "seasonality",
          "xref": "x",
          "y": "booking_currency",
          "yref": "y"
         },
         {
          "font": {
           "color": "#FFFFFF"
          },
          "showarrow": false,
          "text": "0.35",
          "x": "average_daily_rate",
          "xref": "x",
          "y": "booking_currency",
          "yref": "y"
         },
         {
          "font": {
           "color": "#FFFFFF"
          },
          "showarrow": false,
          "text": "0.04",
          "x": "status",
          "xref": "x",
          "y": "booking_currency",
          "yref": "y"
         },
         {
          "font": {
           "color": "#FFFFFF"
          },
          "showarrow": false,
          "text": "0.17",
          "x": "bedroom",
          "xref": "x",
          "y": "booking_currency",
          "yref": "y"
         },
         {
          "font": {
           "color": "#FFFFFF"
          },
          "showarrow": false,
          "text": "0.06",
          "x": "bathroom",
          "xref": "x",
          "y": "booking_currency",
          "yref": "y"
         },
         {
          "font": {
           "color": "#FFFFFF"
          },
          "showarrow": false,
          "text": "0.05",
          "x": "beds",
          "xref": "x",
          "y": "booking_currency",
          "yref": "y"
         },
         {
          "font": {
           "color": "#FFFFFF"
          },
          "showarrow": false,
          "text": "0.27",
          "x": "capacity",
          "xref": "x",
          "y": "booking_currency",
          "yref": "y"
         },
         {
          "font": {
           "color": "#FFFFFF"
          },
          "showarrow": false,
          "text": "0.42",
          "x": "avg_daily_rate_per_unit",
          "xref": "x",
          "y": "booking_currency",
          "yref": "y"
         },
         {
          "font": {
           "color": "#FFFFFF"
          },
          "showarrow": false,
          "text": "0.04",
          "x": "wifi",
          "xref": "x",
          "y": "booking_currency",
          "yref": "y"
         },
         {
          "font": {
           "color": "#FFFFFF"
          },
          "showarrow": false,
          "text": "-0.07",
          "x": "tv",
          "xref": "x",
          "y": "booking_currency",
          "yref": "y"
         },
         {
          "font": {
           "color": "#FFFFFF"
          },
          "showarrow": false,
          "text": "0.03",
          "x": "cable_tv",
          "xref": "x",
          "y": "booking_currency",
          "yref": "y"
         },
         {
          "font": {
           "color": "#FFFFFF"
          },
          "showarrow": false,
          "text": "-0.17",
          "x": "ac",
          "xref": "x",
          "y": "booking_currency",
          "yref": "y"
         },
         {
          "font": {
           "color": "#FFFFFF"
          },
          "showarrow": false,
          "text": "0.02",
          "x": "workspace",
          "xref": "x",
          "y": "booking_currency",
          "yref": "y"
         },
         {
          "font": {
           "color": "#FFFFFF"
          },
          "showarrow": false,
          "text": "0.04",
          "x": "pool",
          "xref": "x",
          "y": "booking_currency",
          "yref": "y"
         },
         {
          "font": {
           "color": "#FFFFFF"
          },
          "showarrow": false,
          "text": "-0.18",
          "x": "parking",
          "xref": "x",
          "y": "booking_currency",
          "yref": "y"
         },
         {
          "font": {
           "color": "#FFFFFF"
          },
          "showarrow": false,
          "text": "-0.03",
          "x": "gym",
          "xref": "x",
          "y": "booking_currency",
          "yref": "y"
         },
         {
          "font": {
           "color": "#FFFFFF"
          },
          "showarrow": false,
          "text": "-0.01",
          "x": "kitchen",
          "xref": "x",
          "y": "booking_currency",
          "yref": "y"
         },
         {
          "font": {
           "color": "#FFFFFF"
          },
          "showarrow": false,
          "text": "0.02",
          "x": "airport_pickup_price_idr",
          "xref": "x",
          "y": "booking_currency",
          "yref": "y"
         },
         {
          "font": {
           "color": "#FFFFFF"
          },
          "showarrow": false,
          "text": "0.06",
          "x": "booking_guest_number",
          "xref": "x",
          "y": "review_sentiment_score",
          "yref": "y"
         },
         {
          "font": {
           "color": "#FFFFFF"
          },
          "showarrow": false,
          "text": "-0.03",
          "x": "booking_currency",
          "xref": "x",
          "y": "review_sentiment_score",
          "yref": "y"
         },
         {
          "font": {
           "color": "#FFFFFF"
          },
          "showarrow": false,
          "text": "1.0",
          "x": "review_sentiment_score",
          "xref": "x",
          "y": "review_sentiment_score",
          "yref": "y"
         },
         {
          "font": {
           "color": "#FFFFFF"
          },
          "showarrow": false,
          "text": "nan",
          "x": "cancellation_policy",
          "xref": "x",
          "y": "review_sentiment_score",
          "yref": "y"
         },
         {
          "font": {
           "color": "#FFFFFF"
          },
          "showarrow": false,
          "text": "0.02",
          "x": "booking_earned_in_idr",
          "xref": "x",
          "y": "review_sentiment_score",
          "yref": "y"
         },
         {
          "font": {
           "color": "#FFFFFF"
          },
          "showarrow": false,
          "text": "0.02",
          "x": "length_of_stay",
          "xref": "x",
          "y": "review_sentiment_score",
          "yref": "y"
         },
         {
          "font": {
           "color": "#FFFFFF"
          },
          "showarrow": false,
          "text": "-0.0",
          "x": "booking_window",
          "xref": "x",
          "y": "review_sentiment_score",
          "yref": "y"
         },
         {
          "font": {
           "color": "#FFFFFF"
          },
          "showarrow": false,
          "text": "0.02",
          "x": "seasonality",
          "xref": "x",
          "y": "review_sentiment_score",
          "yref": "y"
         },
         {
          "font": {
           "color": "#FFFFFF"
          },
          "showarrow": false,
          "text": "0.01",
          "x": "average_daily_rate",
          "xref": "x",
          "y": "review_sentiment_score",
          "yref": "y"
         },
         {
          "font": {
           "color": "#FFFFFF"
          },
          "showarrow": false,
          "text": "-0.02",
          "x": "status",
          "xref": "x",
          "y": "review_sentiment_score",
          "yref": "y"
         },
         {
          "font": {
           "color": "#FFFFFF"
          },
          "showarrow": false,
          "text": "-0.05",
          "x": "bedroom",
          "xref": "x",
          "y": "review_sentiment_score",
          "yref": "y"
         },
         {
          "font": {
           "color": "#FFFFFF"
          },
          "showarrow": false,
          "text": "-0.02",
          "x": "bathroom",
          "xref": "x",
          "y": "review_sentiment_score",
          "yref": "y"
         },
         {
          "font": {
           "color": "#FFFFFF"
          },
          "showarrow": false,
          "text": "-0.02",
          "x": "beds",
          "xref": "x",
          "y": "review_sentiment_score",
          "yref": "y"
         },
         {
          "font": {
           "color": "#FFFFFF"
          },
          "showarrow": false,
          "text": "0.01",
          "x": "capacity",
          "xref": "x",
          "y": "review_sentiment_score",
          "yref": "y"
         },
         {
          "font": {
           "color": "#FFFFFF"
          },
          "showarrow": false,
          "text": "0.0",
          "x": "avg_daily_rate_per_unit",
          "xref": "x",
          "y": "review_sentiment_score",
          "yref": "y"
         },
         {
          "font": {
           "color": "#FFFFFF"
          },
          "showarrow": false,
          "text": "0.03",
          "x": "wifi",
          "xref": "x",
          "y": "review_sentiment_score",
          "yref": "y"
         },
         {
          "font": {
           "color": "#FFFFFF"
          },
          "showarrow": false,
          "text": "-0.01",
          "x": "tv",
          "xref": "x",
          "y": "review_sentiment_score",
          "yref": "y"
         },
         {
          "font": {
           "color": "#FFFFFF"
          },
          "showarrow": false,
          "text": "-0.02",
          "x": "cable_tv",
          "xref": "x",
          "y": "review_sentiment_score",
          "yref": "y"
         },
         {
          "font": {
           "color": "#FFFFFF"
          },
          "showarrow": false,
          "text": "0.04",
          "x": "ac",
          "xref": "x",
          "y": "review_sentiment_score",
          "yref": "y"
         },
         {
          "font": {
           "color": "#FFFFFF"
          },
          "showarrow": false,
          "text": "-0.01",
          "x": "workspace",
          "xref": "x",
          "y": "review_sentiment_score",
          "yref": "y"
         },
         {
          "font": {
           "color": "#FFFFFF"
          },
          "showarrow": false,
          "text": "0.03",
          "x": "pool",
          "xref": "x",
          "y": "review_sentiment_score",
          "yref": "y"
         },
         {
          "font": {
           "color": "#FFFFFF"
          },
          "showarrow": false,
          "text": "0.01",
          "x": "parking",
          "xref": "x",
          "y": "review_sentiment_score",
          "yref": "y"
         },
         {
          "font": {
           "color": "#FFFFFF"
          },
          "showarrow": false,
          "text": "0.0",
          "x": "gym",
          "xref": "x",
          "y": "review_sentiment_score",
          "yref": "y"
         },
         {
          "font": {
           "color": "#FFFFFF"
          },
          "showarrow": false,
          "text": "0.02",
          "x": "kitchen",
          "xref": "x",
          "y": "review_sentiment_score",
          "yref": "y"
         },
         {
          "font": {
           "color": "#FFFFFF"
          },
          "showarrow": false,
          "text": "0.0",
          "x": "airport_pickup_price_idr",
          "xref": "x",
          "y": "review_sentiment_score",
          "yref": "y"
         },
         {
          "font": {
           "color": "#FFFFFF"
          },
          "showarrow": false,
          "text": "nan",
          "x": "booking_guest_number",
          "xref": "x",
          "y": "cancellation_policy",
          "yref": "y"
         },
         {
          "font": {
           "color": "#FFFFFF"
          },
          "showarrow": false,
          "text": "nan",
          "x": "booking_currency",
          "xref": "x",
          "y": "cancellation_policy",
          "yref": "y"
         },
         {
          "font": {
           "color": "#FFFFFF"
          },
          "showarrow": false,
          "text": "nan",
          "x": "review_sentiment_score",
          "xref": "x",
          "y": "cancellation_policy",
          "yref": "y"
         },
         {
          "font": {
           "color": "#FFFFFF"
          },
          "showarrow": false,
          "text": "nan",
          "x": "cancellation_policy",
          "xref": "x",
          "y": "cancellation_policy",
          "yref": "y"
         },
         {
          "font": {
           "color": "#FFFFFF"
          },
          "showarrow": false,
          "text": "nan",
          "x": "booking_earned_in_idr",
          "xref": "x",
          "y": "cancellation_policy",
          "yref": "y"
         },
         {
          "font": {
           "color": "#FFFFFF"
          },
          "showarrow": false,
          "text": "nan",
          "x": "length_of_stay",
          "xref": "x",
          "y": "cancellation_policy",
          "yref": "y"
         },
         {
          "font": {
           "color": "#FFFFFF"
          },
          "showarrow": false,
          "text": "nan",
          "x": "booking_window",
          "xref": "x",
          "y": "cancellation_policy",
          "yref": "y"
         },
         {
          "font": {
           "color": "#FFFFFF"
          },
          "showarrow": false,
          "text": "nan",
          "x": "seasonality",
          "xref": "x",
          "y": "cancellation_policy",
          "yref": "y"
         },
         {
          "font": {
           "color": "#FFFFFF"
          },
          "showarrow": false,
          "text": "nan",
          "x": "average_daily_rate",
          "xref": "x",
          "y": "cancellation_policy",
          "yref": "y"
         },
         {
          "font": {
           "color": "#FFFFFF"
          },
          "showarrow": false,
          "text": "nan",
          "x": "status",
          "xref": "x",
          "y": "cancellation_policy",
          "yref": "y"
         },
         {
          "font": {
           "color": "#FFFFFF"
          },
          "showarrow": false,
          "text": "nan",
          "x": "bedroom",
          "xref": "x",
          "y": "cancellation_policy",
          "yref": "y"
         },
         {
          "font": {
           "color": "#FFFFFF"
          },
          "showarrow": false,
          "text": "nan",
          "x": "bathroom",
          "xref": "x",
          "y": "cancellation_policy",
          "yref": "y"
         },
         {
          "font": {
           "color": "#FFFFFF"
          },
          "showarrow": false,
          "text": "nan",
          "x": "beds",
          "xref": "x",
          "y": "cancellation_policy",
          "yref": "y"
         },
         {
          "font": {
           "color": "#FFFFFF"
          },
          "showarrow": false,
          "text": "nan",
          "x": "capacity",
          "xref": "x",
          "y": "cancellation_policy",
          "yref": "y"
         },
         {
          "font": {
           "color": "#FFFFFF"
          },
          "showarrow": false,
          "text": "nan",
          "x": "avg_daily_rate_per_unit",
          "xref": "x",
          "y": "cancellation_policy",
          "yref": "y"
         },
         {
          "font": {
           "color": "#FFFFFF"
          },
          "showarrow": false,
          "text": "nan",
          "x": "wifi",
          "xref": "x",
          "y": "cancellation_policy",
          "yref": "y"
         },
         {
          "font": {
           "color": "#FFFFFF"
          },
          "showarrow": false,
          "text": "nan",
          "x": "tv",
          "xref": "x",
          "y": "cancellation_policy",
          "yref": "y"
         },
         {
          "font": {
           "color": "#FFFFFF"
          },
          "showarrow": false,
          "text": "nan",
          "x": "cable_tv",
          "xref": "x",
          "y": "cancellation_policy",
          "yref": "y"
         },
         {
          "font": {
           "color": "#FFFFFF"
          },
          "showarrow": false,
          "text": "nan",
          "x": "ac",
          "xref": "x",
          "y": "cancellation_policy",
          "yref": "y"
         },
         {
          "font": {
           "color": "#FFFFFF"
          },
          "showarrow": false,
          "text": "nan",
          "x": "workspace",
          "xref": "x",
          "y": "cancellation_policy",
          "yref": "y"
         },
         {
          "font": {
           "color": "#FFFFFF"
          },
          "showarrow": false,
          "text": "nan",
          "x": "pool",
          "xref": "x",
          "y": "cancellation_policy",
          "yref": "y"
         },
         {
          "font": {
           "color": "#FFFFFF"
          },
          "showarrow": false,
          "text": "nan",
          "x": "parking",
          "xref": "x",
          "y": "cancellation_policy",
          "yref": "y"
         },
         {
          "font": {
           "color": "#FFFFFF"
          },
          "showarrow": false,
          "text": "nan",
          "x": "gym",
          "xref": "x",
          "y": "cancellation_policy",
          "yref": "y"
         },
         {
          "font": {
           "color": "#FFFFFF"
          },
          "showarrow": false,
          "text": "nan",
          "x": "kitchen",
          "xref": "x",
          "y": "cancellation_policy",
          "yref": "y"
         },
         {
          "font": {
           "color": "#FFFFFF"
          },
          "showarrow": false,
          "text": "nan",
          "x": "airport_pickup_price_idr",
          "xref": "x",
          "y": "cancellation_policy",
          "yref": "y"
         },
         {
          "font": {
           "color": "#FFFFFF"
          },
          "showarrow": false,
          "text": "0.31",
          "x": "booking_guest_number",
          "xref": "x",
          "y": "booking_earned_in_idr",
          "yref": "y"
         },
         {
          "font": {
           "color": "#FFFFFF"
          },
          "showarrow": false,
          "text": "0.28",
          "x": "booking_currency",
          "xref": "x",
          "y": "booking_earned_in_idr",
          "yref": "y"
         },
         {
          "font": {
           "color": "#FFFFFF"
          },
          "showarrow": false,
          "text": "0.02",
          "x": "review_sentiment_score",
          "xref": "x",
          "y": "booking_earned_in_idr",
          "yref": "y"
         },
         {
          "font": {
           "color": "#FFFFFF"
          },
          "showarrow": false,
          "text": "nan",
          "x": "cancellation_policy",
          "xref": "x",
          "y": "booking_earned_in_idr",
          "yref": "y"
         },
         {
          "font": {
           "color": "#FFFFFF"
          },
          "showarrow": false,
          "text": "1.0",
          "x": "booking_earned_in_idr",
          "xref": "x",
          "y": "booking_earned_in_idr",
          "yref": "y"
         },
         {
          "font": {
           "color": "#FFFFFF"
          },
          "showarrow": false,
          "text": "0.44",
          "x": "length_of_stay",
          "xref": "x",
          "y": "booking_earned_in_idr",
          "yref": "y"
         },
         {
          "font": {
           "color": "#FFFFFF"
          },
          "showarrow": false,
          "text": "0.29",
          "x": "booking_window",
          "xref": "x",
          "y": "booking_earned_in_idr",
          "yref": "y"
         },
         {
          "font": {
           "color": "#FFFFFF"
          },
          "showarrow": false,
          "text": "0.0",
          "x": "seasonality",
          "xref": "x",
          "y": "booking_earned_in_idr",
          "yref": "y"
         },
         {
          "font": {
           "color": "#FFFFFF"
          },
          "showarrow": false,
          "text": "0.72",
          "x": "average_daily_rate",
          "xref": "x",
          "y": "booking_earned_in_idr",
          "yref": "y"
         },
         {
          "font": {
           "color": "#FFFFFF"
          },
          "showarrow": false,
          "text": "0.03",
          "x": "status",
          "xref": "x",
          "y": "booking_earned_in_idr",
          "yref": "y"
         },
         {
          "font": {
           "color": "#FFFFFF"
          },
          "showarrow": false,
          "text": "0.24",
          "x": "bedroom",
          "xref": "x",
          "y": "booking_earned_in_idr",
          "yref": "y"
         },
         {
          "font": {
           "color": "#FFFFFF"
          },
          "showarrow": false,
          "text": "0.29",
          "x": "bathroom",
          "xref": "x",
          "y": "booking_earned_in_idr",
          "yref": "y"
         },
         {
          "font": {
           "color": "#FFFFFF"
          },
          "showarrow": false,
          "text": "0.28",
          "x": "beds",
          "xref": "x",
          "y": "booking_earned_in_idr",
          "yref": "y"
         },
         {
          "font": {
           "color": "#FFFFFF"
          },
          "showarrow": false,
          "text": "0.38",
          "x": "capacity",
          "xref": "x",
          "y": "booking_earned_in_idr",
          "yref": "y"
         },
         {
          "font": {
           "color": "#FFFFFF"
          },
          "showarrow": false,
          "text": "0.56",
          "x": "avg_daily_rate_per_unit",
          "xref": "x",
          "y": "booking_earned_in_idr",
          "yref": "y"
         },
         {
          "font": {
           "color": "#FFFFFF"
          },
          "showarrow": false,
          "text": "0.0",
          "x": "wifi",
          "xref": "x",
          "y": "booking_earned_in_idr",
          "yref": "y"
         },
         {
          "font": {
           "color": "#FFFFFF"
          },
          "showarrow": false,
          "text": "0.07",
          "x": "tv",
          "xref": "x",
          "y": "booking_earned_in_idr",
          "yref": "y"
         },
         {
          "font": {
           "color": "#FFFFFF"
          },
          "showarrow": false,
          "text": "0.08",
          "x": "cable_tv",
          "xref": "x",
          "y": "booking_earned_in_idr",
          "yref": "y"
         },
         {
          "font": {
           "color": "#FFFFFF"
          },
          "showarrow": false,
          "text": "0.02",
          "x": "ac",
          "xref": "x",
          "y": "booking_earned_in_idr",
          "yref": "y"
         },
         {
          "font": {
           "color": "#FFFFFF"
          },
          "showarrow": false,
          "text": "0.05",
          "x": "workspace",
          "xref": "x",
          "y": "booking_earned_in_idr",
          "yref": "y"
         },
         {
          "font": {
           "color": "#FFFFFF"
          },
          "showarrow": false,
          "text": "0.1",
          "x": "pool",
          "xref": "x",
          "y": "booking_earned_in_idr",
          "yref": "y"
         },
         {
          "font": {
           "color": "#FFFFFF"
          },
          "showarrow": false,
          "text": "-0.03",
          "x": "parking",
          "xref": "x",
          "y": "booking_earned_in_idr",
          "yref": "y"
         },
         {
          "font": {
           "color": "#FFFFFF"
          },
          "showarrow": false,
          "text": "-0.01",
          "x": "gym",
          "xref": "x",
          "y": "booking_earned_in_idr",
          "yref": "y"
         },
         {
          "font": {
           "color": "#FFFFFF"
          },
          "showarrow": false,
          "text": "0.23",
          "x": "kitchen",
          "xref": "x",
          "y": "booking_earned_in_idr",
          "yref": "y"
         },
         {
          "font": {
           "color": "#FFFFFF"
          },
          "showarrow": false,
          "text": "0.01",
          "x": "airport_pickup_price_idr",
          "xref": "x",
          "y": "booking_earned_in_idr",
          "yref": "y"
         },
         {
          "font": {
           "color": "#FFFFFF"
          },
          "showarrow": false,
          "text": "0.0",
          "x": "booking_guest_number",
          "xref": "x",
          "y": "length_of_stay",
          "yref": "y"
         },
         {
          "font": {
           "color": "#FFFFFF"
          },
          "showarrow": false,
          "text": "0.03",
          "x": "booking_currency",
          "xref": "x",
          "y": "length_of_stay",
          "yref": "y"
         },
         {
          "font": {
           "color": "#FFFFFF"
          },
          "showarrow": false,
          "text": "0.02",
          "x": "review_sentiment_score",
          "xref": "x",
          "y": "length_of_stay",
          "yref": "y"
         },
         {
          "font": {
           "color": "#FFFFFF"
          },
          "showarrow": false,
          "text": "nan",
          "x": "cancellation_policy",
          "xref": "x",
          "y": "length_of_stay",
          "yref": "y"
         },
         {
          "font": {
           "color": "#FFFFFF"
          },
          "showarrow": false,
          "text": "0.44",
          "x": "booking_earned_in_idr",
          "xref": "x",
          "y": "length_of_stay",
          "yref": "y"
         },
         {
          "font": {
           "color": "#FFFFFF"
          },
          "showarrow": false,
          "text": "1.0",
          "x": "length_of_stay",
          "xref": "x",
          "y": "length_of_stay",
          "yref": "y"
         },
         {
          "font": {
           "color": "#FFFFFF"
          },
          "showarrow": false,
          "text": "0.13",
          "x": "booking_window",
          "xref": "x",
          "y": "length_of_stay",
          "yref": "y"
         },
         {
          "font": {
           "color": "#FFFFFF"
          },
          "showarrow": false,
          "text": "0.01",
          "x": "seasonality",
          "xref": "x",
          "y": "length_of_stay",
          "yref": "y"
         },
         {
          "font": {
           "color": "#FFFFFF"
          },
          "showarrow": false,
          "text": "0.04",
          "x": "average_daily_rate",
          "xref": "x",
          "y": "length_of_stay",
          "yref": "y"
         },
         {
          "font": {
           "color": "#FFFFFF"
          },
          "showarrow": false,
          "text": "0.02",
          "x": "status",
          "xref": "x",
          "y": "length_of_stay",
          "yref": "y"
         },
         {
          "font": {
           "color": "#FFFFFF"
          },
          "showarrow": false,
          "text": "0.03",
          "x": "bedroom",
          "xref": "x",
          "y": "length_of_stay",
          "yref": "y"
         },
         {
          "font": {
           "color": "#FFFFFF"
          },
          "showarrow": false,
          "text": "0.03",
          "x": "bathroom",
          "xref": "x",
          "y": "length_of_stay",
          "yref": "y"
         },
         {
          "font": {
           "color": "#FFFFFF"
          },
          "showarrow": false,
          "text": "0.02",
          "x": "beds",
          "xref": "x",
          "y": "length_of_stay",
          "yref": "y"
         },
         {
          "font": {
           "color": "#FFFFFF"
          },
          "showarrow": false,
          "text": "0.01",
          "x": "capacity",
          "xref": "x",
          "y": "length_of_stay",
          "yref": "y"
         },
         {
          "font": {
           "color": "#FFFFFF"
          },
          "showarrow": false,
          "text": "0.04",
          "x": "avg_daily_rate_per_unit",
          "xref": "x",
          "y": "length_of_stay",
          "yref": "y"
         },
         {
          "font": {
           "color": "#FFFFFF"
          },
          "showarrow": false,
          "text": "-0.01",
          "x": "wifi",
          "xref": "x",
          "y": "length_of_stay",
          "yref": "y"
         },
         {
          "font": {
           "color": "#FFFFFF"
          },
          "showarrow": false,
          "text": "0.03",
          "x": "tv",
          "xref": "x",
          "y": "length_of_stay",
          "yref": "y"
         },
         {
          "font": {
           "color": "#FFFFFF"
          },
          "showarrow": false,
          "text": "0.01",
          "x": "cable_tv",
          "xref": "x",
          "y": "length_of_stay",
          "yref": "y"
         },
         {
          "font": {
           "color": "#FFFFFF"
          },
          "showarrow": false,
          "text": "-0.0",
          "x": "ac",
          "xref": "x",
          "y": "length_of_stay",
          "yref": "y"
         },
         {
          "font": {
           "color": "#FFFFFF"
          },
          "showarrow": false,
          "text": "0.03",
          "x": "workspace",
          "xref": "x",
          "y": "length_of_stay",
          "yref": "y"
         },
         {
          "font": {
           "color": "#FFFFFF"
          },
          "showarrow": false,
          "text": "0.05",
          "x": "pool",
          "xref": "x",
          "y": "length_of_stay",
          "yref": "y"
         },
         {
          "font": {
           "color": "#FFFFFF"
          },
          "showarrow": false,
          "text": "0.0",
          "x": "parking",
          "xref": "x",
          "y": "length_of_stay",
          "yref": "y"
         },
         {
          "font": {
           "color": "#FFFFFF"
          },
          "showarrow": false,
          "text": "0.02",
          "x": "gym",
          "xref": "x",
          "y": "length_of_stay",
          "yref": "y"
         },
         {
          "font": {
           "color": "#FFFFFF"
          },
          "showarrow": false,
          "text": "0.11",
          "x": "kitchen",
          "xref": "x",
          "y": "length_of_stay",
          "yref": "y"
         },
         {
          "font": {
           "color": "#FFFFFF"
          },
          "showarrow": false,
          "text": "-0.02",
          "x": "airport_pickup_price_idr",
          "xref": "x",
          "y": "length_of_stay",
          "yref": "y"
         },
         {
          "font": {
           "color": "#FFFFFF"
          },
          "showarrow": false,
          "text": "0.2",
          "x": "booking_guest_number",
          "xref": "x",
          "y": "booking_window",
          "yref": "y"
         },
         {
          "font": {
           "color": "#FFFFFF"
          },
          "showarrow": false,
          "text": "0.11",
          "x": "booking_currency",
          "xref": "x",
          "y": "booking_window",
          "yref": "y"
         },
         {
          "font": {
           "color": "#FFFFFF"
          },
          "showarrow": false,
          "text": "-0.0",
          "x": "review_sentiment_score",
          "xref": "x",
          "y": "booking_window",
          "yref": "y"
         },
         {
          "font": {
           "color": "#FFFFFF"
          },
          "showarrow": false,
          "text": "nan",
          "x": "cancellation_policy",
          "xref": "x",
          "y": "booking_window",
          "yref": "y"
         },
         {
          "font": {
           "color": "#FFFFFF"
          },
          "showarrow": false,
          "text": "0.29",
          "x": "booking_earned_in_idr",
          "xref": "x",
          "y": "booking_window",
          "yref": "y"
         },
         {
          "font": {
           "color": "#FFFFFF"
          },
          "showarrow": false,
          "text": "0.13",
          "x": "length_of_stay",
          "xref": "x",
          "y": "booking_window",
          "yref": "y"
         },
         {
          "font": {
           "color": "#FFFFFF"
          },
          "showarrow": false,
          "text": "1.0",
          "x": "booking_window",
          "xref": "x",
          "y": "booking_window",
          "yref": "y"
         },
         {
          "font": {
           "color": "#FFFFFF"
          },
          "showarrow": false,
          "text": "-0.05",
          "x": "seasonality",
          "xref": "x",
          "y": "booking_window",
          "yref": "y"
         },
         {
          "font": {
           "color": "#FFFFFF"
          },
          "showarrow": false,
          "text": "0.23",
          "x": "average_daily_rate",
          "xref": "x",
          "y": "booking_window",
          "yref": "y"
         },
         {
          "font": {
           "color": "#FFFFFF"
          },
          "showarrow": false,
          "text": "-0.02",
          "x": "status",
          "xref": "x",
          "y": "booking_window",
          "yref": "y"
         },
         {
          "font": {
           "color": "#FFFFFF"
          },
          "showarrow": false,
          "text": "0.08",
          "x": "bedroom",
          "xref": "x",
          "y": "booking_window",
          "yref": "y"
         },
         {
          "font": {
           "color": "#FFFFFF"
          },
          "showarrow": false,
          "text": "0.06",
          "x": "bathroom",
          "xref": "x",
          "y": "booking_window",
          "yref": "y"
         },
         {
          "font": {
           "color": "#FFFFFF"
          },
          "showarrow": false,
          "text": "0.07",
          "x": "beds",
          "xref": "x",
          "y": "booking_window",
          "yref": "y"
         },
         {
          "font": {
           "color": "#FFFFFF"
          },
          "showarrow": false,
          "text": "0.09",
          "x": "capacity",
          "xref": "x",
          "y": "booking_window",
          "yref": "y"
         },
         {
          "font": {
           "color": "#FFFFFF"
          },
          "showarrow": false,
          "text": "0.19",
          "x": "avg_daily_rate_per_unit",
          "xref": "x",
          "y": "booking_window",
          "yref": "y"
         },
         {
          "font": {
           "color": "#FFFFFF"
          },
          "showarrow": false,
          "text": "0.03",
          "x": "wifi",
          "xref": "x",
          "y": "booking_window",
          "yref": "y"
         },
         {
          "font": {
           "color": "#FFFFFF"
          },
          "showarrow": false,
          "text": "0.1",
          "x": "tv",
          "xref": "x",
          "y": "booking_window",
          "yref": "y"
         },
         {
          "font": {
           "color": "#FFFFFF"
          },
          "showarrow": false,
          "text": "0.02",
          "x": "cable_tv",
          "xref": "x",
          "y": "booking_window",
          "yref": "y"
         },
         {
          "font": {
           "color": "#FFFFFF"
          },
          "showarrow": false,
          "text": "0.02",
          "x": "ac",
          "xref": "x",
          "y": "booking_window",
          "yref": "y"
         },
         {
          "font": {
           "color": "#FFFFFF"
          },
          "showarrow": false,
          "text": "0.02",
          "x": "workspace",
          "xref": "x",
          "y": "booking_window",
          "yref": "y"
         },
         {
          "font": {
           "color": "#FFFFFF"
          },
          "showarrow": false,
          "text": "0.09",
          "x": "pool",
          "xref": "x",
          "y": "booking_window",
          "yref": "y"
         },
         {
          "font": {
           "color": "#FFFFFF"
          },
          "showarrow": false,
          "text": "-0.02",
          "x": "parking",
          "xref": "x",
          "y": "booking_window",
          "yref": "y"
         },
         {
          "font": {
           "color": "#FFFFFF"
          },
          "showarrow": false,
          "text": "-0.02",
          "x": "gym",
          "xref": "x",
          "y": "booking_window",
          "yref": "y"
         },
         {
          "font": {
           "color": "#FFFFFF"
          },
          "showarrow": false,
          "text": "0.08",
          "x": "kitchen",
          "xref": "x",
          "y": "booking_window",
          "yref": "y"
         },
         {
          "font": {
           "color": "#FFFFFF"
          },
          "showarrow": false,
          "text": "-0.01",
          "x": "airport_pickup_price_idr",
          "xref": "x",
          "y": "booking_window",
          "yref": "y"
         },
         {
          "font": {
           "color": "#FFFFFF"
          },
          "showarrow": false,
          "text": "0.04",
          "x": "booking_guest_number",
          "xref": "x",
          "y": "seasonality",
          "yref": "y"
         },
         {
          "font": {
           "color": "#FFFFFF"
          },
          "showarrow": false,
          "text": "0.06",
          "x": "booking_currency",
          "xref": "x",
          "y": "seasonality",
          "yref": "y"
         },
         {
          "font": {
           "color": "#FFFFFF"
          },
          "showarrow": false,
          "text": "0.02",
          "x": "review_sentiment_score",
          "xref": "x",
          "y": "seasonality",
          "yref": "y"
         },
         {
          "font": {
           "color": "#FFFFFF"
          },
          "showarrow": false,
          "text": "nan",
          "x": "cancellation_policy",
          "xref": "x",
          "y": "seasonality",
          "yref": "y"
         },
         {
          "font": {
           "color": "#FFFFFF"
          },
          "showarrow": false,
          "text": "0.0",
          "x": "booking_earned_in_idr",
          "xref": "x",
          "y": "seasonality",
          "yref": "y"
         },
         {
          "font": {
           "color": "#FFFFFF"
          },
          "showarrow": false,
          "text": "0.01",
          "x": "length_of_stay",
          "xref": "x",
          "y": "seasonality",
          "yref": "y"
         },
         {
          "font": {
           "color": "#FFFFFF"
          },
          "showarrow": false,
          "text": "-0.05",
          "x": "booking_window",
          "xref": "x",
          "y": "seasonality",
          "yref": "y"
         },
         {
          "font": {
           "color": "#FFFFFF"
          },
          "showarrow": false,
          "text": "1.0",
          "x": "seasonality",
          "xref": "x",
          "y": "seasonality",
          "yref": "y"
         },
         {
          "font": {
           "color": "#FFFFFF"
          },
          "showarrow": false,
          "text": "-0.01",
          "x": "average_daily_rate",
          "xref": "x",
          "y": "seasonality",
          "yref": "y"
         },
         {
          "font": {
           "color": "#FFFFFF"
          },
          "showarrow": false,
          "text": "0.03",
          "x": "status",
          "xref": "x",
          "y": "seasonality",
          "yref": "y"
         },
         {
          "font": {
           "color": "#FFFFFF"
          },
          "showarrow": false,
          "text": "0.02",
          "x": "bedroom",
          "xref": "x",
          "y": "seasonality",
          "yref": "y"
         },
         {
          "font": {
           "color": "#FFFFFF"
          },
          "showarrow": false,
          "text": "-0.01",
          "x": "bathroom",
          "xref": "x",
          "y": "seasonality",
          "yref": "y"
         },
         {
          "font": {
           "color": "#FFFFFF"
          },
          "showarrow": false,
          "text": "-0.0",
          "x": "beds",
          "xref": "x",
          "y": "seasonality",
          "yref": "y"
         },
         {
          "font": {
           "color": "#FFFFFF"
          },
          "showarrow": false,
          "text": "0.02",
          "x": "capacity",
          "xref": "x",
          "y": "seasonality",
          "yref": "y"
         },
         {
          "font": {
           "color": "#FFFFFF"
          },
          "showarrow": false,
          "text": "0.04",
          "x": "avg_daily_rate_per_unit",
          "xref": "x",
          "y": "seasonality",
          "yref": "y"
         },
         {
          "font": {
           "color": "#FFFFFF"
          },
          "showarrow": false,
          "text": "-0.0",
          "x": "wifi",
          "xref": "x",
          "y": "seasonality",
          "yref": "y"
         },
         {
          "font": {
           "color": "#FFFFFF"
          },
          "showarrow": false,
          "text": "0.03",
          "x": "tv",
          "xref": "x",
          "y": "seasonality",
          "yref": "y"
         },
         {
          "font": {
           "color": "#FFFFFF"
          },
          "showarrow": false,
          "text": "0.04",
          "x": "cable_tv",
          "xref": "x",
          "y": "seasonality",
          "yref": "y"
         },
         {
          "font": {
           "color": "#FFFFFF"
          },
          "showarrow": false,
          "text": "0.04",
          "x": "ac",
          "xref": "x",
          "y": "seasonality",
          "yref": "y"
         },
         {
          "font": {
           "color": "#FFFFFF"
          },
          "showarrow": false,
          "text": "0.05",
          "x": "workspace",
          "xref": "x",
          "y": "seasonality",
          "yref": "y"
         },
         {
          "font": {
           "color": "#FFFFFF"
          },
          "showarrow": false,
          "text": "0.04",
          "x": "pool",
          "xref": "x",
          "y": "seasonality",
          "yref": "y"
         },
         {
          "font": {
           "color": "#FFFFFF"
          },
          "showarrow": false,
          "text": "0.03",
          "x": "parking",
          "xref": "x",
          "y": "seasonality",
          "yref": "y"
         },
         {
          "font": {
           "color": "#FFFFFF"
          },
          "showarrow": false,
          "text": "-0.01",
          "x": "gym",
          "xref": "x",
          "y": "seasonality",
          "yref": "y"
         },
         {
          "font": {
           "color": "#FFFFFF"
          },
          "showarrow": false,
          "text": "0.01",
          "x": "kitchen",
          "xref": "x",
          "y": "seasonality",
          "yref": "y"
         },
         {
          "font": {
           "color": "#FFFFFF"
          },
          "showarrow": false,
          "text": "-0.0",
          "x": "airport_pickup_price_idr",
          "xref": "x",
          "y": "seasonality",
          "yref": "y"
         },
         {
          "font": {
           "color": "#FFFFFF"
          },
          "showarrow": false,
          "text": "0.42",
          "x": "booking_guest_number",
          "xref": "x",
          "y": "average_daily_rate",
          "yref": "y"
         },
         {
          "font": {
           "color": "#FFFFFF"
          },
          "showarrow": false,
          "text": "0.35",
          "x": "booking_currency",
          "xref": "x",
          "y": "average_daily_rate",
          "yref": "y"
         },
         {
          "font": {
           "color": "#FFFFFF"
          },
          "showarrow": false,
          "text": "0.01",
          "x": "review_sentiment_score",
          "xref": "x",
          "y": "average_daily_rate",
          "yref": "y"
         },
         {
          "font": {
           "color": "#FFFFFF"
          },
          "showarrow": false,
          "text": "nan",
          "x": "cancellation_policy",
          "xref": "x",
          "y": "average_daily_rate",
          "yref": "y"
         },
         {
          "font": {
           "color": "#FFFFFF"
          },
          "showarrow": false,
          "text": "0.72",
          "x": "booking_earned_in_idr",
          "xref": "x",
          "y": "average_daily_rate",
          "yref": "y"
         },
         {
          "font": {
           "color": "#FFFFFF"
          },
          "showarrow": false,
          "text": "0.04",
          "x": "length_of_stay",
          "xref": "x",
          "y": "average_daily_rate",
          "yref": "y"
         },
         {
          "font": {
           "color": "#FFFFFF"
          },
          "showarrow": false,
          "text": "0.23",
          "x": "booking_window",
          "xref": "x",
          "y": "average_daily_rate",
          "yref": "y"
         },
         {
          "font": {
           "color": "#FFFFFF"
          },
          "showarrow": false,
          "text": "-0.01",
          "x": "seasonality",
          "xref": "x",
          "y": "average_daily_rate",
          "yref": "y"
         },
         {
          "font": {
           "color": "#FFFFFF"
          },
          "showarrow": false,
          "text": "1.0",
          "x": "average_daily_rate",
          "xref": "x",
          "y": "average_daily_rate",
          "yref": "y"
         },
         {
          "font": {
           "color": "#FFFFFF"
          },
          "showarrow": false,
          "text": "0.0",
          "x": "status",
          "xref": "x",
          "y": "average_daily_rate",
          "yref": "y"
         },
         {
          "font": {
           "color": "#FFFFFF"
          },
          "showarrow": false,
          "text": "0.35",
          "x": "bedroom",
          "xref": "x",
          "y": "average_daily_rate",
          "yref": "y"
         },
         {
          "font": {
           "color": "#FFFFFF"
          },
          "showarrow": false,
          "text": "0.44",
          "x": "bathroom",
          "xref": "x",
          "y": "average_daily_rate",
          "yref": "y"
         },
         {
          "font": {
           "color": "#FFFFFF"
          },
          "showarrow": false,
          "text": "0.43",
          "x": "beds",
          "xref": "x",
          "y": "average_daily_rate",
          "yref": "y"
         },
         {
          "font": {
           "color": "#FFFFFF"
          },
          "showarrow": false,
          "text": "0.58",
          "x": "capacity",
          "xref": "x",
          "y": "average_daily_rate",
          "yref": "y"
         },
         {
          "font": {
           "color": "#FFFFFF"
          },
          "showarrow": false,
          "text": "0.81",
          "x": "avg_daily_rate_per_unit",
          "xref": "x",
          "y": "average_daily_rate",
          "yref": "y"
         },
         {
          "font": {
           "color": "#FFFFFF"
          },
          "showarrow": false,
          "text": "0.0",
          "x": "wifi",
          "xref": "x",
          "y": "average_daily_rate",
          "yref": "y"
         },
         {
          "font": {
           "color": "#FFFFFF"
          },
          "showarrow": false,
          "text": "0.08",
          "x": "tv",
          "xref": "x",
          "y": "average_daily_rate",
          "yref": "y"
         },
         {
          "font": {
           "color": "#FFFFFF"
          },
          "showarrow": false,
          "text": "0.12",
          "x": "cable_tv",
          "xref": "x",
          "y": "average_daily_rate",
          "yref": "y"
         },
         {
          "font": {
           "color": "#FFFFFF"
          },
          "showarrow": false,
          "text": "0.02",
          "x": "ac",
          "xref": "x",
          "y": "average_daily_rate",
          "yref": "y"
         },
         {
          "font": {
           "color": "#FFFFFF"
          },
          "showarrow": false,
          "text": "0.05",
          "x": "workspace",
          "xref": "x",
          "y": "average_daily_rate",
          "yref": "y"
         },
         {
          "font": {
           "color": "#FFFFFF"
          },
          "showarrow": false,
          "text": "0.11",
          "x": "pool",
          "xref": "x",
          "y": "average_daily_rate",
          "yref": "y"
         },
         {
          "font": {
           "color": "#FFFFFF"
          },
          "showarrow": false,
          "text": "-0.05",
          "x": "parking",
          "xref": "x",
          "y": "average_daily_rate",
          "yref": "y"
         },
         {
          "font": {
           "color": "#FFFFFF"
          },
          "showarrow": false,
          "text": "-0.02",
          "x": "gym",
          "xref": "x",
          "y": "average_daily_rate",
          "yref": "y"
         },
         {
          "font": {
           "color": "#FFFFFF"
          },
          "showarrow": false,
          "text": "0.24",
          "x": "kitchen",
          "xref": "x",
          "y": "average_daily_rate",
          "yref": "y"
         },
         {
          "font": {
           "color": "#FFFFFF"
          },
          "showarrow": false,
          "text": "0.03",
          "x": "airport_pickup_price_idr",
          "xref": "x",
          "y": "average_daily_rate",
          "yref": "y"
         },
         {
          "font": {
           "color": "#FFFFFF"
          },
          "showarrow": false,
          "text": "0.05",
          "x": "booking_guest_number",
          "xref": "x",
          "y": "status",
          "yref": "y"
         },
         {
          "font": {
           "color": "#FFFFFF"
          },
          "showarrow": false,
          "text": "0.04",
          "x": "booking_currency",
          "xref": "x",
          "y": "status",
          "yref": "y"
         },
         {
          "font": {
           "color": "#FFFFFF"
          },
          "showarrow": false,
          "text": "-0.02",
          "x": "review_sentiment_score",
          "xref": "x",
          "y": "status",
          "yref": "y"
         },
         {
          "font": {
           "color": "#FFFFFF"
          },
          "showarrow": false,
          "text": "nan",
          "x": "cancellation_policy",
          "xref": "x",
          "y": "status",
          "yref": "y"
         },
         {
          "font": {
           "color": "#FFFFFF"
          },
          "showarrow": false,
          "text": "0.03",
          "x": "booking_earned_in_idr",
          "xref": "x",
          "y": "status",
          "yref": "y"
         },
         {
          "font": {
           "color": "#FFFFFF"
          },
          "showarrow": false,
          "text": "0.02",
          "x": "length_of_stay",
          "xref": "x",
          "y": "status",
          "yref": "y"
         },
         {
          "font": {
           "color": "#FFFFFF"
          },
          "showarrow": false,
          "text": "-0.02",
          "x": "booking_window",
          "xref": "x",
          "y": "status",
          "yref": "y"
         },
         {
          "font": {
           "color": "#FFFFFF"
          },
          "showarrow": false,
          "text": "0.03",
          "x": "seasonality",
          "xref": "x",
          "y": "status",
          "yref": "y"
         },
         {
          "font": {
           "color": "#FFFFFF"
          },
          "showarrow": false,
          "text": "0.0",
          "x": "average_daily_rate",
          "xref": "x",
          "y": "status",
          "yref": "y"
         },
         {
          "font": {
           "color": "#FFFFFF"
          },
          "showarrow": false,
          "text": "1.0",
          "x": "status",
          "xref": "x",
          "y": "status",
          "yref": "y"
         },
         {
          "font": {
           "color": "#FFFFFF"
          },
          "showarrow": false,
          "text": "0.12",
          "x": "bedroom",
          "xref": "x",
          "y": "status",
          "yref": "y"
         },
         {
          "font": {
           "color": "#FFFFFF"
          },
          "showarrow": false,
          "text": "-0.13",
          "x": "bathroom",
          "xref": "x",
          "y": "status",
          "yref": "y"
         },
         {
          "font": {
           "color": "#FFFFFF"
          },
          "showarrow": false,
          "text": "-0.11",
          "x": "beds",
          "xref": "x",
          "y": "status",
          "yref": "y"
         },
         {
          "font": {
           "color": "#FFFFFF"
          },
          "showarrow": false,
          "text": "-0.0",
          "x": "capacity",
          "xref": "x",
          "y": "status",
          "yref": "y"
         },
         {
          "font": {
           "color": "#FFFFFF"
          },
          "showarrow": false,
          "text": "0.0",
          "x": "avg_daily_rate_per_unit",
          "xref": "x",
          "y": "status",
          "yref": "y"
         },
         {
          "font": {
           "color": "#FFFFFF"
          },
          "showarrow": false,
          "text": "-0.08",
          "x": "wifi",
          "xref": "x",
          "y": "status",
          "yref": "y"
         },
         {
          "font": {
           "color": "#FFFFFF"
          },
          "showarrow": false,
          "text": "-0.11",
          "x": "tv",
          "xref": "x",
          "y": "status",
          "yref": "y"
         },
         {
          "font": {
           "color": "#FFFFFF"
          },
          "showarrow": false,
          "text": "-0.04",
          "x": "cable_tv",
          "xref": "x",
          "y": "status",
          "yref": "y"
         },
         {
          "font": {
           "color": "#FFFFFF"
          },
          "showarrow": false,
          "text": "0.12",
          "x": "ac",
          "xref": "x",
          "y": "status",
          "yref": "y"
         },
         {
          "font": {
           "color": "#FFFFFF"
          },
          "showarrow": false,
          "text": "0.03",
          "x": "workspace",
          "xref": "x",
          "y": "status",
          "yref": "y"
         },
         {
          "font": {
           "color": "#FFFFFF"
          },
          "showarrow": false,
          "text": "0.15",
          "x": "pool",
          "xref": "x",
          "y": "status",
          "yref": "y"
         },
         {
          "font": {
           "color": "#FFFFFF"
          },
          "showarrow": false,
          "text": "0.19",
          "x": "parking",
          "xref": "x",
          "y": "status",
          "yref": "y"
         },
         {
          "font": {
           "color": "#FFFFFF"
          },
          "showarrow": false,
          "text": "-0.0",
          "x": "gym",
          "xref": "x",
          "y": "status",
          "yref": "y"
         },
         {
          "font": {
           "color": "#FFFFFF"
          },
          "showarrow": false,
          "text": "0.01",
          "x": "kitchen",
          "xref": "x",
          "y": "status",
          "yref": "y"
         },
         {
          "font": {
           "color": "#FFFFFF"
          },
          "showarrow": false,
          "text": "0.03",
          "x": "airport_pickup_price_idr",
          "xref": "x",
          "y": "status",
          "yref": "y"
         },
         {
          "font": {
           "color": "#FFFFFF"
          },
          "showarrow": false,
          "text": "0.22",
          "x": "booking_guest_number",
          "xref": "x",
          "y": "bedroom",
          "yref": "y"
         },
         {
          "font": {
           "color": "#FFFFFF"
          },
          "showarrow": false,
          "text": "0.17",
          "x": "booking_currency",
          "xref": "x",
          "y": "bedroom",
          "yref": "y"
         },
         {
          "font": {
           "color": "#FFFFFF"
          },
          "showarrow": false,
          "text": "-0.05",
          "x": "review_sentiment_score",
          "xref": "x",
          "y": "bedroom",
          "yref": "y"
         },
         {
          "font": {
           "color": "#FFFFFF"
          },
          "showarrow": false,
          "text": "nan",
          "x": "cancellation_policy",
          "xref": "x",
          "y": "bedroom",
          "yref": "y"
         },
         {
          "font": {
           "color": "#FFFFFF"
          },
          "showarrow": false,
          "text": "0.24",
          "x": "booking_earned_in_idr",
          "xref": "x",
          "y": "bedroom",
          "yref": "y"
         },
         {
          "font": {
           "color": "#FFFFFF"
          },
          "showarrow": false,
          "text": "0.03",
          "x": "length_of_stay",
          "xref": "x",
          "y": "bedroom",
          "yref": "y"
         },
         {
          "font": {
           "color": "#FFFFFF"
          },
          "showarrow": false,
          "text": "0.08",
          "x": "booking_window",
          "xref": "x",
          "y": "bedroom",
          "yref": "y"
         },
         {
          "font": {
           "color": "#FFFFFF"
          },
          "showarrow": false,
          "text": "0.02",
          "x": "seasonality",
          "xref": "x",
          "y": "bedroom",
          "yref": "y"
         },
         {
          "font": {
           "color": "#FFFFFF"
          },
          "showarrow": false,
          "text": "0.35",
          "x": "average_daily_rate",
          "xref": "x",
          "y": "bedroom",
          "yref": "y"
         },
         {
          "font": {
           "color": "#FFFFFF"
          },
          "showarrow": false,
          "text": "0.12",
          "x": "status",
          "xref": "x",
          "y": "bedroom",
          "yref": "y"
         },
         {
          "font": {
           "color": "#FFFFFF"
          },
          "showarrow": false,
          "text": "1.0",
          "x": "bedroom",
          "xref": "x",
          "y": "bedroom",
          "yref": "y"
         },
         {
          "font": {
           "color": "#FFFFFF"
          },
          "showarrow": false,
          "text": "0.82",
          "x": "bathroom",
          "xref": "x",
          "y": "bedroom",
          "yref": "y"
         },
         {
          "font": {
           "color": "#FFFFFF"
          },
          "showarrow": false,
          "text": "0.88",
          "x": "beds",
          "xref": "x",
          "y": "bedroom",
          "yref": "y"
         },
         {
          "font": {
           "color": "#FFFFFF"
          },
          "showarrow": false,
          "text": "0.73",
          "x": "capacity",
          "xref": "x",
          "y": "bedroom",
          "yref": "y"
         },
         {
          "font": {
           "color": "#FFFFFF"
          },
          "showarrow": false,
          "text": "0.43",
          "x": "avg_daily_rate_per_unit",
          "xref": "x",
          "y": "bedroom",
          "yref": "y"
         },
         {
          "font": {
           "color": "#FFFFFF"
          },
          "showarrow": false,
          "text": "-0.08",
          "x": "wifi",
          "xref": "x",
          "y": "bedroom",
          "yref": "y"
         },
         {
          "font": {
           "color": "#FFFFFF"
          },
          "showarrow": false,
          "text": "0.14",
          "x": "tv",
          "xref": "x",
          "y": "bedroom",
          "yref": "y"
         },
         {
          "font": {
           "color": "#FFFFFF"
          },
          "showarrow": false,
          "text": "0.11",
          "x": "cable_tv",
          "xref": "x",
          "y": "bedroom",
          "yref": "y"
         },
         {
          "font": {
           "color": "#FFFFFF"
          },
          "showarrow": false,
          "text": "0.03",
          "x": "ac",
          "xref": "x",
          "y": "bedroom",
          "yref": "y"
         },
         {
          "font": {
           "color": "#FFFFFF"
          },
          "showarrow": false,
          "text": "0.06",
          "x": "workspace",
          "xref": "x",
          "y": "bedroom",
          "yref": "y"
         },
         {
          "font": {
           "color": "#FFFFFF"
          },
          "showarrow": false,
          "text": "0.02",
          "x": "pool",
          "xref": "x",
          "y": "bedroom",
          "yref": "y"
         },
         {
          "font": {
           "color": "#FFFFFF"
          },
          "showarrow": false,
          "text": "-0.03",
          "x": "parking",
          "xref": "x",
          "y": "bedroom",
          "yref": "y"
         },
         {
          "font": {
           "color": "#FFFFFF"
          },
          "showarrow": false,
          "text": "-0.01",
          "x": "gym",
          "xref": "x",
          "y": "bedroom",
          "yref": "y"
         },
         {
          "font": {
           "color": "#FFFFFF"
          },
          "showarrow": false,
          "text": "0.31",
          "x": "kitchen",
          "xref": "x",
          "y": "bedroom",
          "yref": "y"
         },
         {
          "font": {
           "color": "#FFFFFF"
          },
          "showarrow": false,
          "text": "0.04",
          "x": "airport_pickup_price_idr",
          "xref": "x",
          "y": "bedroom",
          "yref": "y"
         },
         {
          "font": {
           "color": "#FFFFFF"
          },
          "showarrow": false,
          "text": "0.31",
          "x": "booking_guest_number",
          "xref": "x",
          "y": "bathroom",
          "yref": "y"
         },
         {
          "font": {
           "color": "#FFFFFF"
          },
          "showarrow": false,
          "text": "0.06",
          "x": "booking_currency",
          "xref": "x",
          "y": "bathroom",
          "yref": "y"
         },
         {
          "font": {
           "color": "#FFFFFF"
          },
          "showarrow": false,
          "text": "-0.02",
          "x": "review_sentiment_score",
          "xref": "x",
          "y": "bathroom",
          "yref": "y"
         },
         {
          "font": {
           "color": "#FFFFFF"
          },
          "showarrow": false,
          "text": "nan",
          "x": "cancellation_policy",
          "xref": "x",
          "y": "bathroom",
          "yref": "y"
         },
         {
          "font": {
           "color": "#FFFFFF"
          },
          "showarrow": false,
          "text": "0.29",
          "x": "booking_earned_in_idr",
          "xref": "x",
          "y": "bathroom",
          "yref": "y"
         },
         {
          "font": {
           "color": "#FFFFFF"
          },
          "showarrow": false,
          "text": "0.03",
          "x": "length_of_stay",
          "xref": "x",
          "y": "bathroom",
          "yref": "y"
         },
         {
          "font": {
           "color": "#FFFFFF"
          },
          "showarrow": false,
          "text": "0.06",
          "x": "booking_window",
          "xref": "x",
          "y": "bathroom",
          "yref": "y"
         },
         {
          "font": {
           "color": "#FFFFFF"
          },
          "showarrow": false,
          "text": "-0.01",
          "x": "seasonality",
          "xref": "x",
          "y": "bathroom",
          "yref": "y"
         },
         {
          "font": {
           "color": "#FFFFFF"
          },
          "showarrow": false,
          "text": "0.44",
          "x": "average_daily_rate",
          "xref": "x",
          "y": "bathroom",
          "yref": "y"
         },
         {
          "font": {
           "color": "#FFFFFF"
          },
          "showarrow": false,
          "text": "-0.13",
          "x": "status",
          "xref": "x",
          "y": "bathroom",
          "yref": "y"
         },
         {
          "font": {
           "color": "#FFFFFF"
          },
          "showarrow": false,
          "text": "0.82",
          "x": "bedroom",
          "xref": "x",
          "y": "bathroom",
          "yref": "y"
         },
         {
          "font": {
           "color": "#FFFFFF"
          },
          "showarrow": false,
          "text": "1.0",
          "x": "bathroom",
          "xref": "x",
          "y": "bathroom",
          "yref": "y"
         },
         {
          "font": {
           "color": "#FFFFFF"
          },
          "showarrow": false,
          "text": "0.93",
          "x": "beds",
          "xref": "x",
          "y": "bathroom",
          "yref": "y"
         },
         {
          "font": {
           "color": "#FFFFFF"
          },
          "showarrow": false,
          "text": "0.68",
          "x": "capacity",
          "xref": "x",
          "y": "bathroom",
          "yref": "y"
         },
         {
          "font": {
           "color": "#FFFFFF"
          },
          "showarrow": false,
          "text": "0.56",
          "x": "avg_daily_rate_per_unit",
          "xref": "x",
          "y": "bathroom",
          "yref": "y"
         },
         {
          "font": {
           "color": "#FFFFFF"
          },
          "showarrow": false,
          "text": "-0.03",
          "x": "wifi",
          "xref": "x",
          "y": "bathroom",
          "yref": "y"
         },
         {
          "font": {
           "color": "#FFFFFF"
          },
          "showarrow": false,
          "text": "0.14",
          "x": "tv",
          "xref": "x",
          "y": "bathroom",
          "yref": "y"
         },
         {
          "font": {
           "color": "#FFFFFF"
          },
          "showarrow": false,
          "text": "0.12",
          "x": "cable_tv",
          "xref": "x",
          "y": "bathroom",
          "yref": "y"
         },
         {
          "font": {
           "color": "#FFFFFF"
          },
          "showarrow": false,
          "text": "-0.1",
          "x": "ac",
          "xref": "x",
          "y": "bathroom",
          "yref": "y"
         },
         {
          "font": {
           "color": "#FFFFFF"
          },
          "showarrow": false,
          "text": "0.04",
          "x": "workspace",
          "xref": "x",
          "y": "bathroom",
          "yref": "y"
         },
         {
          "font": {
           "color": "#FFFFFF"
          },
          "showarrow": false,
          "text": "0.05",
          "x": "pool",
          "xref": "x",
          "y": "bathroom",
          "yref": "y"
         },
         {
          "font": {
           "color": "#FFFFFF"
          },
          "showarrow": false,
          "text": "-0.02",
          "x": "parking",
          "xref": "x",
          "y": "bathroom",
          "yref": "y"
         },
         {
          "font": {
           "color": "#FFFFFF"
          },
          "showarrow": false,
          "text": "-0.05",
          "x": "gym",
          "xref": "x",
          "y": "bathroom",
          "yref": "y"
         },
         {
          "font": {
           "color": "#FFFFFF"
          },
          "showarrow": false,
          "text": "0.27",
          "x": "kitchen",
          "xref": "x",
          "y": "bathroom",
          "yref": "y"
         },
         {
          "font": {
           "color": "#FFFFFF"
          },
          "showarrow": false,
          "text": "-0.03",
          "x": "airport_pickup_price_idr",
          "xref": "x",
          "y": "bathroom",
          "yref": "y"
         },
         {
          "font": {
           "color": "#FFFFFF"
          },
          "showarrow": false,
          "text": "0.33",
          "x": "booking_guest_number",
          "xref": "x",
          "y": "beds",
          "yref": "y"
         },
         {
          "font": {
           "color": "#FFFFFF"
          },
          "showarrow": false,
          "text": "0.05",
          "x": "booking_currency",
          "xref": "x",
          "y": "beds",
          "yref": "y"
         },
         {
          "font": {
           "color": "#FFFFFF"
          },
          "showarrow": false,
          "text": "-0.02",
          "x": "review_sentiment_score",
          "xref": "x",
          "y": "beds",
          "yref": "y"
         },
         {
          "font": {
           "color": "#FFFFFF"
          },
          "showarrow": false,
          "text": "nan",
          "x": "cancellation_policy",
          "xref": "x",
          "y": "beds",
          "yref": "y"
         },
         {
          "font": {
           "color": "#FFFFFF"
          },
          "showarrow": false,
          "text": "0.28",
          "x": "booking_earned_in_idr",
          "xref": "x",
          "y": "beds",
          "yref": "y"
         },
         {
          "font": {
           "color": "#FFFFFF"
          },
          "showarrow": false,
          "text": "0.02",
          "x": "length_of_stay",
          "xref": "x",
          "y": "beds",
          "yref": "y"
         },
         {
          "font": {
           "color": "#FFFFFF"
          },
          "showarrow": false,
          "text": "0.07",
          "x": "booking_window",
          "xref": "x",
          "y": "beds",
          "yref": "y"
         },
         {
          "font": {
           "color": "#FFFFFF"
          },
          "showarrow": false,
          "text": "-0.0",
          "x": "seasonality",
          "xref": "x",
          "y": "beds",
          "yref": "y"
         },
         {
          "font": {
           "color": "#FFFFFF"
          },
          "showarrow": false,
          "text": "0.43",
          "x": "average_daily_rate",
          "xref": "x",
          "y": "beds",
          "yref": "y"
         },
         {
          "font": {
           "color": "#FFFFFF"
          },
          "showarrow": false,
          "text": "-0.11",
          "x": "status",
          "xref": "x",
          "y": "beds",
          "yref": "y"
         },
         {
          "font": {
           "color": "#FFFFFF"
          },
          "showarrow": false,
          "text": "0.88",
          "x": "bedroom",
          "xref": "x",
          "y": "beds",
          "yref": "y"
         },
         {
          "font": {
           "color": "#FFFFFF"
          },
          "showarrow": false,
          "text": "0.93",
          "x": "bathroom",
          "xref": "x",
          "y": "beds",
          "yref": "y"
         },
         {
          "font": {
           "color": "#FFFFFF"
          },
          "showarrow": false,
          "text": "1.0",
          "x": "beds",
          "xref": "x",
          "y": "beds",
          "yref": "y"
         },
         {
          "font": {
           "color": "#FFFFFF"
          },
          "showarrow": false,
          "text": "0.73",
          "x": "capacity",
          "xref": "x",
          "y": "beds",
          "yref": "y"
         },
         {
          "font": {
           "color": "#FFFFFF"
          },
          "showarrow": false,
          "text": "0.55",
          "x": "avg_daily_rate_per_unit",
          "xref": "x",
          "y": "beds",
          "yref": "y"
         },
         {
          "font": {
           "color": "#FFFFFF"
          },
          "showarrow": false,
          "text": "-0.09",
          "x": "wifi",
          "xref": "x",
          "y": "beds",
          "yref": "y"
         },
         {
          "font": {
           "color": "#FFFFFF"
          },
          "showarrow": false,
          "text": "0.11",
          "x": "tv",
          "xref": "x",
          "y": "beds",
          "yref": "y"
         },
         {
          "font": {
           "color": "#FFFFFF"
          },
          "showarrow": false,
          "text": "0.07",
          "x": "cable_tv",
          "xref": "x",
          "y": "beds",
          "yref": "y"
         },
         {
          "font": {
           "color": "#FFFFFF"
          },
          "showarrow": false,
          "text": "0.03",
          "x": "ac",
          "xref": "x",
          "y": "beds",
          "yref": "y"
         },
         {
          "font": {
           "color": "#FFFFFF"
          },
          "showarrow": false,
          "text": "0.05",
          "x": "workspace",
          "xref": "x",
          "y": "beds",
          "yref": "y"
         },
         {
          "font": {
           "color": "#FFFFFF"
          },
          "showarrow": false,
          "text": "0.02",
          "x": "pool",
          "xref": "x",
          "y": "beds",
          "yref": "y"
         },
         {
          "font": {
           "color": "#FFFFFF"
          },
          "showarrow": false,
          "text": "-0.03",
          "x": "parking",
          "xref": "x",
          "y": "beds",
          "yref": "y"
         },
         {
          "font": {
           "color": "#FFFFFF"
          },
          "showarrow": false,
          "text": "-0.05",
          "x": "gym",
          "xref": "x",
          "y": "beds",
          "yref": "y"
         },
         {
          "font": {
           "color": "#FFFFFF"
          },
          "showarrow": false,
          "text": "0.29",
          "x": "kitchen",
          "xref": "x",
          "y": "beds",
          "yref": "y"
         },
         {
          "font": {
           "color": "#FFFFFF"
          },
          "showarrow": false,
          "text": "-0.05",
          "x": "airport_pickup_price_idr",
          "xref": "x",
          "y": "beds",
          "yref": "y"
         },
         {
          "font": {
           "color": "#FFFFFF"
          },
          "showarrow": false,
          "text": "0.22",
          "x": "booking_guest_number",
          "xref": "x",
          "y": "capacity",
          "yref": "y"
         },
         {
          "font": {
           "color": "#FFFFFF"
          },
          "showarrow": false,
          "text": "0.27",
          "x": "booking_currency",
          "xref": "x",
          "y": "capacity",
          "yref": "y"
         },
         {
          "font": {
           "color": "#FFFFFF"
          },
          "showarrow": false,
          "text": "0.01",
          "x": "review_sentiment_score",
          "xref": "x",
          "y": "capacity",
          "yref": "y"
         },
         {
          "font": {
           "color": "#FFFFFF"
          },
          "showarrow": false,
          "text": "nan",
          "x": "cancellation_policy",
          "xref": "x",
          "y": "capacity",
          "yref": "y"
         },
         {
          "font": {
           "color": "#FFFFFF"
          },
          "showarrow": false,
          "text": "0.38",
          "x": "booking_earned_in_idr",
          "xref": "x",
          "y": "capacity",
          "yref": "y"
         },
         {
          "font": {
           "color": "#FFFFFF"
          },
          "showarrow": false,
          "text": "0.01",
          "x": "length_of_stay",
          "xref": "x",
          "y": "capacity",
          "yref": "y"
         },
         {
          "font": {
           "color": "#FFFFFF"
          },
          "showarrow": false,
          "text": "0.09",
          "x": "booking_window",
          "xref": "x",
          "y": "capacity",
          "yref": "y"
         },
         {
          "font": {
           "color": "#FFFFFF"
          },
          "showarrow": false,
          "text": "0.02",
          "x": "seasonality",
          "xref": "x",
          "y": "capacity",
          "yref": "y"
         },
         {
          "font": {
           "color": "#FFFFFF"
          },
          "showarrow": false,
          "text": "0.58",
          "x": "average_daily_rate",
          "xref": "x",
          "y": "capacity",
          "yref": "y"
         },
         {
          "font": {
           "color": "#FFFFFF"
          },
          "showarrow": false,
          "text": "-0.0",
          "x": "status",
          "xref": "x",
          "y": "capacity",
          "yref": "y"
         },
         {
          "font": {
           "color": "#FFFFFF"
          },
          "showarrow": false,
          "text": "0.73",
          "x": "bedroom",
          "xref": "x",
          "y": "capacity",
          "yref": "y"
         },
         {
          "font": {
           "color": "#FFFFFF"
          },
          "showarrow": false,
          "text": "0.68",
          "x": "bathroom",
          "xref": "x",
          "y": "capacity",
          "yref": "y"
         },
         {
          "font": {
           "color": "#FFFFFF"
          },
          "showarrow": false,
          "text": "0.73",
          "x": "beds",
          "xref": "x",
          "y": "capacity",
          "yref": "y"
         },
         {
          "font": {
           "color": "#FFFFFF"
          },
          "showarrow": false,
          "text": "1.0",
          "x": "capacity",
          "xref": "x",
          "y": "capacity",
          "yref": "y"
         },
         {
          "font": {
           "color": "#FFFFFF"
          },
          "showarrow": false,
          "text": "0.74",
          "x": "avg_daily_rate_per_unit",
          "xref": "x",
          "y": "capacity",
          "yref": "y"
         },
         {
          "font": {
           "color": "#FFFFFF"
          },
          "showarrow": false,
          "text": "-0.08",
          "x": "wifi",
          "xref": "x",
          "y": "capacity",
          "yref": "y"
         },
         {
          "font": {
           "color": "#FFFFFF"
          },
          "showarrow": false,
          "text": "0.06",
          "x": "tv",
          "xref": "x",
          "y": "capacity",
          "yref": "y"
         },
         {
          "font": {
           "color": "#FFFFFF"
          },
          "showarrow": false,
          "text": "0.13",
          "x": "cable_tv",
          "xref": "x",
          "y": "capacity",
          "yref": "y"
         },
         {
          "font": {
           "color": "#FFFFFF"
          },
          "showarrow": false,
          "text": "0.04",
          "x": "ac",
          "xref": "x",
          "y": "capacity",
          "yref": "y"
         },
         {
          "font": {
           "color": "#FFFFFF"
          },
          "showarrow": false,
          "text": "0.08",
          "x": "workspace",
          "xref": "x",
          "y": "capacity",
          "yref": "y"
         },
         {
          "font": {
           "color": "#FFFFFF"
          },
          "showarrow": false,
          "text": "0.04",
          "x": "pool",
          "xref": "x",
          "y": "capacity",
          "yref": "y"
         },
         {
          "font": {
           "color": "#FFFFFF"
          },
          "showarrow": false,
          "text": "-0.0",
          "x": "parking",
          "xref": "x",
          "y": "capacity",
          "yref": "y"
         },
         {
          "font": {
           "color": "#FFFFFF"
          },
          "showarrow": false,
          "text": "0.02",
          "x": "gym",
          "xref": "x",
          "y": "capacity",
          "yref": "y"
         },
         {
          "font": {
           "color": "#FFFFFF"
          },
          "showarrow": false,
          "text": "0.33",
          "x": "kitchen",
          "xref": "x",
          "y": "capacity",
          "yref": "y"
         },
         {
          "font": {
           "color": "#FFFFFF"
          },
          "showarrow": false,
          "text": "-0.03",
          "x": "airport_pickup_price_idr",
          "xref": "x",
          "y": "capacity",
          "yref": "y"
         },
         {
          "font": {
           "color": "#FFFFFF"
          },
          "showarrow": false,
          "text": "0.43",
          "x": "booking_guest_number",
          "xref": "x",
          "y": "avg_daily_rate_per_unit",
          "yref": "y"
         },
         {
          "font": {
           "color": "#FFFFFF"
          },
          "showarrow": false,
          "text": "0.42",
          "x": "booking_currency",
          "xref": "x",
          "y": "avg_daily_rate_per_unit",
          "yref": "y"
         },
         {
          "font": {
           "color": "#FFFFFF"
          },
          "showarrow": false,
          "text": "0.0",
          "x": "review_sentiment_score",
          "xref": "x",
          "y": "avg_daily_rate_per_unit",
          "yref": "y"
         },
         {
          "font": {
           "color": "#FFFFFF"
          },
          "showarrow": false,
          "text": "nan",
          "x": "cancellation_policy",
          "xref": "x",
          "y": "avg_daily_rate_per_unit",
          "yref": "y"
         },
         {
          "font": {
           "color": "#FFFFFF"
          },
          "showarrow": false,
          "text": "0.56",
          "x": "booking_earned_in_idr",
          "xref": "x",
          "y": "avg_daily_rate_per_unit",
          "yref": "y"
         },
         {
          "font": {
           "color": "#FFFFFF"
          },
          "showarrow": false,
          "text": "0.04",
          "x": "length_of_stay",
          "xref": "x",
          "y": "avg_daily_rate_per_unit",
          "yref": "y"
         },
         {
          "font": {
           "color": "#FFFFFF"
          },
          "showarrow": false,
          "text": "0.19",
          "x": "booking_window",
          "xref": "x",
          "y": "avg_daily_rate_per_unit",
          "yref": "y"
         },
         {
          "font": {
           "color": "#FFFFFF"
          },
          "showarrow": false,
          "text": "0.04",
          "x": "seasonality",
          "xref": "x",
          "y": "avg_daily_rate_per_unit",
          "yref": "y"
         },
         {
          "font": {
           "color": "#FFFFFF"
          },
          "showarrow": false,
          "text": "0.81",
          "x": "average_daily_rate",
          "xref": "x",
          "y": "avg_daily_rate_per_unit",
          "yref": "y"
         },
         {
          "font": {
           "color": "#FFFFFF"
          },
          "showarrow": false,
          "text": "0.0",
          "x": "status",
          "xref": "x",
          "y": "avg_daily_rate_per_unit",
          "yref": "y"
         },
         {
          "font": {
           "color": "#FFFFFF"
          },
          "showarrow": false,
          "text": "0.43",
          "x": "bedroom",
          "xref": "x",
          "y": "avg_daily_rate_per_unit",
          "yref": "y"
         },
         {
          "font": {
           "color": "#FFFFFF"
          },
          "showarrow": false,
          "text": "0.56",
          "x": "bathroom",
          "xref": "x",
          "y": "avg_daily_rate_per_unit",
          "yref": "y"
         },
         {
          "font": {
           "color": "#FFFFFF"
          },
          "showarrow": false,
          "text": "0.55",
          "x": "beds",
          "xref": "x",
          "y": "avg_daily_rate_per_unit",
          "yref": "y"
         },
         {
          "font": {
           "color": "#FFFFFF"
          },
          "showarrow": false,
          "text": "0.74",
          "x": "capacity",
          "xref": "x",
          "y": "avg_daily_rate_per_unit",
          "yref": "y"
         },
         {
          "font": {
           "color": "#FFFFFF"
          },
          "showarrow": false,
          "text": "1.0",
          "x": "avg_daily_rate_per_unit",
          "xref": "x",
          "y": "avg_daily_rate_per_unit",
          "yref": "y"
         },
         {
          "font": {
           "color": "#FFFFFF"
          },
          "showarrow": false,
          "text": "0.01",
          "x": "wifi",
          "xref": "x",
          "y": "avg_daily_rate_per_unit",
          "yref": "y"
         },
         {
          "font": {
           "color": "#FFFFFF"
          },
          "showarrow": false,
          "text": "0.1",
          "x": "tv",
          "xref": "x",
          "y": "avg_daily_rate_per_unit",
          "yref": "y"
         },
         {
          "font": {
           "color": "#FFFFFF"
          },
          "showarrow": false,
          "text": "0.15",
          "x": "cable_tv",
          "xref": "x",
          "y": "avg_daily_rate_per_unit",
          "yref": "y"
         },
         {
          "font": {
           "color": "#FFFFFF"
          },
          "showarrow": false,
          "text": "0.03",
          "x": "ac",
          "xref": "x",
          "y": "avg_daily_rate_per_unit",
          "yref": "y"
         },
         {
          "font": {
           "color": "#FFFFFF"
          },
          "showarrow": false,
          "text": "0.07",
          "x": "workspace",
          "xref": "x",
          "y": "avg_daily_rate_per_unit",
          "yref": "y"
         },
         {
          "font": {
           "color": "#FFFFFF"
          },
          "showarrow": false,
          "text": "0.14",
          "x": "pool",
          "xref": "x",
          "y": "avg_daily_rate_per_unit",
          "yref": "y"
         },
         {
          "font": {
           "color": "#FFFFFF"
          },
          "showarrow": false,
          "text": "-0.07",
          "x": "parking",
          "xref": "x",
          "y": "avg_daily_rate_per_unit",
          "yref": "y"
         },
         {
          "font": {
           "color": "#FFFFFF"
          },
          "showarrow": false,
          "text": "-0.03",
          "x": "gym",
          "xref": "x",
          "y": "avg_daily_rate_per_unit",
          "yref": "y"
         },
         {
          "font": {
           "color": "#FFFFFF"
          },
          "showarrow": false,
          "text": "0.31",
          "x": "kitchen",
          "xref": "x",
          "y": "avg_daily_rate_per_unit",
          "yref": "y"
         },
         {
          "font": {
           "color": "#FFFFFF"
          },
          "showarrow": false,
          "text": "0.04",
          "x": "airport_pickup_price_idr",
          "xref": "x",
          "y": "avg_daily_rate_per_unit",
          "yref": "y"
         },
         {
          "font": {
           "color": "#FFFFFF"
          },
          "showarrow": false,
          "text": "-0.01",
          "x": "booking_guest_number",
          "xref": "x",
          "y": "wifi",
          "yref": "y"
         },
         {
          "font": {
           "color": "#FFFFFF"
          },
          "showarrow": false,
          "text": "0.04",
          "x": "booking_currency",
          "xref": "x",
          "y": "wifi",
          "yref": "y"
         },
         {
          "font": {
           "color": "#FFFFFF"
          },
          "showarrow": false,
          "text": "0.03",
          "x": "review_sentiment_score",
          "xref": "x",
          "y": "wifi",
          "yref": "y"
         },
         {
          "font": {
           "color": "#FFFFFF"
          },
          "showarrow": false,
          "text": "nan",
          "x": "cancellation_policy",
          "xref": "x",
          "y": "wifi",
          "yref": "y"
         },
         {
          "font": {
           "color": "#FFFFFF"
          },
          "showarrow": false,
          "text": "0.0",
          "x": "booking_earned_in_idr",
          "xref": "x",
          "y": "wifi",
          "yref": "y"
         },
         {
          "font": {
           "color": "#FFFFFF"
          },
          "showarrow": false,
          "text": "-0.01",
          "x": "length_of_stay",
          "xref": "x",
          "y": "wifi",
          "yref": "y"
         },
         {
          "font": {
           "color": "#FFFFFF"
          },
          "showarrow": false,
          "text": "0.03",
          "x": "booking_window",
          "xref": "x",
          "y": "wifi",
          "yref": "y"
         },
         {
          "font": {
           "color": "#FFFFFF"
          },
          "showarrow": false,
          "text": "-0.0",
          "x": "seasonality",
          "xref": "x",
          "y": "wifi",
          "yref": "y"
         },
         {
          "font": {
           "color": "#FFFFFF"
          },
          "showarrow": false,
          "text": "0.0",
          "x": "average_daily_rate",
          "xref": "x",
          "y": "wifi",
          "yref": "y"
         },
         {
          "font": {
           "color": "#FFFFFF"
          },
          "showarrow": false,
          "text": "-0.08",
          "x": "status",
          "xref": "x",
          "y": "wifi",
          "yref": "y"
         },
         {
          "font": {
           "color": "#FFFFFF"
          },
          "showarrow": false,
          "text": "-0.08",
          "x": "bedroom",
          "xref": "x",
          "y": "wifi",
          "yref": "y"
         },
         {
          "font": {
           "color": "#FFFFFF"
          },
          "showarrow": false,
          "text": "-0.03",
          "x": "bathroom",
          "xref": "x",
          "y": "wifi",
          "yref": "y"
         },
         {
          "font": {
           "color": "#FFFFFF"
          },
          "showarrow": false,
          "text": "-0.09",
          "x": "beds",
          "xref": "x",
          "y": "wifi",
          "yref": "y"
         },
         {
          "font": {
           "color": "#FFFFFF"
          },
          "showarrow": false,
          "text": "-0.08",
          "x": "capacity",
          "xref": "x",
          "y": "wifi",
          "yref": "y"
         },
         {
          "font": {
           "color": "#FFFFFF"
          },
          "showarrow": false,
          "text": "0.01",
          "x": "avg_daily_rate_per_unit",
          "xref": "x",
          "y": "wifi",
          "yref": "y"
         },
         {
          "font": {
           "color": "#FFFFFF"
          },
          "showarrow": false,
          "text": "1.0",
          "x": "wifi",
          "xref": "x",
          "y": "wifi",
          "yref": "y"
         },
         {
          "font": {
           "color": "#FFFFFF"
          },
          "showarrow": false,
          "text": "-0.09",
          "x": "tv",
          "xref": "x",
          "y": "wifi",
          "yref": "y"
         },
         {
          "font": {
           "color": "#FFFFFF"
          },
          "showarrow": false,
          "text": "0.05",
          "x": "cable_tv",
          "xref": "x",
          "y": "wifi",
          "yref": "y"
         },
         {
          "font": {
           "color": "#FFFFFF"
          },
          "showarrow": false,
          "text": "-0.01",
          "x": "ac",
          "xref": "x",
          "y": "wifi",
          "yref": "y"
         },
         {
          "font": {
           "color": "#FFFFFF"
          },
          "showarrow": false,
          "text": "-0.03",
          "x": "workspace",
          "xref": "x",
          "y": "wifi",
          "yref": "y"
         },
         {
          "font": {
           "color": "#FFFFFF"
          },
          "showarrow": false,
          "text": "0.11",
          "x": "pool",
          "xref": "x",
          "y": "wifi",
          "yref": "y"
         },
         {
          "font": {
           "color": "#FFFFFF"
          },
          "showarrow": false,
          "text": "0.15",
          "x": "parking",
          "xref": "x",
          "y": "wifi",
          "yref": "y"
         },
         {
          "font": {
           "color": "#FFFFFF"
          },
          "showarrow": false,
          "text": "-0.02",
          "x": "gym",
          "xref": "x",
          "y": "wifi",
          "yref": "y"
         },
         {
          "font": {
           "color": "#FFFFFF"
          },
          "showarrow": false,
          "text": "-0.08",
          "x": "kitchen",
          "xref": "x",
          "y": "wifi",
          "yref": "y"
         },
         {
          "font": {
           "color": "#FFFFFF"
          },
          "showarrow": false,
          "text": "0.17",
          "x": "airport_pickup_price_idr",
          "xref": "x",
          "y": "wifi",
          "yref": "y"
         },
         {
          "font": {
           "color": "#FFFFFF"
          },
          "showarrow": false,
          "text": "0.15",
          "x": "booking_guest_number",
          "xref": "x",
          "y": "tv",
          "yref": "y"
         },
         {
          "font": {
           "color": "#FFFFFF"
          },
          "showarrow": false,
          "text": "-0.07",
          "x": "booking_currency",
          "xref": "x",
          "y": "tv",
          "yref": "y"
         },
         {
          "font": {
           "color": "#FFFFFF"
          },
          "showarrow": false,
          "text": "-0.01",
          "x": "review_sentiment_score",
          "xref": "x",
          "y": "tv",
          "yref": "y"
         },
         {
          "font": {
           "color": "#FFFFFF"
          },
          "showarrow": false,
          "text": "nan",
          "x": "cancellation_policy",
          "xref": "x",
          "y": "tv",
          "yref": "y"
         },
         {
          "font": {
           "color": "#FFFFFF"
          },
          "showarrow": false,
          "text": "0.07",
          "x": "booking_earned_in_idr",
          "xref": "x",
          "y": "tv",
          "yref": "y"
         },
         {
          "font": {
           "color": "#FFFFFF"
          },
          "showarrow": false,
          "text": "0.03",
          "x": "length_of_stay",
          "xref": "x",
          "y": "tv",
          "yref": "y"
         },
         {
          "font": {
           "color": "#FFFFFF"
          },
          "showarrow": false,
          "text": "0.1",
          "x": "booking_window",
          "xref": "x",
          "y": "tv",
          "yref": "y"
         },
         {
          "font": {
           "color": "#FFFFFF"
          },
          "showarrow": false,
          "text": "0.03",
          "x": "seasonality",
          "xref": "x",
          "y": "tv",
          "yref": "y"
         },
         {
          "font": {
           "color": "#FFFFFF"
          },
          "showarrow": false,
          "text": "0.08",
          "x": "average_daily_rate",
          "xref": "x",
          "y": "tv",
          "yref": "y"
         },
         {
          "font": {
           "color": "#FFFFFF"
          },
          "showarrow": false,
          "text": "-0.11",
          "x": "status",
          "xref": "x",
          "y": "tv",
          "yref": "y"
         },
         {
          "font": {
           "color": "#FFFFFF"
          },
          "showarrow": false,
          "text": "0.14",
          "x": "bedroom",
          "xref": "x",
          "y": "tv",
          "yref": "y"
         },
         {
          "font": {
           "color": "#FFFFFF"
          },
          "showarrow": false,
          "text": "0.14",
          "x": "bathroom",
          "xref": "x",
          "y": "tv",
          "yref": "y"
         },
         {
          "font": {
           "color": "#FFFFFF"
          },
          "showarrow": false,
          "text": "0.11",
          "x": "beds",
          "xref": "x",
          "y": "tv",
          "yref": "y"
         },
         {
          "font": {
           "color": "#FFFFFF"
          },
          "showarrow": false,
          "text": "0.06",
          "x": "capacity",
          "xref": "x",
          "y": "tv",
          "yref": "y"
         },
         {
          "font": {
           "color": "#FFFFFF"
          },
          "showarrow": false,
          "text": "0.1",
          "x": "avg_daily_rate_per_unit",
          "xref": "x",
          "y": "tv",
          "yref": "y"
         },
         {
          "font": {
           "color": "#FFFFFF"
          },
          "showarrow": false,
          "text": "-0.09",
          "x": "wifi",
          "xref": "x",
          "y": "tv",
          "yref": "y"
         },
         {
          "font": {
           "color": "#FFFFFF"
          },
          "showarrow": false,
          "text": "1.0",
          "x": "tv",
          "xref": "x",
          "y": "tv",
          "yref": "y"
         },
         {
          "font": {
           "color": "#FFFFFF"
          },
          "showarrow": false,
          "text": "0.45",
          "x": "cable_tv",
          "xref": "x",
          "y": "tv",
          "yref": "y"
         },
         {
          "font": {
           "color": "#FFFFFF"
          },
          "showarrow": false,
          "text": "0.09",
          "x": "ac",
          "xref": "x",
          "y": "tv",
          "yref": "y"
         },
         {
          "font": {
           "color": "#FFFFFF"
          },
          "showarrow": false,
          "text": "0.05",
          "x": "workspace",
          "xref": "x",
          "y": "tv",
          "yref": "y"
         },
         {
          "font": {
           "color": "#FFFFFF"
          },
          "showarrow": false,
          "text": "0.14",
          "x": "pool",
          "xref": "x",
          "y": "tv",
          "yref": "y"
         },
         {
          "font": {
           "color": "#FFFFFF"
          },
          "showarrow": false,
          "text": "0.07",
          "x": "parking",
          "xref": "x",
          "y": "tv",
          "yref": "y"
         },
         {
          "font": {
           "color": "#FFFFFF"
          },
          "showarrow": false,
          "text": "0.07",
          "x": "gym",
          "xref": "x",
          "y": "tv",
          "yref": "y"
         },
         {
          "font": {
           "color": "#FFFFFF"
          },
          "showarrow": false,
          "text": "0.17",
          "x": "kitchen",
          "xref": "x",
          "y": "tv",
          "yref": "y"
         },
         {
          "font": {
           "color": "#FFFFFF"
          },
          "showarrow": false,
          "text": "-0.15",
          "x": "airport_pickup_price_idr",
          "xref": "x",
          "y": "tv",
          "yref": "y"
         },
         {
          "font": {
           "color": "#FFFFFF"
          },
          "showarrow": false,
          "text": "0.01",
          "x": "booking_guest_number",
          "xref": "x",
          "y": "cable_tv",
          "yref": "y"
         },
         {
          "font": {
           "color": "#FFFFFF"
          },
          "showarrow": false,
          "text": "0.03",
          "x": "booking_currency",
          "xref": "x",
          "y": "cable_tv",
          "yref": "y"
         },
         {
          "font": {
           "color": "#FFFFFF"
          },
          "showarrow": false,
          "text": "-0.02",
          "x": "review_sentiment_score",
          "xref": "x",
          "y": "cable_tv",
          "yref": "y"
         },
         {
          "font": {
           "color": "#FFFFFF"
          },
          "showarrow": false,
          "text": "nan",
          "x": "cancellation_policy",
          "xref": "x",
          "y": "cable_tv",
          "yref": "y"
         },
         {
          "font": {
           "color": "#FFFFFF"
          },
          "showarrow": false,
          "text": "0.08",
          "x": "booking_earned_in_idr",
          "xref": "x",
          "y": "cable_tv",
          "yref": "y"
         },
         {
          "font": {
           "color": "#FFFFFF"
          },
          "showarrow": false,
          "text": "0.01",
          "x": "length_of_stay",
          "xref": "x",
          "y": "cable_tv",
          "yref": "y"
         },
         {
          "font": {
           "color": "#FFFFFF"
          },
          "showarrow": false,
          "text": "0.02",
          "x": "booking_window",
          "xref": "x",
          "y": "cable_tv",
          "yref": "y"
         },
         {
          "font": {
           "color": "#FFFFFF"
          },
          "showarrow": false,
          "text": "0.04",
          "x": "seasonality",
          "xref": "x",
          "y": "cable_tv",
          "yref": "y"
         },
         {
          "font": {
           "color": "#FFFFFF"
          },
          "showarrow": false,
          "text": "0.12",
          "x": "average_daily_rate",
          "xref": "x",
          "y": "cable_tv",
          "yref": "y"
         },
         {
          "font": {
           "color": "#FFFFFF"
          },
          "showarrow": false,
          "text": "-0.04",
          "x": "status",
          "xref": "x",
          "y": "cable_tv",
          "yref": "y"
         },
         {
          "font": {
           "color": "#FFFFFF"
          },
          "showarrow": false,
          "text": "0.11",
          "x": "bedroom",
          "xref": "x",
          "y": "cable_tv",
          "yref": "y"
         },
         {
          "font": {
           "color": "#FFFFFF"
          },
          "showarrow": false,
          "text": "0.12",
          "x": "bathroom",
          "xref": "x",
          "y": "cable_tv",
          "yref": "y"
         },
         {
          "font": {
           "color": "#FFFFFF"
          },
          "showarrow": false,
          "text": "0.07",
          "x": "beds",
          "xref": "x",
          "y": "cable_tv",
          "yref": "y"
         },
         {
          "font": {
           "color": "#FFFFFF"
          },
          "showarrow": false,
          "text": "0.13",
          "x": "capacity",
          "xref": "x",
          "y": "cable_tv",
          "yref": "y"
         },
         {
          "font": {
           "color": "#FFFFFF"
          },
          "showarrow": false,
          "text": "0.15",
          "x": "avg_daily_rate_per_unit",
          "xref": "x",
          "y": "cable_tv",
          "yref": "y"
         },
         {
          "font": {
           "color": "#FFFFFF"
          },
          "showarrow": false,
          "text": "0.05",
          "x": "wifi",
          "xref": "x",
          "y": "cable_tv",
          "yref": "y"
         },
         {
          "font": {
           "color": "#FFFFFF"
          },
          "showarrow": false,
          "text": "0.45",
          "x": "tv",
          "xref": "x",
          "y": "cable_tv",
          "yref": "y"
         },
         {
          "font": {
           "color": "#FFFFFF"
          },
          "showarrow": false,
          "text": "1.0",
          "x": "cable_tv",
          "xref": "x",
          "y": "cable_tv",
          "yref": "y"
         },
         {
          "font": {
           "color": "#FFFFFF"
          },
          "showarrow": false,
          "text": "0.05",
          "x": "ac",
          "xref": "x",
          "y": "cable_tv",
          "yref": "y"
         },
         {
          "font": {
           "color": "#FFFFFF"
          },
          "showarrow": false,
          "text": "0.14",
          "x": "workspace",
          "xref": "x",
          "y": "cable_tv",
          "yref": "y"
         },
         {
          "font": {
           "color": "#FFFFFF"
          },
          "showarrow": false,
          "text": "0.22",
          "x": "pool",
          "xref": "x",
          "y": "cable_tv",
          "yref": "y"
         },
         {
          "font": {
           "color": "#FFFFFF"
          },
          "showarrow": false,
          "text": "0.1",
          "x": "parking",
          "xref": "x",
          "y": "cable_tv",
          "yref": "y"
         },
         {
          "font": {
           "color": "#FFFFFF"
          },
          "showarrow": false,
          "text": "0.09",
          "x": "gym",
          "xref": "x",
          "y": "cable_tv",
          "yref": "y"
         },
         {
          "font": {
           "color": "#FFFFFF"
          },
          "showarrow": false,
          "text": "-0.05",
          "x": "kitchen",
          "xref": "x",
          "y": "cable_tv",
          "yref": "y"
         },
         {
          "font": {
           "color": "#FFFFFF"
          },
          "showarrow": false,
          "text": "-0.04",
          "x": "airport_pickup_price_idr",
          "xref": "x",
          "y": "cable_tv",
          "yref": "y"
         },
         {
          "font": {
           "color": "#FFFFFF"
          },
          "showarrow": false,
          "text": "0.03",
          "x": "booking_guest_number",
          "xref": "x",
          "y": "ac",
          "yref": "y"
         },
         {
          "font": {
           "color": "#FFFFFF"
          },
          "showarrow": false,
          "text": "-0.17",
          "x": "booking_currency",
          "xref": "x",
          "y": "ac",
          "yref": "y"
         },
         {
          "font": {
           "color": "#FFFFFF"
          },
          "showarrow": false,
          "text": "0.04",
          "x": "review_sentiment_score",
          "xref": "x",
          "y": "ac",
          "yref": "y"
         },
         {
          "font": {
           "color": "#FFFFFF"
          },
          "showarrow": false,
          "text": "nan",
          "x": "cancellation_policy",
          "xref": "x",
          "y": "ac",
          "yref": "y"
         },
         {
          "font": {
           "color": "#FFFFFF"
          },
          "showarrow": false,
          "text": "0.02",
          "x": "booking_earned_in_idr",
          "xref": "x",
          "y": "ac",
          "yref": "y"
         },
         {
          "font": {
           "color": "#FFFFFF"
          },
          "showarrow": false,
          "text": "-0.0",
          "x": "length_of_stay",
          "xref": "x",
          "y": "ac",
          "yref": "y"
         },
         {
          "font": {
           "color": "#FFFFFF"
          },
          "showarrow": false,
          "text": "0.02",
          "x": "booking_window",
          "xref": "x",
          "y": "ac",
          "yref": "y"
         },
         {
          "font": {
           "color": "#FFFFFF"
          },
          "showarrow": false,
          "text": "0.04",
          "x": "seasonality",
          "xref": "x",
          "y": "ac",
          "yref": "y"
         },
         {
          "font": {
           "color": "#FFFFFF"
          },
          "showarrow": false,
          "text": "0.02",
          "x": "average_daily_rate",
          "xref": "x",
          "y": "ac",
          "yref": "y"
         },
         {
          "font": {
           "color": "#FFFFFF"
          },
          "showarrow": false,
          "text": "0.12",
          "x": "status",
          "xref": "x",
          "y": "ac",
          "yref": "y"
         },
         {
          "font": {
           "color": "#FFFFFF"
          },
          "showarrow": false,
          "text": "0.03",
          "x": "bedroom",
          "xref": "x",
          "y": "ac",
          "yref": "y"
         },
         {
          "font": {
           "color": "#FFFFFF"
          },
          "showarrow": false,
          "text": "-0.1",
          "x": "bathroom",
          "xref": "x",
          "y": "ac",
          "yref": "y"
         },
         {
          "font": {
           "color": "#FFFFFF"
          },
          "showarrow": false,
          "text": "0.03",
          "x": "beds",
          "xref": "x",
          "y": "ac",
          "yref": "y"
         },
         {
          "font": {
           "color": "#FFFFFF"
          },
          "showarrow": false,
          "text": "0.04",
          "x": "capacity",
          "xref": "x",
          "y": "ac",
          "yref": "y"
         },
         {
          "font": {
           "color": "#FFFFFF"
          },
          "showarrow": false,
          "text": "0.03",
          "x": "avg_daily_rate_per_unit",
          "xref": "x",
          "y": "ac",
          "yref": "y"
         },
         {
          "font": {
           "color": "#FFFFFF"
          },
          "showarrow": false,
          "text": "-0.01",
          "x": "wifi",
          "xref": "x",
          "y": "ac",
          "yref": "y"
         },
         {
          "font": {
           "color": "#FFFFFF"
          },
          "showarrow": false,
          "text": "0.09",
          "x": "tv",
          "xref": "x",
          "y": "ac",
          "yref": "y"
         },
         {
          "font": {
           "color": "#FFFFFF"
          },
          "showarrow": false,
          "text": "0.05",
          "x": "cable_tv",
          "xref": "x",
          "y": "ac",
          "yref": "y"
         },
         {
          "font": {
           "color": "#FFFFFF"
          },
          "showarrow": false,
          "text": "1.0",
          "x": "ac",
          "xref": "x",
          "y": "ac",
          "yref": "y"
         },
         {
          "font": {
           "color": "#FFFFFF"
          },
          "showarrow": false,
          "text": "-0.02",
          "x": "workspace",
          "xref": "x",
          "y": "ac",
          "yref": "y"
         },
         {
          "font": {
           "color": "#FFFFFF"
          },
          "showarrow": false,
          "text": "0.2",
          "x": "pool",
          "xref": "x",
          "y": "ac",
          "yref": "y"
         },
         {
          "font": {
           "color": "#FFFFFF"
          },
          "showarrow": false,
          "text": "0.35",
          "x": "parking",
          "xref": "x",
          "y": "ac",
          "yref": "y"
         },
         {
          "font": {
           "color": "#FFFFFF"
          },
          "showarrow": false,
          "text": "0.01",
          "x": "gym",
          "xref": "x",
          "y": "ac",
          "yref": "y"
         },
         {
          "font": {
           "color": "#FFFFFF"
          },
          "showarrow": false,
          "text": "0.06",
          "x": "kitchen",
          "xref": "x",
          "y": "ac",
          "yref": "y"
         },
         {
          "font": {
           "color": "#FFFFFF"
          },
          "showarrow": false,
          "text": "-0.07",
          "x": "airport_pickup_price_idr",
          "xref": "x",
          "y": "ac",
          "yref": "y"
         },
         {
          "font": {
           "color": "#FFFFFF"
          },
          "showarrow": false,
          "text": "0.04",
          "x": "booking_guest_number",
          "xref": "x",
          "y": "workspace",
          "yref": "y"
         },
         {
          "font": {
           "color": "#FFFFFF"
          },
          "showarrow": false,
          "text": "0.02",
          "x": "booking_currency",
          "xref": "x",
          "y": "workspace",
          "yref": "y"
         },
         {
          "font": {
           "color": "#FFFFFF"
          },
          "showarrow": false,
          "text": "-0.01",
          "x": "review_sentiment_score",
          "xref": "x",
          "y": "workspace",
          "yref": "y"
         },
         {
          "font": {
           "color": "#FFFFFF"
          },
          "showarrow": false,
          "text": "nan",
          "x": "cancellation_policy",
          "xref": "x",
          "y": "workspace",
          "yref": "y"
         },
         {
          "font": {
           "color": "#FFFFFF"
          },
          "showarrow": false,
          "text": "0.05",
          "x": "booking_earned_in_idr",
          "xref": "x",
          "y": "workspace",
          "yref": "y"
         },
         {
          "font": {
           "color": "#FFFFFF"
          },
          "showarrow": false,
          "text": "0.03",
          "x": "length_of_stay",
          "xref": "x",
          "y": "workspace",
          "yref": "y"
         },
         {
          "font": {
           "color": "#FFFFFF"
          },
          "showarrow": false,
          "text": "0.02",
          "x": "booking_window",
          "xref": "x",
          "y": "workspace",
          "yref": "y"
         },
         {
          "font": {
           "color": "#FFFFFF"
          },
          "showarrow": false,
          "text": "0.05",
          "x": "seasonality",
          "xref": "x",
          "y": "workspace",
          "yref": "y"
         },
         {
          "font": {
           "color": "#FFFFFF"
          },
          "showarrow": false,
          "text": "0.05",
          "x": "average_daily_rate",
          "xref": "x",
          "y": "workspace",
          "yref": "y"
         },
         {
          "font": {
           "color": "#FFFFFF"
          },
          "showarrow": false,
          "text": "0.03",
          "x": "status",
          "xref": "x",
          "y": "workspace",
          "yref": "y"
         },
         {
          "font": {
           "color": "#FFFFFF"
          },
          "showarrow": false,
          "text": "0.06",
          "x": "bedroom",
          "xref": "x",
          "y": "workspace",
          "yref": "y"
         },
         {
          "font": {
           "color": "#FFFFFF"
          },
          "showarrow": false,
          "text": "0.04",
          "x": "bathroom",
          "xref": "x",
          "y": "workspace",
          "yref": "y"
         },
         {
          "font": {
           "color": "#FFFFFF"
          },
          "showarrow": false,
          "text": "0.05",
          "x": "beds",
          "xref": "x",
          "y": "workspace",
          "yref": "y"
         },
         {
          "font": {
           "color": "#FFFFFF"
          },
          "showarrow": false,
          "text": "0.08",
          "x": "capacity",
          "xref": "x",
          "y": "workspace",
          "yref": "y"
         },
         {
          "font": {
           "color": "#FFFFFF"
          },
          "showarrow": false,
          "text": "0.07",
          "x": "avg_daily_rate_per_unit",
          "xref": "x",
          "y": "workspace",
          "yref": "y"
         },
         {
          "font": {
           "color": "#FFFFFF"
          },
          "showarrow": false,
          "text": "-0.03",
          "x": "wifi",
          "xref": "x",
          "y": "workspace",
          "yref": "y"
         },
         {
          "font": {
           "color": "#FFFFFF"
          },
          "showarrow": false,
          "text": "0.05",
          "x": "tv",
          "xref": "x",
          "y": "workspace",
          "yref": "y"
         },
         {
          "font": {
           "color": "#FFFFFF"
          },
          "showarrow": false,
          "text": "0.14",
          "x": "cable_tv",
          "xref": "x",
          "y": "workspace",
          "yref": "y"
         },
         {
          "font": {
           "color": "#FFFFFF"
          },
          "showarrow": false,
          "text": "-0.02",
          "x": "ac",
          "xref": "x",
          "y": "workspace",
          "yref": "y"
         },
         {
          "font": {
           "color": "#FFFFFF"
          },
          "showarrow": false,
          "text": "1.0",
          "x": "workspace",
          "xref": "x",
          "y": "workspace",
          "yref": "y"
         },
         {
          "font": {
           "color": "#FFFFFF"
          },
          "showarrow": false,
          "text": "0.2",
          "x": "pool",
          "xref": "x",
          "y": "workspace",
          "yref": "y"
         },
         {
          "font": {
           "color": "#FFFFFF"
          },
          "showarrow": false,
          "text": "0.13",
          "x": "parking",
          "xref": "x",
          "y": "workspace",
          "yref": "y"
         },
         {
          "font": {
           "color": "#FFFFFF"
          },
          "showarrow": false,
          "text": "-0.07",
          "x": "gym",
          "xref": "x",
          "y": "workspace",
          "yref": "y"
         },
         {
          "font": {
           "color": "#FFFFFF"
          },
          "showarrow": false,
          "text": "0.11",
          "x": "kitchen",
          "xref": "x",
          "y": "workspace",
          "yref": "y"
         },
         {
          "font": {
           "color": "#FFFFFF"
          },
          "showarrow": false,
          "text": "-0.08",
          "x": "airport_pickup_price_idr",
          "xref": "x",
          "y": "workspace",
          "yref": "y"
         },
         {
          "font": {
           "color": "#FFFFFF"
          },
          "showarrow": false,
          "text": "0.04",
          "x": "booking_guest_number",
          "xref": "x",
          "y": "pool",
          "yref": "y"
         },
         {
          "font": {
           "color": "#FFFFFF"
          },
          "showarrow": false,
          "text": "0.04",
          "x": "booking_currency",
          "xref": "x",
          "y": "pool",
          "yref": "y"
         },
         {
          "font": {
           "color": "#FFFFFF"
          },
          "showarrow": false,
          "text": "0.03",
          "x": "review_sentiment_score",
          "xref": "x",
          "y": "pool",
          "yref": "y"
         },
         {
          "font": {
           "color": "#FFFFFF"
          },
          "showarrow": false,
          "text": "nan",
          "x": "cancellation_policy",
          "xref": "x",
          "y": "pool",
          "yref": "y"
         },
         {
          "font": {
           "color": "#FFFFFF"
          },
          "showarrow": false,
          "text": "0.1",
          "x": "booking_earned_in_idr",
          "xref": "x",
          "y": "pool",
          "yref": "y"
         },
         {
          "font": {
           "color": "#FFFFFF"
          },
          "showarrow": false,
          "text": "0.05",
          "x": "length_of_stay",
          "xref": "x",
          "y": "pool",
          "yref": "y"
         },
         {
          "font": {
           "color": "#FFFFFF"
          },
          "showarrow": false,
          "text": "0.09",
          "x": "booking_window",
          "xref": "x",
          "y": "pool",
          "yref": "y"
         },
         {
          "font": {
           "color": "#FFFFFF"
          },
          "showarrow": false,
          "text": "0.04",
          "x": "seasonality",
          "xref": "x",
          "y": "pool",
          "yref": "y"
         },
         {
          "font": {
           "color": "#FFFFFF"
          },
          "showarrow": false,
          "text": "0.11",
          "x": "average_daily_rate",
          "xref": "x",
          "y": "pool",
          "yref": "y"
         },
         {
          "font": {
           "color": "#FFFFFF"
          },
          "showarrow": false,
          "text": "0.15",
          "x": "status",
          "xref": "x",
          "y": "pool",
          "yref": "y"
         },
         {
          "font": {
           "color": "#FFFFFF"
          },
          "showarrow": false,
          "text": "0.02",
          "x": "bedroom",
          "xref": "x",
          "y": "pool",
          "yref": "y"
         },
         {
          "font": {
           "color": "#FFFFFF"
          },
          "showarrow": false,
          "text": "0.05",
          "x": "bathroom",
          "xref": "x",
          "y": "pool",
          "yref": "y"
         },
         {
          "font": {
           "color": "#FFFFFF"
          },
          "showarrow": false,
          "text": "0.02",
          "x": "beds",
          "xref": "x",
          "y": "pool",
          "yref": "y"
         },
         {
          "font": {
           "color": "#FFFFFF"
          },
          "showarrow": false,
          "text": "0.04",
          "x": "capacity",
          "xref": "x",
          "y": "pool",
          "yref": "y"
         },
         {
          "font": {
           "color": "#FFFFFF"
          },
          "showarrow": false,
          "text": "0.14",
          "x": "avg_daily_rate_per_unit",
          "xref": "x",
          "y": "pool",
          "yref": "y"
         },
         {
          "font": {
           "color": "#FFFFFF"
          },
          "showarrow": false,
          "text": "0.11",
          "x": "wifi",
          "xref": "x",
          "y": "pool",
          "yref": "y"
         },
         {
          "font": {
           "color": "#FFFFFF"
          },
          "showarrow": false,
          "text": "0.14",
          "x": "tv",
          "xref": "x",
          "y": "pool",
          "yref": "y"
         },
         {
          "font": {
           "color": "#FFFFFF"
          },
          "showarrow": false,
          "text": "0.22",
          "x": "cable_tv",
          "xref": "x",
          "y": "pool",
          "yref": "y"
         },
         {
          "font": {
           "color": "#FFFFFF"
          },
          "showarrow": false,
          "text": "0.2",
          "x": "ac",
          "xref": "x",
          "y": "pool",
          "yref": "y"
         },
         {
          "font": {
           "color": "#FFFFFF"
          },
          "showarrow": false,
          "text": "0.2",
          "x": "workspace",
          "xref": "x",
          "y": "pool",
          "yref": "y"
         },
         {
          "font": {
           "color": "#FFFFFF"
          },
          "showarrow": false,
          "text": "1.0",
          "x": "pool",
          "xref": "x",
          "y": "pool",
          "yref": "y"
         },
         {
          "font": {
           "color": "#FFFFFF"
          },
          "showarrow": false,
          "text": "0.27",
          "x": "parking",
          "xref": "x",
          "y": "pool",
          "yref": "y"
         },
         {
          "font": {
           "color": "#FFFFFF"
          },
          "showarrow": false,
          "text": "0.04",
          "x": "gym",
          "xref": "x",
          "y": "pool",
          "yref": "y"
         },
         {
          "font": {
           "color": "#FFFFFF"
          },
          "showarrow": false,
          "text": "0.05",
          "x": "kitchen",
          "xref": "x",
          "y": "pool",
          "yref": "y"
         },
         {
          "font": {
           "color": "#FFFFFF"
          },
          "showarrow": false,
          "text": "0.02",
          "x": "airport_pickup_price_idr",
          "xref": "x",
          "y": "pool",
          "yref": "y"
         },
         {
          "font": {
           "color": "#FFFFFF"
          },
          "showarrow": false,
          "text": "0.01",
          "x": "booking_guest_number",
          "xref": "x",
          "y": "parking",
          "yref": "y"
         },
         {
          "font": {
           "color": "#FFFFFF"
          },
          "showarrow": false,
          "text": "-0.18",
          "x": "booking_currency",
          "xref": "x",
          "y": "parking",
          "yref": "y"
         },
         {
          "font": {
           "color": "#FFFFFF"
          },
          "showarrow": false,
          "text": "0.01",
          "x": "review_sentiment_score",
          "xref": "x",
          "y": "parking",
          "yref": "y"
         },
         {
          "font": {
           "color": "#FFFFFF"
          },
          "showarrow": false,
          "text": "nan",
          "x": "cancellation_policy",
          "xref": "x",
          "y": "parking",
          "yref": "y"
         },
         {
          "font": {
           "color": "#FFFFFF"
          },
          "showarrow": false,
          "text": "-0.03",
          "x": "booking_earned_in_idr",
          "xref": "x",
          "y": "parking",
          "yref": "y"
         },
         {
          "font": {
           "color": "#FFFFFF"
          },
          "showarrow": false,
          "text": "0.0",
          "x": "length_of_stay",
          "xref": "x",
          "y": "parking",
          "yref": "y"
         },
         {
          "font": {
           "color": "#FFFFFF"
          },
          "showarrow": false,
          "text": "-0.02",
          "x": "booking_window",
          "xref": "x",
          "y": "parking",
          "yref": "y"
         },
         {
          "font": {
           "color": "#FFFFFF"
          },
          "showarrow": false,
          "text": "0.03",
          "x": "seasonality",
          "xref": "x",
          "y": "parking",
          "yref": "y"
         },
         {
          "font": {
           "color": "#FFFFFF"
          },
          "showarrow": false,
          "text": "-0.05",
          "x": "average_daily_rate",
          "xref": "x",
          "y": "parking",
          "yref": "y"
         },
         {
          "font": {
           "color": "#FFFFFF"
          },
          "showarrow": false,
          "text": "0.19",
          "x": "status",
          "xref": "x",
          "y": "parking",
          "yref": "y"
         },
         {
          "font": {
           "color": "#FFFFFF"
          },
          "showarrow": false,
          "text": "-0.03",
          "x": "bedroom",
          "xref": "x",
          "y": "parking",
          "yref": "y"
         },
         {
          "font": {
           "color": "#FFFFFF"
          },
          "showarrow": false,
          "text": "-0.02",
          "x": "bathroom",
          "xref": "x",
          "y": "parking",
          "yref": "y"
         },
         {
          "font": {
           "color": "#FFFFFF"
          },
          "showarrow": false,
          "text": "-0.03",
          "x": "beds",
          "xref": "x",
          "y": "parking",
          "yref": "y"
         },
         {
          "font": {
           "color": "#FFFFFF"
          },
          "showarrow": false,
          "text": "-0.0",
          "x": "capacity",
          "xref": "x",
          "y": "parking",
          "yref": "y"
         },
         {
          "font": {
           "color": "#FFFFFF"
          },
          "showarrow": false,
          "text": "-0.07",
          "x": "avg_daily_rate_per_unit",
          "xref": "x",
          "y": "parking",
          "yref": "y"
         },
         {
          "font": {
           "color": "#FFFFFF"
          },
          "showarrow": false,
          "text": "0.15",
          "x": "wifi",
          "xref": "x",
          "y": "parking",
          "yref": "y"
         },
         {
          "font": {
           "color": "#FFFFFF"
          },
          "showarrow": false,
          "text": "0.07",
          "x": "tv",
          "xref": "x",
          "y": "parking",
          "yref": "y"
         },
         {
          "font": {
           "color": "#FFFFFF"
          },
          "showarrow": false,
          "text": "0.1",
          "x": "cable_tv",
          "xref": "x",
          "y": "parking",
          "yref": "y"
         },
         {
          "font": {
           "color": "#FFFFFF"
          },
          "showarrow": false,
          "text": "0.35",
          "x": "ac",
          "xref": "x",
          "y": "parking",
          "yref": "y"
         },
         {
          "font": {
           "color": "#FFFFFF"
          },
          "showarrow": false,
          "text": "0.13",
          "x": "workspace",
          "xref": "x",
          "y": "parking",
          "yref": "y"
         },
         {
          "font": {
           "color": "#FFFFFF"
          },
          "showarrow": false,
          "text": "0.27",
          "x": "pool",
          "xref": "x",
          "y": "parking",
          "yref": "y"
         },
         {
          "font": {
           "color": "#FFFFFF"
          },
          "showarrow": false,
          "text": "1.0",
          "x": "parking",
          "xref": "x",
          "y": "parking",
          "yref": "y"
         },
         {
          "font": {
           "color": "#FFFFFF"
          },
          "showarrow": false,
          "text": "-0.11",
          "x": "gym",
          "xref": "x",
          "y": "parking",
          "yref": "y"
         },
         {
          "font": {
           "color": "#FFFFFF"
          },
          "showarrow": false,
          "text": "0.0",
          "x": "kitchen",
          "xref": "x",
          "y": "parking",
          "yref": "y"
         },
         {
          "font": {
           "color": "#FFFFFF"
          },
          "showarrow": false,
          "text": "0.08",
          "x": "airport_pickup_price_idr",
          "xref": "x",
          "y": "parking",
          "yref": "y"
         },
         {
          "font": {
           "color": "#FFFFFF"
          },
          "showarrow": false,
          "text": "-0.02",
          "x": "booking_guest_number",
          "xref": "x",
          "y": "gym",
          "yref": "y"
         },
         {
          "font": {
           "color": "#FFFFFF"
          },
          "showarrow": false,
          "text": "-0.03",
          "x": "booking_currency",
          "xref": "x",
          "y": "gym",
          "yref": "y"
         },
         {
          "font": {
           "color": "#FFFFFF"
          },
          "showarrow": false,
          "text": "0.0",
          "x": "review_sentiment_score",
          "xref": "x",
          "y": "gym",
          "yref": "y"
         },
         {
          "font": {
           "color": "#FFFFFF"
          },
          "showarrow": false,
          "text": "nan",
          "x": "cancellation_policy",
          "xref": "x",
          "y": "gym",
          "yref": "y"
         },
         {
          "font": {
           "color": "#FFFFFF"
          },
          "showarrow": false,
          "text": "-0.01",
          "x": "booking_earned_in_idr",
          "xref": "x",
          "y": "gym",
          "yref": "y"
         },
         {
          "font": {
           "color": "#FFFFFF"
          },
          "showarrow": false,
          "text": "0.02",
          "x": "length_of_stay",
          "xref": "x",
          "y": "gym",
          "yref": "y"
         },
         {
          "font": {
           "color": "#FFFFFF"
          },
          "showarrow": false,
          "text": "-0.02",
          "x": "booking_window",
          "xref": "x",
          "y": "gym",
          "yref": "y"
         },
         {
          "font": {
           "color": "#FFFFFF"
          },
          "showarrow": false,
          "text": "-0.01",
          "x": "seasonality",
          "xref": "x",
          "y": "gym",
          "yref": "y"
         },
         {
          "font": {
           "color": "#FFFFFF"
          },
          "showarrow": false,
          "text": "-0.02",
          "x": "average_daily_rate",
          "xref": "x",
          "y": "gym",
          "yref": "y"
         },
         {
          "font": {
           "color": "#FFFFFF"
          },
          "showarrow": false,
          "text": "-0.0",
          "x": "status",
          "xref": "x",
          "y": "gym",
          "yref": "y"
         },
         {
          "font": {
           "color": "#FFFFFF"
          },
          "showarrow": false,
          "text": "-0.01",
          "x": "bedroom",
          "xref": "x",
          "y": "gym",
          "yref": "y"
         },
         {
          "font": {
           "color": "#FFFFFF"
          },
          "showarrow": false,
          "text": "-0.05",
          "x": "bathroom",
          "xref": "x",
          "y": "gym",
          "yref": "y"
         },
         {
          "font": {
           "color": "#FFFFFF"
          },
          "showarrow": false,
          "text": "-0.05",
          "x": "beds",
          "xref": "x",
          "y": "gym",
          "yref": "y"
         },
         {
          "font": {
           "color": "#FFFFFF"
          },
          "showarrow": false,
          "text": "0.02",
          "x": "capacity",
          "xref": "x",
          "y": "gym",
          "yref": "y"
         },
         {
          "font": {
           "color": "#FFFFFF"
          },
          "showarrow": false,
          "text": "-0.03",
          "x": "avg_daily_rate_per_unit",
          "xref": "x",
          "y": "gym",
          "yref": "y"
         },
         {
          "font": {
           "color": "#FFFFFF"
          },
          "showarrow": false,
          "text": "-0.02",
          "x": "wifi",
          "xref": "x",
          "y": "gym",
          "yref": "y"
         },
         {
          "font": {
           "color": "#FFFFFF"
          },
          "showarrow": false,
          "text": "0.07",
          "x": "tv",
          "xref": "x",
          "y": "gym",
          "yref": "y"
         },
         {
          "font": {
           "color": "#FFFFFF"
          },
          "showarrow": false,
          "text": "0.09",
          "x": "cable_tv",
          "xref": "x",
          "y": "gym",
          "yref": "y"
         },
         {
          "font": {
           "color": "#FFFFFF"
          },
          "showarrow": false,
          "text": "0.01",
          "x": "ac",
          "xref": "x",
          "y": "gym",
          "yref": "y"
         },
         {
          "font": {
           "color": "#FFFFFF"
          },
          "showarrow": false,
          "text": "-0.07",
          "x": "workspace",
          "xref": "x",
          "y": "gym",
          "yref": "y"
         },
         {
          "font": {
           "color": "#FFFFFF"
          },
          "showarrow": false,
          "text": "0.04",
          "x": "pool",
          "xref": "x",
          "y": "gym",
          "yref": "y"
         },
         {
          "font": {
           "color": "#FFFFFF"
          },
          "showarrow": false,
          "text": "-0.11",
          "x": "parking",
          "xref": "x",
          "y": "gym",
          "yref": "y"
         },
         {
          "font": {
           "color": "#FFFFFF"
          },
          "showarrow": false,
          "text": "1.0",
          "x": "gym",
          "xref": "x",
          "y": "gym",
          "yref": "y"
         },
         {
          "font": {
           "color": "#FFFFFF"
          },
          "showarrow": false,
          "text": "0.05",
          "x": "kitchen",
          "xref": "x",
          "y": "gym",
          "yref": "y"
         },
         {
          "font": {
           "color": "#FFFFFF"
          },
          "showarrow": false,
          "text": "-0.11",
          "x": "airport_pickup_price_idr",
          "xref": "x",
          "y": "gym",
          "yref": "y"
         },
         {
          "font": {
           "color": "#FFFFFF"
          },
          "showarrow": false,
          "text": "0.18",
          "x": "booking_guest_number",
          "xref": "x",
          "y": "kitchen",
          "yref": "y"
         },
         {
          "font": {
           "color": "#FFFFFF"
          },
          "showarrow": false,
          "text": "-0.01",
          "x": "booking_currency",
          "xref": "x",
          "y": "kitchen",
          "yref": "y"
         },
         {
          "font": {
           "color": "#FFFFFF"
          },
          "showarrow": false,
          "text": "0.02",
          "x": "review_sentiment_score",
          "xref": "x",
          "y": "kitchen",
          "yref": "y"
         },
         {
          "font": {
           "color": "#FFFFFF"
          },
          "showarrow": false,
          "text": "nan",
          "x": "cancellation_policy",
          "xref": "x",
          "y": "kitchen",
          "yref": "y"
         },
         {
          "font": {
           "color": "#FFFFFF"
          },
          "showarrow": false,
          "text": "0.23",
          "x": "booking_earned_in_idr",
          "xref": "x",
          "y": "kitchen",
          "yref": "y"
         },
         {
          "font": {
           "color": "#FFFFFF"
          },
          "showarrow": false,
          "text": "0.11",
          "x": "length_of_stay",
          "xref": "x",
          "y": "kitchen",
          "yref": "y"
         },
         {
          "font": {
           "color": "#FFFFFF"
          },
          "showarrow": false,
          "text": "0.08",
          "x": "booking_window",
          "xref": "x",
          "y": "kitchen",
          "yref": "y"
         },
         {
          "font": {
           "color": "#FFFFFF"
          },
          "showarrow": false,
          "text": "0.01",
          "x": "seasonality",
          "xref": "x",
          "y": "kitchen",
          "yref": "y"
         },
         {
          "font": {
           "color": "#FFFFFF"
          },
          "showarrow": false,
          "text": "0.24",
          "x": "average_daily_rate",
          "xref": "x",
          "y": "kitchen",
          "yref": "y"
         },
         {
          "font": {
           "color": "#FFFFFF"
          },
          "showarrow": false,
          "text": "0.01",
          "x": "status",
          "xref": "x",
          "y": "kitchen",
          "yref": "y"
         },
         {
          "font": {
           "color": "#FFFFFF"
          },
          "showarrow": false,
          "text": "0.31",
          "x": "bedroom",
          "xref": "x",
          "y": "kitchen",
          "yref": "y"
         },
         {
          "font": {
           "color": "#FFFFFF"
          },
          "showarrow": false,
          "text": "0.27",
          "x": "bathroom",
          "xref": "x",
          "y": "kitchen",
          "yref": "y"
         },
         {
          "font": {
           "color": "#FFFFFF"
          },
          "showarrow": false,
          "text": "0.29",
          "x": "beds",
          "xref": "x",
          "y": "kitchen",
          "yref": "y"
         },
         {
          "font": {
           "color": "#FFFFFF"
          },
          "showarrow": false,
          "text": "0.33",
          "x": "capacity",
          "xref": "x",
          "y": "kitchen",
          "yref": "y"
         },
         {
          "font": {
           "color": "#FFFFFF"
          },
          "showarrow": false,
          "text": "0.31",
          "x": "avg_daily_rate_per_unit",
          "xref": "x",
          "y": "kitchen",
          "yref": "y"
         },
         {
          "font": {
           "color": "#FFFFFF"
          },
          "showarrow": false,
          "text": "-0.08",
          "x": "wifi",
          "xref": "x",
          "y": "kitchen",
          "yref": "y"
         },
         {
          "font": {
           "color": "#FFFFFF"
          },
          "showarrow": false,
          "text": "0.17",
          "x": "tv",
          "xref": "x",
          "y": "kitchen",
          "yref": "y"
         },
         {
          "font": {
           "color": "#FFFFFF"
          },
          "showarrow": false,
          "text": "-0.05",
          "x": "cable_tv",
          "xref": "x",
          "y": "kitchen",
          "yref": "y"
         },
         {
          "font": {
           "color": "#FFFFFF"
          },
          "showarrow": false,
          "text": "0.06",
          "x": "ac",
          "xref": "x",
          "y": "kitchen",
          "yref": "y"
         },
         {
          "font": {
           "color": "#FFFFFF"
          },
          "showarrow": false,
          "text": "0.11",
          "x": "workspace",
          "xref": "x",
          "y": "kitchen",
          "yref": "y"
         },
         {
          "font": {
           "color": "#FFFFFF"
          },
          "showarrow": false,
          "text": "0.05",
          "x": "pool",
          "xref": "x",
          "y": "kitchen",
          "yref": "y"
         },
         {
          "font": {
           "color": "#FFFFFF"
          },
          "showarrow": false,
          "text": "0.0",
          "x": "parking",
          "xref": "x",
          "y": "kitchen",
          "yref": "y"
         },
         {
          "font": {
           "color": "#FFFFFF"
          },
          "showarrow": false,
          "text": "0.05",
          "x": "gym",
          "xref": "x",
          "y": "kitchen",
          "yref": "y"
         },
         {
          "font": {
           "color": "#FFFFFF"
          },
          "showarrow": false,
          "text": "1.0",
          "x": "kitchen",
          "xref": "x",
          "y": "kitchen",
          "yref": "y"
         },
         {
          "font": {
           "color": "#FFFFFF"
          },
          "showarrow": false,
          "text": "-0.16",
          "x": "airport_pickup_price_idr",
          "xref": "x",
          "y": "kitchen",
          "yref": "y"
         },
         {
          "font": {
           "color": "#FFFFFF"
          },
          "showarrow": false,
          "text": "-0.01",
          "x": "booking_guest_number",
          "xref": "x",
          "y": "airport_pickup_price_idr",
          "yref": "y"
         },
         {
          "font": {
           "color": "#FFFFFF"
          },
          "showarrow": false,
          "text": "0.02",
          "x": "booking_currency",
          "xref": "x",
          "y": "airport_pickup_price_idr",
          "yref": "y"
         },
         {
          "font": {
           "color": "#FFFFFF"
          },
          "showarrow": false,
          "text": "0.0",
          "x": "review_sentiment_score",
          "xref": "x",
          "y": "airport_pickup_price_idr",
          "yref": "y"
         },
         {
          "font": {
           "color": "#FFFFFF"
          },
          "showarrow": false,
          "text": "nan",
          "x": "cancellation_policy",
          "xref": "x",
          "y": "airport_pickup_price_idr",
          "yref": "y"
         },
         {
          "font": {
           "color": "#FFFFFF"
          },
          "showarrow": false,
          "text": "0.01",
          "x": "booking_earned_in_idr",
          "xref": "x",
          "y": "airport_pickup_price_idr",
          "yref": "y"
         },
         {
          "font": {
           "color": "#FFFFFF"
          },
          "showarrow": false,
          "text": "-0.02",
          "x": "length_of_stay",
          "xref": "x",
          "y": "airport_pickup_price_idr",
          "yref": "y"
         },
         {
          "font": {
           "color": "#FFFFFF"
          },
          "showarrow": false,
          "text": "-0.01",
          "x": "booking_window",
          "xref": "x",
          "y": "airport_pickup_price_idr",
          "yref": "y"
         },
         {
          "font": {
           "color": "#FFFFFF"
          },
          "showarrow": false,
          "text": "-0.0",
          "x": "seasonality",
          "xref": "x",
          "y": "airport_pickup_price_idr",
          "yref": "y"
         },
         {
          "font": {
           "color": "#FFFFFF"
          },
          "showarrow": false,
          "text": "0.03",
          "x": "average_daily_rate",
          "xref": "x",
          "y": "airport_pickup_price_idr",
          "yref": "y"
         },
         {
          "font": {
           "color": "#FFFFFF"
          },
          "showarrow": false,
          "text": "0.03",
          "x": "status",
          "xref": "x",
          "y": "airport_pickup_price_idr",
          "yref": "y"
         },
         {
          "font": {
           "color": "#FFFFFF"
          },
          "showarrow": false,
          "text": "0.04",
          "x": "bedroom",
          "xref": "x",
          "y": "airport_pickup_price_idr",
          "yref": "y"
         },
         {
          "font": {
           "color": "#FFFFFF"
          },
          "showarrow": false,
          "text": "-0.03",
          "x": "bathroom",
          "xref": "x",
          "y": "airport_pickup_price_idr",
          "yref": "y"
         },
         {
          "font": {
           "color": "#FFFFFF"
          },
          "showarrow": false,
          "text": "-0.05",
          "x": "beds",
          "xref": "x",
          "y": "airport_pickup_price_idr",
          "yref": "y"
         },
         {
          "font": {
           "color": "#FFFFFF"
          },
          "showarrow": false,
          "text": "-0.03",
          "x": "capacity",
          "xref": "x",
          "y": "airport_pickup_price_idr",
          "yref": "y"
         },
         {
          "font": {
           "color": "#FFFFFF"
          },
          "showarrow": false,
          "text": "0.04",
          "x": "avg_daily_rate_per_unit",
          "xref": "x",
          "y": "airport_pickup_price_idr",
          "yref": "y"
         },
         {
          "font": {
           "color": "#FFFFFF"
          },
          "showarrow": false,
          "text": "0.17",
          "x": "wifi",
          "xref": "x",
          "y": "airport_pickup_price_idr",
          "yref": "y"
         },
         {
          "font": {
           "color": "#FFFFFF"
          },
          "showarrow": false,
          "text": "-0.15",
          "x": "tv",
          "xref": "x",
          "y": "airport_pickup_price_idr",
          "yref": "y"
         },
         {
          "font": {
           "color": "#FFFFFF"
          },
          "showarrow": false,
          "text": "-0.04",
          "x": "cable_tv",
          "xref": "x",
          "y": "airport_pickup_price_idr",
          "yref": "y"
         },
         {
          "font": {
           "color": "#FFFFFF"
          },
          "showarrow": false,
          "text": "-0.07",
          "x": "ac",
          "xref": "x",
          "y": "airport_pickup_price_idr",
          "yref": "y"
         },
         {
          "font": {
           "color": "#FFFFFF"
          },
          "showarrow": false,
          "text": "-0.08",
          "x": "workspace",
          "xref": "x",
          "y": "airport_pickup_price_idr",
          "yref": "y"
         },
         {
          "font": {
           "color": "#FFFFFF"
          },
          "showarrow": false,
          "text": "0.02",
          "x": "pool",
          "xref": "x",
          "y": "airport_pickup_price_idr",
          "yref": "y"
         },
         {
          "font": {
           "color": "#FFFFFF"
          },
          "showarrow": false,
          "text": "0.08",
          "x": "parking",
          "xref": "x",
          "y": "airport_pickup_price_idr",
          "yref": "y"
         },
         {
          "font": {
           "color": "#FFFFFF"
          },
          "showarrow": false,
          "text": "-0.11",
          "x": "gym",
          "xref": "x",
          "y": "airport_pickup_price_idr",
          "yref": "y"
         },
         {
          "font": {
           "color": "#FFFFFF"
          },
          "showarrow": false,
          "text": "-0.16",
          "x": "kitchen",
          "xref": "x",
          "y": "airport_pickup_price_idr",
          "yref": "y"
         },
         {
          "font": {
           "color": "#FFFFFF"
          },
          "showarrow": false,
          "text": "1.0",
          "x": "airport_pickup_price_idr",
          "xref": "x",
          "y": "airport_pickup_price_idr",
          "yref": "y"
         }
        ],
        "height": 750,
        "margin": {
         "b": 100,
         "l": 150,
         "r": 100,
         "t": 100
        },
        "template": {
         "data": {
          "bar": [
           {
            "error_x": {
             "color": "#2a3f5f"
            },
            "error_y": {
             "color": "#2a3f5f"
            },
            "marker": {
             "line": {
              "color": "#E5ECF6",
              "width": 0.5
             },
             "pattern": {
              "fillmode": "overlay",
              "size": 10,
              "solidity": 0.2
             }
            },
            "type": "bar"
           }
          ],
          "barpolar": [
           {
            "marker": {
             "line": {
              "color": "#E5ECF6",
              "width": 0.5
             },
             "pattern": {
              "fillmode": "overlay",
              "size": 10,
              "solidity": 0.2
             }
            },
            "type": "barpolar"
           }
          ],
          "carpet": [
           {
            "aaxis": {
             "endlinecolor": "#2a3f5f",
             "gridcolor": "white",
             "linecolor": "white",
             "minorgridcolor": "white",
             "startlinecolor": "#2a3f5f"
            },
            "baxis": {
             "endlinecolor": "#2a3f5f",
             "gridcolor": "white",
             "linecolor": "white",
             "minorgridcolor": "white",
             "startlinecolor": "#2a3f5f"
            },
            "type": "carpet"
           }
          ],
          "choropleth": [
           {
            "colorbar": {
             "outlinewidth": 0,
             "ticks": ""
            },
            "type": "choropleth"
           }
          ],
          "contour": [
           {
            "colorbar": {
             "outlinewidth": 0,
             "ticks": ""
            },
            "colorscale": [
             [
              0,
              "#0d0887"
             ],
             [
              0.1111111111111111,
              "#46039f"
             ],
             [
              0.2222222222222222,
              "#7201a8"
             ],
             [
              0.3333333333333333,
              "#9c179e"
             ],
             [
              0.4444444444444444,
              "#bd3786"
             ],
             [
              0.5555555555555556,
              "#d8576b"
             ],
             [
              0.6666666666666666,
              "#ed7953"
             ],
             [
              0.7777777777777778,
              "#fb9f3a"
             ],
             [
              0.8888888888888888,
              "#fdca26"
             ],
             [
              1,
              "#f0f921"
             ]
            ],
            "type": "contour"
           }
          ],
          "contourcarpet": [
           {
            "colorbar": {
             "outlinewidth": 0,
             "ticks": ""
            },
            "type": "contourcarpet"
           }
          ],
          "heatmap": [
           {
            "colorbar": {
             "outlinewidth": 0,
             "ticks": ""
            },
            "colorscale": [
             [
              0,
              "#0d0887"
             ],
             [
              0.1111111111111111,
              "#46039f"
             ],
             [
              0.2222222222222222,
              "#7201a8"
             ],
             [
              0.3333333333333333,
              "#9c179e"
             ],
             [
              0.4444444444444444,
              "#bd3786"
             ],
             [
              0.5555555555555556,
              "#d8576b"
             ],
             [
              0.6666666666666666,
              "#ed7953"
             ],
             [
              0.7777777777777778,
              "#fb9f3a"
             ],
             [
              0.8888888888888888,
              "#fdca26"
             ],
             [
              1,
              "#f0f921"
             ]
            ],
            "type": "heatmap"
           }
          ],
          "heatmapgl": [
           {
            "colorbar": {
             "outlinewidth": 0,
             "ticks": ""
            },
            "colorscale": [
             [
              0,
              "#0d0887"
             ],
             [
              0.1111111111111111,
              "#46039f"
             ],
             [
              0.2222222222222222,
              "#7201a8"
             ],
             [
              0.3333333333333333,
              "#9c179e"
             ],
             [
              0.4444444444444444,
              "#bd3786"
             ],
             [
              0.5555555555555556,
              "#d8576b"
             ],
             [
              0.6666666666666666,
              "#ed7953"
             ],
             [
              0.7777777777777778,
              "#fb9f3a"
             ],
             [
              0.8888888888888888,
              "#fdca26"
             ],
             [
              1,
              "#f0f921"
             ]
            ],
            "type": "heatmapgl"
           }
          ],
          "histogram": [
           {
            "marker": {
             "pattern": {
              "fillmode": "overlay",
              "size": 10,
              "solidity": 0.2
             }
            },
            "type": "histogram"
           }
          ],
          "histogram2d": [
           {
            "colorbar": {
             "outlinewidth": 0,
             "ticks": ""
            },
            "colorscale": [
             [
              0,
              "#0d0887"
             ],
             [
              0.1111111111111111,
              "#46039f"
             ],
             [
              0.2222222222222222,
              "#7201a8"
             ],
             [
              0.3333333333333333,
              "#9c179e"
             ],
             [
              0.4444444444444444,
              "#bd3786"
             ],
             [
              0.5555555555555556,
              "#d8576b"
             ],
             [
              0.6666666666666666,
              "#ed7953"
             ],
             [
              0.7777777777777778,
              "#fb9f3a"
             ],
             [
              0.8888888888888888,
              "#fdca26"
             ],
             [
              1,
              "#f0f921"
             ]
            ],
            "type": "histogram2d"
           }
          ],
          "histogram2dcontour": [
           {
            "colorbar": {
             "outlinewidth": 0,
             "ticks": ""
            },
            "colorscale": [
             [
              0,
              "#0d0887"
             ],
             [
              0.1111111111111111,
              "#46039f"
             ],
             [
              0.2222222222222222,
              "#7201a8"
             ],
             [
              0.3333333333333333,
              "#9c179e"
             ],
             [
              0.4444444444444444,
              "#bd3786"
             ],
             [
              0.5555555555555556,
              "#d8576b"
             ],
             [
              0.6666666666666666,
              "#ed7953"
             ],
             [
              0.7777777777777778,
              "#fb9f3a"
             ],
             [
              0.8888888888888888,
              "#fdca26"
             ],
             [
              1,
              "#f0f921"
             ]
            ],
            "type": "histogram2dcontour"
           }
          ],
          "mesh3d": [
           {
            "colorbar": {
             "outlinewidth": 0,
             "ticks": ""
            },
            "type": "mesh3d"
           }
          ],
          "parcoords": [
           {
            "line": {
             "colorbar": {
              "outlinewidth": 0,
              "ticks": ""
             }
            },
            "type": "parcoords"
           }
          ],
          "pie": [
           {
            "automargin": true,
            "type": "pie"
           }
          ],
          "scatter": [
           {
            "fillpattern": {
             "fillmode": "overlay",
             "size": 10,
             "solidity": 0.2
            },
            "type": "scatter"
           }
          ],
          "scatter3d": [
           {
            "line": {
             "colorbar": {
              "outlinewidth": 0,
              "ticks": ""
             }
            },
            "marker": {
             "colorbar": {
              "outlinewidth": 0,
              "ticks": ""
             }
            },
            "type": "scatter3d"
           }
          ],
          "scattercarpet": [
           {
            "marker": {
             "colorbar": {
              "outlinewidth": 0,
              "ticks": ""
             }
            },
            "type": "scattercarpet"
           }
          ],
          "scattergeo": [
           {
            "marker": {
             "colorbar": {
              "outlinewidth": 0,
              "ticks": ""
             }
            },
            "type": "scattergeo"
           }
          ],
          "scattergl": [
           {
            "marker": {
             "colorbar": {
              "outlinewidth": 0,
              "ticks": ""
             }
            },
            "type": "scattergl"
           }
          ],
          "scattermapbox": [
           {
            "marker": {
             "colorbar": {
              "outlinewidth": 0,
              "ticks": ""
             }
            },
            "type": "scattermapbox"
           }
          ],
          "scatterpolar": [
           {
            "marker": {
             "colorbar": {
              "outlinewidth": 0,
              "ticks": ""
             }
            },
            "type": "scatterpolar"
           }
          ],
          "scatterpolargl": [
           {
            "marker": {
             "colorbar": {
              "outlinewidth": 0,
              "ticks": ""
             }
            },
            "type": "scatterpolargl"
           }
          ],
          "scatterternary": [
           {
            "marker": {
             "colorbar": {
              "outlinewidth": 0,
              "ticks": ""
             }
            },
            "type": "scatterternary"
           }
          ],
          "surface": [
           {
            "colorbar": {
             "outlinewidth": 0,
             "ticks": ""
            },
            "colorscale": [
             [
              0,
              "#0d0887"
             ],
             [
              0.1111111111111111,
              "#46039f"
             ],
             [
              0.2222222222222222,
              "#7201a8"
             ],
             [
              0.3333333333333333,
              "#9c179e"
             ],
             [
              0.4444444444444444,
              "#bd3786"
             ],
             [
              0.5555555555555556,
              "#d8576b"
             ],
             [
              0.6666666666666666,
              "#ed7953"
             ],
             [
              0.7777777777777778,
              "#fb9f3a"
             ],
             [
              0.8888888888888888,
              "#fdca26"
             ],
             [
              1,
              "#f0f921"
             ]
            ],
            "type": "surface"
           }
          ],
          "table": [
           {
            "cells": {
             "fill": {
              "color": "#EBF0F8"
             },
             "line": {
              "color": "white"
             }
            },
            "header": {
             "fill": {
              "color": "#C8D4E3"
             },
             "line": {
              "color": "white"
             }
            },
            "type": "table"
           }
          ]
         },
         "layout": {
          "annotationdefaults": {
           "arrowcolor": "#2a3f5f",
           "arrowhead": 0,
           "arrowwidth": 1
          },
          "autotypenumbers": "strict",
          "coloraxis": {
           "colorbar": {
            "outlinewidth": 0,
            "ticks": ""
           }
          },
          "colorscale": {
           "diverging": [
            [
             0,
             "#8e0152"
            ],
            [
             0.1,
             "#c51b7d"
            ],
            [
             0.2,
             "#de77ae"
            ],
            [
             0.3,
             "#f1b6da"
            ],
            [
             0.4,
             "#fde0ef"
            ],
            [
             0.5,
             "#f7f7f7"
            ],
            [
             0.6,
             "#e6f5d0"
            ],
            [
             0.7,
             "#b8e186"
            ],
            [
             0.8,
             "#7fbc41"
            ],
            [
             0.9,
             "#4d9221"
            ],
            [
             1,
             "#276419"
            ]
           ],
           "sequential": [
            [
             0,
             "#0d0887"
            ],
            [
             0.1111111111111111,
             "#46039f"
            ],
            [
             0.2222222222222222,
             "#7201a8"
            ],
            [
             0.3333333333333333,
             "#9c179e"
            ],
            [
             0.4444444444444444,
             "#bd3786"
            ],
            [
             0.5555555555555556,
             "#d8576b"
            ],
            [
             0.6666666666666666,
             "#ed7953"
            ],
            [
             0.7777777777777778,
             "#fb9f3a"
            ],
            [
             0.8888888888888888,
             "#fdca26"
            ],
            [
             1,
             "#f0f921"
            ]
           ],
           "sequentialminus": [
            [
             0,
             "#0d0887"
            ],
            [
             0.1111111111111111,
             "#46039f"
            ],
            [
             0.2222222222222222,
             "#7201a8"
            ],
            [
             0.3333333333333333,
             "#9c179e"
            ],
            [
             0.4444444444444444,
             "#bd3786"
            ],
            [
             0.5555555555555556,
             "#d8576b"
            ],
            [
             0.6666666666666666,
             "#ed7953"
            ],
            [
             0.7777777777777778,
             "#fb9f3a"
            ],
            [
             0.8888888888888888,
             "#fdca26"
            ],
            [
             1,
             "#f0f921"
            ]
           ]
          },
          "colorway": [
           "#636efa",
           "#EF553B",
           "#00cc96",
           "#ab63fa",
           "#FFA15A",
           "#19d3f3",
           "#FF6692",
           "#B6E880",
           "#FF97FF",
           "#FECB52"
          ],
          "font": {
           "color": "#2a3f5f"
          },
          "geo": {
           "bgcolor": "white",
           "lakecolor": "white",
           "landcolor": "#E5ECF6",
           "showlakes": true,
           "showland": true,
           "subunitcolor": "white"
          },
          "hoverlabel": {
           "align": "left"
          },
          "hovermode": "closest",
          "mapbox": {
           "style": "light"
          },
          "paper_bgcolor": "white",
          "plot_bgcolor": "#E5ECF6",
          "polar": {
           "angularaxis": {
            "gridcolor": "white",
            "linecolor": "white",
            "ticks": ""
           },
           "bgcolor": "#E5ECF6",
           "radialaxis": {
            "gridcolor": "white",
            "linecolor": "white",
            "ticks": ""
           }
          },
          "scene": {
           "xaxis": {
            "backgroundcolor": "#E5ECF6",
            "gridcolor": "white",
            "gridwidth": 2,
            "linecolor": "white",
            "showbackground": true,
            "ticks": "",
            "zerolinecolor": "white"
           },
           "yaxis": {
            "backgroundcolor": "#E5ECF6",
            "gridcolor": "white",
            "gridwidth": 2,
            "linecolor": "white",
            "showbackground": true,
            "ticks": "",
            "zerolinecolor": "white"
           },
           "zaxis": {
            "backgroundcolor": "#E5ECF6",
            "gridcolor": "white",
            "gridwidth": 2,
            "linecolor": "white",
            "showbackground": true,
            "ticks": "",
            "zerolinecolor": "white"
           }
          },
          "shapedefaults": {
           "line": {
            "color": "#2a3f5f"
           }
          },
          "ternary": {
           "aaxis": {
            "gridcolor": "white",
            "linecolor": "white",
            "ticks": ""
           },
           "baxis": {
            "gridcolor": "white",
            "linecolor": "white",
            "ticks": ""
           },
           "bgcolor": "#E5ECF6",
           "caxis": {
            "gridcolor": "white",
            "linecolor": "white",
            "ticks": ""
           }
          },
          "title": {
           "x": 0.05
          },
          "xaxis": {
           "automargin": true,
           "gridcolor": "white",
           "linecolor": "white",
           "ticks": "",
           "title": {
            "standoff": 15
           },
           "zerolinecolor": "white",
           "zerolinewidth": 2
          },
          "yaxis": {
           "automargin": true,
           "gridcolor": "white",
           "linecolor": "white",
           "ticks": "",
           "title": {
            "standoff": 15
           },
           "zerolinecolor": "white",
           "zerolinewidth": 2
          }
         }
        },
        "title": {
         "font": {
          "size": 24
         },
         "text": "<b>Correlation Matrix (cont. features)<b>",
         "x": 0.5
        },
        "width": 1000,
        "xaxis": {
         "dtick": 1,
         "gridcolor": "rgb(0, 0, 0)",
         "showgrid": false,
         "side": "bottom",
         "ticks": ""
        },
        "yaxis": {
         "autorange": "reversed",
         "dtick": 1,
         "showgrid": false,
         "ticks": "",
         "ticksuffix": "  "
        }
       }
      }
     },
     "metadata": {},
     "output_type": "display_data"
    }
   ],
   "source": [
    "cols = [col for col in df.columns if df[col].dtype != 'object'][1:]\n",
    "corr = df[cols].corr()\n",
    "\n",
    "fig = ff.create_annotated_heatmap(\n",
    "    z=corr.to_numpy().round(2),\n",
    "    x=list(corr.index.values),\n",
    "    y=list(corr.columns.values),       \n",
    "    xgap=3, ygap=3,\n",
    "    zmin=-1, zmax=1,\n",
    "    colorscale='earth',\n",
    "    colorbar_thickness=30,\n",
    "    colorbar_ticklen=3,\n",
    ")\n",
    "fig.update_layout(title_text='<b>Correlation Matrix (cont. features)<b>',\n",
    "                  title_x=0.5,\n",
    "                  titlefont={'size': 24},\n",
    "                  width=1000, height=750,\n",
    "                  margin=dict(l=150, r=100, b=100, t=100),\n",
    "                  xaxis_showgrid=False,\n",
    "                  xaxis={'side': 'bottom'},\n",
    "                  yaxis_showgrid=False,\n",
    "                  yaxis_autorange='reversed',                   \n",
    "                  paper_bgcolor=None,\n",
    "                  )\n",
    "fig.show()\n"
   ]
  },
  {
   "cell_type": "code",
   "execution_count": null,
   "metadata": {},
   "outputs": [],
   "source": []
  },
  {
   "cell_type": "markdown",
   "metadata": {},
   "source": [
    "## **4 Data Pre-Prosessing**\n",
    "\n",
    "**Data Pre-Prosessing** adalah tahapan untuk menghilangkan beberapa permasalahan yang bisa mengganggu saat pemrosesan data. Hal tersebut karena banyak data yang formatnya tidak konsisten. Data preprocessing merupakan teknik sebelum melakukan modeling.\n"
   ]
  },
  {
   "cell_type": "code",
   "execution_count": 11,
   "metadata": {},
   "outputs": [],
   "source": [
    "\n",
    "raw_data['booking_check_in'] = pd.to_datetime(raw_data['booking_check_in'])\n",
    "raw_data['booking_check_out'] = pd.to_datetime(raw_data['booking_check_out'])\n",
    "\n",
    "def convert_to_minutes(time_str):\n",
    "    if pd.isna(time_str):\n",
    "        return None\n",
    "    if 'hour' in time_str:\n",
    "        hours = int(time_str.split()[0])\n",
    "        return hours * 60\n",
    "    elif 'minute' in time_str:\n",
    "        minutes = int(time_str.split()[0])\n",
    "        return minutes\n",
    "    else:\n",
    "        return None\n",
    "\n",
    "raw_data['area_distance_to_airport'] = raw_data['area_distance_to_airport'].apply(convert_to_minutes)\n",
    "\n",
    "raw_data['booking_check_in_date'] = raw_data['booking_check_in'].dt.day\n",
    "raw_data['booking_check_in_month'] = raw_data['booking_check_in'].dt.month\n",
    "raw_data['booking_check_in_year'] = raw_data['booking_check_in'].dt.year\n",
    "\n",
    "raw_data['booking_check_out_date'] = raw_data['booking_check_out'].dt.day\n",
    "raw_data['booking_check_out_month'] = raw_data['booking_check_out'].dt.month\n",
    "raw_data['booking_check_out_year'] = raw_data['booking_check_out'].dt.year\n",
    "\n"
   ]
  },
  {
   "cell_type": "code",
   "execution_count": 12,
   "metadata": {},
   "outputs": [],
   "source": [
    "raw_data = raw_data.drop(['booking_id','booking_check_in','booking_check_out','booking_received_timestamp','cancellation_policy','status','booking_window'\n",
    "], axis = 1)\n"
   ]
  },
  {
   "cell_type": "code",
   "execution_count": 13,
   "metadata": {},
   "outputs": [
    {
     "data": {
      "text/plain": [
       "booking_status                  0\n",
       "booking_guest_number        47810\n",
       "booking_currency                0\n",
       "listing_id                      0\n",
       "review_sentiment            50795\n",
       "review_sentiment_score      50795\n",
       "booking_earned_in_idr        5659\n",
       "length_of_stay                  0\n",
       "seasonality                     0\n",
       "average_daily_rate           5659\n",
       "unit_id                        14\n",
       "bedroom                       513\n",
       "bathroom                    11595\n",
       "beds                        11595\n",
       "capacity                    15556\n",
       "property_id                   447\n",
       "avg_daily_rate_per_unit      5659\n",
       "wifi                        14743\n",
       "tv                          14743\n",
       "cable_tv                    14743\n",
       "ac                          14743\n",
       "workspace                   14743\n",
       "pool                        14743\n",
       "parking                     14743\n",
       "gym                         14743\n",
       "kitchen                     14743\n",
       "property_id1                  578\n",
       "area_id                       578\n",
       "area_name                     578\n",
       "area_distance_to_airport     1469\n",
       "airport_pickup_price_idr     8781\n",
       "booking_check_in_date           0\n",
       "booking_check_in_month          0\n",
       "booking_check_in_year           0\n",
       "booking_check_out_date          0\n",
       "booking_check_out_month         0\n",
       "booking_check_out_year          0\n",
       "dtype: int64"
      ]
     },
     "execution_count": 13,
     "metadata": {},
     "output_type": "execute_result"
    }
   ],
   "source": [
    "raw_data.isnull().sum()"
   ]
  },
  {
   "cell_type": "code",
   "execution_count": 14,
   "metadata": {},
   "outputs": [
    {
     "name": "stdout",
     "output_type": "stream",
     "text": [
      "   unit_id  review_sentiment  listing_id  property_id  area_id  area_name\n",
      "0      335                 2        1817          154       11         13\n",
      "1      334                 2        1893          192       11         13\n",
      "2      334                 2        1893          192       11         13\n",
      "3      335                 2        1817          154       11         13\n",
      "4      335                 2        1817          154       11         13\n"
     ]
    }
   ],
   "source": [
    "from sklearn.preprocessing import LabelEncoder\n",
    "\n",
    "# Inisialisasi LabelEncoder\n",
    "label_encoder = LabelEncoder()\n",
    "\n",
    "# Menggunakan LabelEncoder untuk kolom unit_id\n",
    "raw_data['listing_id'] = label_encoder.fit_transform(raw_data['listing_id'])\n",
    "\n",
    "raw_data['review_sentiment'] = label_encoder.fit_transform(raw_data['review_sentiment'])\n",
    "\n",
    "raw_data['property_id1'] = label_encoder.fit_transform(raw_data['property_id1'])\n",
    "\n",
    "\n",
    "raw_data['unit_id'] = label_encoder.fit_transform(raw_data['unit_id'])\n",
    "\n",
    "raw_data['unit_id'] = label_encoder.fit_transform(raw_data['unit_id'])\n",
    "\n",
    "raw_data['property_id'] = label_encoder.fit_transform(raw_data['property_id'])\n",
    "\n",
    "raw_data['area_id'] = label_encoder.fit_transform(raw_data['area_id'])\n",
    "\n",
    "raw_data['area_name'] = label_encoder.fit_transform(raw_data['area_name'])\n",
    "\n",
    "print(raw_data[['unit_id', 'review_sentiment','listing_id','property_id', 'area_id', 'area_name']].head())\n"
   ]
  },
  {
   "cell_type": "code",
   "execution_count": 15,
   "metadata": {},
   "outputs": [
    {
     "name": "stdout",
     "output_type": "stream",
     "text": [
      "\n",
      "Jumlah nilai yang hilang setelah imputasi:\n",
      " booking_status                  0\n",
      "booking_guest_number            0\n",
      "booking_currency                0\n",
      "listing_id                      0\n",
      "review_sentiment                0\n",
      "review_sentiment_score      50795\n",
      "booking_earned_in_idr        5659\n",
      "length_of_stay                  0\n",
      "seasonality                     0\n",
      "average_daily_rate           5659\n",
      "unit_id                         0\n",
      "bedroom                         0\n",
      "bathroom                        0\n",
      "beds                            0\n",
      "capacity                        0\n",
      "property_id                     0\n",
      "avg_daily_rate_per_unit      5659\n",
      "wifi                            0\n",
      "tv                              0\n",
      "cable_tv                        0\n",
      "ac                              0\n",
      "workspace                       0\n",
      "pool                            0\n",
      "parking                         0\n",
      "gym                             0\n",
      "kitchen                         0\n",
      "property_id1                    0\n",
      "area_id                         0\n",
      "area_name                       0\n",
      "area_distance_to_airport     1469\n",
      "airport_pickup_price_idr     8781\n",
      "booking_check_in_date           0\n",
      "booking_check_in_month          0\n",
      "booking_check_in_year           0\n",
      "booking_check_out_date          0\n",
      "booking_check_out_month         0\n",
      "booking_check_out_year          0\n",
      "cluster                         0\n",
      "dtype: int64\n"
     ]
    }
   ],
   "source": [
    "from sklearn.cluster import KMeans\n",
    "from sklearn.impute import SimpleImputer\n",
    "from sklearn.preprocessing import StandardScaler\n",
    "# Memilih kolom yang akan digunakan untuk clustering\n",
    "columns_for_clustering = ['bedroom', 'bathroom', 'beds', 'capacity','wifi','tv','cable_tv','ac','workspace','pool',\n",
    "                          'booking_guest_number','parking','gym','kitchen']\n",
    "\n",
    "# Mengisi nilai yang hilang sementara dengan SimpleImputer (mean strategy)\n",
    "imputer = SimpleImputer(strategy='mean')\n",
    "data_imputed = imputer.fit_transform(raw_data[columns_for_clustering])\n",
    "\n",
    "# Normalisasi data sebelum clustering\n",
    "scaler = StandardScaler()\n",
    "data_scaled = scaler.fit_transform(data_imputed)\n",
    "\n",
    "# Menentukan jumlah cluster (misalnya, 5)\n",
    "kmeans = KMeans(n_clusters=5, random_state=42)\n",
    "clusters = kmeans.fit_predict(data_scaled)\n",
    "\n",
    "# Menambahkan kolom cluster ke DataFrame asli\n",
    "raw_data['cluster'] = clusters\n",
    "\n",
    "# Mengisi nilai yang hilang dengan centroid dari masing-masing cluster\n",
    "for column in columns_for_clustering:\n",
    "    for cluster in range(5):\n",
    "        cluster_mean = raw_data[raw_data['cluster'] == cluster][column].mean()\n",
    "        raw_data.loc[(raw_data[column].isnull()) & (raw_data['cluster'] == cluster), column] = cluster_mean\n",
    "\n",
    "# Mengecek kembali nilai yang hilang setelah imputasi\n",
    "print(\"\\nJumlah nilai yang hilang setelah imputasi:\\n\", raw_data.isnull().sum())\n",
    "\n",
    "# Menghapus kolom cluster karena sudah tidak diperlukan\n",
    "raw_data.drop(columns=['cluster'], inplace=True)"
   ]
  },
  {
   "cell_type": "code",
   "execution_count": 16,
   "metadata": {},
   "outputs": [
    {
     "name": "stdout",
     "output_type": "stream",
     "text": [
      "\n",
      "Jumlah nilai yang hilang setelah imputasi:\n",
      " booking_status                  0\n",
      "booking_guest_number            0\n",
      "booking_currency                0\n",
      "listing_id                      0\n",
      "review_sentiment                0\n",
      "review_sentiment_score      50795\n",
      "booking_earned_in_idr        5659\n",
      "length_of_stay                  0\n",
      "seasonality                     0\n",
      "average_daily_rate           5659\n",
      "unit_id                         0\n",
      "bedroom                         0\n",
      "bathroom                        0\n",
      "beds                            0\n",
      "capacity                        0\n",
      "property_id                     0\n",
      "avg_daily_rate_per_unit      5659\n",
      "wifi                            0\n",
      "tv                              0\n",
      "cable_tv                        0\n",
      "ac                              0\n",
      "workspace                       0\n",
      "pool                            0\n",
      "parking                         0\n",
      "gym                             0\n",
      "kitchen                         0\n",
      "property_id1                    0\n",
      "area_id                         0\n",
      "area_name                       0\n",
      "area_distance_to_airport     1469\n",
      "airport_pickup_price_idr     8781\n",
      "booking_check_in_date           0\n",
      "booking_check_in_month          0\n",
      "booking_check_in_year           0\n",
      "booking_check_out_date          0\n",
      "booking_check_out_month         0\n",
      "booking_check_out_year          0\n",
      "cluster                         0\n",
      "dtype: int64\n"
     ]
    }
   ],
   "source": [
    "from sklearn.cluster import KMeans\n",
    "from sklearn.impute import SimpleImputer\n",
    "from sklearn.preprocessing import StandardScaler\n",
    "# Memilih kolom yang akan digunakan untuk clustering\n",
    "columns_for_clustering = ['booking_check_in_date','booking_check_in_month','booking_check_in_year',\n",
    "                          'booking_check_in_year','booking_check_out_month','booking_check_out_year']\n",
    "\n",
    "# Mengisi nilai yang hilang sementara dengan SimpleImputer (mean strategy)\n",
    "imputer = SimpleImputer(strategy='mean')\n",
    "data_imputed = imputer.fit_transform(raw_data[columns_for_clustering])\n",
    "\n",
    "# Normalisasi data sebelum clustering\n",
    "scaler = StandardScaler()\n",
    "data_scaled = scaler.fit_transform(data_imputed)\n",
    "\n",
    "# Menentukan jumlah cluster (misalnya, 5)\n",
    "kmeans = KMeans(n_clusters=5, random_state=42)\n",
    "clusters = kmeans.fit_predict(data_scaled)\n",
    "\n",
    "# Menambahkan kolom cluster ke DataFrame asli\n",
    "raw_data['cluster'] = clusters\n",
    "\n",
    "# Mengisi nilai yang hilang dengan centroid dari masing-masing cluster\n",
    "for column in columns_for_clustering:\n",
    "    for cluster in range(5):\n",
    "        cluster_mean = raw_data[raw_data['cluster'] == cluster][column].mean()\n",
    "        raw_data.loc[(raw_data[column].isnull()) & (raw_data['cluster'] == cluster), column] = cluster_mean\n",
    "\n",
    "# Mengecek kembali nilai yang hilang setelah imputasi\n",
    "print(\"\\nJumlah nilai yang hilang setelah imputasi:\\n\", raw_data.isnull().sum())\n",
    "\n",
    "# Menghapus kolom cluster karena sudah tidak diperlukan\n",
    "raw_data.drop(columns=['cluster'], inplace=True)"
   ]
  },
  {
   "cell_type": "markdown",
   "metadata": {},
   "source": []
  },
  {
   "cell_type": "code",
   "execution_count": 17,
   "metadata": {},
   "outputs": [
    {
     "name": "stdout",
     "output_type": "stream",
     "text": [
      "Hasil imputasi untuk kolom area_distance_to_airport dan airport_pickup_price_idr:\n",
      "   airport_pickup_price_idr  area_distance_to_airport  review_sentiment_score\n",
      "0                  325000.0                      45.0                0.655466\n",
      "1                  325000.0                      45.0                0.656976\n",
      "2                  325000.0                      45.0                0.687372\n",
      "3                  325000.0                      45.0                0.979358\n",
      "4                  325000.0                      45.0                0.670770\n"
     ]
    },
    {
     "data": {
      "text/plain": [
       "booking_status                 0\n",
       "booking_guest_number           0\n",
       "booking_currency               0\n",
       "listing_id                     0\n",
       "review_sentiment               0\n",
       "review_sentiment_score         0\n",
       "booking_earned_in_idr       5659\n",
       "length_of_stay                 0\n",
       "seasonality                    0\n",
       "average_daily_rate          5659\n",
       "unit_id                        0\n",
       "bedroom                        0\n",
       "bathroom                       0\n",
       "beds                           0\n",
       "capacity                       0\n",
       "property_id                    0\n",
       "avg_daily_rate_per_unit     5659\n",
       "wifi                           0\n",
       "tv                             0\n",
       "cable_tv                       0\n",
       "ac                             0\n",
       "workspace                      0\n",
       "pool                           0\n",
       "parking                        0\n",
       "gym                            0\n",
       "kitchen                        0\n",
       "property_id1                   0\n",
       "area_id                        0\n",
       "area_name                      0\n",
       "area_distance_to_airport       0\n",
       "airport_pickup_price_idr       0\n",
       "booking_check_in_date          0\n",
       "booking_check_in_month         0\n",
       "booking_check_in_year          0\n",
       "booking_check_out_date         0\n",
       "booking_check_out_month        0\n",
       "booking_check_out_year         0\n",
       "dtype: int64"
      ]
     },
     "execution_count": 17,
     "metadata": {},
     "output_type": "execute_result"
    }
   ],
   "source": [
    "from sklearn.experimental import enable_iterative_imputer\n",
    "from sklearn.impute import IterativeImputer\n",
    "import pandas as pd\n",
    "import numpy as np\n",
    "from sklearn.preprocessing import StandardScaler\n",
    "columns_to_impute = [ 'airport_pickup_price_idr','area_distance_to_airport','review_sentiment_score']\n",
    "imputer = IterativeImputer(max_iter=10, random_state=0)\n",
    "\n",
    "# Memilih subset data untuk kolom-kolom yang akan diimputasi\n",
    "data_to_impute = raw_data[columns_to_impute]\n",
    "\n",
    "# Melakukan imputasi\n",
    "data_imputed = imputer.fit_transform(data_to_impute)\n",
    "\n",
    "# Mengganti nilai yang telah diimputasi kembali ke dataset asli\n",
    "raw_data[columns_to_impute] = data_imputed\n",
    "\n",
    "# Menampilkan hasil imputasi\n",
    "print(\"Hasil imputasi untuk kolom area_distance_to_airport dan airport_pickup_price_idr:\")\n",
    "print(raw_data[columns_to_impute].head())\n",
    "raw_data.isnull().sum()"
   ]
  },
  {
   "cell_type": "code",
   "execution_count": 18,
   "metadata": {},
   "outputs": [
    {
     "name": "stdout",
     "output_type": "stream",
     "text": [
      "Hasil imputasi untuk kolom area_distance_to_airport dan airport_pickup_price_idr:\n",
      "   booking_earned_in_idr  average_daily_rate  avg_daily_rate_per_unit\n",
      "0            33785261.68        3.378526e+06             5.126228e+06\n",
      "1            12943833.32        4.314611e+06             4.843822e+06\n",
      "2            11364687.81        5.682344e+06             4.843822e+06\n",
      "3            29848669.00        5.969734e+06             5.126228e+06\n",
      "4            25526762.17        6.381691e+06             5.126228e+06\n"
     ]
    },
    {
     "data": {
      "text/plain": [
       "booking_status              0\n",
       "booking_guest_number        0\n",
       "booking_currency            0\n",
       "listing_id                  0\n",
       "review_sentiment            0\n",
       "review_sentiment_score      0\n",
       "booking_earned_in_idr       0\n",
       "length_of_stay              0\n",
       "seasonality                 0\n",
       "average_daily_rate          0\n",
       "unit_id                     0\n",
       "bedroom                     0\n",
       "bathroom                    0\n",
       "beds                        0\n",
       "capacity                    0\n",
       "property_id                 0\n",
       "avg_daily_rate_per_unit     0\n",
       "wifi                        0\n",
       "tv                          0\n",
       "cable_tv                    0\n",
       "ac                          0\n",
       "workspace                   0\n",
       "pool                        0\n",
       "parking                     0\n",
       "gym                         0\n",
       "kitchen                     0\n",
       "property_id1                0\n",
       "area_id                     0\n",
       "area_name                   0\n",
       "area_distance_to_airport    0\n",
       "airport_pickup_price_idr    0\n",
       "booking_check_in_date       0\n",
       "booking_check_in_month      0\n",
       "booking_check_in_year       0\n",
       "booking_check_out_date      0\n",
       "booking_check_out_month     0\n",
       "booking_check_out_year      0\n",
       "dtype: int64"
      ]
     },
     "execution_count": 18,
     "metadata": {},
     "output_type": "execute_result"
    }
   ],
   "source": [
    "from sklearn.experimental import enable_iterative_imputer\n",
    "from sklearn.impute import IterativeImputer\n",
    "import pandas as pd\n",
    "import numpy as np\n",
    "from sklearn.preprocessing import StandardScaler\n",
    "columns_to_impute = ['booking_earned_in_idr','average_daily_rate','avg_daily_rate_per_unit']\n",
    "imputer = IterativeImputer(max_iter=10, random_state=0)\n",
    "\n",
    "# Memilih subset data untuk kolom-kolom yang akan diimputasi\n",
    "data_to_impute = raw_data[columns_to_impute]\n",
    "\n",
    "# Melakukan imputasi\n",
    "data_imputed = imputer.fit_transform(data_to_impute)\n",
    "\n",
    "# Mengganti nilai yang telah diimputasi kembali ke dataset asli\n",
    "raw_data[columns_to_impute] = data_imputed\n",
    "\n",
    "# Menampilkan hasil imputasi\n",
    "print(\"Hasil imputasi untuk kolom area_distance_to_airport dan airport_pickup_price_idr:\")\n",
    "print(raw_data[columns_to_impute].head())\n",
    "raw_data.isnull().sum()"
   ]
  },
  {
   "cell_type": "code",
   "execution_count": 19,
   "metadata": {},
   "outputs": [],
   "source": [
    "import pandas as pd\n",
    "\n",
    "# Assuming 'data' is your DataFrame\n",
    "\n",
    "# Step 1: Create the new feature 'room_pricing'\n",
    "\n",
    "raw_data['booking_earned_in_idr'] = raw_data['booking_earned_in_idr'] / raw_data['length_of_stay']\n",
    "# Step 1: Ganti nilai non-finite dengan 0 atau nilai lain yang sesuai\n",
    "raw_data['booking_earned_in_idr'].replace([np.inf, -np.inf], np.nan, inplace=True)\n",
    "raw_data['booking_earned_in_idr'].fillna(0, inplace=True)\n",
    "\n",
    "# Step 2: Ubah tipe data kolom 'booking_earned_in_idr' menjadi integer\n",
    "raw_data['booking_earned_in_idr'] = raw_data['booking_earned_in_idr'].astype(int)\n",
    "\n",
    "\n",
    "# Step 2: Drop the 'booking_earned_in_idr' column\n"
   ]
  },
  {
   "cell_type": "code",
   "execution_count": 20,
   "metadata": {},
   "outputs": [
    {
     "name": "stdout",
     "output_type": "stream",
     "text": [
      "<class 'pandas.core.frame.DataFrame'>\n",
      "RangeIndex: 56825 entries, 0 to 56824\n",
      "Data columns (total 37 columns):\n",
      " #   Column                    Non-Null Count  Dtype  \n",
      "---  ------                    --------------  -----  \n",
      " 0   booking_status            56825 non-null  int64  \n",
      " 1   booking_guest_number      56825 non-null  float64\n",
      " 2   booking_currency          56825 non-null  int64  \n",
      " 3   listing_id                56825 non-null  int32  \n",
      " 4   review_sentiment          56825 non-null  int32  \n",
      " 5   review_sentiment_score    56825 non-null  float64\n",
      " 6   booking_earned_in_idr     56825 non-null  int32  \n",
      " 7   length_of_stay            56825 non-null  int64  \n",
      " 8   seasonality               56825 non-null  int64  \n",
      " 9   average_daily_rate        56825 non-null  float64\n",
      " 10  unit_id                   56825 non-null  int64  \n",
      " 11  bedroom                   56825 non-null  float64\n",
      " 12  bathroom                  56825 non-null  float64\n",
      " 13  beds                      56825 non-null  float64\n",
      " 14  capacity                  56825 non-null  float64\n",
      " 15  property_id               56825 non-null  int32  \n",
      " 16  avg_daily_rate_per_unit   56825 non-null  float64\n",
      " 17  wifi                      56825 non-null  float64\n",
      " 18  tv                        56825 non-null  float64\n",
      " 19  cable_tv                  56825 non-null  float64\n",
      " 20  ac                        56825 non-null  float64\n",
      " 21  workspace                 56825 non-null  float64\n",
      " 22  pool                      56825 non-null  float64\n",
      " 23  parking                   56825 non-null  float64\n",
      " 24  gym                       56825 non-null  float64\n",
      " 25  kitchen                   56825 non-null  float64\n",
      " 26  property_id1              56825 non-null  int32  \n",
      " 27  area_id                   56825 non-null  int32  \n",
      " 28  area_name                 56825 non-null  int32  \n",
      " 29  area_distance_to_airport  56825 non-null  float64\n",
      " 30  airport_pickup_price_idr  56825 non-null  float64\n",
      " 31  booking_check_in_date     56825 non-null  float64\n",
      " 32  booking_check_in_month    56825 non-null  float64\n",
      " 33  booking_check_in_year     56825 non-null  float64\n",
      " 34  booking_check_out_date    56825 non-null  int32  \n",
      " 35  booking_check_out_month   56825 non-null  float64\n",
      " 36  booking_check_out_year    56825 non-null  float64\n",
      "dtypes: float64(24), int32(8), int64(5)\n",
      "memory usage: 14.3 MB\n"
     ]
    }
   ],
   "source": [
    "data = raw_data\n",
    "data.info()"
   ]
  },
  {
   "cell_type": "code",
   "execution_count": 21,
   "metadata": {},
   "outputs": [
    {
     "data": {
      "text/plain": [
       "booking_status              0\n",
       "booking_guest_number        0\n",
       "booking_currency            0\n",
       "listing_id                  0\n",
       "review_sentiment            0\n",
       "review_sentiment_score      0\n",
       "booking_earned_in_idr       0\n",
       "length_of_stay              0\n",
       "seasonality                 0\n",
       "average_daily_rate          0\n",
       "unit_id                     0\n",
       "bedroom                     0\n",
       "bathroom                    0\n",
       "beds                        0\n",
       "capacity                    0\n",
       "property_id                 0\n",
       "avg_daily_rate_per_unit     0\n",
       "wifi                        0\n",
       "tv                          0\n",
       "cable_tv                    0\n",
       "ac                          0\n",
       "workspace                   0\n",
       "pool                        0\n",
       "parking                     0\n",
       "gym                         0\n",
       "kitchen                     0\n",
       "property_id1                0\n",
       "area_id                     0\n",
       "area_name                   0\n",
       "area_distance_to_airport    0\n",
       "airport_pickup_price_idr    0\n",
       "booking_check_in_date       0\n",
       "booking_check_in_month      0\n",
       "booking_check_in_year       0\n",
       "booking_check_out_date      0\n",
       "booking_check_out_month     0\n",
       "booking_check_out_year      0\n",
       "dtype: int64"
      ]
     },
     "execution_count": 21,
     "metadata": {},
     "output_type": "execute_result"
    }
   ],
   "source": [
    "data.isnull().sum()"
   ]
  },
  {
   "cell_type": "code",
   "execution_count": null,
   "metadata": {},
   "outputs": [],
   "source": []
  },
  {
   "cell_type": "code",
   "execution_count": 22,
   "metadata": {},
   "outputs": [
    {
     "name": "stdout",
     "output_type": "stream",
     "text": [
      "Dimensi data latih: (45460, 36) (45460,)\n",
      "Dimensi data uji: (11365, 36) (11365,)\n"
     ]
    }
   ],
   "source": [
    "from sklearn.model_selection import train_test_split\n",
    "\n",
    "# Memisahkan fitur-fitur dan target\n",
    "X = data.drop(columns=['booking_earned_in_idr'])\n",
    "y = data['booking_earned_in_idr']\n",
    "\n",
    "# Memisahkan data menjadi data latih dan data uji\n",
    "X_train, X_test, y_train, y_test = train_test_split(X, y, test_size=0.2, random_state=42)\n",
    "\n",
    "# Menampilkan dimensi dari data latih dan data uji\n",
    "print(\"Dimensi data latih:\", X_train.shape, y_train.shape)\n",
    "print(\"Dimensi data uji:\", X_test.shape, y_test.shape)"
   ]
  },
  {
   "cell_type": "code",
   "execution_count": 23,
   "metadata": {},
   "outputs": [],
   "source": [
    "y = data['booking_earned_in_idr']\n",
    "x = data.drop('booking_earned_in_idr', axis=1)"
   ]
  },
  {
   "cell_type": "code",
   "execution_count": 24,
   "metadata": {},
   "outputs": [],
   "source": [
    "# apply transformation since it is skewed as we saw in the eda phase\n",
    "data['booking_earned_in_idr'] = np.log1p(data['booking_earned_in_idr'])"
   ]
  },
  {
   "cell_type": "code",
   "execution_count": 25,
   "metadata": {},
   "outputs": [],
   "source": [
    "from sklearn.preprocessing import MinMaxScaler\n",
    "# Inisialisasi MinMaxScaler\n",
    "scaler = MinMaxScaler()\n",
    "\n",
    "# Terapkan normalisasi Min-Max pada fitur numerik\n",
    "x_scaled = pd.DataFrame(scaler.fit_transform(x), columns=x.columns)\n",
    "\n",
    "# Gabungkan kembali fitur yang sudah dinormalisasi dengan label\n",
    "data_normalized = pd.concat([x_scaled, y.reset_index(drop=True)], axis=1)"
   ]
  },
  {
   "cell_type": "code",
   "execution_count": 26,
   "metadata": {},
   "outputs": [],
   "source": [
    "# apply polynomial since the features are not very linear with the label, and set the degree to 2 to prevent overfitting\n",
    "poly = PolynomialFeatures(degree=2, include_bias=False)\n",
    "X_train_poly = poly.fit_transform(x)"
   ]
  },
  {
   "cell_type": "markdown",
   "metadata": {},
   "source": [
    "### MODELING"
   ]
  },
  {
   "cell_type": "code",
   "execution_count": 27,
   "metadata": {},
   "outputs": [],
   "source": [
    "from sklearn.metrics import mean_absolute_error, r2_score\n",
    "import numpy as np\n",
    "from sklearn.linear_model import BayesianRidge\n",
    "from sklearn.model_selection import RepeatedKFold\n",
    "import pandas as pd\n",
    "\n",
    "class Model:\n",
    "    def __init__(self, x, y, n_splits, repeated, rdm_seed, model, params):\n",
    "        self.x = x\n",
    "        self.y = y\n",
    "        self.n_splits = n_splits\n",
    "        self.repeated = repeated\n",
    "        self.rdm_seed = rdm_seed\n",
    "        self.model = model\n",
    "        self.params = params\n",
    "        self.cv_splitter = None\n",
    "        self.best_model = None\n",
    "        self.best_rmse = float('inf')\n",
    "        self.best_mae = float('inf')  # Initialize best_mae attribute\n",
    "\n",
    "    def split_data(self):\n",
    "        cv = RepeatedKFold(n_splits=self.n_splits, n_repeats=self.repeated, random_state=self.rdm_seed)\n",
    "        for fold, (train_idx, val_idx) in enumerate(cv.split(self.x, self.y)):\n",
    "            X_train = self.x[train_idx]\n",
    "            X_val = self.x[val_idx]\n",
    "            y_train = self.y[train_idx]\n",
    "            y_val = self.y[val_idx]\n",
    "            yield X_train, X_val, y_train, y_val\n",
    "\n",
    "    def fit(self, key):\n",
    "        mae_per_fold = []\n",
    "        r2_per_fold = []\n",
    "        self.cv_splitter = self.split_data()\n",
    "\n",
    "        for fold, (X_train, X_val, y_train, y_val) in enumerate(self.cv_splitter):\n",
    "            model = self.model(**self.params)  # Define model outside if-elif block\n",
    "            if key == 'xgb':\n",
    "                model.fit(X_train, y_train, eval_set=[(X_val, y_val)], eval_metric='mae', early_stopping_rounds=100, verbose=False)\n",
    "            elif key == 'adaboost':\n",
    "                model = self._fit_adaboost(X_train, y_train)\n",
    "            elif key == 'lgb':\n",
    "                model.fit(X_train, y_train, eval_set=[(X_val, y_val)], eval_metric='mae')\n",
    "            elif key == 'cat':\n",
    "                model = CatBoostRegressor(**self.params, loss_function='MAE')\n",
    "                model.fit(X_train, y_train, eval_set=[(X_val, y_val)], verbose=False)\n",
    "            elif key == 'bayesian_ridge':\n",
    "                model = BayesianRidge(**self.params)\n",
    "                model.fit(X_train, y_train)\n",
    "            elif key in ['linear', 'ridge', 'lasso', 'svr']:\n",
    "                model.fit(X_train, y_train)\n",
    "\n",
    "            y_val_preds = model.predict(X_val)\n",
    "            mae = mean_absolute_error(y_val, y_val_preds)\n",
    "            r2 = r2_score(y_val, y_val_preds)\n",
    "\n",
    "            print(f\"FOLD {fold} | MAE: {mae:.5f} | R2: {r2:.5f}\")\n",
    "            mae_per_fold.append(mae)\n",
    "            r2_per_fold.append(r2)\n",
    "\n",
    "            # Select the model with the lowest MAE\n",
    "            if mae < self.best_mae:\n",
    "                self.best_mae = mae\n",
    "                self.best_model = model\n",
    "\n",
    "        print(f\"Average MAE across all folds: {np.mean(mae_per_fold):.5f}\")\n",
    "        print(f\"Average R2 across all folds: {np.mean(r2_per_fold):.5f}\")\n",
    "\n",
    "    def predict(self):\n",
    "        if self.best_model is None:\n",
    "            raise ValueError(\"Model has not been trained yet. Call 'fit()' method first.\")\n",
    "\n",
    "        all_mae = []\n",
    "        all_r2 = []\n",
    "        y_preds_list = []\n",
    "        y_val_list = []\n",
    "\n",
    "        for fold, (X_train, X_val, y_train, y_val) in enumerate(self.split_data()):\n",
    "            y_preds = self.best_model.predict(X_val)\n",
    "            mae = mean_absolute_error(y_val, y_preds)\n",
    "            r2 = r2_score(y_val, y_preds)\n",
    "            all_mae.append(mae)\n",
    "            all_r2.append(r2)\n",
    "            y_preds_list.append(y_preds)\n",
    "            y_val_list.append(y_val)\n",
    "\n",
    "            print(f\"FOLD {fold} | MAE: {mae:.5f} | R2: {r2:.5f}\")\n",
    "\n",
    "        avg_mae = np.mean(all_mae)\n",
    "        avg_r2 = np.mean(all_r2)\n",
    "        print(f'Average MAE Val: {avg_mae:.5f} | Average R2 Val: {avg_r2:.5f}')\n",
    "        return all_mae, all_r2, y_preds_list, y_val_list\n",
    "\n",
    "    def feature_importance(self):\n",
    "        feature_importances = self.best_model.feature_importances_\n",
    "        n_original_features = len(x.columns)\n",
    "        polynomial_feature_indices = np.arange(n_original_features, self.x.shape[1])\n",
    "        polynomial_feature_names = [f\"Poly_{i}\" for i in polynomial_feature_indices]\n",
    "        all_feature_names = list(x.columns) + polynomial_feature_names\n",
    "        feature_importances_df = pd.DataFrame({'feature_weight': feature_importances}, index=all_feature_names)\n",
    "        feature_importances_df = feature_importances_df.sort_values('feature_weight', ascending=False)\n",
    "        return feature_importances_df\n",
    "\n",
    "    def inverse(self, y_preds, y_val):\n",
    "        y_preds = np.expm1(y_preds)\n",
    "        y_val = np.expm1(y_val)\n",
    "        return y_preds, y_val\n"
   ]
  },
  {
   "cell_type": "code",
   "execution_count": 28,
   "metadata": {},
   "outputs": [],
   "source": [
    "    def split_data(self):\n",
    "        cv = RepeatedKFold(n_splits=self.n_splits, n_repeats=self.repeated, random_state=self.rdm_seed)\n",
    "        for fold, (train_idx, val_idx) in enumerate(cv.split(self.x, self.y)):\n",
    "            X_train = self.x.iloc[train_idx]\n",
    "            X_val = self.x.iloc[val_idx]\n",
    "            y_train = self.y.iloc[train_idx]\n",
    "            y_val = self.y.iloc[val_idx]\n",
    "            yield X_train, X_val, y_train, y_val\n"
   ]
  },
  {
   "cell_type": "code",
   "execution_count": 29,
   "metadata": {},
   "outputs": [],
   "source": [
    "    def fit(self, key):\n",
    "        if key == 'xgb':\n",
    "            self._fit_xgb()\n",
    "        elif key == 'lgb':\n",
    "            self._fit_lgb()\n",
    "        elif key == 'cat':\n",
    "            self._fit_cat()\n",
    "\n"
   ]
  },
  {
   "cell_type": "code",
   "execution_count": 30,
   "metadata": {},
   "outputs": [],
   "source": [
    "def _fit_xgb(self):\n",
    "    import xgboost as xgb\n",
    "    mae_per_fold = []\n",
    "    r2_per_fold = []\n",
    "    self.cv_splitter = self.split_data()\n",
    "\n",
    "    for fold, (X_train, X_val, y_train, y_val) in enumerate(self.cv_splitter):\n",
    "        model = xgb.XGBRegressor(**self.params)\n",
    "        model.fit(X_train, y_train, eval_set=[(X_val, y_val)], eval_metric='mae', early_stopping_rounds=100, verbose=False)\n",
    "        eval_results = model.evals_result()\n",
    "        val_mae = eval_results['validation_0']['mae'][-1]\n",
    "        \n",
    "        y_val_preds = model.predict(X_val)\n",
    "        val_r2 = r2_score(y_val, y_val_preds)\n",
    "\n",
    "        if val_mae < self.best_mae:\n",
    "            self.best_mae = val_mae\n",
    "            self.best_model = model\n",
    "\n",
    "        print(f\"FOLD {fold} | MAE: {val_mae:.5f} | R2: {val_r2:.5f}\")\n",
    "        mae_per_fold.append(val_mae)\n",
    "        r2_per_fold.append(val_r2)\n",
    "\n",
    "    print(f\"Average MAE across all folds: {np.mean(mae_per_fold):.5f}\")\n",
    "    print(f\"Average R2 across all folds: {np.mean(r2_per_fold):.5f}\")"
   ]
  },
  {
   "cell_type": "code",
   "execution_count": 31,
   "metadata": {},
   "outputs": [],
   "source": [
    "    def _fit_adaboost(self, X_train, y_train):\n",
    "        from sklearn.ensemble import AdaBoostRegressor\n",
    "        base_estimator = DecisionTreeRegressor(max_depth=1)\n",
    "        adaboost = AdaBoostRegressor(base_estimator=base_estimator, **self.params)\n",
    "        adaboost.fit(X_train, y_train)\n",
    "        return adaboost"
   ]
  },
  {
   "cell_type": "code",
   "execution_count": 32,
   "metadata": {},
   "outputs": [],
   "source": [
    "def _fit_lgb(self):\n",
    "    import lightgbm as lgb\n",
    "    mae_per_fold = []\n",
    "    r2_per_fold = []\n",
    "    self.cv_splitter = self.split_data()\n",
    "\n",
    "    for fold, (X_train, X_val, y_train, y_val) in enumerate(self.cv_splitter):\n",
    "        model = lgb.LGBMRegressor(**self.params)\n",
    "        model.fit(X_train, y_train, eval_set=[(X_val, y_val)], eval_metric='mae', early_stopping_rounds=100)\n",
    "        eval_results = model.evals_result_\n",
    "        val_mae = eval_results['valid_0']['l1'][-1]\n",
    "        \n",
    "        y_val_preds = model.predict(X_val)\n",
    "        val_r2 = r2_score(y_val, y_val_preds)\n",
    "\n",
    "        if val_mae < self.best_mae:\n",
    "            self.best_mae = val_mae\n",
    "            self.best_model = model\n",
    "\n",
    "        print(f\"FOLD {fold} | MAE: {val_mae:.5f} | R2: {val_r2:.5f}\")\n",
    "        mae_per_fold.append(val_mae)\n",
    "        r2_per_fold.append(val_r2)\n",
    "\n",
    "    print(f\"Average MAE across all folds: {np.mean(mae_per_fold):.5f}\")\n",
    "    print(f\"Average R2 across all folds: {np.mean(r2_per_fold):.5f}\")"
   ]
  },
  {
   "cell_type": "code",
   "execution_count": 33,
   "metadata": {},
   "outputs": [],
   "source": [
    "def _fit_cat(self):\n",
    "    from catboost import CatBoostRegressor\n",
    "    from sklearn.metrics import mean_absolute_error, r2_score\n",
    "    rmse_per_fold = []\n",
    "    mae_per_fold = []\n",
    "    r2_per_fold = []\n",
    "    self.cv_splitter = self.split_data()\n",
    "\n",
    "    for fold, (X_train, X_val, y_train, y_val) in enumerate(self.cv_splitter):\n",
    "        model = CatBoostRegressor(**self.params, loss_function='MAE')\n",
    "        model.fit(X_train, y_train, eval_set=[(X_val, y_val)], verbose=False)\n",
    "        y_pred = model.predict(X_val)\n",
    "\n",
    "        val_mae = mean_absolute_error(y_val, y_pred)\n",
    "        val_r2 = r2_score(y_val, y_pred)\n",
    "\n",
    "        print(f\"FOLD {fold} | MAE: {val_mae:.5f} | R²: {val_r2:.5f}\")\n",
    "        mae_per_fold.append(val_mae)\n",
    "        r2_per_fold.append(val_r2)\n",
    "\n",
    "        if val_mae < self.best_mae:\n",
    "            self.best_mae = val_mae\n",
    "            self.best_model = model\n",
    "\n",
    "    print(f\"Average MAE across all folds: {np.mean(mae_per_fold):.5f}\")\n",
    "    print(f\"Average R² across all folds: {np.mean(r2_per_fold):.5f}\")"
   ]
  },
  {
   "cell_type": "code",
   "execution_count": 34,
   "metadata": {},
   "outputs": [],
   "source": [
    "    def predict(self):\n",
    "        self.cv_splitter = self.split_data()\n",
    "        all_rmse = []\n",
    "        all_rmse_train = []\n",
    "        for fold, (X_train, X_val, y_train, y_val) in enumerate(self.cv_splitter):\n",
    "            if self.best_model is None:\n",
    "                raise ValueError(\"Model has not been trained yet. Call 'fit()' method first.\")\n",
    "            else:\n",
    "                y_preds = self.best_model.predict(X_val)\n",
    "                rmse = np.sqrt(mean_squared_error(y_val, y_preds))\n",
    "                all_rmse.append(rmse)\n",
    "\n",
    "                train_preds = self.best_model.predict(X_train)\n",
    "                train_rmse = np.sqrt(mean_squared_error(y_train, train_preds))\n",
    "                all_rmse_train.append(train_rmse)\n",
    "                print(f\"FOLD {fold} | RMSE: {rmse:.5f}\")\n",
    "        avg_rmse = np.mean(all_rmse)\n",
    "        avg_rmse_train = np.mean(all_rmse_train)\n",
    "        print(f'Average RMSE Val: {avg_rmse} | Average RMSE Train: {avg_rmse_train}')\n",
    "        return all_rmse, y_preds, y_val\n"
   ]
  },
  {
   "cell_type": "code",
   "execution_count": 41,
   "metadata": {},
   "outputs": [
    {
     "name": "stdout",
     "output_type": "stream",
     "text": [
      "FOLD 0 | MAE: 6401.57542 | R2: 0.99649\n",
      "FOLD 1 | MAE: 6188.91614 | R2: 0.99876\n",
      "FOLD 2 | MAE: 7629.61184 | R2: 0.99606\n",
      "FOLD 3 | MAE: 5583.44896 | R2: 0.99929\n",
      "FOLD 4 | MAE: 7296.09353 | R2: 0.98558\n",
      "FOLD 5 | MAE: 7502.35414 | R2: 0.98811\n",
      "FOLD 6 | MAE: 7229.51759 | R2: 0.98813\n",
      "FOLD 7 | MAE: 6099.36143 | R2: 0.99818\n",
      "FOLD 8 | MAE: 5677.20435 | R2: 0.99911\n",
      "FOLD 9 | MAE: 5885.34682 | R2: 0.99888\n",
      "FOLD 10 | MAE: 7340.44280 | R2: 0.99270\n",
      "FOLD 11 | MAE: 6292.18970 | R2: 0.99825\n",
      "FOLD 12 | MAE: 6078.85850 | R2: 0.99847\n",
      "FOLD 13 | MAE: 5616.06736 | R2: 0.99945\n",
      "FOLD 14 | MAE: 6350.78060 | R2: 0.99706\n",
      "FOLD 15 | MAE: 6054.57531 | R2: 0.99825\n",
      "FOLD 16 | MAE: 7010.76354 | R2: 0.98479\n",
      "FOLD 17 | MAE: 9590.90662 | R2: 0.98170\n",
      "FOLD 18 | MAE: 5708.01147 | R2: 0.99931\n",
      "FOLD 19 | MAE: 5740.86846 | R2: 0.99929\n",
      "FOLD 20 | MAE: 5486.93529 | R2: 0.99908\n",
      "FOLD 21 | MAE: 5681.91937 | R2: 0.99854\n",
      "FOLD 22 | MAE: 7522.06214 | R2: 0.98858\n",
      "FOLD 23 | MAE: 5882.60939 | R2: 0.99896\n",
      "FOLD 24 | MAE: 6961.49781 | R2: 0.99796\n",
      "FOLD 25 | MAE: 5804.37144 | R2: 0.99957\n",
      "FOLD 26 | MAE: 6790.13351 | R2: 0.98862\n",
      "FOLD 27 | MAE: 9113.97292 | R2: 0.98575\n",
      "FOLD 28 | MAE: 7444.77271 | R2: 0.98944\n",
      "FOLD 29 | MAE: 5779.68939 | R2: 0.99866\n",
      "Average MAE across all folds: 6591.49529\n",
      "Average R2 across all folds: 0.99477\n",
      "FOLD 0 | MAE: 3939.59846 | R2: 0.99993\n",
      "FOLD 1 | MAE: 3932.10563 | R2: 0.99994\n",
      "FOLD 2 | MAE: 4161.08725 | R2: 0.99987\n",
      "FOLD 3 | MAE: 4231.63063 | R2: 0.99983\n",
      "FOLD 4 | MAE: 3894.79030 | R2: 0.99995\n",
      "FOLD 5 | MAE: 4119.00992 | R2: 0.99994\n",
      "FOLD 6 | MAE: 4063.79496 | R2: 0.99988\n",
      "FOLD 7 | MAE: 4403.31830 | R2: 0.99949\n",
      "FOLD 8 | MAE: 4036.99552 | R2: 0.99994\n",
      "FOLD 9 | MAE: 3835.38966 | R2: 0.99995\n",
      "FOLD 10 | MAE: 4244.11922 | R2: 0.99987\n",
      "FOLD 11 | MAE: 3948.79777 | R2: 0.99995\n",
      "FOLD 12 | MAE: 3988.51104 | R2: 0.99993\n",
      "FOLD 13 | MAE: 4012.21641 | R2: 0.99994\n",
      "FOLD 14 | MAE: 4398.51443 | R2: 0.99941\n",
      "FOLD 15 | MAE: 3936.82484 | R2: 0.99994\n",
      "FOLD 16 | MAE: 3973.30463 | R2: 0.99994\n",
      "FOLD 17 | MAE: 4205.92809 | R2: 0.99983\n",
      "FOLD 18 | MAE: 3906.56364 | R2: 0.99994\n",
      "FOLD 19 | MAE: 4002.86437 | R2: 0.99994\n",
      "FOLD 20 | MAE: 5486.93529 | R2: 0.99908\n",
      "FOLD 21 | MAE: 3819.18773 | R2: 0.99995\n",
      "FOLD 22 | MAE: 3985.89455 | R2: 0.99995\n",
      "FOLD 23 | MAE: 3882.41902 | R2: 0.99995\n",
      "FOLD 24 | MAE: 3907.56833 | R2: 0.99995\n",
      "FOLD 25 | MAE: 4004.63262 | R2: 0.99995\n",
      "FOLD 26 | MAE: 3924.64817 | R2: 0.99995\n",
      "FOLD 27 | MAE: 3888.42269 | R2: 0.99996\n",
      "FOLD 28 | MAE: 3815.60466 | R2: 0.99995\n",
      "FOLD 29 | MAE: 3902.24517 | R2: 0.99995\n",
      "Average MAE Val: 4061.76411 | Average R2 Val: 0.99987\n"
     ]
    }
   ],
   "source": [
    "params = {'random_state':42}\n",
    "\n",
    "\n",
    "model_xgb = Model(X_train_poly, y, 10, 3, 42, XGBRegressor, params)\n",
    "model_xgb.fit('xgb')\n",
    "\n",
    "feature_importances_xgb = model_xgb.feature_importance()\n",
    "\n",
    "\n",
    "all_mae_xgb,all_r2_xgb, y_preds, y_val = model_xgb.predict()"
   ]
  },
  {
   "cell_type": "code",
   "execution_count": 38,
   "metadata": {},
   "outputs": [
    {
     "name": "stdout",
     "output_type": "stream",
     "text": [
      "FOLD 0 | MAE: 6540.03413 | R2: 0.99720\n",
      "FOLD 1 | MAE: 5462.05065 | R2: 0.99899\n",
      "FOLD 2 | MAE: 7090.49162 | R2: 0.99452\n",
      "FOLD 3 | MAE: 5704.20504 | R2: 0.99927\n",
      "FOLD 4 | MAE: 6677.53786 | R2: 0.98883\n",
      "FOLD 5 | MAE: 6963.04269 | R2: 0.99304\n",
      "FOLD 6 | MAE: 7994.83822 | R2: 0.98134\n",
      "FOLD 7 | MAE: 6469.45270 | R2: 0.99751\n",
      "FOLD 8 | MAE: 5300.75156 | R2: 0.99898\n",
      "FOLD 9 | MAE: 6098.02872 | R2: 0.99901\n",
      "FOLD 10 | MAE: 6588.12743 | R2: 0.99431\n",
      "FOLD 11 | MAE: 5970.07682 | R2: 0.99867\n",
      "FOLD 12 | MAE: 6362.72742 | R2: 0.99839\n",
      "FOLD 13 | MAE: 5495.34468 | R2: 0.99928\n",
      "FOLD 14 | MAE: 6644.65193 | R2: 0.99488\n",
      "FOLD 15 | MAE: 6740.23184 | R2: 0.99657\n",
      "FOLD 16 | MAE: 6661.79666 | R2: 0.98277\n",
      "FOLD 17 | MAE: 8274.88076 | R2: 0.98796\n",
      "FOLD 18 | MAE: 6418.52326 | R2: 0.99596\n",
      "FOLD 19 | MAE: 5774.57365 | R2: 0.99907\n",
      "FOLD 20 | MAE: 6440.53347 | R2: 0.99629\n",
      "FOLD 21 | MAE: 5794.38102 | R2: 0.99921\n",
      "FOLD 22 | MAE: 8112.76419 | R2: 0.98195\n",
      "FOLD 23 | MAE: 5477.15360 | R2: 0.99932\n",
      "FOLD 24 | MAE: 7450.02727 | R2: 0.99194\n",
      "FOLD 25 | MAE: 5150.22367 | R2: 0.99960\n",
      "FOLD 26 | MAE: 6597.38505 | R2: 0.99117\n",
      "FOLD 27 | MAE: 7402.57941 | R2: 0.99243\n",
      "FOLD 28 | MAE: 6579.23495 | R2: 0.99542\n",
      "FOLD 29 | MAE: 5384.00960 | R2: 0.99914\n",
      "Average MAE across all folds: 6453.98866\n",
      "Average R2 across all folds: 0.99477\n",
      "FOLD 0 | MAE: 5042.11668 | R2: 0.99933\n",
      "FOLD 1 | MAE: 4624.89695 | R2: 0.99968\n",
      "FOLD 2 | MAE: 5186.72406 | R2: 0.99887\n",
      "FOLD 3 | MAE: 4544.46344 | R2: 0.99982\n",
      "FOLD 4 | MAE: 5261.33686 | R2: 0.99748\n",
      "FOLD 5 | MAE: 5875.72077 | R2: 0.99760\n",
      "FOLD 6 | MAE: 5528.92761 | R2: 0.99597\n",
      "FOLD 7 | MAE: 4969.52926 | R2: 0.99947\n",
      "FOLD 8 | MAE: 4855.05688 | R2: 0.99961\n",
      "FOLD 9 | MAE: 4739.91585 | R2: 0.99967\n",
      "FOLD 10 | MAE: 5304.23082 | R2: 0.99817\n",
      "FOLD 11 | MAE: 5100.88869 | R2: 0.99950\n",
      "FOLD 12 | MAE: 4664.25504 | R2: 0.99966\n",
      "FOLD 13 | MAE: 4673.30159 | R2: 0.99975\n",
      "FOLD 14 | MAE: 5150.19511 | R2: 0.99902\n",
      "FOLD 15 | MAE: 4983.25845 | R2: 0.99929\n",
      "FOLD 16 | MAE: 5363.34785 | R2: 0.99590\n",
      "FOLD 17 | MAE: 5862.81687 | R2: 0.99730\n",
      "FOLD 18 | MAE: 5045.85855 | R2: 0.99927\n",
      "FOLD 19 | MAE: 4480.49434 | R2: 0.99980\n",
      "FOLD 20 | MAE: 4623.36606 | R2: 0.99927\n",
      "FOLD 21 | MAE: 4675.85147 | R2: 0.99976\n",
      "FOLD 22 | MAE: 6002.33078 | R2: 0.99611\n",
      "FOLD 23 | MAE: 4513.07504 | R2: 0.99980\n",
      "FOLD 24 | MAE: 5122.96422 | R2: 0.99931\n",
      "FOLD 25 | MAE: 5150.22367 | R2: 0.99960\n",
      "FOLD 26 | MAE: 5311.36954 | R2: 0.99756\n",
      "FOLD 27 | MAE: 5522.64948 | R2: 0.99795\n",
      "FOLD 28 | MAE: 5125.87428 | R2: 0.99926\n",
      "FOLD 29 | MAE: 4580.93487 | R2: 0.99968\n",
      "Average MAE Val: 5062.86584 | Average R2 Val: 0.99878\n"
     ]
    }
   ],
   "source": [
    "params = {'random_state':42,'verbosity':-1}\n",
    "model_lgbm = Model(X_train_poly, y, 10, 3, 42, lgbm.LGBMRegressor, params)\n",
    "\n",
    "\n",
    "# Fit the model using RepeatedKFold\n",
    "model_lgbm.fit('lgb')\n",
    "\n",
    "all_mae_lgb,all_r2_lgb, y_preds, y_val = model_lgbm.predict()\n",
    "feature_importances_lgbm = model_lgbm.feature_importance()\n"
   ]
  },
  {
   "cell_type": "code",
   "execution_count": 51,
   "metadata": {},
   "outputs": [
    {
     "name": "stdout",
     "output_type": "stream",
     "text": [
      "FOLD 0 | MAE: 119393.30064 | R2: 0.93897\n",
      "FOLD 1 | MAE: 123820.95880 | R2: 0.94062\n",
      "FOLD 2 | MAE: 120070.71352 | R2: 0.94727\n",
      "FOLD 3 | MAE: 115722.66229 | R2: 0.95215\n",
      "FOLD 4 | MAE: 123381.78883 | R2: 0.92608\n",
      "FOLD 5 | MAE: 119919.06444 | R2: 0.93422\n",
      "FOLD 6 | MAE: 120393.04534 | R2: 0.94636\n",
      "FOLD 7 | MAE: 121117.42175 | R2: 0.94612\n",
      "FOLD 8 | MAE: 118741.43504 | R2: 0.94503\n",
      "FOLD 9 | MAE: 119578.82481 | R2: 0.93943\n",
      "FOLD 10 | MAE: 121748.01091 | R2: 0.65386\n",
      "FOLD 11 | MAE: 117993.04337 | R2: 0.94404\n",
      "FOLD 12 | MAE: 123857.55160 | R2: 0.93602\n",
      "FOLD 13 | MAE: 121320.89992 | R2: 0.94004\n",
      "FOLD 14 | MAE: 122398.54676 | R2: 0.94339\n",
      "FOLD 15 | MAE: 121751.43297 | R2: 0.94152\n",
      "FOLD 16 | MAE: 119240.86953 | R2: 0.94564\n",
      "FOLD 17 | MAE: 118219.16920 | R2: 0.93740\n",
      "FOLD 18 | MAE: 119627.72528 | R2: 0.94197\n",
      "FOLD 19 | MAE: 124442.13758 | R2: 0.91023\n",
      "FOLD 20 | MAE: 118044.70001 | R2: 0.94295\n",
      "FOLD 21 | MAE: 119963.21424 | R2: 0.94011\n",
      "FOLD 22 | MAE: 118015.64960 | R2: 0.95397\n",
      "FOLD 23 | MAE: 121877.58256 | R2: 0.90848\n",
      "FOLD 24 | MAE: 122322.09383 | R2: 0.93870\n",
      "FOLD 25 | MAE: 118946.64531 | R2: 0.94635\n",
      "FOLD 26 | MAE: 123018.75010 | R2: 0.92877\n",
      "FOLD 27 | MAE: 123803.36287 | R2: 0.94052\n",
      "FOLD 28 | MAE: 118379.54127 | R2: 0.94232\n",
      "FOLD 29 | MAE: 120948.20318 | R2: 0.92860\n",
      "Average MAE across all folds: 120601.94485\n",
      "Average R2 across all folds: 0.92937\n",
      "FOLD 0 | MAE: 116498.56661 | R2: 0.94366\n",
      "FOLD 1 | MAE: 123103.09787 | R2: 0.94174\n",
      "FOLD 2 | MAE: 118896.50845 | R2: 0.94823\n",
      "FOLD 3 | MAE: 115722.66229 | R2: 0.95215\n",
      "FOLD 4 | MAE: 121122.26578 | R2: 0.93564\n",
      "FOLD 5 | MAE: 117956.75696 | R2: 0.93695\n",
      "FOLD 6 | MAE: 119547.84639 | R2: 0.94732\n",
      "FOLD 7 | MAE: 120840.31088 | R2: 0.94694\n",
      "FOLD 8 | MAE: 116790.23507 | R2: 0.94708\n",
      "FOLD 9 | MAE: 117623.21257 | R2: 0.94321\n",
      "FOLD 10 | MAE: 112847.13109 | R2: 0.94721\n",
      "FOLD 11 | MAE: 116703.48070 | R2: 0.94575\n",
      "FOLD 12 | MAE: 120777.23094 | R2: 0.94491\n",
      "FOLD 13 | MAE: 121290.03007 | R2: 0.94066\n",
      "FOLD 14 | MAE: 121797.92834 | R2: 0.94419\n",
      "FOLD 15 | MAE: 121111.15163 | R2: 0.94257\n",
      "FOLD 16 | MAE: 117796.35903 | R2: 0.94659\n",
      "FOLD 17 | MAE: 116577.67147 | R2: 0.94355\n",
      "FOLD 18 | MAE: 118369.92696 | R2: 0.94402\n",
      "FOLD 19 | MAE: 120830.89183 | R2: 0.94495\n",
      "FOLD 20 | MAE: 116650.51023 | R2: 0.94484\n",
      "FOLD 21 | MAE: 119352.55297 | R2: 0.94124\n",
      "FOLD 22 | MAE: 116876.03009 | R2: 0.95469\n",
      "FOLD 23 | MAE: 118308.93790 | R2: 0.94334\n",
      "FOLD 24 | MAE: 120895.11742 | R2: 0.94301\n",
      "FOLD 25 | MAE: 117653.43950 | R2: 0.94735\n",
      "FOLD 26 | MAE: 120972.79786 | R2: 0.93669\n",
      "FOLD 27 | MAE: 123330.74156 | R2: 0.94263\n",
      "FOLD 28 | MAE: 116356.84802 | R2: 0.94639\n",
      "FOLD 29 | MAE: 117705.06104 | R2: 0.94293\n",
      "Average MAE Val: 118810.17672 | Average R2 Val: 0.94435\n"
     ]
    }
   ],
   "source": [
    "from sklearn.linear_model import LinearRegression, Ridge, Lasso\n",
    "# Parameter untuk Ridge Regression\n",
    "params_ridge = {'alpha': 1.0}\n",
    "model_ridge = Model(X_train_poly, y, 10, 3, 42, Ridge, params_ridge)\n",
    "model_ridge.fit('ridge')\n",
    "all_mae_ridge,all_r2_ridge, y_preds_ridge, y_val_ridge = model_ridge.predict()"
   ]
  },
  {
   "cell_type": "code",
   "execution_count": 40,
   "metadata": {},
   "outputs": [
    {
     "name": "stdout",
     "output_type": "stream",
     "text": [
      "FOLD 0 | MAE: 119999.86909 | R2: 0.93808\n",
      "FOLD 1 | MAE: 125078.71906 | R2: 0.94045\n",
      "FOLD 2 | MAE: 121037.61472 | R2: 0.94547\n",
      "FOLD 3 | MAE: 115725.25588 | R2: 0.95210\n",
      "FOLD 4 | MAE: 123316.93685 | R2: 0.92656\n",
      "FOLD 5 | MAE: 119906.65627 | R2: 0.93420\n",
      "FOLD 6 | MAE: 121163.39837 | R2: 0.94622\n",
      "FOLD 7 | MAE: 122204.73064 | R2: 0.94593\n",
      "FOLD 8 | MAE: 120809.50619 | R2: 0.94489\n",
      "FOLD 9 | MAE: 123662.33227 | R2: 0.89293\n",
      "FOLD 10 | MAE: 114807.93950 | R2: 0.94401\n",
      "FOLD 11 | MAE: 118319.76376 | R2: 0.94387\n",
      "FOLD 12 | MAE: 124021.00826 | R2: 0.93694\n",
      "FOLD 13 | MAE: 121763.56172 | R2: 0.93980\n",
      "FOLD 14 | MAE: 122805.02858 | R2: 0.94334\n",
      "FOLD 15 | MAE: 122765.92493 | R2: 0.94124\n",
      "FOLD 16 | MAE: 119946.28655 | R2: 0.94546\n",
      "FOLD 17 | MAE: 122235.85395 | R2: 0.87204\n",
      "FOLD 18 | MAE: 119993.09980 | R2: 0.94178\n",
      "FOLD 19 | MAE: 124227.92782 | R2: 0.92680\n",
      "FOLD 20 | MAE: 119073.44692 | R2: 0.94286\n",
      "FOLD 21 | MAE: 120317.59586 | R2: 0.93990\n",
      "FOLD 22 | MAE: 119270.92037 | R2: 0.95370\n",
      "FOLD 23 | MAE: 120345.92429 | R2: 0.94022\n",
      "FOLD 24 | MAE: 124140.08760 | R2: 0.91801\n",
      "FOLD 25 | MAE: 119293.47396 | R2: 0.94612\n",
      "FOLD 26 | MAE: 124752.36774 | R2: 0.92747\n",
      "FOLD 27 | MAE: 124109.74484 | R2: 0.94056\n",
      "FOLD 28 | MAE: 119132.34408 | R2: 0.93826\n",
      "FOLD 29 | MAE: 121336.57659 | R2: 0.93261\n",
      "Average MAE across all folds: 121185.46322\n",
      "Average R2 across all folds: 0.93606\n",
      "FOLD 0 | MAE: 117181.45216 | R2: 0.94339\n",
      "FOLD 1 | MAE: 123463.89937 | R2: 0.94145\n",
      "FOLD 2 | MAE: 120072.09753 | R2: 0.94632\n",
      "FOLD 3 | MAE: 114465.22441 | R2: 0.95302\n",
      "FOLD 4 | MAE: 121501.02355 | R2: 0.93546\n",
      "FOLD 5 | MAE: 118330.59718 | R2: 0.93645\n",
      "FOLD 6 | MAE: 119808.20195 | R2: 0.94719\n",
      "FOLD 7 | MAE: 121401.87617 | R2: 0.94675\n",
      "FOLD 8 | MAE: 117161.47929 | R2: 0.94688\n",
      "FOLD 9 | MAE: 117811.20012 | R2: 0.94295\n",
      "FOLD 10 | MAE: 114807.93950 | R2: 0.94401\n",
      "FOLD 11 | MAE: 116810.58539 | R2: 0.94568\n",
      "FOLD 12 | MAE: 120785.43805 | R2: 0.94496\n",
      "FOLD 13 | MAE: 121640.24408 | R2: 0.94068\n",
      "FOLD 14 | MAE: 121613.21500 | R2: 0.94446\n",
      "FOLD 15 | MAE: 121178.82603 | R2: 0.94256\n",
      "FOLD 16 | MAE: 117967.67427 | R2: 0.94676\n",
      "FOLD 17 | MAE: 116919.26364 | R2: 0.94350\n",
      "FOLD 18 | MAE: 118507.64789 | R2: 0.94392\n",
      "FOLD 19 | MAE: 120966.39850 | R2: 0.94502\n",
      "FOLD 20 | MAE: 116755.29032 | R2: 0.94493\n",
      "FOLD 21 | MAE: 119684.86834 | R2: 0.94110\n",
      "FOLD 22 | MAE: 117276.67742 | R2: 0.95459\n",
      "FOLD 23 | MAE: 118991.61851 | R2: 0.94166\n",
      "FOLD 24 | MAE: 121083.22618 | R2: 0.94302\n",
      "FOLD 25 | MAE: 117848.41178 | R2: 0.94727\n",
      "FOLD 26 | MAE: 121275.68860 | R2: 0.93649\n",
      "FOLD 27 | MAE: 123415.91753 | R2: 0.94221\n",
      "FOLD 28 | MAE: 116810.54425 | R2: 0.94598\n",
      "FOLD 29 | MAE: 118055.31778 | R2: 0.94289\n",
      "Average MAE Val: 119119.72816 | Average R2 Val: 0.94405\n"
     ]
    }
   ],
   "source": [
    "# Parameter untuk Linear Regression\n",
    "params_linear = {}\n",
    "model_linear = Model(X_train_poly, y, 10, 3, 42, LinearRegression, params_linear)\n",
    "model_linear.fit('linear')\n",
    "\n",
    "all_mae_linear,all_r2_linier, y_preds_linear, y_val_linear = model_linear.predict()"
   ]
  },
  {
   "cell_type": "code",
   "execution_count": 49,
   "metadata": {},
   "outputs": [
    {
     "data": {
      "application/vnd.plotly.v1+json": {
       "config": {
        "plotlyServerURL": "https://plot.ly"
       },
       "data": [
        {
         "alignmentgroup": "True",
         "hovertemplate": "x=%{x}<br>y=%{y}<extra></extra>",
         "legendgroup": "",
         "marker": {
          "color": [
           "lightseagreen",
           "gray",
           "gray",
           "gray",
           "gray",
           "gray",
           "gray",
           "gray",
           "gray",
           "lightsalmon"
          ],
          "pattern": {
           "shape": ""
          }
         },
         "name": "",
         "offsetgroup": "",
         "orientation": "h",
         "showlegend": false,
         "textposition": "auto",
         "type": "bar",
         "x": [
          0.22475914657115936,
          0.0022695818915963173,
          0.00019288253679405898,
          0.0000782912757131271,
          0.00006630604184465483,
          0.00004896437530987896,
          0.000048555561079410836,
          0.00003229455614928156,
          0.000026205976610071957,
          0.0000254032202064991
         ],
         "xaxis": "x",
         "y": [
          "average_daily_rate",
          "length_of_stay",
          "area_name",
          "property_id",
          "bedroom",
          "avg_daily_rate_per_unit",
          "booking_status",
          "listing_id",
          "area_id",
          "capacity"
         ],
         "yaxis": "y"
        }
       ],
       "layout": {
        "autosize": false,
        "barmode": "relative",
        "font": {
         "family": "San Serif"
        },
        "height": 500,
        "legend": {
         "tracegroupgap": 0
        },
        "margin": {
         "b": 100,
         "l": 150,
         "r": 100,
         "t": 100
        },
        "template": {
         "data": {
          "bar": [
           {
            "error_x": {
             "color": "#2a3f5f"
            },
            "error_y": {
             "color": "#2a3f5f"
            },
            "marker": {
             "line": {
              "color": "#E5ECF6",
              "width": 0.5
             },
             "pattern": {
              "fillmode": "overlay",
              "size": 10,
              "solidity": 0.2
             }
            },
            "type": "bar"
           }
          ],
          "barpolar": [
           {
            "marker": {
             "line": {
              "color": "#E5ECF6",
              "width": 0.5
             },
             "pattern": {
              "fillmode": "overlay",
              "size": 10,
              "solidity": 0.2
             }
            },
            "type": "barpolar"
           }
          ],
          "carpet": [
           {
            "aaxis": {
             "endlinecolor": "#2a3f5f",
             "gridcolor": "white",
             "linecolor": "white",
             "minorgridcolor": "white",
             "startlinecolor": "#2a3f5f"
            },
            "baxis": {
             "endlinecolor": "#2a3f5f",
             "gridcolor": "white",
             "linecolor": "white",
             "minorgridcolor": "white",
             "startlinecolor": "#2a3f5f"
            },
            "type": "carpet"
           }
          ],
          "choropleth": [
           {
            "colorbar": {
             "outlinewidth": 0,
             "ticks": ""
            },
            "type": "choropleth"
           }
          ],
          "contour": [
           {
            "colorbar": {
             "outlinewidth": 0,
             "ticks": ""
            },
            "colorscale": [
             [
              0,
              "#0d0887"
             ],
             [
              0.1111111111111111,
              "#46039f"
             ],
             [
              0.2222222222222222,
              "#7201a8"
             ],
             [
              0.3333333333333333,
              "#9c179e"
             ],
             [
              0.4444444444444444,
              "#bd3786"
             ],
             [
              0.5555555555555556,
              "#d8576b"
             ],
             [
              0.6666666666666666,
              "#ed7953"
             ],
             [
              0.7777777777777778,
              "#fb9f3a"
             ],
             [
              0.8888888888888888,
              "#fdca26"
             ],
             [
              1,
              "#f0f921"
             ]
            ],
            "type": "contour"
           }
          ],
          "contourcarpet": [
           {
            "colorbar": {
             "outlinewidth": 0,
             "ticks": ""
            },
            "type": "contourcarpet"
           }
          ],
          "heatmap": [
           {
            "colorbar": {
             "outlinewidth": 0,
             "ticks": ""
            },
            "colorscale": [
             [
              0,
              "#0d0887"
             ],
             [
              0.1111111111111111,
              "#46039f"
             ],
             [
              0.2222222222222222,
              "#7201a8"
             ],
             [
              0.3333333333333333,
              "#9c179e"
             ],
             [
              0.4444444444444444,
              "#bd3786"
             ],
             [
              0.5555555555555556,
              "#d8576b"
             ],
             [
              0.6666666666666666,
              "#ed7953"
             ],
             [
              0.7777777777777778,
              "#fb9f3a"
             ],
             [
              0.8888888888888888,
              "#fdca26"
             ],
             [
              1,
              "#f0f921"
             ]
            ],
            "type": "heatmap"
           }
          ],
          "heatmapgl": [
           {
            "colorbar": {
             "outlinewidth": 0,
             "ticks": ""
            },
            "colorscale": [
             [
              0,
              "#0d0887"
             ],
             [
              0.1111111111111111,
              "#46039f"
             ],
             [
              0.2222222222222222,
              "#7201a8"
             ],
             [
              0.3333333333333333,
              "#9c179e"
             ],
             [
              0.4444444444444444,
              "#bd3786"
             ],
             [
              0.5555555555555556,
              "#d8576b"
             ],
             [
              0.6666666666666666,
              "#ed7953"
             ],
             [
              0.7777777777777778,
              "#fb9f3a"
             ],
             [
              0.8888888888888888,
              "#fdca26"
             ],
             [
              1,
              "#f0f921"
             ]
            ],
            "type": "heatmapgl"
           }
          ],
          "histogram": [
           {
            "marker": {
             "pattern": {
              "fillmode": "overlay",
              "size": 10,
              "solidity": 0.2
             }
            },
            "type": "histogram"
           }
          ],
          "histogram2d": [
           {
            "colorbar": {
             "outlinewidth": 0,
             "ticks": ""
            },
            "colorscale": [
             [
              0,
              "#0d0887"
             ],
             [
              0.1111111111111111,
              "#46039f"
             ],
             [
              0.2222222222222222,
              "#7201a8"
             ],
             [
              0.3333333333333333,
              "#9c179e"
             ],
             [
              0.4444444444444444,
              "#bd3786"
             ],
             [
              0.5555555555555556,
              "#d8576b"
             ],
             [
              0.6666666666666666,
              "#ed7953"
             ],
             [
              0.7777777777777778,
              "#fb9f3a"
             ],
             [
              0.8888888888888888,
              "#fdca26"
             ],
             [
              1,
              "#f0f921"
             ]
            ],
            "type": "histogram2d"
           }
          ],
          "histogram2dcontour": [
           {
            "colorbar": {
             "outlinewidth": 0,
             "ticks": ""
            },
            "colorscale": [
             [
              0,
              "#0d0887"
             ],
             [
              0.1111111111111111,
              "#46039f"
             ],
             [
              0.2222222222222222,
              "#7201a8"
             ],
             [
              0.3333333333333333,
              "#9c179e"
             ],
             [
              0.4444444444444444,
              "#bd3786"
             ],
             [
              0.5555555555555556,
              "#d8576b"
             ],
             [
              0.6666666666666666,
              "#ed7953"
             ],
             [
              0.7777777777777778,
              "#fb9f3a"
             ],
             [
              0.8888888888888888,
              "#fdca26"
             ],
             [
              1,
              "#f0f921"
             ]
            ],
            "type": "histogram2dcontour"
           }
          ],
          "mesh3d": [
           {
            "colorbar": {
             "outlinewidth": 0,
             "ticks": ""
            },
            "type": "mesh3d"
           }
          ],
          "parcoords": [
           {
            "line": {
             "colorbar": {
              "outlinewidth": 0,
              "ticks": ""
             }
            },
            "type": "parcoords"
           }
          ],
          "pie": [
           {
            "automargin": true,
            "type": "pie"
           }
          ],
          "scatter": [
           {
            "fillpattern": {
             "fillmode": "overlay",
             "size": 10,
             "solidity": 0.2
            },
            "type": "scatter"
           }
          ],
          "scatter3d": [
           {
            "line": {
             "colorbar": {
              "outlinewidth": 0,
              "ticks": ""
             }
            },
            "marker": {
             "colorbar": {
              "outlinewidth": 0,
              "ticks": ""
             }
            },
            "type": "scatter3d"
           }
          ],
          "scattercarpet": [
           {
            "marker": {
             "colorbar": {
              "outlinewidth": 0,
              "ticks": ""
             }
            },
            "type": "scattercarpet"
           }
          ],
          "scattergeo": [
           {
            "marker": {
             "colorbar": {
              "outlinewidth": 0,
              "ticks": ""
             }
            },
            "type": "scattergeo"
           }
          ],
          "scattergl": [
           {
            "marker": {
             "colorbar": {
              "outlinewidth": 0,
              "ticks": ""
             }
            },
            "type": "scattergl"
           }
          ],
          "scattermapbox": [
           {
            "marker": {
             "colorbar": {
              "outlinewidth": 0,
              "ticks": ""
             }
            },
            "type": "scattermapbox"
           }
          ],
          "scatterpolar": [
           {
            "marker": {
             "colorbar": {
              "outlinewidth": 0,
              "ticks": ""
             }
            },
            "type": "scatterpolar"
           }
          ],
          "scatterpolargl": [
           {
            "marker": {
             "colorbar": {
              "outlinewidth": 0,
              "ticks": ""
             }
            },
            "type": "scatterpolargl"
           }
          ],
          "scatterternary": [
           {
            "marker": {
             "colorbar": {
              "outlinewidth": 0,
              "ticks": ""
             }
            },
            "type": "scatterternary"
           }
          ],
          "surface": [
           {
            "colorbar": {
             "outlinewidth": 0,
             "ticks": ""
            },
            "colorscale": [
             [
              0,
              "#0d0887"
             ],
             [
              0.1111111111111111,
              "#46039f"
             ],
             [
              0.2222222222222222,
              "#7201a8"
             ],
             [
              0.3333333333333333,
              "#9c179e"
             ],
             [
              0.4444444444444444,
              "#bd3786"
             ],
             [
              0.5555555555555556,
              "#d8576b"
             ],
             [
              0.6666666666666666,
              "#ed7953"
             ],
             [
              0.7777777777777778,
              "#fb9f3a"
             ],
             [
              0.8888888888888888,
              "#fdca26"
             ],
             [
              1,
              "#f0f921"
             ]
            ],
            "type": "surface"
           }
          ],
          "table": [
           {
            "cells": {
             "fill": {
              "color": "#EBF0F8"
             },
             "line": {
              "color": "white"
             }
            },
            "header": {
             "fill": {
              "color": "#C8D4E3"
             },
             "line": {
              "color": "white"
             }
            },
            "type": "table"
           }
          ]
         },
         "layout": {
          "annotationdefaults": {
           "arrowcolor": "#2a3f5f",
           "arrowhead": 0,
           "arrowwidth": 1
          },
          "autotypenumbers": "strict",
          "coloraxis": {
           "colorbar": {
            "outlinewidth": 0,
            "ticks": ""
           }
          },
          "colorscale": {
           "diverging": [
            [
             0,
             "#8e0152"
            ],
            [
             0.1,
             "#c51b7d"
            ],
            [
             0.2,
             "#de77ae"
            ],
            [
             0.3,
             "#f1b6da"
            ],
            [
             0.4,
             "#fde0ef"
            ],
            [
             0.5,
             "#f7f7f7"
            ],
            [
             0.6,
             "#e6f5d0"
            ],
            [
             0.7,
             "#b8e186"
            ],
            [
             0.8,
             "#7fbc41"
            ],
            [
             0.9,
             "#4d9221"
            ],
            [
             1,
             "#276419"
            ]
           ],
           "sequential": [
            [
             0,
             "#0d0887"
            ],
            [
             0.1111111111111111,
             "#46039f"
            ],
            [
             0.2222222222222222,
             "#7201a8"
            ],
            [
             0.3333333333333333,
             "#9c179e"
            ],
            [
             0.4444444444444444,
             "#bd3786"
            ],
            [
             0.5555555555555556,
             "#d8576b"
            ],
            [
             0.6666666666666666,
             "#ed7953"
            ],
            [
             0.7777777777777778,
             "#fb9f3a"
            ],
            [
             0.8888888888888888,
             "#fdca26"
            ],
            [
             1,
             "#f0f921"
            ]
           ],
           "sequentialminus": [
            [
             0,
             "#0d0887"
            ],
            [
             0.1111111111111111,
             "#46039f"
            ],
            [
             0.2222222222222222,
             "#7201a8"
            ],
            [
             0.3333333333333333,
             "#9c179e"
            ],
            [
             0.4444444444444444,
             "#bd3786"
            ],
            [
             0.5555555555555556,
             "#d8576b"
            ],
            [
             0.6666666666666666,
             "#ed7953"
            ],
            [
             0.7777777777777778,
             "#fb9f3a"
            ],
            [
             0.8888888888888888,
             "#fdca26"
            ],
            [
             1,
             "#f0f921"
            ]
           ]
          },
          "colorway": [
           "#636efa",
           "#EF553B",
           "#00cc96",
           "#ab63fa",
           "#FFA15A",
           "#19d3f3",
           "#FF6692",
           "#B6E880",
           "#FF97FF",
           "#FECB52"
          ],
          "font": {
           "color": "#2a3f5f"
          },
          "geo": {
           "bgcolor": "white",
           "lakecolor": "white",
           "landcolor": "#E5ECF6",
           "showlakes": true,
           "showland": true,
           "subunitcolor": "white"
          },
          "hoverlabel": {
           "align": "left"
          },
          "hovermode": "closest",
          "mapbox": {
           "style": "light"
          },
          "paper_bgcolor": "white",
          "plot_bgcolor": "#E5ECF6",
          "polar": {
           "angularaxis": {
            "gridcolor": "white",
            "linecolor": "white",
            "ticks": ""
           },
           "bgcolor": "#E5ECF6",
           "radialaxis": {
            "gridcolor": "white",
            "linecolor": "white",
            "ticks": ""
           }
          },
          "scene": {
           "xaxis": {
            "backgroundcolor": "#E5ECF6",
            "gridcolor": "white",
            "gridwidth": 2,
            "linecolor": "white",
            "showbackground": true,
            "ticks": "",
            "zerolinecolor": "white"
           },
           "yaxis": {
            "backgroundcolor": "#E5ECF6",
            "gridcolor": "white",
            "gridwidth": 2,
            "linecolor": "white",
            "showbackground": true,
            "ticks": "",
            "zerolinecolor": "white"
           },
           "zaxis": {
            "backgroundcolor": "#E5ECF6",
            "gridcolor": "white",
            "gridwidth": 2,
            "linecolor": "white",
            "showbackground": true,
            "ticks": "",
            "zerolinecolor": "white"
           }
          },
          "shapedefaults": {
           "line": {
            "color": "#2a3f5f"
           }
          },
          "ternary": {
           "aaxis": {
            "gridcolor": "white",
            "linecolor": "white",
            "ticks": ""
           },
           "baxis": {
            "gridcolor": "white",
            "linecolor": "white",
            "ticks": ""
           },
           "bgcolor": "#E5ECF6",
           "caxis": {
            "gridcolor": "white",
            "linecolor": "white",
            "ticks": ""
           }
          },
          "title": {
           "x": 0.05
          },
          "xaxis": {
           "automargin": true,
           "gridcolor": "white",
           "linecolor": "white",
           "ticks": "",
           "title": {
            "standoff": 15
           },
           "zerolinecolor": "white",
           "zerolinewidth": 2
          },
          "yaxis": {
           "automargin": true,
           "gridcolor": "white",
           "linecolor": "white",
           "ticks": "",
           "title": {
            "standoff": 15
           },
           "zerolinecolor": "white",
           "zerolinewidth": 2
          }
         }
        },
        "title": {
         "font": {
          "size": 20
         },
         "text": "Top 10 Feature Importances by XGB"
        },
        "width": 700,
        "xaxis": {
         "anchor": "y",
         "domain": [
          0,
          1
         ],
         "showgrid": false,
         "title": {
          "text": "Feature Weight"
         }
        },
        "yaxis": {
         "anchor": "x",
         "categoryorder": "total ascending",
         "domain": [
          0,
          1
         ],
         "showgrid": false,
         "title": {
          "text": ""
         }
        }
       }
      }
     },
     "metadata": {},
     "output_type": "display_data"
    }
   ],
   "source": [
    "import plotly.express as px\n",
    "\n",
    "# Ambil 10 fitur teratas\n",
    "top_10_features = feature_importances_xgb.nlargest(10, 'feature_weight')\n",
    "feature_importances_xgb = a[a['index'].isin(x.columns)]\n",
    "\n",
    "\n",
    "fig = px.bar(\n",
    "    x=top_10_features['feature_weight'],\n",
    "    y=top_10_features['index'],  # Ganti 'nama_fitur' dengan nama kolom yang berisi nama fitur Anda\n",
    "    orientation='h',\n",
    "    width=700,\n",
    "    height=500,\n",
    ")\n",
    "\n",
    "fig.update_layout(\n",
    "    autosize=False,\n",
    "    title=\"Top 10 Feature Importances by XGB\",\n",
    "    font_family=\"San Serif\",\n",
    "    titlefont={'size': 20},\n",
    "    margin=dict(l=150, r=100, b=100, t=100),\n",
    "     xaxis_title=\"Feature Weight\",\n",
    "     yaxis_title=\"\"\n",
    ")\n",
    "\n",
    "fig.update_xaxes(showgrid=False)\n",
    "fig.update_yaxes(showgrid=False, categoryorder='total ascending')\n",
    "\n",
    "colors = ['gray',] * 10\n",
    "colors[0]  = 'lightseagreen'\n",
    "colors[-1] = 'lightsalmon'\n",
    "fig.update_traces(marker_color=colors, marker_line_color=None,\n",
    "                   opacity=None)\n",
    "\n",
    "fig.show()\n"
   ]
  },
  {
   "cell_type": "code",
   "execution_count": 50,
   "metadata": {},
   "outputs": [
    {
     "data": {
      "application/vnd.plotly.v1+json": {
       "config": {
        "plotlyServerURL": "https://plot.ly"
       },
       "data": [
        {
         "alignmentgroup": "True",
         "hovertemplate": "x=%{x}<br>y=%{y}<extra></extra>",
         "legendgroup": "",
         "marker": {
          "color": [
           "lightseagreen",
           "gray",
           "gray",
           "gray",
           "gray",
           "gray",
           "gray",
           "gray",
           "gray",
           "lightsalmon"
          ],
          "pattern": {
           "shape": ""
          }
         },
         "name": "",
         "offsetgroup": "",
         "orientation": "h",
         "showlegend": false,
         "textposition": "auto",
         "type": "bar",
         "x": [
          219,
          16,
          11,
          7,
          6,
          3,
          2,
          1,
          1,
          1
         ],
         "xaxis": "x",
         "y": [
          "average_daily_rate",
          "avg_daily_rate_per_unit",
          "unit_id",
          "listing_id",
          "booking_check_in_year",
          "length_of_stay",
          "property_id1",
          "booking_check_out_month",
          "booking_check_out_year",
          "wifi"
         ],
         "yaxis": "y"
        }
       ],
       "layout": {
        "autosize": false,
        "barmode": "relative",
        "font": {
         "family": "San Serif"
        },
        "height": 500,
        "legend": {
         "tracegroupgap": 0
        },
        "margin": {
         "b": 100,
         "l": 150,
         "r": 100,
         "t": 100
        },
        "template": {
         "data": {
          "bar": [
           {
            "error_x": {
             "color": "#2a3f5f"
            },
            "error_y": {
             "color": "#2a3f5f"
            },
            "marker": {
             "line": {
              "color": "#E5ECF6",
              "width": 0.5
             },
             "pattern": {
              "fillmode": "overlay",
              "size": 10,
              "solidity": 0.2
             }
            },
            "type": "bar"
           }
          ],
          "barpolar": [
           {
            "marker": {
             "line": {
              "color": "#E5ECF6",
              "width": 0.5
             },
             "pattern": {
              "fillmode": "overlay",
              "size": 10,
              "solidity": 0.2
             }
            },
            "type": "barpolar"
           }
          ],
          "carpet": [
           {
            "aaxis": {
             "endlinecolor": "#2a3f5f",
             "gridcolor": "white",
             "linecolor": "white",
             "minorgridcolor": "white",
             "startlinecolor": "#2a3f5f"
            },
            "baxis": {
             "endlinecolor": "#2a3f5f",
             "gridcolor": "white",
             "linecolor": "white",
             "minorgridcolor": "white",
             "startlinecolor": "#2a3f5f"
            },
            "type": "carpet"
           }
          ],
          "choropleth": [
           {
            "colorbar": {
             "outlinewidth": 0,
             "ticks": ""
            },
            "type": "choropleth"
           }
          ],
          "contour": [
           {
            "colorbar": {
             "outlinewidth": 0,
             "ticks": ""
            },
            "colorscale": [
             [
              0,
              "#0d0887"
             ],
             [
              0.1111111111111111,
              "#46039f"
             ],
             [
              0.2222222222222222,
              "#7201a8"
             ],
             [
              0.3333333333333333,
              "#9c179e"
             ],
             [
              0.4444444444444444,
              "#bd3786"
             ],
             [
              0.5555555555555556,
              "#d8576b"
             ],
             [
              0.6666666666666666,
              "#ed7953"
             ],
             [
              0.7777777777777778,
              "#fb9f3a"
             ],
             [
              0.8888888888888888,
              "#fdca26"
             ],
             [
              1,
              "#f0f921"
             ]
            ],
            "type": "contour"
           }
          ],
          "contourcarpet": [
           {
            "colorbar": {
             "outlinewidth": 0,
             "ticks": ""
            },
            "type": "contourcarpet"
           }
          ],
          "heatmap": [
           {
            "colorbar": {
             "outlinewidth": 0,
             "ticks": ""
            },
            "colorscale": [
             [
              0,
              "#0d0887"
             ],
             [
              0.1111111111111111,
              "#46039f"
             ],
             [
              0.2222222222222222,
              "#7201a8"
             ],
             [
              0.3333333333333333,
              "#9c179e"
             ],
             [
              0.4444444444444444,
              "#bd3786"
             ],
             [
              0.5555555555555556,
              "#d8576b"
             ],
             [
              0.6666666666666666,
              "#ed7953"
             ],
             [
              0.7777777777777778,
              "#fb9f3a"
             ],
             [
              0.8888888888888888,
              "#fdca26"
             ],
             [
              1,
              "#f0f921"
             ]
            ],
            "type": "heatmap"
           }
          ],
          "heatmapgl": [
           {
            "colorbar": {
             "outlinewidth": 0,
             "ticks": ""
            },
            "colorscale": [
             [
              0,
              "#0d0887"
             ],
             [
              0.1111111111111111,
              "#46039f"
             ],
             [
              0.2222222222222222,
              "#7201a8"
             ],
             [
              0.3333333333333333,
              "#9c179e"
             ],
             [
              0.4444444444444444,
              "#bd3786"
             ],
             [
              0.5555555555555556,
              "#d8576b"
             ],
             [
              0.6666666666666666,
              "#ed7953"
             ],
             [
              0.7777777777777778,
              "#fb9f3a"
             ],
             [
              0.8888888888888888,
              "#fdca26"
             ],
             [
              1,
              "#f0f921"
             ]
            ],
            "type": "heatmapgl"
           }
          ],
          "histogram": [
           {
            "marker": {
             "pattern": {
              "fillmode": "overlay",
              "size": 10,
              "solidity": 0.2
             }
            },
            "type": "histogram"
           }
          ],
          "histogram2d": [
           {
            "colorbar": {
             "outlinewidth": 0,
             "ticks": ""
            },
            "colorscale": [
             [
              0,
              "#0d0887"
             ],
             [
              0.1111111111111111,
              "#46039f"
             ],
             [
              0.2222222222222222,
              "#7201a8"
             ],
             [
              0.3333333333333333,
              "#9c179e"
             ],
             [
              0.4444444444444444,
              "#bd3786"
             ],
             [
              0.5555555555555556,
              "#d8576b"
             ],
             [
              0.6666666666666666,
              "#ed7953"
             ],
             [
              0.7777777777777778,
              "#fb9f3a"
             ],
             [
              0.8888888888888888,
              "#fdca26"
             ],
             [
              1,
              "#f0f921"
             ]
            ],
            "type": "histogram2d"
           }
          ],
          "histogram2dcontour": [
           {
            "colorbar": {
             "outlinewidth": 0,
             "ticks": ""
            },
            "colorscale": [
             [
              0,
              "#0d0887"
             ],
             [
              0.1111111111111111,
              "#46039f"
             ],
             [
              0.2222222222222222,
              "#7201a8"
             ],
             [
              0.3333333333333333,
              "#9c179e"
             ],
             [
              0.4444444444444444,
              "#bd3786"
             ],
             [
              0.5555555555555556,
              "#d8576b"
             ],
             [
              0.6666666666666666,
              "#ed7953"
             ],
             [
              0.7777777777777778,
              "#fb9f3a"
             ],
             [
              0.8888888888888888,
              "#fdca26"
             ],
             [
              1,
              "#f0f921"
             ]
            ],
            "type": "histogram2dcontour"
           }
          ],
          "mesh3d": [
           {
            "colorbar": {
             "outlinewidth": 0,
             "ticks": ""
            },
            "type": "mesh3d"
           }
          ],
          "parcoords": [
           {
            "line": {
             "colorbar": {
              "outlinewidth": 0,
              "ticks": ""
             }
            },
            "type": "parcoords"
           }
          ],
          "pie": [
           {
            "automargin": true,
            "type": "pie"
           }
          ],
          "scatter": [
           {
            "fillpattern": {
             "fillmode": "overlay",
             "size": 10,
             "solidity": 0.2
            },
            "type": "scatter"
           }
          ],
          "scatter3d": [
           {
            "line": {
             "colorbar": {
              "outlinewidth": 0,
              "ticks": ""
             }
            },
            "marker": {
             "colorbar": {
              "outlinewidth": 0,
              "ticks": ""
             }
            },
            "type": "scatter3d"
           }
          ],
          "scattercarpet": [
           {
            "marker": {
             "colorbar": {
              "outlinewidth": 0,
              "ticks": ""
             }
            },
            "type": "scattercarpet"
           }
          ],
          "scattergeo": [
           {
            "marker": {
             "colorbar": {
              "outlinewidth": 0,
              "ticks": ""
             }
            },
            "type": "scattergeo"
           }
          ],
          "scattergl": [
           {
            "marker": {
             "colorbar": {
              "outlinewidth": 0,
              "ticks": ""
             }
            },
            "type": "scattergl"
           }
          ],
          "scattermapbox": [
           {
            "marker": {
             "colorbar": {
              "outlinewidth": 0,
              "ticks": ""
             }
            },
            "type": "scattermapbox"
           }
          ],
          "scatterpolar": [
           {
            "marker": {
             "colorbar": {
              "outlinewidth": 0,
              "ticks": ""
             }
            },
            "type": "scatterpolar"
           }
          ],
          "scatterpolargl": [
           {
            "marker": {
             "colorbar": {
              "outlinewidth": 0,
              "ticks": ""
             }
            },
            "type": "scatterpolargl"
           }
          ],
          "scatterternary": [
           {
            "marker": {
             "colorbar": {
              "outlinewidth": 0,
              "ticks": ""
             }
            },
            "type": "scatterternary"
           }
          ],
          "surface": [
           {
            "colorbar": {
             "outlinewidth": 0,
             "ticks": ""
            },
            "colorscale": [
             [
              0,
              "#0d0887"
             ],
             [
              0.1111111111111111,
              "#46039f"
             ],
             [
              0.2222222222222222,
              "#7201a8"
             ],
             [
              0.3333333333333333,
              "#9c179e"
             ],
             [
              0.4444444444444444,
              "#bd3786"
             ],
             [
              0.5555555555555556,
              "#d8576b"
             ],
             [
              0.6666666666666666,
              "#ed7953"
             ],
             [
              0.7777777777777778,
              "#fb9f3a"
             ],
             [
              0.8888888888888888,
              "#fdca26"
             ],
             [
              1,
              "#f0f921"
             ]
            ],
            "type": "surface"
           }
          ],
          "table": [
           {
            "cells": {
             "fill": {
              "color": "#EBF0F8"
             },
             "line": {
              "color": "white"
             }
            },
            "header": {
             "fill": {
              "color": "#C8D4E3"
             },
             "line": {
              "color": "white"
             }
            },
            "type": "table"
           }
          ]
         },
         "layout": {
          "annotationdefaults": {
           "arrowcolor": "#2a3f5f",
           "arrowhead": 0,
           "arrowwidth": 1
          },
          "autotypenumbers": "strict",
          "coloraxis": {
           "colorbar": {
            "outlinewidth": 0,
            "ticks": ""
           }
          },
          "colorscale": {
           "diverging": [
            [
             0,
             "#8e0152"
            ],
            [
             0.1,
             "#c51b7d"
            ],
            [
             0.2,
             "#de77ae"
            ],
            [
             0.3,
             "#f1b6da"
            ],
            [
             0.4,
             "#fde0ef"
            ],
            [
             0.5,
             "#f7f7f7"
            ],
            [
             0.6,
             "#e6f5d0"
            ],
            [
             0.7,
             "#b8e186"
            ],
            [
             0.8,
             "#7fbc41"
            ],
            [
             0.9,
             "#4d9221"
            ],
            [
             1,
             "#276419"
            ]
           ],
           "sequential": [
            [
             0,
             "#0d0887"
            ],
            [
             0.1111111111111111,
             "#46039f"
            ],
            [
             0.2222222222222222,
             "#7201a8"
            ],
            [
             0.3333333333333333,
             "#9c179e"
            ],
            [
             0.4444444444444444,
             "#bd3786"
            ],
            [
             0.5555555555555556,
             "#d8576b"
            ],
            [
             0.6666666666666666,
             "#ed7953"
            ],
            [
             0.7777777777777778,
             "#fb9f3a"
            ],
            [
             0.8888888888888888,
             "#fdca26"
            ],
            [
             1,
             "#f0f921"
            ]
           ],
           "sequentialminus": [
            [
             0,
             "#0d0887"
            ],
            [
             0.1111111111111111,
             "#46039f"
            ],
            [
             0.2222222222222222,
             "#7201a8"
            ],
            [
             0.3333333333333333,
             "#9c179e"
            ],
            [
             0.4444444444444444,
             "#bd3786"
            ],
            [
             0.5555555555555556,
             "#d8576b"
            ],
            [
             0.6666666666666666,
             "#ed7953"
            ],
            [
             0.7777777777777778,
             "#fb9f3a"
            ],
            [
             0.8888888888888888,
             "#fdca26"
            ],
            [
             1,
             "#f0f921"
            ]
           ]
          },
          "colorway": [
           "#636efa",
           "#EF553B",
           "#00cc96",
           "#ab63fa",
           "#FFA15A",
           "#19d3f3",
           "#FF6692",
           "#B6E880",
           "#FF97FF",
           "#FECB52"
          ],
          "font": {
           "color": "#2a3f5f"
          },
          "geo": {
           "bgcolor": "white",
           "lakecolor": "white",
           "landcolor": "#E5ECF6",
           "showlakes": true,
           "showland": true,
           "subunitcolor": "white"
          },
          "hoverlabel": {
           "align": "left"
          },
          "hovermode": "closest",
          "mapbox": {
           "style": "light"
          },
          "paper_bgcolor": "white",
          "plot_bgcolor": "#E5ECF6",
          "polar": {
           "angularaxis": {
            "gridcolor": "white",
            "linecolor": "white",
            "ticks": ""
           },
           "bgcolor": "#E5ECF6",
           "radialaxis": {
            "gridcolor": "white",
            "linecolor": "white",
            "ticks": ""
           }
          },
          "scene": {
           "xaxis": {
            "backgroundcolor": "#E5ECF6",
            "gridcolor": "white",
            "gridwidth": 2,
            "linecolor": "white",
            "showbackground": true,
            "ticks": "",
            "zerolinecolor": "white"
           },
           "yaxis": {
            "backgroundcolor": "#E5ECF6",
            "gridcolor": "white",
            "gridwidth": 2,
            "linecolor": "white",
            "showbackground": true,
            "ticks": "",
            "zerolinecolor": "white"
           },
           "zaxis": {
            "backgroundcolor": "#E5ECF6",
            "gridcolor": "white",
            "gridwidth": 2,
            "linecolor": "white",
            "showbackground": true,
            "ticks": "",
            "zerolinecolor": "white"
           }
          },
          "shapedefaults": {
           "line": {
            "color": "#2a3f5f"
           }
          },
          "ternary": {
           "aaxis": {
            "gridcolor": "white",
            "linecolor": "white",
            "ticks": ""
           },
           "baxis": {
            "gridcolor": "white",
            "linecolor": "white",
            "ticks": ""
           },
           "bgcolor": "#E5ECF6",
           "caxis": {
            "gridcolor": "white",
            "linecolor": "white",
            "ticks": ""
           }
          },
          "title": {
           "x": 0.05
          },
          "xaxis": {
           "automargin": true,
           "gridcolor": "white",
           "linecolor": "white",
           "ticks": "",
           "title": {
            "standoff": 15
           },
           "zerolinecolor": "white",
           "zerolinewidth": 2
          },
          "yaxis": {
           "automargin": true,
           "gridcolor": "white",
           "linecolor": "white",
           "ticks": "",
           "title": {
            "standoff": 15
           },
           "zerolinecolor": "white",
           "zerolinewidth": 2
          }
         }
        },
        "title": {
         "font": {
          "size": 20
         },
         "text": "Top 10 Feature Importances by LGBM"
        },
        "width": 700,
        "xaxis": {
         "anchor": "y",
         "domain": [
          0,
          1
         ],
         "showgrid": false,
         "title": {
          "text": "Feature Weight"
         }
        },
        "yaxis": {
         "anchor": "x",
         "categoryorder": "total ascending",
         "domain": [
          0,
          1
         ],
         "showgrid": false,
         "title": {
          "text": ""
         }
        }
       }
      }
     },
     "metadata": {},
     "output_type": "display_data"
    }
   ],
   "source": [
    "import plotly.express as px\n",
    "\n",
    "# Ambil 10 fitur teratas\n",
    "top_10_features = feature_importances_lgbm.nlargest(10, 'feature_weight')\n",
    "feature_importances_lgbm = a[a['index'].isin(x.columns)]\n",
    "\n",
    "\n",
    "fig = px.bar(\n",
    "    x=top_10_features['feature_weight'],\n",
    "    y=top_10_features['index'],\n",
    "    orientation='h',\n",
    "    width=700,\n",
    "    height=500,\n",
    ")\n",
    "\n",
    "fig.update_layout(\n",
    "    autosize=False,\n",
    "    title=\"Top 10 Feature Importances by LGBM\",\n",
    "    font_family=\"San Serif\",\n",
    "    titlefont={'size': 20},\n",
    "    margin=dict(l=150, r=100, b=100, t=100),\n",
    "     xaxis_title=\"Feature Weight\",\n",
    "     yaxis_title=\"\"\n",
    ")\n",
    "\n",
    "fig.update_xaxes(showgrid=False)\n",
    "fig.update_yaxes(showgrid=False, categoryorder='total ascending')\n",
    "\n",
    "colors = ['gray',] * 10\n",
    "colors[0]  = 'lightseagreen'\n",
    "colors[-1] = 'lightsalmon'\n",
    "fig.update_traces(marker_color=colors, marker_line_color=None,\n",
    "                   opacity=None)\n",
    "\n",
    "fig.show()\n"
   ]
  }
 ],
 "metadata": {
  "kernelspec": {
   "display_name": "Python 3",
   "language": "python",
   "name": "python3"
  },
  "language_info": {
   "codemirror_mode": {
    "name": "ipython",
    "version": 3
   },
   "file_extension": ".py",
   "mimetype": "text/x-python",
   "name": "python",
   "nbconvert_exporter": "python",
   "pygments_lexer": "ipython3",
   "version": "3.11.0"
  }
 },
 "nbformat": 4,
 "nbformat_minor": 2
}
