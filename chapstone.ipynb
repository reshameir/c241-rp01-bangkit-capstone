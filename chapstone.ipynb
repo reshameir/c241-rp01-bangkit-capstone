{
 "cells": [
  {
   "cell_type": "code",
   "execution_count": 13,
   "metadata": {},
   "outputs": [],
   "source": [
    "import numpy as np\n",
    "import pandas as pd\n",
    "from scipy import stats\n",
    "import seaborn as sns\n",
    "import plotly.io as pio\n",
    "import plotly.express as px\n",
    "import plotly.graph_objects as go\n",
    "import matplotlib.pyplot as plt\n",
    "from sklearn.cluster import KMeans\n",
    "import plotly.figure_factory as ff\n",
    "from prettytable import PrettyTable\n",
    "from sklearn.preprocessing import RobustScaler\n",
    "\n",
    "from plotly.subplots import make_subplots\n",
    "\n",
    "\n",
    "#Modeling\n",
    "from sklearn.preprocessing import LabelEncoder\n",
    "from sklearn.model_selection import RepeatedKFold\n",
    "import lightgbm as lgbm\n",
    "from yellowbrick.cluster import KElbowVisualizer\n",
    "from sklearn.metrics import mean_squared_error, mean_absolute_error, r2_score      \n",
    "from sklearn.svm import SVR\n",
    "from sklearn.linear_model import LinearRegression, Ridge, Lasso\n",
    "from sklearn.linear_model import ElasticNet, BayesianRidge\n",
    "from sklearn.ensemble import AdaBoostRegressor\n",
    "\n",
    "\n",
    "\n",
    "\n",
    "from catboost import CatBoostRegressor\n",
    "\n",
    "#from sklego.linear_model import LADRegression\n",
    "from xgboost import XGBRegressor\n",
    "from scipy.stats import yeojohnson\n",
    "from sklearn.ensemble import VotingRegressor\n",
    "from sklearn.ensemble import IsolationForest\n",
    "from sklearn.preprocessing import StandardScaler\n",
    "from sklearn.model_selection import train_test_split\n",
    "from scipy.stats import skew\n",
    "from scipy.special import boxcox1p\n",
    "from scipy.stats import boxcox_normmax\n",
    "from mlxtend.regressor import StackingCVRegressor\n",
    "from sklearn.preprocessing import PolynomialFeatures\n",
    "\n",
    "import warnings\n",
    "warnings.filterwarnings('ignore')"
   ]
  },
  {
   "cell_type": "markdown",
   "metadata": {},
   "source": [
    "# **2. Data Collection**"
   ]
  },
  {
   "cell_type": "code",
   "execution_count": 14,
   "metadata": {},
   "outputs": [
    {
     "data": {
      "text/html": [
       "<div>\n",
       "<style scoped>\n",
       "    .dataframe tbody tr th:only-of-type {\n",
       "        vertical-align: middle;\n",
       "    }\n",
       "\n",
       "    .dataframe tbody tr th {\n",
       "        vertical-align: top;\n",
       "    }\n",
       "\n",
       "    .dataframe thead th {\n",
       "        text-align: right;\n",
       "    }\n",
       "</style>\n",
       "<table border=\"1\" class=\"dataframe\">\n",
       "  <thead>\n",
       "    <tr style=\"text-align: right;\">\n",
       "      <th></th>\n",
       "      <th>booking_status</th>\n",
       "      <th>booking_guest_number</th>\n",
       "      <th>booking_earned</th>\n",
       "      <th>booking_currency</th>\n",
       "      <th>review_sentiment_score</th>\n",
       "      <th>cancellation_policy</th>\n",
       "      <th>booking_earned_in_idr</th>\n",
       "      <th>length_of_stay</th>\n",
       "      <th>booking_window</th>\n",
       "      <th>seasonality</th>\n",
       "      <th>...</th>\n",
       "      <th>wifi</th>\n",
       "      <th>tv</th>\n",
       "      <th>cable_tv</th>\n",
       "      <th>ac</th>\n",
       "      <th>workspace</th>\n",
       "      <th>pool</th>\n",
       "      <th>parking</th>\n",
       "      <th>gym</th>\n",
       "      <th>kitchen</th>\n",
       "      <th>airport_pickup_price_idr</th>\n",
       "    </tr>\n",
       "  </thead>\n",
       "  <tbody>\n",
       "    <tr>\n",
       "      <th>count</th>\n",
       "      <td>56825.000000</td>\n",
       "      <td>9015.000000</td>\n",
       "      <td>5.682500e+04</td>\n",
       "      <td>56825.000000</td>\n",
       "      <td>6030.000000</td>\n",
       "      <td>0.0</td>\n",
       "      <td>5.682500e+04</td>\n",
       "      <td>56825.000000</td>\n",
       "      <td>30445.000000</td>\n",
       "      <td>56825.000000</td>\n",
       "      <td>...</td>\n",
       "      <td>42082.000000</td>\n",
       "      <td>42082.000000</td>\n",
       "      <td>42082.000000</td>\n",
       "      <td>42082.000000</td>\n",
       "      <td>42082.000000</td>\n",
       "      <td>42082.000000</td>\n",
       "      <td>42082.000000</td>\n",
       "      <td>42082.000000</td>\n",
       "      <td>42082.000000</td>\n",
       "      <td>48044.000000</td>\n",
       "    </tr>\n",
       "    <tr>\n",
       "      <th>mean</th>\n",
       "      <td>1.063968</td>\n",
       "      <td>2.618525</td>\n",
       "      <td>1.571828e+06</td>\n",
       "      <td>1.233295</td>\n",
       "      <td>0.729690</td>\n",
       "      <td>NaN</td>\n",
       "      <td>2.675725e+06</td>\n",
       "      <td>2.839366</td>\n",
       "      <td>23.068944</td>\n",
       "      <td>0.372107</td>\n",
       "      <td>...</td>\n",
       "      <td>0.989449</td>\n",
       "      <td>0.576137</td>\n",
       "      <td>0.213892</td>\n",
       "      <td>0.991754</td>\n",
       "      <td>0.936101</td>\n",
       "      <td>0.820755</td>\n",
       "      <td>0.947032</td>\n",
       "      <td>0.005988</td>\n",
       "      <td>0.321468</td>\n",
       "      <td>325682.499376</td>\n",
       "    </tr>\n",
       "    <tr>\n",
       "      <th>std</th>\n",
       "      <td>0.281550</td>\n",
       "      <td>2.274074</td>\n",
       "      <td>3.034301e+06</td>\n",
       "      <td>0.427279</td>\n",
       "      <td>0.413806</td>\n",
       "      <td>NaN</td>\n",
       "      <td>4.568150e+06</td>\n",
       "      <td>2.982119</td>\n",
       "      <td>36.979856</td>\n",
       "      <td>0.483371</td>\n",
       "      <td>...</td>\n",
       "      <td>0.102175</td>\n",
       "      <td>0.494175</td>\n",
       "      <td>0.410056</td>\n",
       "      <td>0.090432</td>\n",
       "      <td>0.244576</td>\n",
       "      <td>0.383562</td>\n",
       "      <td>0.223972</td>\n",
       "      <td>0.077153</td>\n",
       "      <td>0.467045</td>\n",
       "      <td>39039.625935</td>\n",
       "    </tr>\n",
       "    <tr>\n",
       "      <th>min</th>\n",
       "      <td>1.000000</td>\n",
       "      <td>0.000000</td>\n",
       "      <td>0.000000e+00</td>\n",
       "      <td>1.000000</td>\n",
       "      <td>-0.998203</td>\n",
       "      <td>NaN</td>\n",
       "      <td>0.000000e+00</td>\n",
       "      <td>-30.000000</td>\n",
       "      <td>0.000000</td>\n",
       "      <td>0.000000</td>\n",
       "      <td>...</td>\n",
       "      <td>0.000000</td>\n",
       "      <td>0.000000</td>\n",
       "      <td>0.000000</td>\n",
       "      <td>0.000000</td>\n",
       "      <td>0.000000</td>\n",
       "      <td>0.000000</td>\n",
       "      <td>0.000000</td>\n",
       "      <td>0.000000</td>\n",
       "      <td>0.000000</td>\n",
       "      <td>195000.000000</td>\n",
       "    </tr>\n",
       "    <tr>\n",
       "      <th>25%</th>\n",
       "      <td>1.000000</td>\n",
       "      <td>2.000000</td>\n",
       "      <td>6.450000e+02</td>\n",
       "      <td>1.000000</td>\n",
       "      <td>0.704758</td>\n",
       "      <td>NaN</td>\n",
       "      <td>6.984000e+05</td>\n",
       "      <td>1.000000</td>\n",
       "      <td>1.000000</td>\n",
       "      <td>0.000000</td>\n",
       "      <td>...</td>\n",
       "      <td>1.000000</td>\n",
       "      <td>0.000000</td>\n",
       "      <td>0.000000</td>\n",
       "      <td>1.000000</td>\n",
       "      <td>1.000000</td>\n",
       "      <td>1.000000</td>\n",
       "      <td>1.000000</td>\n",
       "      <td>0.000000</td>\n",
       "      <td>0.000000</td>\n",
       "      <td>325000.000000</td>\n",
       "    </tr>\n",
       "    <tr>\n",
       "      <th>50%</th>\n",
       "      <td>1.000000</td>\n",
       "      <td>2.000000</td>\n",
       "      <td>7.992800e+05</td>\n",
       "      <td>1.000000</td>\n",
       "      <td>0.887651</td>\n",
       "      <td>NaN</td>\n",
       "      <td>1.374490e+06</td>\n",
       "      <td>2.000000</td>\n",
       "      <td>6.000000</td>\n",
       "      <td>0.000000</td>\n",
       "      <td>...</td>\n",
       "      <td>1.000000</td>\n",
       "      <td>1.000000</td>\n",
       "      <td>0.000000</td>\n",
       "      <td>1.000000</td>\n",
       "      <td>1.000000</td>\n",
       "      <td>1.000000</td>\n",
       "      <td>1.000000</td>\n",
       "      <td>0.000000</td>\n",
       "      <td>0.000000</td>\n",
       "      <td>325000.000000</td>\n",
       "    </tr>\n",
       "    <tr>\n",
       "      <th>75%</th>\n",
       "      <td>1.000000</td>\n",
       "      <td>2.000000</td>\n",
       "      <td>1.778367e+06</td>\n",
       "      <td>1.000000</td>\n",
       "      <td>0.972097</td>\n",
       "      <td>NaN</td>\n",
       "      <td>2.789421e+06</td>\n",
       "      <td>3.000000</td>\n",
       "      <td>31.000000</td>\n",
       "      <td>1.000000</td>\n",
       "      <td>...</td>\n",
       "      <td>1.000000</td>\n",
       "      <td>1.000000</td>\n",
       "      <td>0.000000</td>\n",
       "      <td>1.000000</td>\n",
       "      <td>1.000000</td>\n",
       "      <td>1.000000</td>\n",
       "      <td>1.000000</td>\n",
       "      <td>0.000000</td>\n",
       "      <td>1.000000</td>\n",
       "      <td>325000.000000</td>\n",
       "    </tr>\n",
       "    <tr>\n",
       "      <th>max</th>\n",
       "      <td>6.000000</td>\n",
       "      <td>30.000000</td>\n",
       "      <td>9.429215e+07</td>\n",
       "      <td>3.000000</td>\n",
       "      <td>0.999999</td>\n",
       "      <td>NaN</td>\n",
       "      <td>1.303185e+08</td>\n",
       "      <td>349.000000</td>\n",
       "      <td>383.000000</td>\n",
       "      <td>1.000000</td>\n",
       "      <td>...</td>\n",
       "      <td>1.000000</td>\n",
       "      <td>1.000000</td>\n",
       "      <td>1.000000</td>\n",
       "      <td>1.000000</td>\n",
       "      <td>1.000000</td>\n",
       "      <td>1.000000</td>\n",
       "      <td>1.000000</td>\n",
       "      <td>1.000000</td>\n",
       "      <td>1.000000</td>\n",
       "      <td>585000.000000</td>\n",
       "    </tr>\n",
       "  </tbody>\n",
       "</table>\n",
       "<p>8 rows × 27 columns</p>\n",
       "</div>"
      ],
      "text/plain": [
       "       booking_status  booking_guest_number  booking_earned  booking_currency   \n",
       "count    56825.000000           9015.000000    5.682500e+04      56825.000000  \\\n",
       "mean         1.063968              2.618525    1.571828e+06          1.233295   \n",
       "std          0.281550              2.274074    3.034301e+06          0.427279   \n",
       "min          1.000000              0.000000    0.000000e+00          1.000000   \n",
       "25%          1.000000              2.000000    6.450000e+02          1.000000   \n",
       "50%          1.000000              2.000000    7.992800e+05          1.000000   \n",
       "75%          1.000000              2.000000    1.778367e+06          1.000000   \n",
       "max          6.000000             30.000000    9.429215e+07          3.000000   \n",
       "\n",
       "       review_sentiment_score  cancellation_policy  booking_earned_in_idr   \n",
       "count             6030.000000                  0.0           5.682500e+04  \\\n",
       "mean                 0.729690                  NaN           2.675725e+06   \n",
       "std                  0.413806                  NaN           4.568150e+06   \n",
       "min                 -0.998203                  NaN           0.000000e+00   \n",
       "25%                  0.704758                  NaN           6.984000e+05   \n",
       "50%                  0.887651                  NaN           1.374490e+06   \n",
       "75%                  0.972097                  NaN           2.789421e+06   \n",
       "max                  0.999999                  NaN           1.303185e+08   \n",
       "\n",
       "       length_of_stay  booking_window   seasonality  ...          wifi   \n",
       "count    56825.000000    30445.000000  56825.000000  ...  42082.000000  \\\n",
       "mean         2.839366       23.068944      0.372107  ...      0.989449   \n",
       "std          2.982119       36.979856      0.483371  ...      0.102175   \n",
       "min        -30.000000        0.000000      0.000000  ...      0.000000   \n",
       "25%          1.000000        1.000000      0.000000  ...      1.000000   \n",
       "50%          2.000000        6.000000      0.000000  ...      1.000000   \n",
       "75%          3.000000       31.000000      1.000000  ...      1.000000   \n",
       "max        349.000000      383.000000      1.000000  ...      1.000000   \n",
       "\n",
       "                 tv      cable_tv            ac     workspace          pool   \n",
       "count  42082.000000  42082.000000  42082.000000  42082.000000  42082.000000  \\\n",
       "mean       0.576137      0.213892      0.991754      0.936101      0.820755   \n",
       "std        0.494175      0.410056      0.090432      0.244576      0.383562   \n",
       "min        0.000000      0.000000      0.000000      0.000000      0.000000   \n",
       "25%        0.000000      0.000000      1.000000      1.000000      1.000000   \n",
       "50%        1.000000      0.000000      1.000000      1.000000      1.000000   \n",
       "75%        1.000000      0.000000      1.000000      1.000000      1.000000   \n",
       "max        1.000000      1.000000      1.000000      1.000000      1.000000   \n",
       "\n",
       "            parking           gym       kitchen  airport_pickup_price_idr  \n",
       "count  42082.000000  42082.000000  42082.000000              48044.000000  \n",
       "mean       0.947032      0.005988      0.321468             325682.499376  \n",
       "std        0.223972      0.077153      0.467045              39039.625935  \n",
       "min        0.000000      0.000000      0.000000             195000.000000  \n",
       "25%        1.000000      0.000000      0.000000             325000.000000  \n",
       "50%        1.000000      0.000000      0.000000             325000.000000  \n",
       "75%        1.000000      0.000000      1.000000             325000.000000  \n",
       "max        1.000000      1.000000      1.000000             585000.000000  \n",
       "\n",
       "[8 rows x 27 columns]"
      ]
     },
     "execution_count": 14,
     "metadata": {},
     "output_type": "execute_result"
    }
   ],
   "source": [
    "import pandas as pd\n",
    "\n",
    "# Definisikan nama file\n",
    "filename = \"booking_dataset_2024_06_03.csv\"\n",
    "\n",
    "# Membaca dataset dari file CSV\n",
    "raw_data = pd.read_csv(filename)\n",
    "df = raw_data\n",
    "data_eda =raw_data\n",
    "\n",
    "# Menampilkan 5 baris pertama dari dataset\n",
    "raw_data.describe()"
   ]
  },
  {
   "cell_type": "code",
   "execution_count": 15,
   "metadata": {},
   "outputs": [],
   "source": [
    "raw_data = raw_data.drop(['booking_earned_in_idr','avg_daily_rate_per_unit','seasonality','property_id1','cancellation_policy'\n",
    "], axis = 1)\n"
   ]
  },
  {
   "cell_type": "code",
   "execution_count": 16,
   "metadata": {},
   "outputs": [],
   "source": [
    "df = raw_data\n",
    "data_eda =raw_data"
   ]
  },
  {
   "cell_type": "code",
   "execution_count": 17,
   "metadata": {},
   "outputs": [
    {
     "name": "stdout",
     "output_type": "stream",
     "text": [
      "<class 'pandas.core.frame.DataFrame'>\n",
      "RangeIndex: 56825 entries, 0 to 56824\n",
      "Data columns (total 34 columns):\n",
      " #   Column                      Non-Null Count  Dtype  \n",
      "---  ------                      --------------  -----  \n",
      " 0   booking_id                  56825 non-null  object \n",
      " 1   booking_status              56825 non-null  int64  \n",
      " 2   booking_check_in            56825 non-null  object \n",
      " 3   booking_check_out           56825 non-null  object \n",
      " 4   booking_guest_number        9015 non-null   float64\n",
      " 5   booking_earned              56825 non-null  float64\n",
      " 6   booking_currency            56825 non-null  int64  \n",
      " 7   booking_received_timestamp  30445 non-null  object \n",
      " 8   listing_id                  56825 non-null  object \n",
      " 9   review_sentiment            6030 non-null   object \n",
      " 10  review_sentiment_score      6030 non-null   float64\n",
      " 11  length_of_stay              56825 non-null  int64  \n",
      " 12  booking_window              30445 non-null  float64\n",
      " 13  average_daily_rate          56825 non-null  float64\n",
      " 14  unit_id                     56811 non-null  object \n",
      " 15  status                      56378 non-null  float64\n",
      " 16  bedroom                     56312 non-null  float64\n",
      " 17  bathroom                    45230 non-null  float64\n",
      " 18  beds                        45230 non-null  float64\n",
      " 19  capacity                    41269 non-null  float64\n",
      " 20  property_id                 56378 non-null  object \n",
      " 21  wifi                        42082 non-null  float64\n",
      " 22  tv                          42082 non-null  float64\n",
      " 23  cable_tv                    42082 non-null  float64\n",
      " 24  ac                          42082 non-null  float64\n",
      " 25  workspace                   42082 non-null  float64\n",
      " 26  pool                        42082 non-null  float64\n",
      " 27  parking                     42082 non-null  float64\n",
      " 28  gym                         42082 non-null  float64\n",
      " 29  kitchen                     42082 non-null  float64\n",
      " 30  area_id                     56247 non-null  object \n",
      " 31  area_name                   56247 non-null  object \n",
      " 32  area_distance_to_airport    55356 non-null  object \n",
      " 33  airport_pickup_price_idr    48044 non-null  float64\n",
      "dtypes: float64(20), int64(3), object(11)\n",
      "memory usage: 14.7+ MB\n"
     ]
    }
   ],
   "source": [
    "raw_data.info()"
   ]
  },
  {
   "cell_type": "code",
   "execution_count": 18,
   "metadata": {},
   "outputs": [
    {
     "data": {
      "text/html": [
       "<div>\n",
       "<style scoped>\n",
       "    .dataframe tbody tr th:only-of-type {\n",
       "        vertical-align: middle;\n",
       "    }\n",
       "\n",
       "    .dataframe tbody tr th {\n",
       "        vertical-align: top;\n",
       "    }\n",
       "\n",
       "    .dataframe thead th {\n",
       "        text-align: right;\n",
       "    }\n",
       "</style>\n",
       "<table border=\"1\" class=\"dataframe\">\n",
       "  <thead>\n",
       "    <tr style=\"text-align: right;\">\n",
       "      <th></th>\n",
       "      <th>booking_status</th>\n",
       "      <th>booking_guest_number</th>\n",
       "      <th>booking_earned</th>\n",
       "      <th>booking_currency</th>\n",
       "      <th>review_sentiment_score</th>\n",
       "      <th>length_of_stay</th>\n",
       "      <th>booking_window</th>\n",
       "      <th>average_daily_rate</th>\n",
       "      <th>status</th>\n",
       "      <th>bedroom</th>\n",
       "      <th>...</th>\n",
       "      <th>wifi</th>\n",
       "      <th>tv</th>\n",
       "      <th>cable_tv</th>\n",
       "      <th>ac</th>\n",
       "      <th>workspace</th>\n",
       "      <th>pool</th>\n",
       "      <th>parking</th>\n",
       "      <th>gym</th>\n",
       "      <th>kitchen</th>\n",
       "      <th>airport_pickup_price_idr</th>\n",
       "    </tr>\n",
       "  </thead>\n",
       "  <tbody>\n",
       "    <tr>\n",
       "      <th>count</th>\n",
       "      <td>56825.000000</td>\n",
       "      <td>9015.000000</td>\n",
       "      <td>5.682500e+04</td>\n",
       "      <td>56825.000000</td>\n",
       "      <td>6030.000000</td>\n",
       "      <td>56825.000000</td>\n",
       "      <td>30445.000000</td>\n",
       "      <td>5.682500e+04</td>\n",
       "      <td>56378.000000</td>\n",
       "      <td>56312.000000</td>\n",
       "      <td>...</td>\n",
       "      <td>42082.000000</td>\n",
       "      <td>42082.000000</td>\n",
       "      <td>42082.000000</td>\n",
       "      <td>42082.000000</td>\n",
       "      <td>42082.000000</td>\n",
       "      <td>42082.000000</td>\n",
       "      <td>42082.000000</td>\n",
       "      <td>42082.000000</td>\n",
       "      <td>42082.000000</td>\n",
       "      <td>48044.000000</td>\n",
       "    </tr>\n",
       "    <tr>\n",
       "      <th>mean</th>\n",
       "      <td>1.063968</td>\n",
       "      <td>2.618525</td>\n",
       "      <td>1.571828e+06</td>\n",
       "      <td>1.233295</td>\n",
       "      <td>0.729690</td>\n",
       "      <td>2.839366</td>\n",
       "      <td>23.068944</td>\n",
       "      <td>9.214800e+05</td>\n",
       "      <td>1.725460</td>\n",
       "      <td>1.455214</td>\n",
       "      <td>...</td>\n",
       "      <td>0.989449</td>\n",
       "      <td>0.576137</td>\n",
       "      <td>0.213892</td>\n",
       "      <td>0.991754</td>\n",
       "      <td>0.936101</td>\n",
       "      <td>0.820755</td>\n",
       "      <td>0.947032</td>\n",
       "      <td>0.005988</td>\n",
       "      <td>0.321468</td>\n",
       "      <td>325682.499376</td>\n",
       "    </tr>\n",
       "    <tr>\n",
       "      <th>std</th>\n",
       "      <td>0.281550</td>\n",
       "      <td>2.274074</td>\n",
       "      <td>3.034301e+06</td>\n",
       "      <td>0.427279</td>\n",
       "      <td>0.413806</td>\n",
       "      <td>2.982119</td>\n",
       "      <td>36.979856</td>\n",
       "      <td>1.015294e+06</td>\n",
       "      <td>0.446286</td>\n",
       "      <td>0.969231</td>\n",
       "      <td>...</td>\n",
       "      <td>0.102175</td>\n",
       "      <td>0.494175</td>\n",
       "      <td>0.410056</td>\n",
       "      <td>0.090432</td>\n",
       "      <td>0.244576</td>\n",
       "      <td>0.383562</td>\n",
       "      <td>0.223972</td>\n",
       "      <td>0.077153</td>\n",
       "      <td>0.467045</td>\n",
       "      <td>39039.625935</td>\n",
       "    </tr>\n",
       "    <tr>\n",
       "      <th>min</th>\n",
       "      <td>1.000000</td>\n",
       "      <td>0.000000</td>\n",
       "      <td>0.000000e+00</td>\n",
       "      <td>1.000000</td>\n",
       "      <td>-0.998203</td>\n",
       "      <td>-30.000000</td>\n",
       "      <td>0.000000</td>\n",
       "      <td>-4.938270e+04</td>\n",
       "      <td>1.000000</td>\n",
       "      <td>1.000000</td>\n",
       "      <td>...</td>\n",
       "      <td>0.000000</td>\n",
       "      <td>0.000000</td>\n",
       "      <td>0.000000</td>\n",
       "      <td>0.000000</td>\n",
       "      <td>0.000000</td>\n",
       "      <td>0.000000</td>\n",
       "      <td>0.000000</td>\n",
       "      <td>0.000000</td>\n",
       "      <td>0.000000</td>\n",
       "      <td>195000.000000</td>\n",
       "    </tr>\n",
       "    <tr>\n",
       "      <th>25%</th>\n",
       "      <td>1.000000</td>\n",
       "      <td>2.000000</td>\n",
       "      <td>6.450000e+02</td>\n",
       "      <td>1.000000</td>\n",
       "      <td>0.704758</td>\n",
       "      <td>1.000000</td>\n",
       "      <td>1.000000</td>\n",
       "      <td>3.571995e+05</td>\n",
       "      <td>1.000000</td>\n",
       "      <td>1.000000</td>\n",
       "      <td>...</td>\n",
       "      <td>1.000000</td>\n",
       "      <td>0.000000</td>\n",
       "      <td>0.000000</td>\n",
       "      <td>1.000000</td>\n",
       "      <td>1.000000</td>\n",
       "      <td>1.000000</td>\n",
       "      <td>1.000000</td>\n",
       "      <td>0.000000</td>\n",
       "      <td>0.000000</td>\n",
       "      <td>325000.000000</td>\n",
       "    </tr>\n",
       "    <tr>\n",
       "      <th>50%</th>\n",
       "      <td>1.000000</td>\n",
       "      <td>2.000000</td>\n",
       "      <td>7.992800e+05</td>\n",
       "      <td>1.000000</td>\n",
       "      <td>0.887651</td>\n",
       "      <td>2.000000</td>\n",
       "      <td>6.000000</td>\n",
       "      <td>5.588180e+05</td>\n",
       "      <td>2.000000</td>\n",
       "      <td>1.000000</td>\n",
       "      <td>...</td>\n",
       "      <td>1.000000</td>\n",
       "      <td>1.000000</td>\n",
       "      <td>0.000000</td>\n",
       "      <td>1.000000</td>\n",
       "      <td>1.000000</td>\n",
       "      <td>1.000000</td>\n",
       "      <td>1.000000</td>\n",
       "      <td>0.000000</td>\n",
       "      <td>0.000000</td>\n",
       "      <td>325000.000000</td>\n",
       "    </tr>\n",
       "    <tr>\n",
       "      <th>75%</th>\n",
       "      <td>1.000000</td>\n",
       "      <td>2.000000</td>\n",
       "      <td>1.778367e+06</td>\n",
       "      <td>1.000000</td>\n",
       "      <td>0.972097</td>\n",
       "      <td>3.000000</td>\n",
       "      <td>31.000000</td>\n",
       "      <td>1.164000e+06</td>\n",
       "      <td>2.000000</td>\n",
       "      <td>1.000000</td>\n",
       "      <td>...</td>\n",
       "      <td>1.000000</td>\n",
       "      <td>1.000000</td>\n",
       "      <td>0.000000</td>\n",
       "      <td>1.000000</td>\n",
       "      <td>1.000000</td>\n",
       "      <td>1.000000</td>\n",
       "      <td>1.000000</td>\n",
       "      <td>0.000000</td>\n",
       "      <td>1.000000</td>\n",
       "      <td>325000.000000</td>\n",
       "    </tr>\n",
       "    <tr>\n",
       "      <th>max</th>\n",
       "      <td>6.000000</td>\n",
       "      <td>30.000000</td>\n",
       "      <td>9.429215e+07</td>\n",
       "      <td>3.000000</td>\n",
       "      <td>0.999999</td>\n",
       "      <td>349.000000</td>\n",
       "      <td>383.000000</td>\n",
       "      <td>2.129842e+07</td>\n",
       "      <td>2.000000</td>\n",
       "      <td>8.000000</td>\n",
       "      <td>...</td>\n",
       "      <td>1.000000</td>\n",
       "      <td>1.000000</td>\n",
       "      <td>1.000000</td>\n",
       "      <td>1.000000</td>\n",
       "      <td>1.000000</td>\n",
       "      <td>1.000000</td>\n",
       "      <td>1.000000</td>\n",
       "      <td>1.000000</td>\n",
       "      <td>1.000000</td>\n",
       "      <td>585000.000000</td>\n",
       "    </tr>\n",
       "  </tbody>\n",
       "</table>\n",
       "<p>8 rows × 23 columns</p>\n",
       "</div>"
      ],
      "text/plain": [
       "       booking_status  booking_guest_number  booking_earned  booking_currency   \n",
       "count    56825.000000           9015.000000    5.682500e+04      56825.000000  \\\n",
       "mean         1.063968              2.618525    1.571828e+06          1.233295   \n",
       "std          0.281550              2.274074    3.034301e+06          0.427279   \n",
       "min          1.000000              0.000000    0.000000e+00          1.000000   \n",
       "25%          1.000000              2.000000    6.450000e+02          1.000000   \n",
       "50%          1.000000              2.000000    7.992800e+05          1.000000   \n",
       "75%          1.000000              2.000000    1.778367e+06          1.000000   \n",
       "max          6.000000             30.000000    9.429215e+07          3.000000   \n",
       "\n",
       "       review_sentiment_score  length_of_stay  booking_window   \n",
       "count             6030.000000    56825.000000    30445.000000  \\\n",
       "mean                 0.729690        2.839366       23.068944   \n",
       "std                  0.413806        2.982119       36.979856   \n",
       "min                 -0.998203      -30.000000        0.000000   \n",
       "25%                  0.704758        1.000000        1.000000   \n",
       "50%                  0.887651        2.000000        6.000000   \n",
       "75%                  0.972097        3.000000       31.000000   \n",
       "max                  0.999999      349.000000      383.000000   \n",
       "\n",
       "       average_daily_rate        status       bedroom  ...          wifi   \n",
       "count        5.682500e+04  56378.000000  56312.000000  ...  42082.000000  \\\n",
       "mean         9.214800e+05      1.725460      1.455214  ...      0.989449   \n",
       "std          1.015294e+06      0.446286      0.969231  ...      0.102175   \n",
       "min         -4.938270e+04      1.000000      1.000000  ...      0.000000   \n",
       "25%          3.571995e+05      1.000000      1.000000  ...      1.000000   \n",
       "50%          5.588180e+05      2.000000      1.000000  ...      1.000000   \n",
       "75%          1.164000e+06      2.000000      1.000000  ...      1.000000   \n",
       "max          2.129842e+07      2.000000      8.000000  ...      1.000000   \n",
       "\n",
       "                 tv      cable_tv            ac     workspace          pool   \n",
       "count  42082.000000  42082.000000  42082.000000  42082.000000  42082.000000  \\\n",
       "mean       0.576137      0.213892      0.991754      0.936101      0.820755   \n",
       "std        0.494175      0.410056      0.090432      0.244576      0.383562   \n",
       "min        0.000000      0.000000      0.000000      0.000000      0.000000   \n",
       "25%        0.000000      0.000000      1.000000      1.000000      1.000000   \n",
       "50%        1.000000      0.000000      1.000000      1.000000      1.000000   \n",
       "75%        1.000000      0.000000      1.000000      1.000000      1.000000   \n",
       "max        1.000000      1.000000      1.000000      1.000000      1.000000   \n",
       "\n",
       "            parking           gym       kitchen  airport_pickup_price_idr  \n",
       "count  42082.000000  42082.000000  42082.000000              48044.000000  \n",
       "mean       0.947032      0.005988      0.321468             325682.499376  \n",
       "std        0.223972      0.077153      0.467045              39039.625935  \n",
       "min        0.000000      0.000000      0.000000             195000.000000  \n",
       "25%        1.000000      0.000000      0.000000             325000.000000  \n",
       "50%        1.000000      0.000000      0.000000             325000.000000  \n",
       "75%        1.000000      0.000000      1.000000             325000.000000  \n",
       "max        1.000000      1.000000      1.000000             585000.000000  \n",
       "\n",
       "[8 rows x 23 columns]"
      ]
     },
     "execution_count": 18,
     "metadata": {},
     "output_type": "execute_result"
    }
   ],
   "source": [
    "raw_data.describe()"
   ]
  },
  {
   "cell_type": "code",
   "execution_count": 19,
   "metadata": {},
   "outputs": [
    {
     "data": {
      "text/plain": [
       "booking_id                        0\n",
       "booking_status                    0\n",
       "booking_check_in                  0\n",
       "booking_check_out                 0\n",
       "booking_guest_number          47810\n",
       "booking_earned                    0\n",
       "booking_currency                  0\n",
       "booking_received_timestamp    26380\n",
       "listing_id                        0\n",
       "review_sentiment              50795\n",
       "review_sentiment_score        50795\n",
       "length_of_stay                    0\n",
       "booking_window                26380\n",
       "average_daily_rate                0\n",
       "unit_id                          14\n",
       "status                          447\n",
       "bedroom                         513\n",
       "bathroom                      11595\n",
       "beds                          11595\n",
       "capacity                      15556\n",
       "property_id                     447\n",
       "wifi                          14743\n",
       "tv                            14743\n",
       "cable_tv                      14743\n",
       "ac                            14743\n",
       "workspace                     14743\n",
       "pool                          14743\n",
       "parking                       14743\n",
       "gym                           14743\n",
       "kitchen                       14743\n",
       "area_id                         578\n",
       "area_name                       578\n",
       "area_distance_to_airport       1469\n",
       "airport_pickup_price_idr       8781\n",
       "dtype: int64"
      ]
     },
     "execution_count": 19,
     "metadata": {},
     "output_type": "execute_result"
    }
   ],
   "source": [
    "raw_data.isnull().sum()"
   ]
  },
  {
   "cell_type": "markdown",
   "metadata": {},
   "source": [
    "# **3. EDA** \n",
    "\n",
    "**Analisis Data Eksplorasi (EDA)** adalah salah satu teknik yang digunakan untuk mengekstraksi fitur dan tren vital yang digunakan oleh pembelajaran mesin dan model pembelajaran mendalam dalam Sains Data. Memahami data secara menyeluruh membutuhkan eksplorasi dari setiap aspek. Fitur yang berdampak memungkinkan pengambilan keputusan yang bermakna dan bermanfaat; oleh karena itu, EDA menempati tempat yang tak ternilai dalam Sains Data.\n",
    "\n",
    "**Types of Exploratory Data Analysis**\n",
    "\n",
    "1. Univariate\n",
    "2. Bivariate\n",
    "3. Multivariate\n"
   ]
  },
  {
   "cell_type": "code",
   "execution_count": 20,
   "metadata": {},
   "outputs": [
    {
     "data": {
      "application/vnd.plotly.v1+json": {
       "config": {
        "plotlyServerURL": "https://plot.ly"
       },
       "data": [
        {
         "hole": 0.5,
         "hoverinfo": "label+value",
         "labels": [
          "Uluwatu",
          "Canggu",
          "Bingin",
          "Balangan",
          "Nusa Penida",
          "Padang Padang",
          "Jimbaran",
          "Yogyakarta",
          "Ungasan",
          "Ubud"
         ],
         "textfont": {
          "size": 12
         },
         "textinfo": "label+percent",
         "title": {
          "font": {
           "family": "Serif",
           "size": 18
          },
          "text": "Top 10 Frequent of area"
         },
         "type": "pie",
         "values": [
          13063,
          9920,
          8748,
          7729,
          5967,
          3121,
          1946,
          1471,
          1332,
          851
         ]
        }
       ],
       "layout": {
        "height": 700,
        "showlegend": false,
        "template": {},
        "title": {
         "font": {
          "family": "Serif",
          "size": 24
         },
         "text": "<b>Count of daerah properti<b>"
        },
        "width": 700
       }
      }
     },
     "metadata": {},
     "output_type": "display_data"
    }
   ],
   "source": [
    "mask = df['area_name'].value_counts().reset_index(name='count').sort_values('count', ascending=False)\n",
    "total_count = mask['count'].sum()\n",
    "mask['percentage'] = round((mask['count'] / total_count) * 100)\n",
    "mask = mask.head(10)\n",
    "\n",
    "fig = go.Figure()\n",
    "fig.add_trace(\n",
    "    go.Pie(\n",
    "        labels=mask['area_name'],\n",
    "        title=\"Top 10 Frequent of area\",\n",
    "                  titlefont={'size':18, 'family': 'Serif',},\n",
    "         values=mask['count'],\n",
    "        hole=0.5,\n",
    "        )\n",
    "    )\n",
    "fig.update_traces(\n",
    "    hoverinfo='label+value',\n",
    "    textinfo='label+percent',\n",
    "    textfont_size=12,\n",
    "    )\n",
    "fig.layout.update(title=\"<b>Count of daerah properti<b>\",\n",
    "                  titlefont={'size':24, 'family': 'Serif',},\n",
    "                  showlegend=False, \n",
    "                  height=700, \n",
    "                  width=700, \n",
    "                  template=None, \n",
    "                 )\n",
    "\n",
    "fig.show()"
   ]
  },
  {
   "cell_type": "code",
   "execution_count": 21,
   "metadata": {},
   "outputs": [
    {
     "name": "stdout",
     "output_type": "stream",
     "text": [
      "Index(['property_id', 'count', 'percentage'], dtype='object')\n"
     ]
    },
    {
     "data": {
      "application/vnd.plotly.v1+json": {
       "config": {
        "plotlyServerURL": "https://plot.ly"
       },
       "data": [
        {
         "text": [
          9,
          9,
          3,
          3,
          3,
          3,
          2,
          2,
          2,
          2
         ],
         "textposition": "auto",
         "type": "bar",
         "x": [
          "PR0238",
          "PR0245",
          "PR0254",
          "PR0168",
          "PR0198",
          "PR0170",
          "PR0282",
          "PR0188",
          "PR0115",
          "PR0160"
         ],
         "y": [
          4999,
          4871,
          1855,
          1794,
          1577,
          1518,
          1339,
          1092,
          1082,
          1066
         ]
        }
       ],
       "layout": {
        "height": 700,
        "showlegend": false,
        "template": {},
        "title": {
         "font": {
          "family": "Serif",
          "size": 24
         },
         "text": "<b>Count of Property ID<b>"
        },
        "width": 700,
        "xaxis": {
         "title": {
          "text": "Property ID"
         }
        },
        "yaxis": {
         "title": {
          "text": "Count"
         }
        }
       }
      }
     },
     "metadata": {},
     "output_type": "display_data"
    }
   ],
   "source": [
    "import plotly.graph_objects as go\n",
    "\n",
    "# Assuming df is already defined\n",
    "mask = df['property_id'].value_counts().reset_index(name='count').sort_values('count', ascending=False)\n",
    "total_count = mask['count'].sum()\n",
    "mask['percentage'] = round((mask['count'] / total_count) * 100)\n",
    "mask = mask.head(10)\n",
    "\n",
    "print(mask.columns)  # To verify the column names\n",
    "\n",
    "fig = go.Figure()\n",
    "fig.add_trace(\n",
    "    go.Bar(\n",
    "        x=mask.iloc[:, 0],  # Using iloc to access the first column\n",
    "        y=mask['count'],\n",
    "        text=mask['percentage'],\n",
    "        textposition='auto',\n",
    "    )\n",
    ")\n",
    "\n",
    "fig.update_layout(\n",
    "    title=\"<b>Count of Property ID<b>\",\n",
    "    titlefont={'size':24, 'family': 'Serif'},\n",
    "    xaxis_title=\"Property ID\",\n",
    "    yaxis_title=\"Count\",\n",
    "    showlegend=False,\n",
    "    height=700,\n",
    "    width=700,\n",
    "    template=None,\n",
    ")\n",
    "\n",
    "fig.show()\n"
   ]
  },
  {
   "cell_type": "code",
   "execution_count": 22,
   "metadata": {},
   "outputs": [
    {
     "data": {
      "image/png": "[encoded data removed]",
      "text/plain": [
       "<Figure size 1500x800 with 1 Axes>"
      ]
     },
     "metadata": {},
     "output_type": "display_data"
    },
    {
     "name": "stdout",
     "output_type": "stream",
     "text": [
      "Lower, Upper Bounds, and Median for Quartiles:\n",
      "+--------------------------+-------------+-------------+-----------+\n",
      "|          Column          | Lower Bound | Upper Bound |   Median  |\n",
      "+--------------------------+-------------+-------------+-----------+\n",
      "|      length_of_stay      |     1.0     |     6.0     |    2.00   |\n",
      "| airport_pickup_price_idr |   325000.0  |   325000.0  | 325000.00 |\n",
      "|    average_daily_rate    |   357199.5  |  2374200.75 | 558818.00 |\n",
      "+--------------------------+-------------+-------------+-----------+\n"
     ]
    }
   ],
   "source": [
    "columns = df[['length_of_stay', 'airport_pickup_price_idr','average_daily_rate']]\n",
    "pal = ['#163020', '#3A4D39', '#4F6F52', '#739072', '#98BF97', '#B1DEAF', '#B9E8B7', '#C7F7C6']\n",
    "\n",
    "plt.figure(figsize=(15, 8))\n",
    "sns.boxplot(data=columns,palette=pal)\n",
    "plt.title('Boxplot Groups')\n",
    "plt.show()\n",
    "\n",
    "table_bounds = PrettyTable()\n",
    "table_bounds.field_names = [\"Column\", \"Lower Bound\", \"Upper Bound\", \"Median\"]\n",
    "\n",
    "for column in columns.columns:\n",
    "    Q1 = columns[column].quantile(0.25)\n",
    "    Q2 = columns[column].median()\n",
    "    Q3 = columns[column].quantile(0.75)\n",
    "    IQR = Q3 - Q1\n",
    "\n",
    "    lower_bound = Q1\n",
    "    upper_bound = Q3 + 1.5 * IQR\n",
    "\n",
    "    table_bounds.add_row([column, f'{lower_bound}', f'{upper_bound}', f'{Q2:.2f}'])\n",
    "\n",
    "print(\"Lower, Upper Bounds, and Median for Quartiles:\")\n",
    "print(table_bounds)"
   ]
  },
  {
   "cell_type": "code",
   "execution_count": 23,
   "metadata": {},
   "outputs": [
    {
     "data": {
      "application/vnd.plotly.v1+json": {
       "config": {
        "plotlyServerURL": "https://plot.ly"
       },
       "data": [
        {
         "colorbar": {
          "thickness": 30,
          "ticklen": 3
         },
         "colorscale": [
          [
           0,
           "rgb(161, 105, 40)"
          ],
          [
           0.16666666666666666,
           "rgb(189, 146, 90)"
          ],
          [
           0.3333333333333333,
           "rgb(214, 189, 141)"
          ],
          [
           0.5,
           "rgb(237, 234, 194)"
          ],
          [
           0.6666666666666666,
           "rgb(181, 200, 184)"
          ],
          [
           0.8333333333333334,
           "rgb(121, 167, 172)"
          ],
          [
           1,
           "rgb(40, 135, 161)"
          ]
         ],
         "reversescale": false,
         "showscale": false,
         "type": "heatmap",
         "x": [
          "booking_guest_number",
          "booking_earned",
          "booking_currency",
          "review_sentiment_score",
          "length_of_stay",
          "booking_window",
          "average_daily_rate",
          "status",
          "bedroom",
          "bathroom",
          "beds",
          "capacity",
          "wifi",
          "tv",
          "cable_tv",
          "ac",
          "workspace",
          "pool",
          "parking",
          "gym",
          "kitchen",
          "airport_pickup_price_idr"
         ],
         "xgap": 3,
         "y": [
          "booking_guest_number",
          "booking_earned",
          "booking_currency",
          "review_sentiment_score",
          "length_of_stay",
          "booking_window",
          "average_daily_rate",
          "status",
          "bedroom",
          "bathroom",
          "beds",
          "capacity",
          "wifi",
          "tv",
          "cable_tv",
          "ac",
          "workspace",
          "pool",
          "parking",
          "gym",
          "kitchen",
          "airport_pickup_price_idr"
         ],
         "ygap": 3,
         "z": [
          [
           1,
           0.31,
           0.01,
           0.06,
           0,
           0.2,
           0.4,
           0.05,
           0.22,
           0.31,
           0.33,
           0.22,
           -0.01,
           0.15,
           0.01,
           0.03,
           0.04,
           0.04,
           0.01,
           -0.02,
           0.18,
           -0.01
          ],
          [
           0.31,
           1,
           -0.28,
           0.05,
           0.38,
           0.21,
           0.33,
           0.05,
           0.04,
           0.11,
           0.1,
           0.09,
           -0.02,
           0.05,
           -0.03,
           0.05,
           0.05,
           0.11,
           0.05,
           0,
           0.13,
           0
          ],
          [
           0.01,
           -0.28,
           1,
           -0.03,
           0.03,
           0.11,
           0.33,
           0.04,
           0.17,
           0.06,
           0.05,
           0.27,
           0.04,
           -0.07,
           0.03,
           -0.17,
           0.02,
           0.04,
           -0.18,
           -0.03,
           -0.01,
           0.02
          ],
          [
           0.06,
           0.05,
           -0.03,
           1,
           0.02,
           0,
           0.01,
           -0.02,
           -0.05,
           -0.02,
           -0.02,
           0.01,
           0.03,
           -0.01,
           -0.02,
           0.04,
           -0.01,
           0.03,
           0.01,
           0,
           0.02,
           0
          ],
          [
           0,
           0.38,
           0.03,
           0.02,
           1,
           0.13,
           0.02,
           0.02,
           0.03,
           0.03,
           0.02,
           0.01,
           -0.01,
           0.03,
           0.01,
           0,
           0.03,
           0.05,
           0,
           0.02,
           0.11,
           -0.02
          ],
          [
           0.2,
           0.21,
           0.11,
           0,
           0.13,
           1,
           0.23,
           -0.02,
           0.08,
           0.06,
           0.07,
           0.09,
           0.03,
           0.1,
           0.02,
           0.02,
           0.02,
           0.09,
           -0.02,
           -0.02,
           0.08,
           -0.01
          ],
          [
           0.4,
           0.33,
           0.33,
           0.01,
           0.02,
           0.23,
           1,
           0.04,
           0.29,
           0.33,
           0.32,
           0.57,
           0.01,
           0.03,
           0.09,
           0.03,
           0.06,
           0.12,
           -0.04,
           -0.02,
           0.2,
           0.03
          ],
          [
           0.05,
           0.05,
           0.04,
           -0.02,
           0.02,
           -0.02,
           0.04,
           1,
           0.12,
           -0.13,
           -0.11,
           0,
           -0.08,
           -0.11,
           -0.04,
           0.12,
           0.03,
           0.15,
           0.19,
           0,
           0.01,
           0.03
          ],
          [
           0.22,
           0.04,
           0.17,
           -0.05,
           0.03,
           0.08,
           0.29,
           0.12,
           1,
           0.82,
           0.88,
           0.73,
           -0.08,
           0.14,
           0.11,
           0.03,
           0.06,
           0.02,
           -0.03,
           -0.01,
           0.31,
           0.04
          ],
          [
           0.31,
           0.11,
           0.06,
           -0.02,
           0.03,
           0.06,
           0.33,
           -0.13,
           0.82,
           1,
           0.93,
           0.68,
           -0.03,
           0.14,
           0.12,
           -0.1,
           0.04,
           0.05,
           -0.02,
           -0.05,
           0.27,
           -0.03
          ],
          [
           0.33,
           0.1,
           0.05,
           -0.02,
           0.02,
           0.07,
           0.32,
           -0.11,
           0.88,
           0.93,
           1,
           0.73,
           -0.09,
           0.11,
           0.07,
           0.03,
           0.05,
           0.02,
           -0.03,
           -0.05,
           0.29,
           -0.05
          ],
          [
           0.22,
           0.09,
           0.27,
           0.01,
           0.01,
           0.09,
           0.57,
           0,
           0.73,
           0.68,
           0.73,
           1,
           -0.08,
           0.06,
           0.13,
           0.04,
           0.08,
           0.04,
           0,
           0.02,
           0.33,
           -0.03
          ],
          [
           -0.01,
           -0.02,
           0.04,
           0.03,
           -0.01,
           0.03,
           0.01,
           -0.08,
           -0.08,
           -0.03,
           -0.09,
           -0.08,
           1,
           -0.09,
           0.05,
           -0.01,
           -0.03,
           0.11,
           0.15,
           -0.02,
           -0.08,
           0.17
          ],
          [
           0.15,
           0.05,
           -0.07,
           -0.01,
           0.03,
           0.1,
           0.03,
           -0.11,
           0.14,
           0.14,
           0.11,
           0.06,
           -0.09,
           1,
           0.45,
           0.09,
           0.05,
           0.14,
           0.07,
           0.07,
           0.17,
           -0.15
          ],
          [
           0.01,
           -0.03,
           0.03,
           -0.02,
           0.01,
           0.02,
           0.09,
           -0.04,
           0.11,
           0.12,
           0.07,
           0.13,
           0.05,
           0.45,
           1,
           0.05,
           0.14,
           0.22,
           0.1,
           0.09,
           -0.05,
           -0.04
          ],
          [
           0.03,
           0.05,
           -0.17,
           0.04,
           0,
           0.02,
           0.03,
           0.12,
           0.03,
           -0.1,
           0.03,
           0.04,
           -0.01,
           0.09,
           0.05,
           1,
           -0.02,
           0.2,
           0.35,
           0.01,
           0.06,
           -0.07
          ],
          [
           0.04,
           0.05,
           0.02,
           -0.01,
           0.03,
           0.02,
           0.06,
           0.03,
           0.06,
           0.04,
           0.05,
           0.08,
           -0.03,
           0.05,
           0.14,
           -0.02,
           1,
           0.2,
           0.13,
           -0.07,
           0.11,
           -0.08
          ],
          [
           0.04,
           0.11,
           0.04,
           0.03,
           0.05,
           0.09,
           0.12,
           0.15,
           0.02,
           0.05,
           0.02,
           0.04,
           0.11,
           0.14,
           0.22,
           0.2,
           0.2,
           1,
           0.27,
           0.04,
           0.05,
           0.02
          ],
          [
           0.01,
           0.05,
           -0.18,
           0.01,
           0,
           -0.02,
           -0.04,
           0.19,
           -0.03,
           -0.02,
           -0.03,
           0,
           0.15,
           0.07,
           0.1,
           0.35,
           0.13,
           0.27,
           1,
           -0.11,
           0,
           0.08
          ],
          [
           -0.02,
           0,
           -0.03,
           0,
           0.02,
           -0.02,
           -0.02,
           0,
           -0.01,
           -0.05,
           -0.05,
           0.02,
           -0.02,
           0.07,
           0.09,
           0.01,
           -0.07,
           0.04,
           -0.11,
           1,
           0.05,
           -0.11
          ],
          [
           0.18,
           0.13,
           -0.01,
           0.02,
           0.11,
           0.08,
           0.2,
           0.01,
           0.31,
           0.27,
           0.29,
           0.33,
           -0.08,
           0.17,
           -0.05,
           0.06,
           0.11,
           0.05,
           0,
           0.05,
           1,
           -0.16
          ],
          [
           -0.01,
           0,
           0.02,
           0,
           -0.02,
           -0.01,
           0.03,
           0.03,
           0.04,
           -0.03,
           -0.05,
           -0.03,
           0.17,
           -0.15,
           -0.04,
           -0.07,
           -0.08,
           0.02,
           0.08,
           -0.11,
           -0.16,
           1
          ]
         ],
         "zmax": 1,
         "zmin": -1
        }
       ],
       "layout": {
        "annotations": [
         {
          "font": {
           "color": "#FFFFFF"
          },
          "showarrow": false,
          "text": "1.0",
          "x": "booking_guest_number",
          "xref": "x",
          "y": "booking_guest_number",
          "yref": "y"
         },
         {
          "font": {
           "color": "#FFFFFF"
          },
          "showarrow": false,
          "text": "0.31",
          "x": "booking_earned",
          "xref": "x",
          "y": "booking_guest_number",
          "yref": "y"
         },
         {
          "font": {
           "color": "#FFFFFF"
          },
          "showarrow": false,
          "text": "0.01",
          "x": "booking_currency",
          "xref": "x",
          "y": "booking_guest_number",
          "yref": "y"
         },
         {
          "font": {
           "color": "#FFFFFF"
          },
          "showarrow": false,
          "text": "0.06",
          "x": "review_sentiment_score",
          "xref": "x",
          "y": "booking_guest_number",
          "yref": "y"
         },
         {
          "font": {
           "color": "#FFFFFF"
          },
          "showarrow": false,
          "text": "0.0",
          "x": "length_of_stay",
          "xref": "x",
          "y": "booking_guest_number",
          "yref": "y"
         },
         {
          "font": {
           "color": "#FFFFFF"
          },
          "showarrow": false,
          "text": "0.2",
          "x": "booking_window",
          "xref": "x",
          "y": "booking_guest_number",
          "yref": "y"
         },
         {
          "font": {
           "color": "#FFFFFF"
          },
          "showarrow": false,
          "text": "0.4",
          "x": "average_daily_rate",
          "xref": "x",
          "y": "booking_guest_number",
          "yref": "y"
         },
         {
          "font": {
           "color": "#FFFFFF"
          },
          "showarrow": false,
          "text": "0.05",
          "x": "status",
          "xref": "x",
          "y": "booking_guest_number",
          "yref": "y"
         },
         {
          "font": {
           "color": "#FFFFFF"
          },
          "showarrow": false,
          "text": "0.22",
          "x": "bedroom",
          "xref": "x",
          "y": "booking_guest_number",
          "yref": "y"
         },
         {
          "font": {
           "color": "#FFFFFF"
          },
          "showarrow": false,
          "text": "0.31",
          "x": "bathroom",
          "xref": "x",
          "y": "booking_guest_number",
          "yref": "y"
         },
         {
          "font": {
           "color": "#FFFFFF"
          },
          "showarrow": false,
          "text": "0.33",
          "x": "beds",
          "xref": "x",
          "y": "booking_guest_number",
          "yref": "y"
         },
         {
          "font": {
           "color": "#FFFFFF"
          },
          "showarrow": false,
          "text": "0.22",
          "x": "capacity",
          "xref": "x",
          "y": "booking_guest_number",
          "yref": "y"
         },
         {
          "font": {
           "color": "#FFFFFF"
          },
          "showarrow": false,
          "text": "-0.01",
          "x": "wifi",
          "xref": "x",
          "y": "booking_guest_number",
          "yref": "y"
         },
         {
          "font": {
           "color": "#FFFFFF"
          },
          "showarrow": false,
          "text": "0.15",
          "x": "tv",
          "xref": "x",
          "y": "booking_guest_number",
          "yref": "y"
         },
         {
          "font": {
           "color": "#FFFFFF"
          },
          "showarrow": false,
          "text": "0.01",
          "x": "cable_tv",
          "xref": "x",
          "y": "booking_guest_number",
          "yref": "y"
         },
         {
          "font": {
           "color": "#FFFFFF"
          },
          "showarrow": false,
          "text": "0.03",
          "x": "ac",
          "xref": "x",
          "y": "booking_guest_number",
          "yref": "y"
         },
         {
          "font": {
           "color": "#FFFFFF"
          },
          "showarrow": false,
          "text": "0.04",
          "x": "workspace",
          "xref": "x",
          "y": "booking_guest_number",
          "yref": "y"
         },
         {
          "font": {
           "color": "#FFFFFF"
          },
          "showarrow": false,
          "text": "0.04",
          "x": "pool",
          "xref": "x",
          "y": "booking_guest_number",
          "yref": "y"
         },
         {
          "font": {
           "color": "#FFFFFF"
          },
          "showarrow": false,
          "text": "0.01",
          "x": "parking",
          "xref": "x",
          "y": "booking_guest_number",
          "yref": "y"
         },
         {
          "font": {
           "color": "#FFFFFF"
          },
          "showarrow": false,
          "text": "-0.02",
          "x": "gym",
          "xref": "x",
          "y": "booking_guest_number",
          "yref": "y"
         },
         {
          "font": {
           "color": "#FFFFFF"
          },
          "showarrow": false,
          "text": "0.18",
          "x": "kitchen",
          "xref": "x",
          "y": "booking_guest_number",
          "yref": "y"
         },
         {
          "font": {
           "color": "#FFFFFF"
          },
          "showarrow": false,
          "text": "-0.01",
          "x": "airport_pickup_price_idr",
          "xref": "x",
          "y": "booking_guest_number",
          "yref": "y"
         },
         {
          "font": {
           "color": "#FFFFFF"
          },
          "showarrow": false,
          "text": "0.31",
          "x": "booking_guest_number",
          "xref": "x",
          "y": "booking_earned",
          "yref": "y"
         },
         {
          "font": {
           "color": "#FFFFFF"
          },
          "showarrow": false,
          "text": "1.0",
          "x": "booking_earned",
          "xref": "x",
          "y": "booking_earned",
          "yref": "y"
         },
         {
          "font": {
           "color": "#FFFFFF"
          },
          "showarrow": false,
          "text": "-0.28",
          "x": "booking_currency",
          "xref": "x",
          "y": "booking_earned",
          "yref": "y"
         },
         {
          "font": {
           "color": "#FFFFFF"
          },
          "showarrow": false,
          "text": "0.05",
          "x": "review_sentiment_score",
          "xref": "x",
          "y": "booking_earned",
          "yref": "y"
         },
         {
          "font": {
           "color": "#FFFFFF"
          },
          "showarrow": false,
          "text": "0.38",
          "x": "length_of_stay",
          "xref": "x",
          "y": "booking_earned",
          "yref": "y"
         },
         {
          "font": {
           "color": "#FFFFFF"
          },
          "showarrow": false,
          "text": "0.21",
          "x": "booking_window",
          "xref": "x",
          "y": "booking_earned",
          "yref": "y"
         },
         {
          "font": {
           "color": "#FFFFFF"
          },
          "showarrow": false,
          "text": "0.33",
          "x": "average_daily_rate",
          "xref": "x",
          "y": "booking_earned",
          "yref": "y"
         },
         {
          "font": {
           "color": "#FFFFFF"
          },
          "showarrow": false,
          "text": "0.05",
          "x": "status",
          "xref": "x",
          "y": "booking_earned",
          "yref": "y"
         },
         {
          "font": {
           "color": "#FFFFFF"
          },
          "showarrow": false,
          "text": "0.04",
          "x": "bedroom",
          "xref": "x",
          "y": "booking_earned",
          "yref": "y"
         },
         {
          "font": {
           "color": "#FFFFFF"
          },
          "showarrow": false,
          "text": "0.11",
          "x": "bathroom",
          "xref": "x",
          "y": "booking_earned",
          "yref": "y"
         },
         {
          "font": {
           "color": "#FFFFFF"
          },
          "showarrow": false,
          "text": "0.1",
          "x": "beds",
          "xref": "x",
          "y": "booking_earned",
          "yref": "y"
         },
         {
          "font": {
           "color": "#FFFFFF"
          },
          "showarrow": false,
          "text": "0.09",
          "x": "capacity",
          "xref": "x",
          "y": "booking_earned",
          "yref": "y"
         },
         {
          "font": {
           "color": "#FFFFFF"
          },
          "showarrow": false,
          "text": "-0.02",
          "x": "wifi",
          "xref": "x",
          "y": "booking_earned",
          "yref": "y"
         },
         {
          "font": {
           "color": "#FFFFFF"
          },
          "showarrow": false,
          "text": "0.05",
          "x": "tv",
          "xref": "x",
          "y": "booking_earned",
          "yref": "y"
         },
         {
          "font": {
           "color": "#FFFFFF"
          },
          "showarrow": false,
          "text": "-0.03",
          "x": "cable_tv",
          "xref": "x",
          "y": "booking_earned",
          "yref": "y"
         },
         {
          "font": {
           "color": "#FFFFFF"
          },
          "showarrow": false,
          "text": "0.05",
          "x": "ac",
          "xref": "x",
          "y": "booking_earned",
          "yref": "y"
         },
         {
          "font": {
           "color": "#FFFFFF"
          },
          "showarrow": false,
          "text": "0.05",
          "x": "workspace",
          "xref": "x",
          "y": "booking_earned",
          "yref": "y"
         },
         {
          "font": {
           "color": "#FFFFFF"
          },
          "showarrow": false,
          "text": "0.11",
          "x": "pool",
          "xref": "x",
          "y": "booking_earned",
          "yref": "y"
         },
         {
          "font": {
           "color": "#FFFFFF"
          },
          "showarrow": false,
          "text": "0.05",
          "x": "parking",
          "xref": "x",
          "y": "booking_earned",
          "yref": "y"
         },
         {
          "font": {
           "color": "#FFFFFF"
          },
          "showarrow": false,
          "text": "-0.0",
          "x": "gym",
          "xref": "x",
          "y": "booking_earned",
          "yref": "y"
         },
         {
          "font": {
           "color": "#FFFFFF"
          },
          "showarrow": false,
          "text": "0.13",
          "x": "kitchen",
          "xref": "x",
          "y": "booking_earned",
          "yref": "y"
         },
         {
          "font": {
           "color": "#FFFFFF"
          },
          "showarrow": false,
          "text": "0.0",
          "x": "airport_pickup_price_idr",
          "xref": "x",
          "y": "booking_earned",
          "yref": "y"
         },
         {
          "font": {
           "color": "#FFFFFF"
          },
          "showarrow": false,
          "text": "0.01",
          "x": "booking_guest_number",
          "xref": "x",
          "y": "booking_currency",
          "yref": "y"
         },
         {
          "font": {
           "color": "#FFFFFF"
          },
          "showarrow": false,
          "text": "-0.28",
          "x": "booking_earned",
          "xref": "x",
          "y": "booking_currency",
          "yref": "y"
         },
         {
          "font": {
           "color": "#FFFFFF"
          },
          "showarrow": false,
          "text": "1.0",
          "x": "booking_currency",
          "xref": "x",
          "y": "booking_currency",
          "yref": "y"
         },
         {
          "font": {
           "color": "#FFFFFF"
          },
          "showarrow": false,
          "text": "-0.03",
          "x": "review_sentiment_score",
          "xref": "x",
          "y": "booking_currency",
          "yref": "y"
         },
         {
          "font": {
           "color": "#FFFFFF"
          },
          "showarrow": false,
          "text": "0.03",
          "x": "length_of_stay",
          "xref": "x",
          "y": "booking_currency",
          "yref": "y"
         },
         {
          "font": {
           "color": "#FFFFFF"
          },
          "showarrow": false,
          "text": "0.11",
          "x": "booking_window",
          "xref": "x",
          "y": "booking_currency",
          "yref": "y"
         },
         {
          "font": {
           "color": "#FFFFFF"
          },
          "showarrow": false,
          "text": "0.33",
          "x": "average_daily_rate",
          "xref": "x",
          "y": "booking_currency",
          "yref": "y"
         },
         {
          "font": {
           "color": "#FFFFFF"
          },
          "showarrow": false,
          "text": "0.04",
          "x": "status",
          "xref": "x",
          "y": "booking_currency",
          "yref": "y"
         },
         {
          "font": {
           "color": "#FFFFFF"
          },
          "showarrow": false,
          "text": "0.17",
          "x": "bedroom",
          "xref": "x",
          "y": "booking_currency",
          "yref": "y"
         },
         {
          "font": {
           "color": "#FFFFFF"
          },
          "showarrow": false,
          "text": "0.06",
          "x": "bathroom",
          "xref": "x",
          "y": "booking_currency",
          "yref": "y"
         },
         {
          "font": {
           "color": "#FFFFFF"
          },
          "showarrow": false,
          "text": "0.05",
          "x": "beds",
          "xref": "x",
          "y": "booking_currency",
          "yref": "y"
         },
         {
          "font": {
           "color": "#FFFFFF"
          },
          "showarrow": false,
          "text": "0.27",
          "x": "capacity",
          "xref": "x",
          "y": "booking_currency",
          "yref": "y"
         },
         {
          "font": {
           "color": "#FFFFFF"
          },
          "showarrow": false,
          "text": "0.04",
          "x": "wifi",
          "xref": "x",
          "y": "booking_currency",
          "yref": "y"
         },
         {
          "font": {
           "color": "#FFFFFF"
          },
          "showarrow": false,
          "text": "-0.07",
          "x": "tv",
          "xref": "x",
          "y": "booking_currency",
          "yref": "y"
         },
         {
          "font": {
           "color": "#FFFFFF"
          },
          "showarrow": false,
          "text": "0.03",
          "x": "cable_tv",
          "xref": "x",
          "y": "booking_currency",
          "yref": "y"
         },
         {
          "font": {
           "color": "#FFFFFF"
          },
          "showarrow": false,
          "text": "-0.17",
          "x": "ac",
          "xref": "x",
          "y": "booking_currency",
          "yref": "y"
         },
         {
          "font": {
           "color": "#FFFFFF"
          },
          "showarrow": false,
          "text": "0.02",
          "x": "workspace",
          "xref": "x",
          "y": "booking_currency",
          "yref": "y"
         },
         {
          "font": {
           "color": "#FFFFFF"
          },
          "showarrow": false,
          "text": "0.04",
          "x": "pool",
          "xref": "x",
          "y": "booking_currency",
          "yref": "y"
         },
         {
          "font": {
           "color": "#FFFFFF"
          },
          "showarrow": false,
          "text": "-0.18",
          "x": "parking",
          "xref": "x",
          "y": "booking_currency",
          "yref": "y"
         },
         {
          "font": {
           "color": "#FFFFFF"
          },
          "showarrow": false,
          "text": "-0.03",
          "x": "gym",
          "xref": "x",
          "y": "booking_currency",
          "yref": "y"
         },
         {
          "font": {
           "color": "#FFFFFF"
          },
          "showarrow": false,
          "text": "-0.01",
          "x": "kitchen",
          "xref": "x",
          "y": "booking_currency",
          "yref": "y"
         },
         {
          "font": {
           "color": "#FFFFFF"
          },
          "showarrow": false,
          "text": "0.02",
          "x": "airport_pickup_price_idr",
          "xref": "x",
          "y": "booking_currency",
          "yref": "y"
         },
         {
          "font": {
           "color": "#FFFFFF"
          },
          "showarrow": false,
          "text": "0.06",
          "x": "booking_guest_number",
          "xref": "x",
          "y": "review_sentiment_score",
          "yref": "y"
         },
         {
          "font": {
           "color": "#FFFFFF"
          },
          "showarrow": false,
          "text": "0.05",
          "x": "booking_earned",
          "xref": "x",
          "y": "review_sentiment_score",
          "yref": "y"
         },
         {
          "font": {
           "color": "#FFFFFF"
          },
          "showarrow": false,
          "text": "-0.03",
          "x": "booking_currency",
          "xref": "x",
          "y": "review_sentiment_score",
          "yref": "y"
         },
         {
          "font": {
           "color": "#FFFFFF"
          },
          "showarrow": false,
          "text": "1.0",
          "x": "review_sentiment_score",
          "xref": "x",
          "y": "review_sentiment_score",
          "yref": "y"
         },
         {
          "font": {
           "color": "#FFFFFF"
          },
          "showarrow": false,
          "text": "0.02",
          "x": "length_of_stay",
          "xref": "x",
          "y": "review_sentiment_score",
          "yref": "y"
         },
         {
          "font": {
           "color": "#FFFFFF"
          },
          "showarrow": false,
          "text": "-0.0",
          "x": "booking_window",
          "xref": "x",
          "y": "review_sentiment_score",
          "yref": "y"
         },
         {
          "font": {
           "color": "#FFFFFF"
          },
          "showarrow": false,
          "text": "0.01",
          "x": "average_daily_rate",
          "xref": "x",
          "y": "review_sentiment_score",
          "yref": "y"
         },
         {
          "font": {
           "color": "#FFFFFF"
          },
          "showarrow": false,
          "text": "-0.02",
          "x": "status",
          "xref": "x",
          "y": "review_sentiment_score",
          "yref": "y"
         },
         {
          "font": {
           "color": "#FFFFFF"
          },
          "showarrow": false,
          "text": "-0.05",
          "x": "bedroom",
          "xref": "x",
          "y": "review_sentiment_score",
          "yref": "y"
         },
         {
          "font": {
           "color": "#FFFFFF"
          },
          "showarrow": false,
          "text": "-0.02",
          "x": "bathroom",
          "xref": "x",
          "y": "review_sentiment_score",
          "yref": "y"
         },
         {
          "font": {
           "color": "#FFFFFF"
          },
          "showarrow": false,
          "text": "-0.02",
          "x": "beds",
          "xref": "x",
          "y": "review_sentiment_score",
          "yref": "y"
         },
         {
          "font": {
           "color": "#FFFFFF"
          },
          "showarrow": false,
          "text": "0.01",
          "x": "capacity",
          "xref": "x",
          "y": "review_sentiment_score",
          "yref": "y"
         },
         {
          "font": {
           "color": "#FFFFFF"
          },
          "showarrow": false,
          "text": "0.03",
          "x": "wifi",
          "xref": "x",
          "y": "review_sentiment_score",
          "yref": "y"
         },
         {
          "font": {
           "color": "#FFFFFF"
          },
          "showarrow": false,
          "text": "-0.01",
          "x": "tv",
          "xref": "x",
          "y": "review_sentiment_score",
          "yref": "y"
         },
         {
          "font": {
           "color": "#FFFFFF"
          },
          "showarrow": false,
          "text": "-0.02",
          "x": "cable_tv",
          "xref": "x",
          "y": "review_sentiment_score",
          "yref": "y"
         },
         {
          "font": {
           "color": "#FFFFFF"
          },
          "showarrow": false,
          "text": "0.04",
          "x": "ac",
          "xref": "x",
          "y": "review_sentiment_score",
          "yref": "y"
         },
         {
          "font": {
           "color": "#FFFFFF"
          },
          "showarrow": false,
          "text": "-0.01",
          "x": "workspace",
          "xref": "x",
          "y": "review_sentiment_score",
          "yref": "y"
         },
         {
          "font": {
           "color": "#FFFFFF"
          },
          "showarrow": false,
          "text": "0.03",
          "x": "pool",
          "xref": "x",
          "y": "review_sentiment_score",
          "yref": "y"
         },
         {
          "font": {
           "color": "#FFFFFF"
          },
          "showarrow": false,
          "text": "0.01",
          "x": "parking",
          "xref": "x",
          "y": "review_sentiment_score",
          "yref": "y"
         },
         {
          "font": {
           "color": "#FFFFFF"
          },
          "showarrow": false,
          "text": "0.0",
          "x": "gym",
          "xref": "x",
          "y": "review_sentiment_score",
          "yref": "y"
         },
         {
          "font": {
           "color": "#FFFFFF"
          },
          "showarrow": false,
          "text": "0.02",
          "x": "kitchen",
          "xref": "x",
          "y": "review_sentiment_score",
          "yref": "y"
         },
         {
          "font": {
           "color": "#FFFFFF"
          },
          "showarrow": false,
          "text": "0.0",
          "x": "airport_pickup_price_idr",
          "xref": "x",
          "y": "review_sentiment_score",
          "yref": "y"
         },
         {
          "font": {
           "color": "#FFFFFF"
          },
          "showarrow": false,
          "text": "0.0",
          "x": "booking_guest_number",
          "xref": "x",
          "y": "length_of_stay",
          "yref": "y"
         },
         {
          "font": {
           "color": "#FFFFFF"
          },
          "showarrow": false,
          "text": "0.38",
          "x": "booking_earned",
          "xref": "x",
          "y": "length_of_stay",
          "yref": "y"
         },
         {
          "font": {
           "color": "#FFFFFF"
          },
          "showarrow": false,
          "text": "0.03",
          "x": "booking_currency",
          "xref": "x",
          "y": "length_of_stay",
          "yref": "y"
         },
         {
          "font": {
           "color": "#FFFFFF"
          },
          "showarrow": false,
          "text": "0.02",
          "x": "review_sentiment_score",
          "xref": "x",
          "y": "length_of_stay",
          "yref": "y"
         },
         {
          "font": {
           "color": "#FFFFFF"
          },
          "showarrow": false,
          "text": "1.0",
          "x": "length_of_stay",
          "xref": "x",
          "y": "length_of_stay",
          "yref": "y"
         },
         {
          "font": {
           "color": "#FFFFFF"
          },
          "showarrow": false,
          "text": "0.13",
          "x": "booking_window",
          "xref": "x",
          "y": "length_of_stay",
          "yref": "y"
         },
         {
          "font": {
           "color": "#FFFFFF"
          },
          "showarrow": false,
          "text": "0.02",
          "x": "average_daily_rate",
          "xref": "x",
          "y": "length_of_stay",
          "yref": "y"
         },
         {
          "font": {
           "color": "#FFFFFF"
          },
          "showarrow": false,
          "text": "0.02",
          "x": "status",
          "xref": "x",
          "y": "length_of_stay",
          "yref": "y"
         },
         {
          "font": {
           "color": "#FFFFFF"
          },
          "showarrow": false,
          "text": "0.03",
          "x": "bedroom",
          "xref": "x",
          "y": "length_of_stay",
          "yref": "y"
         },
         {
          "font": {
           "color": "#FFFFFF"
          },
          "showarrow": false,
          "text": "0.03",
          "x": "bathroom",
          "xref": "x",
          "y": "length_of_stay",
          "yref": "y"
         },
         {
          "font": {
           "color": "#FFFFFF"
          },
          "showarrow": false,
          "text": "0.02",
          "x": "beds",
          "xref": "x",
          "y": "length_of_stay",
          "yref": "y"
         },
         {
          "font": {
           "color": "#FFFFFF"
          },
          "showarrow": false,
          "text": "0.01",
          "x": "capacity",
          "xref": "x",
          "y": "length_of_stay",
          "yref": "y"
         },
         {
          "font": {
           "color": "#FFFFFF"
          },
          "showarrow": false,
          "text": "-0.01",
          "x": "wifi",
          "xref": "x",
          "y": "length_of_stay",
          "yref": "y"
         },
         {
          "font": {
           "color": "#FFFFFF"
          },
          "showarrow": false,
          "text": "0.03",
          "x": "tv",
          "xref": "x",
          "y": "length_of_stay",
          "yref": "y"
         },
         {
          "font": {
           "color": "#FFFFFF"
          },
          "showarrow": false,
          "text": "0.01",
          "x": "cable_tv",
          "xref": "x",
          "y": "length_of_stay",
          "yref": "y"
         },
         {
          "font": {
           "color": "#FFFFFF"
          },
          "showarrow": false,
          "text": "-0.0",
          "x": "ac",
          "xref": "x",
          "y": "length_of_stay",
          "yref": "y"
         },
         {
          "font": {
           "color": "#FFFFFF"
          },
          "showarrow": false,
          "text": "0.03",
          "x": "workspace",
          "xref": "x",
          "y": "length_of_stay",
          "yref": "y"
         },
         {
          "font": {
           "color": "#FFFFFF"
          },
          "showarrow": false,
          "text": "0.05",
          "x": "pool",
          "xref": "x",
          "y": "length_of_stay",
          "yref": "y"
         },
         {
          "font": {
           "color": "#FFFFFF"
          },
          "showarrow": false,
          "text": "0.0",
          "x": "parking",
          "xref": "x",
          "y": "length_of_stay",
          "yref": "y"
         },
         {
          "font": {
           "color": "#FFFFFF"
          },
          "showarrow": false,
          "text": "0.02",
          "x": "gym",
          "xref": "x",
          "y": "length_of_stay",
          "yref": "y"
         },
         {
          "font": {
           "color": "#FFFFFF"
          },
          "showarrow": false,
          "text": "0.11",
          "x": "kitchen",
          "xref": "x",
          "y": "length_of_stay",
          "yref": "y"
         },
         {
          "font": {
           "color": "#FFFFFF"
          },
          "showarrow": false,
          "text": "-0.02",
          "x": "airport_pickup_price_idr",
          "xref": "x",
          "y": "length_of_stay",
          "yref": "y"
         },
         {
          "font": {
           "color": "#FFFFFF"
          },
          "showarrow": false,
          "text": "0.2",
          "x": "booking_guest_number",
          "xref": "x",
          "y": "booking_window",
          "yref": "y"
         },
         {
          "font": {
           "color": "#FFFFFF"
          },
          "showarrow": false,
          "text": "0.21",
          "x": "booking_earned",
          "xref": "x",
          "y": "booking_window",
          "yref": "y"
         },
         {
          "font": {
           "color": "#FFFFFF"
          },
          "showarrow": false,
          "text": "0.11",
          "x": "booking_currency",
          "xref": "x",
          "y": "booking_window",
          "yref": "y"
         },
         {
          "font": {
           "color": "#FFFFFF"
          },
          "showarrow": false,
          "text": "-0.0",
          "x": "review_sentiment_score",
          "xref": "x",
          "y": "booking_window",
          "yref": "y"
         },
         {
          "font": {
           "color": "#FFFFFF"
          },
          "showarrow": false,
          "text": "0.13",
          "x": "length_of_stay",
          "xref": "x",
          "y": "booking_window",
          "yref": "y"
         },
         {
          "font": {
           "color": "#FFFFFF"
          },
          "showarrow": false,
          "text": "1.0",
          "x": "booking_window",
          "xref": "x",
          "y": "booking_window",
          "yref": "y"
         },
         {
          "font": {
           "color": "#FFFFFF"
          },
          "showarrow": false,
          "text": "0.23",
          "x": "average_daily_rate",
          "xref": "x",
          "y": "booking_window",
          "yref": "y"
         },
         {
          "font": {
           "color": "#FFFFFF"
          },
          "showarrow": false,
          "text": "-0.02",
          "x": "status",
          "xref": "x",
          "y": "booking_window",
          "yref": "y"
         },
         {
          "font": {
           "color": "#FFFFFF"
          },
          "showarrow": false,
          "text": "0.08",
          "x": "bedroom",
          "xref": "x",
          "y": "booking_window",
          "yref": "y"
         },
         {
          "font": {
           "color": "#FFFFFF"
          },
          "showarrow": false,
          "text": "0.06",
          "x": "bathroom",
          "xref": "x",
          "y": "booking_window",
          "yref": "y"
         },
         {
          "font": {
           "color": "#FFFFFF"
          },
          "showarrow": false,
          "text": "0.07",
          "x": "beds",
          "xref": "x",
          "y": "booking_window",
          "yref": "y"
         },
         {
          "font": {
           "color": "#FFFFFF"
          },
          "showarrow": false,
          "text": "0.09",
          "x": "capacity",
          "xref": "x",
          "y": "booking_window",
          "yref": "y"
         },
         {
          "font": {
           "color": "#FFFFFF"
          },
          "showarrow": false,
          "text": "0.03",
          "x": "wifi",
          "xref": "x",
          "y": "booking_window",
          "yref": "y"
         },
         {
          "font": {
           "color": "#FFFFFF"
          },
          "showarrow": false,
          "text": "0.1",
          "x": "tv",
          "xref": "x",
          "y": "booking_window",
          "yref": "y"
         },
         {
          "font": {
           "color": "#FFFFFF"
          },
          "showarrow": false,
          "text": "0.02",
          "x": "cable_tv",
          "xref": "x",
          "y": "booking_window",
          "yref": "y"
         },
         {
          "font": {
           "color": "#FFFFFF"
          },
          "showarrow": false,
          "text": "0.02",
          "x": "ac",
          "xref": "x",
          "y": "booking_window",
          "yref": "y"
         },
         {
          "font": {
           "color": "#FFFFFF"
          },
          "showarrow": false,
          "text": "0.02",
          "x": "workspace",
          "xref": "x",
          "y": "booking_window",
          "yref": "y"
         },
         {
          "font": {
           "color": "#FFFFFF"
          },
          "showarrow": false,
          "text": "0.09",
          "x": "pool",
          "xref": "x",
          "y": "booking_window",
          "yref": "y"
         },
         {
          "font": {
           "color": "#FFFFFF"
          },
          "showarrow": false,
          "text": "-0.02",
          "x": "parking",
          "xref": "x",
          "y": "booking_window",
          "yref": "y"
         },
         {
          "font": {
           "color": "#FFFFFF"
          },
          "showarrow": false,
          "text": "-0.02",
          "x": "gym",
          "xref": "x",
          "y": "booking_window",
          "yref": "y"
         },
         {
          "font": {
           "color": "#FFFFFF"
          },
          "showarrow": false,
          "text": "0.08",
          "x": "kitchen",
          "xref": "x",
          "y": "booking_window",
          "yref": "y"
         },
         {
          "font": {
           "color": "#FFFFFF"
          },
          "showarrow": false,
          "text": "-0.01",
          "x": "airport_pickup_price_idr",
          "xref": "x",
          "y": "booking_window",
          "yref": "y"
         },
         {
          "font": {
           "color": "#FFFFFF"
          },
          "showarrow": false,
          "text": "0.4",
          "x": "booking_guest_number",
          "xref": "x",
          "y": "average_daily_rate",
          "yref": "y"
         },
         {
          "font": {
           "color": "#FFFFFF"
          },
          "showarrow": false,
          "text": "0.33",
          "x": "booking_earned",
          "xref": "x",
          "y": "average_daily_rate",
          "yref": "y"
         },
         {
          "font": {
           "color": "#FFFFFF"
          },
          "showarrow": false,
          "text": "0.33",
          "x": "booking_currency",
          "xref": "x",
          "y": "average_daily_rate",
          "yref": "y"
         },
         {
          "font": {
           "color": "#FFFFFF"
          },
          "showarrow": false,
          "text": "0.01",
          "x": "review_sentiment_score",
          "xref": "x",
          "y": "average_daily_rate",
          "yref": "y"
         },
         {
          "font": {
           "color": "#FFFFFF"
          },
          "showarrow": false,
          "text": "0.02",
          "x": "length_of_stay",
          "xref": "x",
          "y": "average_daily_rate",
          "yref": "y"
         },
         {
          "font": {
           "color": "#FFFFFF"
          },
          "showarrow": false,
          "text": "0.23",
          "x": "booking_window",
          "xref": "x",
          "y": "average_daily_rate",
          "yref": "y"
         },
         {
          "font": {
           "color": "#FFFFFF"
          },
          "showarrow": false,
          "text": "1.0",
          "x": "average_daily_rate",
          "xref": "x",
          "y": "average_daily_rate",
          "yref": "y"
         },
         {
          "font": {
           "color": "#FFFFFF"
          },
          "showarrow": false,
          "text": "0.04",
          "x": "status",
          "xref": "x",
          "y": "average_daily_rate",
          "yref": "y"
         },
         {
          "font": {
           "color": "#FFFFFF"
          },
          "showarrow": false,
          "text": "0.29",
          "x": "bedroom",
          "xref": "x",
          "y": "average_daily_rate",
          "yref": "y"
         },
         {
          "font": {
           "color": "#FFFFFF"
          },
          "showarrow": false,
          "text": "0.33",
          "x": "bathroom",
          "xref": "x",
          "y": "average_daily_rate",
          "yref": "y"
         },
         {
          "font": {
           "color": "#FFFFFF"
          },
          "showarrow": false,
          "text": "0.32",
          "x": "beds",
          "xref": "x",
          "y": "average_daily_rate",
          "yref": "y"
         },
         {
          "font": {
           "color": "#FFFFFF"
          },
          "showarrow": false,
          "text": "0.57",
          "x": "capacity",
          "xref": "x",
          "y": "average_daily_rate",
          "yref": "y"
         },
         {
          "font": {
           "color": "#FFFFFF"
          },
          "showarrow": false,
          "text": "0.01",
          "x": "wifi",
          "xref": "x",
          "y": "average_daily_rate",
          "yref": "y"
         },
         {
          "font": {
           "color": "#FFFFFF"
          },
          "showarrow": false,
          "text": "0.03",
          "x": "tv",
          "xref": "x",
          "y": "average_daily_rate",
          "yref": "y"
         },
         {
          "font": {
           "color": "#FFFFFF"
          },
          "showarrow": false,
          "text": "0.09",
          "x": "cable_tv",
          "xref": "x",
          "y": "average_daily_rate",
          "yref": "y"
         },
         {
          "font": {
           "color": "#FFFFFF"
          },
          "showarrow": false,
          "text": "0.03",
          "x": "ac",
          "xref": "x",
          "y": "average_daily_rate",
          "yref": "y"
         },
         {
          "font": {
           "color": "#FFFFFF"
          },
          "showarrow": false,
          "text": "0.06",
          "x": "workspace",
          "xref": "x",
          "y": "average_daily_rate",
          "yref": "y"
         },
         {
          "font": {
           "color": "#FFFFFF"
          },
          "showarrow": false,
          "text": "0.12",
          "x": "pool",
          "xref": "x",
          "y": "average_daily_rate",
          "yref": "y"
         },
         {
          "font": {
           "color": "#FFFFFF"
          },
          "showarrow": false,
          "text": "-0.04",
          "x": "parking",
          "xref": "x",
          "y": "average_daily_rate",
          "yref": "y"
         },
         {
          "font": {
           "color": "#FFFFFF"
          },
          "showarrow": false,
          "text": "-0.02",
          "x": "gym",
          "xref": "x",
          "y": "average_daily_rate",
          "yref": "y"
         },
         {
          "font": {
           "color": "#FFFFFF"
          },
          "showarrow": false,
          "text": "0.2",
          "x": "kitchen",
          "xref": "x",
          "y": "average_daily_rate",
          "yref": "y"
         },
         {
          "font": {
           "color": "#FFFFFF"
          },
          "showarrow": false,
          "text": "0.03",
          "x": "airport_pickup_price_idr",
          "xref": "x",
          "y": "average_daily_rate",
          "yref": "y"
         },
         {
          "font": {
           "color": "#FFFFFF"
          },
          "showarrow": false,
          "text": "0.05",
          "x": "booking_guest_number",
          "xref": "x",
          "y": "status",
          "yref": "y"
         },
         {
          "font": {
           "color": "#FFFFFF"
          },
          "showarrow": false,
          "text": "0.05",
          "x": "booking_earned",
          "xref": "x",
          "y": "status",
          "yref": "y"
         },
         {
          "font": {
           "color": "#FFFFFF"
          },
          "showarrow": false,
          "text": "0.04",
          "x": "booking_currency",
          "xref": "x",
          "y": "status",
          "yref": "y"
         },
         {
          "font": {
           "color": "#FFFFFF"
          },
          "showarrow": false,
          "text": "-0.02",
          "x": "review_sentiment_score",
          "xref": "x",
          "y": "status",
          "yref": "y"
         },
         {
          "font": {
           "color": "#FFFFFF"
          },
          "showarrow": false,
          "text": "0.02",
          "x": "length_of_stay",
          "xref": "x",
          "y": "status",
          "yref": "y"
         },
         {
          "font": {
           "color": "#FFFFFF"
          },
          "showarrow": false,
          "text": "-0.02",
          "x": "booking_window",
          "xref": "x",
          "y": "status",
          "yref": "y"
         },
         {
          "font": {
           "color": "#FFFFFF"
          },
          "showarrow": false,
          "text": "0.04",
          "x": "average_daily_rate",
          "xref": "x",
          "y": "status",
          "yref": "y"
         },
         {
          "font": {
           "color": "#FFFFFF"
          },
          "showarrow": false,
          "text": "1.0",
          "x": "status",
          "xref": "x",
          "y": "status",
          "yref": "y"
         },
         {
          "font": {
           "color": "#FFFFFF"
          },
          "showarrow": false,
          "text": "0.12",
          "x": "bedroom",
          "xref": "x",
          "y": "status",
          "yref": "y"
         },
         {
          "font": {
           "color": "#FFFFFF"
          },
          "showarrow": false,
          "text": "-0.13",
          "x": "bathroom",
          "xref": "x",
          "y": "status",
          "yref": "y"
         },
         {
          "font": {
           "color": "#FFFFFF"
          },
          "showarrow": false,
          "text": "-0.11",
          "x": "beds",
          "xref": "x",
          "y": "status",
          "yref": "y"
         },
         {
          "font": {
           "color": "#FFFFFF"
          },
          "showarrow": false,
          "text": "-0.0",
          "x": "capacity",
          "xref": "x",
          "y": "status",
          "yref": "y"
         },
         {
          "font": {
           "color": "#FFFFFF"
          },
          "showarrow": false,
          "text": "-0.08",
          "x": "wifi",
          "xref": "x",
          "y": "status",
          "yref": "y"
         },
         {
          "font": {
           "color": "#FFFFFF"
          },
          "showarrow": false,
          "text": "-0.11",
          "x": "tv",
          "xref": "x",
          "y": "status",
          "yref": "y"
         },
         {
          "font": {
           "color": "#FFFFFF"
          },
          "showarrow": false,
          "text": "-0.04",
          "x": "cable_tv",
          "xref": "x",
          "y": "status",
          "yref": "y"
         },
         {
          "font": {
           "color": "#FFFFFF"
          },
          "showarrow": false,
          "text": "0.12",
          "x": "ac",
          "xref": "x",
          "y": "status",
          "yref": "y"
         },
         {
          "font": {
           "color": "#FFFFFF"
          },
          "showarrow": false,
          "text": "0.03",
          "x": "workspace",
          "xref": "x",
          "y": "status",
          "yref": "y"
         },
         {
          "font": {
           "color": "#FFFFFF"
          },
          "showarrow": false,
          "text": "0.15",
          "x": "pool",
          "xref": "x",
          "y": "status",
          "yref": "y"
         },
         {
          "font": {
           "color": "#FFFFFF"
          },
          "showarrow": false,
          "text": "0.19",
          "x": "parking",
          "xref": "x",
          "y": "status",
          "yref": "y"
         },
         {
          "font": {
           "color": "#FFFFFF"
          },
          "showarrow": false,
          "text": "-0.0",
          "x": "gym",
          "xref": "x",
          "y": "status",
          "yref": "y"
         },
         {
          "font": {
           "color": "#FFFFFF"
          },
          "showarrow": false,
          "text": "0.01",
          "x": "kitchen",
          "xref": "x",
          "y": "status",
          "yref": "y"
         },
         {
          "font": {
           "color": "#FFFFFF"
          },
          "showarrow": false,
          "text": "0.03",
          "x": "airport_pickup_price_idr",
          "xref": "x",
          "y": "status",
          "yref": "y"
         },
         {
          "font": {
           "color": "#FFFFFF"
          },
          "showarrow": false,
          "text": "0.22",
          "x": "booking_guest_number",
          "xref": "x",
          "y": "bedroom",
          "yref": "y"
         },
         {
          "font": {
           "color": "#FFFFFF"
          },
          "showarrow": false,
          "text": "0.04",
          "x": "booking_earned",
          "xref": "x",
          "y": "bedroom",
          "yref": "y"
         },
         {
          "font": {
           "color": "#FFFFFF"
          },
          "showarrow": false,
          "text": "0.17",
          "x": "booking_currency",
          "xref": "x",
          "y": "bedroom",
          "yref": "y"
         },
         {
          "font": {
           "color": "#FFFFFF"
          },
          "showarrow": false,
          "text": "-0.05",
          "x": "review_sentiment_score",
          "xref": "x",
          "y": "bedroom",
          "yref": "y"
         },
         {
          "font": {
           "color": "#FFFFFF"
          },
          "showarrow": false,
          "text": "0.03",
          "x": "length_of_stay",
          "xref": "x",
          "y": "bedroom",
          "yref": "y"
         },
         {
          "font": {
           "color": "#FFFFFF"
          },
          "showarrow": false,
          "text": "0.08",
          "x": "booking_window",
          "xref": "x",
          "y": "bedroom",
          "yref": "y"
         },
         {
          "font": {
           "color": "#FFFFFF"
          },
          "showarrow": false,
          "text": "0.29",
          "x": "average_daily_rate",
          "xref": "x",
          "y": "bedroom",
          "yref": "y"
         },
         {
          "font": {
           "color": "#FFFFFF"
          },
          "showarrow": false,
          "text": "0.12",
          "x": "status",
          "xref": "x",
          "y": "bedroom",
          "yref": "y"
         },
         {
          "font": {
           "color": "#FFFFFF"
          },
          "showarrow": false,
          "text": "1.0",
          "x": "bedroom",
          "xref": "x",
          "y": "bedroom",
          "yref": "y"
         },
         {
          "font": {
           "color": "#FFFFFF"
          },
          "showarrow": false,
          "text": "0.82",
          "x": "bathroom",
          "xref": "x",
          "y": "bedroom",
          "yref": "y"
         },
         {
          "font": {
           "color": "#FFFFFF"
          },
          "showarrow": false,
          "text": "0.88",
          "x": "beds",
          "xref": "x",
          "y": "bedroom",
          "yref": "y"
         },
         {
          "font": {
           "color": "#FFFFFF"
          },
          "showarrow": false,
          "text": "0.73",
          "x": "capacity",
          "xref": "x",
          "y": "bedroom",
          "yref": "y"
         },
         {
          "font": {
           "color": "#FFFFFF"
          },
          "showarrow": false,
          "text": "-0.08",
          "x": "wifi",
          "xref": "x",
          "y": "bedroom",
          "yref": "y"
         },
         {
          "font": {
           "color": "#FFFFFF"
          },
          "showarrow": false,
          "text": "0.14",
          "x": "tv",
          "xref": "x",
          "y": "bedroom",
          "yref": "y"
         },
         {
          "font": {
           "color": "#FFFFFF"
          },
          "showarrow": false,
          "text": "0.11",
          "x": "cable_tv",
          "xref": "x",
          "y": "bedroom",
          "yref": "y"
         },
         {
          "font": {
           "color": "#FFFFFF"
          },
          "showarrow": false,
          "text": "0.03",
          "x": "ac",
          "xref": "x",
          "y": "bedroom",
          "yref": "y"
         },
         {
          "font": {
           "color": "#FFFFFF"
          },
          "showarrow": false,
          "text": "0.06",
          "x": "workspace",
          "xref": "x",
          "y": "bedroom",
          "yref": "y"
         },
         {
          "font": {
           "color": "#FFFFFF"
          },
          "showarrow": false,
          "text": "0.02",
          "x": "pool",
          "xref": "x",
          "y": "bedroom",
          "yref": "y"
         },
         {
          "font": {
           "color": "#FFFFFF"
          },
          "showarrow": false,
          "text": "-0.03",
          "x": "parking",
          "xref": "x",
          "y": "bedroom",
          "yref": "y"
         },
         {
          "font": {
           "color": "#FFFFFF"
          },
          "showarrow": false,
          "text": "-0.01",
          "x": "gym",
          "xref": "x",
          "y": "bedroom",
          "yref": "y"
         },
         {
          "font": {
           "color": "#FFFFFF"
          },
          "showarrow": false,
          "text": "0.31",
          "x": "kitchen",
          "xref": "x",
          "y": "bedroom",
          "yref": "y"
         },
         {
          "font": {
           "color": "#FFFFFF"
          },
          "showarrow": false,
          "text": "0.04",
          "x": "airport_pickup_price_idr",
          "xref": "x",
          "y": "bedroom",
          "yref": "y"
         },
         {
          "font": {
           "color": "#FFFFFF"
          },
          "showarrow": false,
          "text": "0.31",
          "x": "booking_guest_number",
          "xref": "x",
          "y": "bathroom",
          "yref": "y"
         },
         {
          "font": {
           "color": "#FFFFFF"
          },
          "showarrow": false,
          "text": "0.11",
          "x": "booking_earned",
          "xref": "x",
          "y": "bathroom",
          "yref": "y"
         },
         {
          "font": {
           "color": "#FFFFFF"
          },
          "showarrow": false,
          "text": "0.06",
          "x": "booking_currency",
          "xref": "x",
          "y": "bathroom",
          "yref": "y"
         },
         {
          "font": {
           "color": "#FFFFFF"
          },
          "showarrow": false,
          "text": "-0.02",
          "x": "review_sentiment_score",
          "xref": "x",
          "y": "bathroom",
          "yref": "y"
         },
         {
          "font": {
           "color": "#FFFFFF"
          },
          "showarrow": false,
          "text": "0.03",
          "x": "length_of_stay",
          "xref": "x",
          "y": "bathroom",
          "yref": "y"
         },
         {
          "font": {
           "color": "#FFFFFF"
          },
          "showarrow": false,
          "text": "0.06",
          "x": "booking_window",
          "xref": "x",
          "y": "bathroom",
          "yref": "y"
         },
         {
          "font": {
           "color": "#FFFFFF"
          },
          "showarrow": false,
          "text": "0.33",
          "x": "average_daily_rate",
          "xref": "x",
          "y": "bathroom",
          "yref": "y"
         },
         {
          "font": {
           "color": "#FFFFFF"
          },
          "showarrow": false,
          "text": "-0.13",
          "x": "status",
          "xref": "x",
          "y": "bathroom",
          "yref": "y"
         },
         {
          "font": {
           "color": "#FFFFFF"
          },
          "showarrow": false,
          "text": "0.82",
          "x": "bedroom",
          "xref": "x",
          "y": "bathroom",
          "yref": "y"
         },
         {
          "font": {
           "color": "#FFFFFF"
          },
          "showarrow": false,
          "text": "1.0",
          "x": "bathroom",
          "xref": "x",
          "y": "bathroom",
          "yref": "y"
         },
         {
          "font": {
           "color": "#FFFFFF"
          },
          "showarrow": false,
          "text": "0.93",
          "x": "beds",
          "xref": "x",
          "y": "bathroom",
          "yref": "y"
         },
         {
          "font": {
           "color": "#FFFFFF"
          },
          "showarrow": false,
          "text": "0.68",
          "x": "capacity",
          "xref": "x",
          "y": "bathroom",
          "yref": "y"
         },
         {
          "font": {
           "color": "#FFFFFF"
          },
          "showarrow": false,
          "text": "-0.03",
          "x": "wifi",
          "xref": "x",
          "y": "bathroom",
          "yref": "y"
         },
         {
          "font": {
           "color": "#FFFFFF"
          },
          "showarrow": false,
          "text": "0.14",
          "x": "tv",
          "xref": "x",
          "y": "bathroom",
          "yref": "y"
         },
         {
          "font": {
           "color": "#FFFFFF"
          },
          "showarrow": false,
          "text": "0.12",
          "x": "cable_tv",
          "xref": "x",
          "y": "bathroom",
          "yref": "y"
         },
         {
          "font": {
           "color": "#FFFFFF"
          },
          "showarrow": false,
          "text": "-0.1",
          "x": "ac",
          "xref": "x",
          "y": "bathroom",
          "yref": "y"
         },
         {
          "font": {
           "color": "#FFFFFF"
          },
          "showarrow": false,
          "text": "0.04",
          "x": "workspace",
          "xref": "x",
          "y": "bathroom",
          "yref": "y"
         },
         {
          "font": {
           "color": "#FFFFFF"
          },
          "showarrow": false,
          "text": "0.05",
          "x": "pool",
          "xref": "x",
          "y": "bathroom",
          "yref": "y"
         },
         {
          "font": {
           "color": "#FFFFFF"
          },
          "showarrow": false,
          "text": "-0.02",
          "x": "parking",
          "xref": "x",
          "y": "bathroom",
          "yref": "y"
         },
         {
          "font": {
           "color": "#FFFFFF"
          },
          "showarrow": false,
          "text": "-0.05",
          "x": "gym",
          "xref": "x",
          "y": "bathroom",
          "yref": "y"
         },
         {
          "font": {
           "color": "#FFFFFF"
          },
          "showarrow": false,
          "text": "0.27",
          "x": "kitchen",
          "xref": "x",
          "y": "bathroom",
          "yref": "y"
         },
         {
          "font": {
           "color": "#FFFFFF"
          },
          "showarrow": false,
          "text": "-0.03",
          "x": "airport_pickup_price_idr",
          "xref": "x",
          "y": "bathroom",
          "yref": "y"
         },
         {
          "font": {
           "color": "#FFFFFF"
          },
          "showarrow": false,
          "text": "0.33",
          "x": "booking_guest_number",
          "xref": "x",
          "y": "beds",
          "yref": "y"
         },
         {
          "font": {
           "color": "#FFFFFF"
          },
          "showarrow": false,
          "text": "0.1",
          "x": "booking_earned",
          "xref": "x",
          "y": "beds",
          "yref": "y"
         },
         {
          "font": {
           "color": "#FFFFFF"
          },
          "showarrow": false,
          "text": "0.05",
          "x": "booking_currency",
          "xref": "x",
          "y": "beds",
          "yref": "y"
         },
         {
          "font": {
           "color": "#FFFFFF"
          },
          "showarrow": false,
          "text": "-0.02",
          "x": "review_sentiment_score",
          "xref": "x",
          "y": "beds",
          "yref": "y"
         },
         {
          "font": {
           "color": "#FFFFFF"
          },
          "showarrow": false,
          "text": "0.02",
          "x": "length_of_stay",
          "xref": "x",
          "y": "beds",
          "yref": "y"
         },
         {
          "font": {
           "color": "#FFFFFF"
          },
          "showarrow": false,
          "text": "0.07",
          "x": "booking_window",
          "xref": "x",
          "y": "beds",
          "yref": "y"
         },
         {
          "font": {
           "color": "#FFFFFF"
          },
          "showarrow": false,
          "text": "0.32",
          "x": "average_daily_rate",
          "xref": "x",
          "y": "beds",
          "yref": "y"
         },
         {
          "font": {
           "color": "#FFFFFF"
          },
          "showarrow": false,
          "text": "-0.11",
          "x": "status",
          "xref": "x",
          "y": "beds",
          "yref": "y"
         },
         {
          "font": {
           "color": "#FFFFFF"
          },
          "showarrow": false,
          "text": "0.88",
          "x": "bedroom",
          "xref": "x",
          "y": "beds",
          "yref": "y"
         },
         {
          "font": {
           "color": "#FFFFFF"
          },
          "showarrow": false,
          "text": "0.93",
          "x": "bathroom",
          "xref": "x",
          "y": "beds",
          "yref": "y"
         },
         {
          "font": {
           "color": "#FFFFFF"
          },
          "showarrow": false,
          "text": "1.0",
          "x": "beds",
          "xref": "x",
          "y": "beds",
          "yref": "y"
         },
         {
          "font": {
           "color": "#FFFFFF"
          },
          "showarrow": false,
          "text": "0.73",
          "x": "capacity",
          "xref": "x",
          "y": "beds",
          "yref": "y"
         },
         {
          "font": {
           "color": "#FFFFFF"
          },
          "showarrow": false,
          "text": "-0.09",
          "x": "wifi",
          "xref": "x",
          "y": "beds",
          "yref": "y"
         },
         {
          "font": {
           "color": "#FFFFFF"
          },
          "showarrow": false,
          "text": "0.11",
          "x": "tv",
          "xref": "x",
          "y": "beds",
          "yref": "y"
         },
         {
          "font": {
           "color": "#FFFFFF"
          },
          "showarrow": false,
          "text": "0.07",
          "x": "cable_tv",
          "xref": "x",
          "y": "beds",
          "yref": "y"
         },
         {
          "font": {
           "color": "#FFFFFF"
          },
          "showarrow": false,
          "text": "0.03",
          "x": "ac",
          "xref": "x",
          "y": "beds",
          "yref": "y"
         },
         {
          "font": {
           "color": "#FFFFFF"
          },
          "showarrow": false,
          "text": "0.05",
          "x": "workspace",
          "xref": "x",
          "y": "beds",
          "yref": "y"
         },
         {
          "font": {
           "color": "#FFFFFF"
          },
          "showarrow": false,
          "text": "0.02",
          "x": "pool",
          "xref": "x",
          "y": "beds",
          "yref": "y"
         },
         {
          "font": {
           "color": "#FFFFFF"
          },
          "showarrow": false,
          "text": "-0.03",
          "x": "parking",
          "xref": "x",
          "y": "beds",
          "yref": "y"
         },
         {
          "font": {
           "color": "#FFFFFF"
          },
          "showarrow": false,
          "text": "-0.05",
          "x": "gym",
          "xref": "x",
          "y": "beds",
          "yref": "y"
         },
         {
          "font": {
           "color": "#FFFFFF"
          },
          "showarrow": false,
          "text": "0.29",
          "x": "kitchen",
          "xref": "x",
          "y": "beds",
          "yref": "y"
         },
         {
          "font": {
           "color": "#FFFFFF"
          },
          "showarrow": false,
          "text": "-0.05",
          "x": "airport_pickup_price_idr",
          "xref": "x",
          "y": "beds",
          "yref": "y"
         },
         {
          "font": {
           "color": "#FFFFFF"
          },
          "showarrow": false,
          "text": "0.22",
          "x": "booking_guest_number",
          "xref": "x",
          "y": "capacity",
          "yref": "y"
         },
         {
          "font": {
           "color": "#FFFFFF"
          },
          "showarrow": false,
          "text": "0.09",
          "x": "booking_earned",
          "xref": "x",
          "y": "capacity",
          "yref": "y"
         },
         {
          "font": {
           "color": "#FFFFFF"
          },
          "showarrow": false,
          "text": "0.27",
          "x": "booking_currency",
          "xref": "x",
          "y": "capacity",
          "yref": "y"
         },
         {
          "font": {
           "color": "#FFFFFF"
          },
          "showarrow": false,
          "text": "0.01",
          "x": "review_sentiment_score",
          "xref": "x",
          "y": "capacity",
          "yref": "y"
         },
         {
          "font": {
           "color": "#FFFFFF"
          },
          "showarrow": false,
          "text": "0.01",
          "x": "length_of_stay",
          "xref": "x",
          "y": "capacity",
          "yref": "y"
         },
         {
          "font": {
           "color": "#FFFFFF"
          },
          "showarrow": false,
          "text": "0.09",
          "x": "booking_window",
          "xref": "x",
          "y": "capacity",
          "yref": "y"
         },
         {
          "font": {
           "color": "#FFFFFF"
          },
          "showarrow": false,
          "text": "0.57",
          "x": "average_daily_rate",
          "xref": "x",
          "y": "capacity",
          "yref": "y"
         },
         {
          "font": {
           "color": "#FFFFFF"
          },
          "showarrow": false,
          "text": "-0.0",
          "x": "status",
          "xref": "x",
          "y": "capacity",
          "yref": "y"
         },
         {
          "font": {
           "color": "#FFFFFF"
          },
          "showarrow": false,
          "text": "0.73",
          "x": "bedroom",
          "xref": "x",
          "y": "capacity",
          "yref": "y"
         },
         {
          "font": {
           "color": "#FFFFFF"
          },
          "showarrow": false,
          "text": "0.68",
          "x": "bathroom",
          "xref": "x",
          "y": "capacity",
          "yref": "y"
         },
         {
          "font": {
           "color": "#FFFFFF"
          },
          "showarrow": false,
          "text": "0.73",
          "x": "beds",
          "xref": "x",
          "y": "capacity",
          "yref": "y"
         },
         {
          "font": {
           "color": "#FFFFFF"
          },
          "showarrow": false,
          "text": "1.0",
          "x": "capacity",
          "xref": "x",
          "y": "capacity",
          "yref": "y"
         },
         {
          "font": {
           "color": "#FFFFFF"
          },
          "showarrow": false,
          "text": "-0.08",
          "x": "wifi",
          "xref": "x",
          "y": "capacity",
          "yref": "y"
         },
         {
          "font": {
           "color": "#FFFFFF"
          },
          "showarrow": false,
          "text": "0.06",
          "x": "tv",
          "xref": "x",
          "y": "capacity",
          "yref": "y"
         },
         {
          "font": {
           "color": "#FFFFFF"
          },
          "showarrow": false,
          "text": "0.13",
          "x": "cable_tv",
          "xref": "x",
          "y": "capacity",
          "yref": "y"
         },
         {
          "font": {
           "color": "#FFFFFF"
          },
          "showarrow": false,
          "text": "0.04",
          "x": "ac",
          "xref": "x",
          "y": "capacity",
          "yref": "y"
         },
         {
          "font": {
           "color": "#FFFFFF"
          },
          "showarrow": false,
          "text": "0.08",
          "x": "workspace",
          "xref": "x",
          "y": "capacity",
          "yref": "y"
         },
         {
          "font": {
           "color": "#FFFFFF"
          },
          "showarrow": false,
          "text": "0.04",
          "x": "pool",
          "xref": "x",
          "y": "capacity",
          "yref": "y"
         },
         {
          "font": {
           "color": "#FFFFFF"
          },
          "showarrow": false,
          "text": "-0.0",
          "x": "parking",
          "xref": "x",
          "y": "capacity",
          "yref": "y"
         },
         {
          "font": {
           "color": "#FFFFFF"
          },
          "showarrow": false,
          "text": "0.02",
          "x": "gym",
          "xref": "x",
          "y": "capacity",
          "yref": "y"
         },
         {
          "font": {
           "color": "#FFFFFF"
          },
          "showarrow": false,
          "text": "0.33",
          "x": "kitchen",
          "xref": "x",
          "y": "capacity",
          "yref": "y"
         },
         {
          "font": {
           "color": "#FFFFFF"
          },
          "showarrow": false,
          "text": "-0.03",
          "x": "airport_pickup_price_idr",
          "xref": "x",
          "y": "capacity",
          "yref": "y"
         },
         {
          "font": {
           "color": "#FFFFFF"
          },
          "showarrow": false,
          "text": "-0.01",
          "x": "booking_guest_number",
          "xref": "x",
          "y": "wifi",
          "yref": "y"
         },
         {
          "font": {
           "color": "#FFFFFF"
          },
          "showarrow": false,
          "text": "-0.02",
          "x": "booking_earned",
          "xref": "x",
          "y": "wifi",
          "yref": "y"
         },
         {
          "font": {
           "color": "#FFFFFF"
          },
          "showarrow": false,
          "text": "0.04",
          "x": "booking_currency",
          "xref": "x",
          "y": "wifi",
          "yref": "y"
         },
         {
          "font": {
           "color": "#FFFFFF"
          },
          "showarrow": false,
          "text": "0.03",
          "x": "review_sentiment_score",
          "xref": "x",
          "y": "wifi",
          "yref": "y"
         },
         {
          "font": {
           "color": "#FFFFFF"
          },
          "showarrow": false,
          "text": "-0.01",
          "x": "length_of_stay",
          "xref": "x",
          "y": "wifi",
          "yref": "y"
         },
         {
          "font": {
           "color": "#FFFFFF"
          },
          "showarrow": false,
          "text": "0.03",
          "x": "booking_window",
          "xref": "x",
          "y": "wifi",
          "yref": "y"
         },
         {
          "font": {
           "color": "#FFFFFF"
          },
          "showarrow": false,
          "text": "0.01",
          "x": "average_daily_rate",
          "xref": "x",
          "y": "wifi",
          "yref": "y"
         },
         {
          "font": {
           "color": "#FFFFFF"
          },
          "showarrow": false,
          "text": "-0.08",
          "x": "status",
          "xref": "x",
          "y": "wifi",
          "yref": "y"
         },
         {
          "font": {
           "color": "#FFFFFF"
          },
          "showarrow": false,
          "text": "-0.08",
          "x": "bedroom",
          "xref": "x",
          "y": "wifi",
          "yref": "y"
         },
         {
          "font": {
           "color": "#FFFFFF"
          },
          "showarrow": false,
          "text": "-0.03",
          "x": "bathroom",
          "xref": "x",
          "y": "wifi",
          "yref": "y"
         },
         {
          "font": {
           "color": "#FFFFFF"
          },
          "showarrow": false,
          "text": "-0.09",
          "x": "beds",
          "xref": "x",
          "y": "wifi",
          "yref": "y"
         },
         {
          "font": {
           "color": "#FFFFFF"
          },
          "showarrow": false,
          "text": "-0.08",
          "x": "capacity",
          "xref": "x",
          "y": "wifi",
          "yref": "y"
         },
         {
          "font": {
           "color": "#FFFFFF"
          },
          "showarrow": false,
          "text": "1.0",
          "x": "wifi",
          "xref": "x",
          "y": "wifi",
          "yref": "y"
         },
         {
          "font": {
           "color": "#FFFFFF"
          },
          "showarrow": false,
          "text": "-0.09",
          "x": "tv",
          "xref": "x",
          "y": "wifi",
          "yref": "y"
         },
         {
          "font": {
           "color": "#FFFFFF"
          },
          "showarrow": false,
          "text": "0.05",
          "x": "cable_tv",
          "xref": "x",
          "y": "wifi",
          "yref": "y"
         },
         {
          "font": {
           "color": "#FFFFFF"
          },
          "showarrow": false,
          "text": "-0.01",
          "x": "ac",
          "xref": "x",
          "y": "wifi",
          "yref": "y"
         },
         {
          "font": {
           "color": "#FFFFFF"
          },
          "showarrow": false,
          "text": "-0.03",
          "x": "workspace",
          "xref": "x",
          "y": "wifi",
          "yref": "y"
         },
         {
          "font": {
           "color": "#FFFFFF"
          },
          "showarrow": false,
          "text": "0.11",
          "x": "pool",
          "xref": "x",
          "y": "wifi",
          "yref": "y"
         },
         {
          "font": {
           "color": "#FFFFFF"
          },
          "showarrow": false,
          "text": "0.15",
          "x": "parking",
          "xref": "x",
          "y": "wifi",
          "yref": "y"
         },
         {
          "font": {
           "color": "#FFFFFF"
          },
          "showarrow": false,
          "text": "-0.02",
          "x": "gym",
          "xref": "x",
          "y": "wifi",
          "yref": "y"
         },
         {
          "font": {
           "color": "#FFFFFF"
          },
          "showarrow": false,
          "text": "-0.08",
          "x": "kitchen",
          "xref": "x",
          "y": "wifi",
          "yref": "y"
         },
         {
          "font": {
           "color": "#FFFFFF"
          },
          "showarrow": false,
          "text": "0.17",
          "x": "airport_pickup_price_idr",
          "xref": "x",
          "y": "wifi",
          "yref": "y"
         },
         {
          "font": {
           "color": "#FFFFFF"
          },
          "showarrow": false,
          "text": "0.15",
          "x": "booking_guest_number",
          "xref": "x",
          "y": "tv",
          "yref": "y"
         },
         {
          "font": {
           "color": "#FFFFFF"
          },
          "showarrow": false,
          "text": "0.05",
          "x": "booking_earned",
          "xref": "x",
          "y": "tv",
          "yref": "y"
         },
         {
          "font": {
           "color": "#FFFFFF"
          },
          "showarrow": false,
          "text": "-0.07",
          "x": "booking_currency",
          "xref": "x",
          "y": "tv",
          "yref": "y"
         },
         {
          "font": {
           "color": "#FFFFFF"
          },
          "showarrow": false,
          "text": "-0.01",
          "x": "review_sentiment_score",
          "xref": "x",
          "y": "tv",
          "yref": "y"
         },
         {
          "font": {
           "color": "#FFFFFF"
          },
          "showarrow": false,
          "text": "0.03",
          "x": "length_of_stay",
          "xref": "x",
          "y": "tv",
          "yref": "y"
         },
         {
          "font": {
           "color": "#FFFFFF"
          },
          "showarrow": false,
          "text": "0.1",
          "x": "booking_window",
          "xref": "x",
          "y": "tv",
          "yref": "y"
         },
         {
          "font": {
           "color": "#FFFFFF"
          },
          "showarrow": false,
          "text": "0.03",
          "x": "average_daily_rate",
          "xref": "x",
          "y": "tv",
          "yref": "y"
         },
         {
          "font": {
           "color": "#FFFFFF"
          },
          "showarrow": false,
          "text": "-0.11",
          "x": "status",
          "xref": "x",
          "y": "tv",
          "yref": "y"
         },
         {
          "font": {
           "color": "#FFFFFF"
          },
          "showarrow": false,
          "text": "0.14",
          "x": "bedroom",
          "xref": "x",
          "y": "tv",
          "yref": "y"
         },
         {
          "font": {
           "color": "#FFFFFF"
          },
          "showarrow": false,
          "text": "0.14",
          "x": "bathroom",
          "xref": "x",
          "y": "tv",
          "yref": "y"
         },
         {
          "font": {
           "color": "#FFFFFF"
          },
          "showarrow": false,
          "text": "0.11",
          "x": "beds",
          "xref": "x",
          "y": "tv",
          "yref": "y"
         },
         {
          "font": {
           "color": "#FFFFFF"
          },
          "showarrow": false,
          "text": "0.06",
          "x": "capacity",
          "xref": "x",
          "y": "tv",
          "yref": "y"
         },
         {
          "font": {
           "color": "#FFFFFF"
          },
          "showarrow": false,
          "text": "-0.09",
          "x": "wifi",
          "xref": "x",
          "y": "tv",
          "yref": "y"
         },
         {
          "font": {
           "color": "#FFFFFF"
          },
          "showarrow": false,
          "text": "1.0",
          "x": "tv",
          "xref": "x",
          "y": "tv",
          "yref": "y"
         },
         {
          "font": {
           "color": "#FFFFFF"
          },
          "showarrow": false,
          "text": "0.45",
          "x": "cable_tv",
          "xref": "x",
          "y": "tv",
          "yref": "y"
         },
         {
          "font": {
           "color": "#FFFFFF"
          },
          "showarrow": false,
          "text": "0.09",
          "x": "ac",
          "xref": "x",
          "y": "tv",
          "yref": "y"
         },
         {
          "font": {
           "color": "#FFFFFF"
          },
          "showarrow": false,
          "text": "0.05",
          "x": "workspace",
          "xref": "x",
          "y": "tv",
          "yref": "y"
         },
         {
          "font": {
           "color": "#FFFFFF"
          },
          "showarrow": false,
          "text": "0.14",
          "x": "pool",
          "xref": "x",
          "y": "tv",
          "yref": "y"
         },
         {
          "font": {
           "color": "#FFFFFF"
          },
          "showarrow": false,
          "text": "0.07",
          "x": "parking",
          "xref": "x",
          "y": "tv",
          "yref": "y"
         },
         {
          "font": {
           "color": "#FFFFFF"
          },
          "showarrow": false,
          "text": "0.07",
          "x": "gym",
          "xref": "x",
          "y": "tv",
          "yref": "y"
         },
         {
          "font": {
           "color": "#FFFFFF"
          },
          "showarrow": false,
          "text": "0.17",
          "x": "kitchen",
          "xref": "x",
          "y": "tv",
          "yref": "y"
         },
         {
          "font": {
           "color": "#FFFFFF"
          },
          "showarrow": false,
          "text": "-0.15",
          "x": "airport_pickup_price_idr",
          "xref": "x",
          "y": "tv",
          "yref": "y"
         },
         {
          "font": {
           "color": "#FFFFFF"
          },
          "showarrow": false,
          "text": "0.01",
          "x": "booking_guest_number",
          "xref": "x",
          "y": "cable_tv",
          "yref": "y"
         },
         {
          "font": {
           "color": "#FFFFFF"
          },
          "showarrow": false,
          "text": "-0.03",
          "x": "booking_earned",
          "xref": "x",
          "y": "cable_tv",
          "yref": "y"
         },
         {
          "font": {
           "color": "#FFFFFF"
          },
          "showarrow": false,
          "text": "0.03",
          "x": "booking_currency",
          "xref": "x",
          "y": "cable_tv",
          "yref": "y"
         },
         {
          "font": {
           "color": "#FFFFFF"
          },
          "showarrow": false,
          "text": "-0.02",
          "x": "review_sentiment_score",
          "xref": "x",
          "y": "cable_tv",
          "yref": "y"
         },
         {
          "font": {
           "color": "#FFFFFF"
          },
          "showarrow": false,
          "text": "0.01",
          "x": "length_of_stay",
          "xref": "x",
          "y": "cable_tv",
          "yref": "y"
         },
         {
          "font": {
           "color": "#FFFFFF"
          },
          "showarrow": false,
          "text": "0.02",
          "x": "booking_window",
          "xref": "x",
          "y": "cable_tv",
          "yref": "y"
         },
         {
          "font": {
           "color": "#FFFFFF"
          },
          "showarrow": false,
          "text": "0.09",
          "x": "average_daily_rate",
          "xref": "x",
          "y": "cable_tv",
          "yref": "y"
         },
         {
          "font": {
           "color": "#FFFFFF"
          },
          "showarrow": false,
          "text": "-0.04",
          "x": "status",
          "xref": "x",
          "y": "cable_tv",
          "yref": "y"
         },
         {
          "font": {
           "color": "#FFFFFF"
          },
          "showarrow": false,
          "text": "0.11",
          "x": "bedroom",
          "xref": "x",
          "y": "cable_tv",
          "yref": "y"
         },
         {
          "font": {
           "color": "#FFFFFF"
          },
          "showarrow": false,
          "text": "0.12",
          "x": "bathroom",
          "xref": "x",
          "y": "cable_tv",
          "yref": "y"
         },
         {
          "font": {
           "color": "#FFFFFF"
          },
          "showarrow": false,
          "text": "0.07",
          "x": "beds",
          "xref": "x",
          "y": "cable_tv",
          "yref": "y"
         },
         {
          "font": {
           "color": "#FFFFFF"
          },
          "showarrow": false,
          "text": "0.13",
          "x": "capacity",
          "xref": "x",
          "y": "cable_tv",
          "yref": "y"
         },
         {
          "font": {
           "color": "#FFFFFF"
          },
          "showarrow": false,
          "text": "0.05",
          "x": "wifi",
          "xref": "x",
          "y": "cable_tv",
          "yref": "y"
         },
         {
          "font": {
           "color": "#FFFFFF"
          },
          "showarrow": false,
          "text": "0.45",
          "x": "tv",
          "xref": "x",
          "y": "cable_tv",
          "yref": "y"
         },
         {
          "font": {
           "color": "#FFFFFF"
          },
          "showarrow": false,
          "text": "1.0",
          "x": "cable_tv",
          "xref": "x",
          "y": "cable_tv",
          "yref": "y"
         },
         {
          "font": {
           "color": "#FFFFFF"
          },
          "showarrow": false,
          "text": "0.05",
          "x": "ac",
          "xref": "x",
          "y": "cable_tv",
          "yref": "y"
         },
         {
          "font": {
           "color": "#FFFFFF"
          },
          "showarrow": false,
          "text": "0.14",
          "x": "workspace",
          "xref": "x",
          "y": "cable_tv",
          "yref": "y"
         },
         {
          "font": {
           "color": "#FFFFFF"
          },
          "showarrow": false,
          "text": "0.22",
          "x": "pool",
          "xref": "x",
          "y": "cable_tv",
          "yref": "y"
         },
         {
          "font": {
           "color": "#FFFFFF"
          },
          "showarrow": false,
          "text": "0.1",
          "x": "parking",
          "xref": "x",
          "y": "cable_tv",
          "yref": "y"
         },
         {
          "font": {
           "color": "#FFFFFF"
          },
          "showarrow": false,
          "text": "0.09",
          "x": "gym",
          "xref": "x",
          "y": "cable_tv",
          "yref": "y"
         },
         {
          "font": {
           "color": "#FFFFFF"
          },
          "showarrow": false,
          "text": "-0.05",
          "x": "kitchen",
          "xref": "x",
          "y": "cable_tv",
          "yref": "y"
         },
         {
          "font": {
           "color": "#FFFFFF"
          },
          "showarrow": false,
          "text": "-0.04",
          "x": "airport_pickup_price_idr",
          "xref": "x",
          "y": "cable_tv",
          "yref": "y"
         },
         {
          "font": {
           "color": "#FFFFFF"
          },
          "showarrow": false,
          "text": "0.03",
          "x": "booking_guest_number",
          "xref": "x",
          "y": "ac",
          "yref": "y"
         },
         {
          "font": {
           "color": "#FFFFFF"
          },
          "showarrow": false,
          "text": "0.05",
          "x": "booking_earned",
          "xref": "x",
          "y": "ac",
          "yref": "y"
         },
         {
          "font": {
           "color": "#FFFFFF"
          },
          "showarrow": false,
          "text": "-0.17",
          "x": "booking_currency",
          "xref": "x",
          "y": "ac",
          "yref": "y"
         },
         {
          "font": {
           "color": "#FFFFFF"
          },
          "showarrow": false,
          "text": "0.04",
          "x": "review_sentiment_score",
          "xref": "x",
          "y": "ac",
          "yref": "y"
         },
         {
          "font": {
           "color": "#FFFFFF"
          },
          "showarrow": false,
          "text": "-0.0",
          "x": "length_of_stay",
          "xref": "x",
          "y": "ac",
          "yref": "y"
         },
         {
          "font": {
           "color": "#FFFFFF"
          },
          "showarrow": false,
          "text": "0.02",
          "x": "booking_window",
          "xref": "x",
          "y": "ac",
          "yref": "y"
         },
         {
          "font": {
           "color": "#FFFFFF"
          },
          "showarrow": false,
          "text": "0.03",
          "x": "average_daily_rate",
          "xref": "x",
          "y": "ac",
          "yref": "y"
         },
         {
          "font": {
           "color": "#FFFFFF"
          },
          "showarrow": false,
          "text": "0.12",
          "x": "status",
          "xref": "x",
          "y": "ac",
          "yref": "y"
         },
         {
          "font": {
           "color": "#FFFFFF"
          },
          "showarrow": false,
          "text": "0.03",
          "x": "bedroom",
          "xref": "x",
          "y": "ac",
          "yref": "y"
         },
         {
          "font": {
           "color": "#FFFFFF"
          },
          "showarrow": false,
          "text": "-0.1",
          "x": "bathroom",
          "xref": "x",
          "y": "ac",
          "yref": "y"
         },
         {
          "font": {
           "color": "#FFFFFF"
          },
          "showarrow": false,
          "text": "0.03",
          "x": "beds",
          "xref": "x",
          "y": "ac",
          "yref": "y"
         },
         {
          "font": {
           "color": "#FFFFFF"
          },
          "showarrow": false,
          "text": "0.04",
          "x": "capacity",
          "xref": "x",
          "y": "ac",
          "yref": "y"
         },
         {
          "font": {
           "color": "#FFFFFF"
          },
          "showarrow": false,
          "text": "-0.01",
          "x": "wifi",
          "xref": "x",
          "y": "ac",
          "yref": "y"
         },
         {
          "font": {
           "color": "#FFFFFF"
          },
          "showarrow": false,
          "text": "0.09",
          "x": "tv",
          "xref": "x",
          "y": "ac",
          "yref": "y"
         },
         {
          "font": {
           "color": "#FFFFFF"
          },
          "showarrow": false,
          "text": "0.05",
          "x": "cable_tv",
          "xref": "x",
          "y": "ac",
          "yref": "y"
         },
         {
          "font": {
           "color": "#FFFFFF"
          },
          "showarrow": false,
          "text": "1.0",
          "x": "ac",
          "xref": "x",
          "y": "ac",
          "yref": "y"
         },
         {
          "font": {
           "color": "#FFFFFF"
          },
          "showarrow": false,
          "text": "-0.02",
          "x": "workspace",
          "xref": "x",
          "y": "ac",
          "yref": "y"
         },
         {
          "font": {
           "color": "#FFFFFF"
          },
          "showarrow": false,
          "text": "0.2",
          "x": "pool",
          "xref": "x",
          "y": "ac",
          "yref": "y"
         },
         {
          "font": {
           "color": "#FFFFFF"
          },
          "showarrow": false,
          "text": "0.35",
          "x": "parking",
          "xref": "x",
          "y": "ac",
          "yref": "y"
         },
         {
          "font": {
           "color": "#FFFFFF"
          },
          "showarrow": false,
          "text": "0.01",
          "x": "gym",
          "xref": "x",
          "y": "ac",
          "yref": "y"
         },
         {
          "font": {
           "color": "#FFFFFF"
          },
          "showarrow": false,
          "text": "0.06",
          "x": "kitchen",
          "xref": "x",
          "y": "ac",
          "yref": "y"
         },
         {
          "font": {
           "color": "#FFFFFF"
          },
          "showarrow": false,
          "text": "-0.07",
          "x": "airport_pickup_price_idr",
          "xref": "x",
          "y": "ac",
          "yref": "y"
         },
         {
          "font": {
           "color": "#FFFFFF"
          },
          "showarrow": false,
          "text": "0.04",
          "x": "booking_guest_number",
          "xref": "x",
          "y": "workspace",
          "yref": "y"
         },
         {
          "font": {
           "color": "#FFFFFF"
          },
          "showarrow": false,
          "text": "0.05",
          "x": "booking_earned",
          "xref": "x",
          "y": "workspace",
          "yref": "y"
         },
         {
          "font": {
           "color": "#FFFFFF"
          },
          "showarrow": false,
          "text": "0.02",
          "x": "booking_currency",
          "xref": "x",
          "y": "workspace",
          "yref": "y"
         },
         {
          "font": {
           "color": "#FFFFFF"
          },
          "showarrow": false,
          "text": "-0.01",
          "x": "review_sentiment_score",
          "xref": "x",
          "y": "workspace",
          "yref": "y"
         },
         {
          "font": {
           "color": "#FFFFFF"
          },
          "showarrow": false,
          "text": "0.03",
          "x": "length_of_stay",
          "xref": "x",
          "y": "workspace",
          "yref": "y"
         },
         {
          "font": {
           "color": "#FFFFFF"
          },
          "showarrow": false,
          "text": "0.02",
          "x": "booking_window",
          "xref": "x",
          "y": "workspace",
          "yref": "y"
         },
         {
          "font": {
           "color": "#FFFFFF"
          },
          "showarrow": false,
          "text": "0.06",
          "x": "average_daily_rate",
          "xref": "x",
          "y": "workspace",
          "yref": "y"
         },
         {
          "font": {
           "color": "#FFFFFF"
          },
          "showarrow": false,
          "text": "0.03",
          "x": "status",
          "xref": "x",
          "y": "workspace",
          "yref": "y"
         },
         {
          "font": {
           "color": "#FFFFFF"
          },
          "showarrow": false,
          "text": "0.06",
          "x": "bedroom",
          "xref": "x",
          "y": "workspace",
          "yref": "y"
         },
         {
          "font": {
           "color": "#FFFFFF"
          },
          "showarrow": false,
          "text": "0.04",
          "x": "bathroom",
          "xref": "x",
          "y": "workspace",
          "yref": "y"
         },
         {
          "font": {
           "color": "#FFFFFF"
          },
          "showarrow": false,
          "text": "0.05",
          "x": "beds",
          "xref": "x",
          "y": "workspace",
          "yref": "y"
         },
         {
          "font": {
           "color": "#FFFFFF"
          },
          "showarrow": false,
          "text": "0.08",
          "x": "capacity",
          "xref": "x",
          "y": "workspace",
          "yref": "y"
         },
         {
          "font": {
           "color": "#FFFFFF"
          },
          "showarrow": false,
          "text": "-0.03",
          "x": "wifi",
          "xref": "x",
          "y": "workspace",
          "yref": "y"
         },
         {
          "font": {
           "color": "#FFFFFF"
          },
          "showarrow": false,
          "text": "0.05",
          "x": "tv",
          "xref": "x",
          "y": "workspace",
          "yref": "y"
         },
         {
          "font": {
           "color": "#FFFFFF"
          },
          "showarrow": false,
          "text": "0.14",
          "x": "cable_tv",
          "xref": "x",
          "y": "workspace",
          "yref": "y"
         },
         {
          "font": {
           "color": "#FFFFFF"
          },
          "showarrow": false,
          "text": "-0.02",
          "x": "ac",
          "xref": "x",
          "y": "workspace",
          "yref": "y"
         },
         {
          "font": {
           "color": "#FFFFFF"
          },
          "showarrow": false,
          "text": "1.0",
          "x": "workspace",
          "xref": "x",
          "y": "workspace",
          "yref": "y"
         },
         {
          "font": {
           "color": "#FFFFFF"
          },
          "showarrow": false,
          "text": "0.2",
          "x": "pool",
          "xref": "x",
          "y": "workspace",
          "yref": "y"
         },
         {
          "font": {
           "color": "#FFFFFF"
          },
          "showarrow": false,
          "text": "0.13",
          "x": "parking",
          "xref": "x",
          "y": "workspace",
          "yref": "y"
         },
         {
          "font": {
           "color": "#FFFFFF"
          },
          "showarrow": false,
          "text": "-0.07",
          "x": "gym",
          "xref": "x",
          "y": "workspace",
          "yref": "y"
         },
         {
          "font": {
           "color": "#FFFFFF"
          },
          "showarrow": false,
          "text": "0.11",
          "x": "kitchen",
          "xref": "x",
          "y": "workspace",
          "yref": "y"
         },
         {
          "font": {
           "color": "#FFFFFF"
          },
          "showarrow": false,
          "text": "-0.08",
          "x": "airport_pickup_price_idr",
          "xref": "x",
          "y": "workspace",
          "yref": "y"
         },
         {
          "font": {
           "color": "#FFFFFF"
          },
          "showarrow": false,
          "text": "0.04",
          "x": "booking_guest_number",
          "xref": "x",
          "y": "pool",
          "yref": "y"
         },
         {
          "font": {
           "color": "#FFFFFF"
          },
          "showarrow": false,
          "text": "0.11",
          "x": "booking_earned",
          "xref": "x",
          "y": "pool",
          "yref": "y"
         },
         {
          "font": {
           "color": "#FFFFFF"
          },
          "showarrow": false,
          "text": "0.04",
          "x": "booking_currency",
          "xref": "x",
          "y": "pool",
          "yref": "y"
         },
         {
          "font": {
           "color": "#FFFFFF"
          },
          "showarrow": false,
          "text": "0.03",
          "x": "review_sentiment_score",
          "xref": "x",
          "y": "pool",
          "yref": "y"
         },
         {
          "font": {
           "color": "#FFFFFF"
          },
          "showarrow": false,
          "text": "0.05",
          "x": "length_of_stay",
          "xref": "x",
          "y": "pool",
          "yref": "y"
         },
         {
          "font": {
           "color": "#FFFFFF"
          },
          "showarrow": false,
          "text": "0.09",
          "x": "booking_window",
          "xref": "x",
          "y": "pool",
          "yref": "y"
         },
         {
          "font": {
           "color": "#FFFFFF"
          },
          "showarrow": false,
          "text": "0.12",
          "x": "average_daily_rate",
          "xref": "x",
          "y": "pool",
          "yref": "y"
         },
         {
          "font": {
           "color": "#FFFFFF"
          },
          "showarrow": false,
          "text": "0.15",
          "x": "status",
          "xref": "x",
          "y": "pool",
          "yref": "y"
         },
         {
          "font": {
           "color": "#FFFFFF"
          },
          "showarrow": false,
          "text": "0.02",
          "x": "bedroom",
          "xref": "x",
          "y": "pool",
          "yref": "y"
         },
         {
          "font": {
           "color": "#FFFFFF"
          },
          "showarrow": false,
          "text": "0.05",
          "x": "bathroom",
          "xref": "x",
          "y": "pool",
          "yref": "y"
         },
         {
          "font": {
           "color": "#FFFFFF"
          },
          "showarrow": false,
          "text": "0.02",
          "x": "beds",
          "xref": "x",
          "y": "pool",
          "yref": "y"
         },
         {
          "font": {
           "color": "#FFFFFF"
          },
          "showarrow": false,
          "text": "0.04",
          "x": "capacity",
          "xref": "x",
          "y": "pool",
          "yref": "y"
         },
         {
          "font": {
           "color": "#FFFFFF"
          },
          "showarrow": false,
          "text": "0.11",
          "x": "wifi",
          "xref": "x",
          "y": "pool",
          "yref": "y"
         },
         {
          "font": {
           "color": "#FFFFFF"
          },
          "showarrow": false,
          "text": "0.14",
          "x": "tv",
          "xref": "x",
          "y": "pool",
          "yref": "y"
         },
         {
          "font": {
           "color": "#FFFFFF"
          },
          "showarrow": false,
          "text": "0.22",
          "x": "cable_tv",
          "xref": "x",
          "y": "pool",
          "yref": "y"
         },
         {
          "font": {
           "color": "#FFFFFF"
          },
          "showarrow": false,
          "text": "0.2",
          "x": "ac",
          "xref": "x",
          "y": "pool",
          "yref": "y"
         },
         {
          "font": {
           "color": "#FFFFFF"
          },
          "showarrow": false,
          "text": "0.2",
          "x": "workspace",
          "xref": "x",
          "y": "pool",
          "yref": "y"
         },
         {
          "font": {
           "color": "#FFFFFF"
          },
          "showarrow": false,
          "text": "1.0",
          "x": "pool",
          "xref": "x",
          "y": "pool",
          "yref": "y"
         },
         {
          "font": {
           "color": "#FFFFFF"
          },
          "showarrow": false,
          "text": "0.27",
          "x": "parking",
          "xref": "x",
          "y": "pool",
          "yref": "y"
         },
         {
          "font": {
           "color": "#FFFFFF"
          },
          "showarrow": false,
          "text": "0.04",
          "x": "gym",
          "xref": "x",
          "y": "pool",
          "yref": "y"
         },
         {
          "font": {
           "color": "#FFFFFF"
          },
          "showarrow": false,
          "text": "0.05",
          "x": "kitchen",
          "xref": "x",
          "y": "pool",
          "yref": "y"
         },
         {
          "font": {
           "color": "#FFFFFF"
          },
          "showarrow": false,
          "text": "0.02",
          "x": "airport_pickup_price_idr",
          "xref": "x",
          "y": "pool",
          "yref": "y"
         },
         {
          "font": {
           "color": "#FFFFFF"
          },
          "showarrow": false,
          "text": "0.01",
          "x": "booking_guest_number",
          "xref": "x",
          "y": "parking",
          "yref": "y"
         },
         {
          "font": {
           "color": "#FFFFFF"
          },
          "showarrow": false,
          "text": "0.05",
          "x": "booking_earned",
          "xref": "x",
          "y": "parking",
          "yref": "y"
         },
         {
          "font": {
           "color": "#FFFFFF"
          },
          "showarrow": false,
          "text": "-0.18",
          "x": "booking_currency",
          "xref": "x",
          "y": "parking",
          "yref": "y"
         },
         {
          "font": {
           "color": "#FFFFFF"
          },
          "showarrow": false,
          "text": "0.01",
          "x": "review_sentiment_score",
          "xref": "x",
          "y": "parking",
          "yref": "y"
         },
         {
          "font": {
           "color": "#FFFFFF"
          },
          "showarrow": false,
          "text": "0.0",
          "x": "length_of_stay",
          "xref": "x",
          "y": "parking",
          "yref": "y"
         },
         {
          "font": {
           "color": "#FFFFFF"
          },
          "showarrow": false,
          "text": "-0.02",
          "x": "booking_window",
          "xref": "x",
          "y": "parking",
          "yref": "y"
         },
         {
          "font": {
           "color": "#FFFFFF"
          },
          "showarrow": false,
          "text": "-0.04",
          "x": "average_daily_rate",
          "xref": "x",
          "y": "parking",
          "yref": "y"
         },
         {
          "font": {
           "color": "#FFFFFF"
          },
          "showarrow": false,
          "text": "0.19",
          "x": "status",
          "xref": "x",
          "y": "parking",
          "yref": "y"
         },
         {
          "font": {
           "color": "#FFFFFF"
          },
          "showarrow": false,
          "text": "-0.03",
          "x": "bedroom",
          "xref": "x",
          "y": "parking",
          "yref": "y"
         },
         {
          "font": {
           "color": "#FFFFFF"
          },
          "showarrow": false,
          "text": "-0.02",
          "x": "bathroom",
          "xref": "x",
          "y": "parking",
          "yref": "y"
         },
         {
          "font": {
           "color": "#FFFFFF"
          },
          "showarrow": false,
          "text": "-0.03",
          "x": "beds",
          "xref": "x",
          "y": "parking",
          "yref": "y"
         },
         {
          "font": {
           "color": "#FFFFFF"
          },
          "showarrow": false,
          "text": "-0.0",
          "x": "capacity",
          "xref": "x",
          "y": "parking",
          "yref": "y"
         },
         {
          "font": {
           "color": "#FFFFFF"
          },
          "showarrow": false,
          "text": "0.15",
          "x": "wifi",
          "xref": "x",
          "y": "parking",
          "yref": "y"
         },
         {
          "font": {
           "color": "#FFFFFF"
          },
          "showarrow": false,
          "text": "0.07",
          "x": "tv",
          "xref": "x",
          "y": "parking",
          "yref": "y"
         },
         {
          "font": {
           "color": "#FFFFFF"
          },
          "showarrow": false,
          "text": "0.1",
          "x": "cable_tv",
          "xref": "x",
          "y": "parking",
          "yref": "y"
         },
         {
          "font": {
           "color": "#FFFFFF"
          },
          "showarrow": false,
          "text": "0.35",
          "x": "ac",
          "xref": "x",
          "y": "parking",
          "yref": "y"
         },
         {
          "font": {
           "color": "#FFFFFF"
          },
          "showarrow": false,
          "text": "0.13",
          "x": "workspace",
          "xref": "x",
          "y": "parking",
          "yref": "y"
         },
         {
          "font": {
           "color": "#FFFFFF"
          },
          "showarrow": false,
          "text": "0.27",
          "x": "pool",
          "xref": "x",
          "y": "parking",
          "yref": "y"
         },
         {
          "font": {
           "color": "#FFFFFF"
          },
          "showarrow": false,
          "text": "1.0",
          "x": "parking",
          "xref": "x",
          "y": "parking",
          "yref": "y"
         },
         {
          "font": {
           "color": "#FFFFFF"
          },
          "showarrow": false,
          "text": "-0.11",
          "x": "gym",
          "xref": "x",
          "y": "parking",
          "yref": "y"
         },
         {
          "font": {
           "color": "#FFFFFF"
          },
          "showarrow": false,
          "text": "0.0",
          "x": "kitchen",
          "xref": "x",
          "y": "parking",
          "yref": "y"
         },
         {
          "font": {
           "color": "#FFFFFF"
          },
          "showarrow": false,
          "text": "0.08",
          "x": "airport_pickup_price_idr",
          "xref": "x",
          "y": "parking",
          "yref": "y"
         },
         {
          "font": {
           "color": "#FFFFFF"
          },
          "showarrow": false,
          "text": "-0.02",
          "x": "booking_guest_number",
          "xref": "x",
          "y": "gym",
          "yref": "y"
         },
         {
          "font": {
           "color": "#FFFFFF"
          },
          "showarrow": false,
          "text": "-0.0",
          "x": "booking_earned",
          "xref": "x",
          "y": "gym",
          "yref": "y"
         },
         {
          "font": {
           "color": "#FFFFFF"
          },
          "showarrow": false,
          "text": "-0.03",
          "x": "booking_currency",
          "xref": "x",
          "y": "gym",
          "yref": "y"
         },
         {
          "font": {
           "color": "#FFFFFF"
          },
          "showarrow": false,
          "text": "0.0",
          "x": "review_sentiment_score",
          "xref": "x",
          "y": "gym",
          "yref": "y"
         },
         {
          "font": {
           "color": "#FFFFFF"
          },
          "showarrow": false,
          "text": "0.02",
          "x": "length_of_stay",
          "xref": "x",
          "y": "gym",
          "yref": "y"
         },
         {
          "font": {
           "color": "#FFFFFF"
          },
          "showarrow": false,
          "text": "-0.02",
          "x": "booking_window",
          "xref": "x",
          "y": "gym",
          "yref": "y"
         },
         {
          "font": {
           "color": "#FFFFFF"
          },
          "showarrow": false,
          "text": "-0.02",
          "x": "average_daily_rate",
          "xref": "x",
          "y": "gym",
          "yref": "y"
         },
         {
          "font": {
           "color": "#FFFFFF"
          },
          "showarrow": false,
          "text": "-0.0",
          "x": "status",
          "xref": "x",
          "y": "gym",
          "yref": "y"
         },
         {
          "font": {
           "color": "#FFFFFF"
          },
          "showarrow": false,
          "text": "-0.01",
          "x": "bedroom",
          "xref": "x",
          "y": "gym",
          "yref": "y"
         },
         {
          "font": {
           "color": "#FFFFFF"
          },
          "showarrow": false,
          "text": "-0.05",
          "x": "bathroom",
          "xref": "x",
          "y": "gym",
          "yref": "y"
         },
         {
          "font": {
           "color": "#FFFFFF"
          },
          "showarrow": false,
          "text": "-0.05",
          "x": "beds",
          "xref": "x",
          "y": "gym",
          "yref": "y"
         },
         {
          "font": {
           "color": "#FFFFFF"
          },
          "showarrow": false,
          "text": "0.02",
          "x": "capacity",
          "xref": "x",
          "y": "gym",
          "yref": "y"
         },
         {
          "font": {
           "color": "#FFFFFF"
          },
          "showarrow": false,
          "text": "-0.02",
          "x": "wifi",
          "xref": "x",
          "y": "gym",
          "yref": "y"
         },
         {
          "font": {
           "color": "#FFFFFF"
          },
          "showarrow": false,
          "text": "0.07",
          "x": "tv",
          "xref": "x",
          "y": "gym",
          "yref": "y"
         },
         {
          "font": {
           "color": "#FFFFFF"
          },
          "showarrow": false,
          "text": "0.09",
          "x": "cable_tv",
          "xref": "x",
          "y": "gym",
          "yref": "y"
         },
         {
          "font": {
           "color": "#FFFFFF"
          },
          "showarrow": false,
          "text": "0.01",
          "x": "ac",
          "xref": "x",
          "y": "gym",
          "yref": "y"
         },
         {
          "font": {
           "color": "#FFFFFF"
          },
          "showarrow": false,
          "text": "-0.07",
          "x": "workspace",
          "xref": "x",
          "y": "gym",
          "yref": "y"
         },
         {
          "font": {
           "color": "#FFFFFF"
          },
          "showarrow": false,
          "text": "0.04",
          "x": "pool",
          "xref": "x",
          "y": "gym",
          "yref": "y"
         },
         {
          "font": {
           "color": "#FFFFFF"
          },
          "showarrow": false,
          "text": "-0.11",
          "x": "parking",
          "xref": "x",
          "y": "gym",
          "yref": "y"
         },
         {
          "font": {
           "color": "#FFFFFF"
          },
          "showarrow": false,
          "text": "1.0",
          "x": "gym",
          "xref": "x",
          "y": "gym",
          "yref": "y"
         },
         {
          "font": {
           "color": "#FFFFFF"
          },
          "showarrow": false,
          "text": "0.05",
          "x": "kitchen",
          "xref": "x",
          "y": "gym",
          "yref": "y"
         },
         {
          "font": {
           "color": "#FFFFFF"
          },
          "showarrow": false,
          "text": "-0.11",
          "x": "airport_pickup_price_idr",
          "xref": "x",
          "y": "gym",
          "yref": "y"
         },
         {
          "font": {
           "color": "#FFFFFF"
          },
          "showarrow": false,
          "text": "0.18",
          "x": "booking_guest_number",
          "xref": "x",
          "y": "kitchen",
          "yref": "y"
         },
         {
          "font": {
           "color": "#FFFFFF"
          },
          "showarrow": false,
          "text": "0.13",
          "x": "booking_earned",
          "xref": "x",
          "y": "kitchen",
          "yref": "y"
         },
         {
          "font": {
           "color": "#FFFFFF"
          },
          "showarrow": false,
          "text": "-0.01",
          "x": "booking_currency",
          "xref": "x",
          "y": "kitchen",
          "yref": "y"
         },
         {
          "font": {
           "color": "#FFFFFF"
          },
          "showarrow": false,
          "text": "0.02",
          "x": "review_sentiment_score",
          "xref": "x",
          "y": "kitchen",
          "yref": "y"
         },
         {
          "font": {
           "color": "#FFFFFF"
          },
          "showarrow": false,
          "text": "0.11",
          "x": "length_of_stay",
          "xref": "x",
          "y": "kitchen",
          "yref": "y"
         },
         {
          "font": {
           "color": "#FFFFFF"
          },
          "showarrow": false,
          "text": "0.08",
          "x": "booking_window",
          "xref": "x",
          "y": "kitchen",
          "yref": "y"
         },
         {
          "font": {
           "color": "#FFFFFF"
          },
          "showarrow": false,
          "text": "0.2",
          "x": "average_daily_rate",
          "xref": "x",
          "y": "kitchen",
          "yref": "y"
         },
         {
          "font": {
           "color": "#FFFFFF"
          },
          "showarrow": false,
          "text": "0.01",
          "x": "status",
          "xref": "x",
          "y": "kitchen",
          "yref": "y"
         },
         {
          "font": {
           "color": "#FFFFFF"
          },
          "showarrow": false,
          "text": "0.31",
          "x": "bedroom",
          "xref": "x",
          "y": "kitchen",
          "yref": "y"
         },
         {
          "font": {
           "color": "#FFFFFF"
          },
          "showarrow": false,
          "text": "0.27",
          "x": "bathroom",
          "xref": "x",
          "y": "kitchen",
          "yref": "y"
         },
         {
          "font": {
           "color": "#FFFFFF"
          },
          "showarrow": false,
          "text": "0.29",
          "x": "beds",
          "xref": "x",
          "y": "kitchen",
          "yref": "y"
         },
         {
          "font": {
           "color": "#FFFFFF"
          },
          "showarrow": false,
          "text": "0.33",
          "x": "capacity",
          "xref": "x",
          "y": "kitchen",
          "yref": "y"
         },
         {
          "font": {
           "color": "#FFFFFF"
          },
          "showarrow": false,
          "text": "-0.08",
          "x": "wifi",
          "xref": "x",
          "y": "kitchen",
          "yref": "y"
         },
         {
          "font": {
           "color": "#FFFFFF"
          },
          "showarrow": false,
          "text": "0.17",
          "x": "tv",
          "xref": "x",
          "y": "kitchen",
          "yref": "y"
         },
         {
          "font": {
           "color": "#FFFFFF"
          },
          "showarrow": false,
          "text": "-0.05",
          "x": "cable_tv",
          "xref": "x",
          "y": "kitchen",
          "yref": "y"
         },
         {
          "font": {
           "color": "#FFFFFF"
          },
          "showarrow": false,
          "text": "0.06",
          "x": "ac",
          "xref": "x",
          "y": "kitchen",
          "yref": "y"
         },
         {
          "font": {
           "color": "#FFFFFF"
          },
          "showarrow": false,
          "text": "0.11",
          "x": "workspace",
          "xref": "x",
          "y": "kitchen",
          "yref": "y"
         },
         {
          "font": {
           "color": "#FFFFFF"
          },
          "showarrow": false,
          "text": "0.05",
          "x": "pool",
          "xref": "x",
          "y": "kitchen",
          "yref": "y"
         },
         {
          "font": {
           "color": "#FFFFFF"
          },
          "showarrow": false,
          "text": "0.0",
          "x": "parking",
          "xref": "x",
          "y": "kitchen",
          "yref": "y"
         },
         {
          "font": {
           "color": "#FFFFFF"
          },
          "showarrow": false,
          "text": "0.05",
          "x": "gym",
          "xref": "x",
          "y": "kitchen",
          "yref": "y"
         },
         {
          "font": {
           "color": "#FFFFFF"
          },
          "showarrow": false,
          "text": "1.0",
          "x": "kitchen",
          "xref": "x",
          "y": "kitchen",
          "yref": "y"
         },
         {
          "font": {
           "color": "#FFFFFF"
          },
          "showarrow": false,
          "text": "-0.16",
          "x": "airport_pickup_price_idr",
          "xref": "x",
          "y": "kitchen",
          "yref": "y"
         },
         {
          "font": {
           "color": "#FFFFFF"
          },
          "showarrow": false,
          "text": "-0.01",
          "x": "booking_guest_number",
          "xref": "x",
          "y": "airport_pickup_price_idr",
          "yref": "y"
         },
         {
          "font": {
           "color": "#FFFFFF"
          },
          "showarrow": false,
          "text": "0.0",
          "x": "booking_earned",
          "xref": "x",
          "y": "airport_pickup_price_idr",
          "yref": "y"
         },
         {
          "font": {
           "color": "#FFFFFF"
          },
          "showarrow": false,
          "text": "0.02",
          "x": "booking_currency",
          "xref": "x",
          "y": "airport_pickup_price_idr",
          "yref": "y"
         },
         {
          "font": {
           "color": "#FFFFFF"
          },
          "showarrow": false,
          "text": "0.0",
          "x": "review_sentiment_score",
          "xref": "x",
          "y": "airport_pickup_price_idr",
          "yref": "y"
         },
         {
          "font": {
           "color": "#FFFFFF"
          },
          "showarrow": false,
          "text": "-0.02",
          "x": "length_of_stay",
          "xref": "x",
          "y": "airport_pickup_price_idr",
          "yref": "y"
         },
         {
          "font": {
           "color": "#FFFFFF"
          },
          "showarrow": false,
          "text": "-0.01",
          "x": "booking_window",
          "xref": "x",
          "y": "airport_pickup_price_idr",
          "yref": "y"
         },
         {
          "font": {
           "color": "#FFFFFF"
          },
          "showarrow": false,
          "text": "0.03",
          "x": "average_daily_rate",
          "xref": "x",
          "y": "airport_pickup_price_idr",
          "yref": "y"
         },
         {
          "font": {
           "color": "#FFFFFF"
          },
          "showarrow": false,
          "text": "0.03",
          "x": "status",
          "xref": "x",
          "y": "airport_pickup_price_idr",
          "yref": "y"
         },
         {
          "font": {
           "color": "#FFFFFF"
          },
          "showarrow": false,
          "text": "0.04",
          "x": "bedroom",
          "xref": "x",
          "y": "airport_pickup_price_idr",
          "yref": "y"
         },
         {
          "font": {
           "color": "#FFFFFF"
          },
          "showarrow": false,
          "text": "-0.03",
          "x": "bathroom",
          "xref": "x",
          "y": "airport_pickup_price_idr",
          "yref": "y"
         },
         {
          "font": {
           "color": "#FFFFFF"
          },
          "showarrow": false,
          "text": "-0.05",
          "x": "beds",
          "xref": "x",
          "y": "airport_pickup_price_idr",
          "yref": "y"
         },
         {
          "font": {
           "color": "#FFFFFF"
          },
          "showarrow": false,
          "text": "-0.03",
          "x": "capacity",
          "xref": "x",
          "y": "airport_pickup_price_idr",
          "yref": "y"
         },
         {
          "font": {
           "color": "#FFFFFF"
          },
          "showarrow": false,
          "text": "0.17",
          "x": "wifi",
          "xref": "x",
          "y": "airport_pickup_price_idr",
          "yref": "y"
         },
         {
          "font": {
           "color": "#FFFFFF"
          },
          "showarrow": false,
          "text": "-0.15",
          "x": "tv",
          "xref": "x",
          "y": "airport_pickup_price_idr",
          "yref": "y"
         },
         {
          "font": {
           "color": "#FFFFFF"
          },
          "showarrow": false,
          "text": "-0.04",
          "x": "cable_tv",
          "xref": "x",
          "y": "airport_pickup_price_idr",
          "yref": "y"
         },
         {
          "font": {
           "color": "#FFFFFF"
          },
          "showarrow": false,
          "text": "-0.07",
          "x": "ac",
          "xref": "x",
          "y": "airport_pickup_price_idr",
          "yref": "y"
         },
         {
          "font": {
           "color": "#FFFFFF"
          },
          "showarrow": false,
          "text": "-0.08",
          "x": "workspace",
          "xref": "x",
          "y": "airport_pickup_price_idr",
          "yref": "y"
         },
         {
          "font": {
           "color": "#FFFFFF"
          },
          "showarrow": false,
          "text": "0.02",
          "x": "pool",
          "xref": "x",
          "y": "airport_pickup_price_idr",
          "yref": "y"
         },
         {
          "font": {
           "color": "#FFFFFF"
          },
          "showarrow": false,
          "text": "0.08",
          "x": "parking",
          "xref": "x",
          "y": "airport_pickup_price_idr",
          "yref": "y"
         },
         {
          "font": {
           "color": "#FFFFFF"
          },
          "showarrow": false,
          "text": "-0.11",
          "x": "gym",
          "xref": "x",
          "y": "airport_pickup_price_idr",
          "yref": "y"
         },
         {
          "font": {
           "color": "#FFFFFF"
          },
          "showarrow": false,
          "text": "-0.16",
          "x": "kitchen",
          "xref": "x",
          "y": "airport_pickup_price_idr",
          "yref": "y"
         },
         {
          "font": {
           "color": "#FFFFFF"
          },
          "showarrow": false,
          "text": "1.0",
          "x": "airport_pickup_price_idr",
          "xref": "x",
          "y": "airport_pickup_price_idr",
          "yref": "y"
         }
        ],
        "height": 750,
        "margin": {
         "b": 100,
         "l": 150,
         "r": 100,
         "t": 100
        },
        "template": {
         "data": {
          "bar": [
           {
            "error_x": {
             "color": "#2a3f5f"
            },
            "error_y": {
             "color": "#2a3f5f"
            },
            "marker": {
             "line": {
              "color": "#E5ECF6",
              "width": 0.5
             },
             "pattern": {
              "fillmode": "overlay",
              "size": 10,
              "solidity": 0.2
             }
            },
            "type": "bar"
           }
          ],
          "barpolar": [
           {
            "marker": {
             "line": {
              "color": "#E5ECF6",
              "width": 0.5
             },
             "pattern": {
              "fillmode": "overlay",
              "size": 10,
              "solidity": 0.2
             }
            },
            "type": "barpolar"
           }
          ],
          "carpet": [
           {
            "aaxis": {
             "endlinecolor": "#2a3f5f",
             "gridcolor": "white",
             "linecolor": "white",
             "minorgridcolor": "white",
             "startlinecolor": "#2a3f5f"
            },
            "baxis": {
             "endlinecolor": "#2a3f5f",
             "gridcolor": "white",
             "linecolor": "white",
             "minorgridcolor": "white",
             "startlinecolor": "#2a3f5f"
            },
            "type": "carpet"
           }
          ],
          "choropleth": [
           {
            "colorbar": {
             "outlinewidth": 0,
             "ticks": ""
            },
            "type": "choropleth"
           }
          ],
          "contour": [
           {
            "colorbar": {
             "outlinewidth": 0,
             "ticks": ""
            },
            "colorscale": [
             [
              0,
              "#0d0887"
             ],
             [
              0.1111111111111111,
              "#46039f"
             ],
             [
              0.2222222222222222,
              "#7201a8"
             ],
             [
              0.3333333333333333,
              "#9c179e"
             ],
             [
              0.4444444444444444,
              "#bd3786"
             ],
             [
              0.5555555555555556,
              "#d8576b"
             ],
             [
              0.6666666666666666,
              "#ed7953"
             ],
             [
              0.7777777777777778,
              "#fb9f3a"
             ],
             [
              0.8888888888888888,
              "#fdca26"
             ],
             [
              1,
              "#f0f921"
             ]
            ],
            "type": "contour"
           }
          ],
          "contourcarpet": [
           {
            "colorbar": {
             "outlinewidth": 0,
             "ticks": ""
            },
            "type": "contourcarpet"
           }
          ],
          "heatmap": [
           {
            "colorbar": {
             "outlinewidth": 0,
             "ticks": ""
            },
            "colorscale": [
             [
              0,
              "#0d0887"
             ],
             [
              0.1111111111111111,
              "#46039f"
             ],
             [
              0.2222222222222222,
              "#7201a8"
             ],
             [
              0.3333333333333333,
              "#9c179e"
             ],
             [
              0.4444444444444444,
              "#bd3786"
             ],
             [
              0.5555555555555556,
              "#d8576b"
             ],
             [
              0.6666666666666666,
              "#ed7953"
             ],
             [
              0.7777777777777778,
              "#fb9f3a"
             ],
             [
              0.8888888888888888,
              "#fdca26"
             ],
             [
              1,
              "#f0f921"
             ]
            ],
            "type": "heatmap"
           }
          ],
          "heatmapgl": [
           {
            "colorbar": {
             "outlinewidth": 0,
             "ticks": ""
            },
            "colorscale": [
             [
              0,
              "#0d0887"
             ],
             [
              0.1111111111111111,
              "#46039f"
             ],
             [
              0.2222222222222222,
              "#7201a8"
             ],
             [
              0.3333333333333333,
              "#9c179e"
             ],
             [
              0.4444444444444444,
              "#bd3786"
             ],
             [
              0.5555555555555556,
              "#d8576b"
             ],
             [
              0.6666666666666666,
              "#ed7953"
             ],
             [
              0.7777777777777778,
              "#fb9f3a"
             ],
             [
              0.8888888888888888,
              "#fdca26"
             ],
             [
              1,
              "#f0f921"
             ]
            ],
            "type": "heatmapgl"
           }
          ],
          "histogram": [
           {
            "marker": {
             "pattern": {
              "fillmode": "overlay",
              "size": 10,
              "solidity": 0.2
             }
            },
            "type": "histogram"
           }
          ],
          "histogram2d": [
           {
            "colorbar": {
             "outlinewidth": 0,
             "ticks": ""
            },
            "colorscale": [
             [
              0,
              "#0d0887"
             ],
             [
              0.1111111111111111,
              "#46039f"
             ],
             [
              0.2222222222222222,
              "#7201a8"
             ],
             [
              0.3333333333333333,
              "#9c179e"
             ],
             [
              0.4444444444444444,
              "#bd3786"
             ],
             [
              0.5555555555555556,
              "#d8576b"
             ],
             [
              0.6666666666666666,
              "#ed7953"
             ],
             [
              0.7777777777777778,
              "#fb9f3a"
             ],
             [
              0.8888888888888888,
              "#fdca26"
             ],
             [
              1,
              "#f0f921"
             ]
            ],
            "type": "histogram2d"
           }
          ],
          "histogram2dcontour": [
           {
            "colorbar": {
             "outlinewidth": 0,
             "ticks": ""
            },
            "colorscale": [
             [
              0,
              "#0d0887"
             ],
             [
              0.1111111111111111,
              "#46039f"
             ],
             [
              0.2222222222222222,
              "#7201a8"
             ],
             [
              0.3333333333333333,
              "#9c179e"
             ],
             [
              0.4444444444444444,
              "#bd3786"
             ],
             [
              0.5555555555555556,
              "#d8576b"
             ],
             [
              0.6666666666666666,
              "#ed7953"
             ],
             [
              0.7777777777777778,
              "#fb9f3a"
             ],
             [
              0.8888888888888888,
              "#fdca26"
             ],
             [
              1,
              "#f0f921"
             ]
            ],
            "type": "histogram2dcontour"
           }
          ],
          "mesh3d": [
           {
            "colorbar": {
             "outlinewidth": 0,
             "ticks": ""
            },
            "type": "mesh3d"
           }
          ],
          "parcoords": [
           {
            "line": {
             "colorbar": {
              "outlinewidth": 0,
              "ticks": ""
             }
            },
            "type": "parcoords"
           }
          ],
          "pie": [
           {
            "automargin": true,
            "type": "pie"
           }
          ],
          "scatter": [
           {
            "fillpattern": {
             "fillmode": "overlay",
             "size": 10,
             "solidity": 0.2
            },
            "type": "scatter"
           }
          ],
          "scatter3d": [
           {
            "line": {
             "colorbar": {
              "outlinewidth": 0,
              "ticks": ""
             }
            },
            "marker": {
             "colorbar": {
              "outlinewidth": 0,
              "ticks": ""
             }
            },
            "type": "scatter3d"
           }
          ],
          "scattercarpet": [
           {
            "marker": {
             "colorbar": {
              "outlinewidth": 0,
              "ticks": ""
             }
            },
            "type": "scattercarpet"
           }
          ],
          "scattergeo": [
           {
            "marker": {
             "colorbar": {
              "outlinewidth": 0,
              "ticks": ""
             }
            },
            "type": "scattergeo"
           }
          ],
          "scattergl": [
           {
            "marker": {
             "colorbar": {
              "outlinewidth": 0,
              "ticks": ""
             }
            },
            "type": "scattergl"
           }
          ],
          "scattermapbox": [
           {
            "marker": {
             "colorbar": {
              "outlinewidth": 0,
              "ticks": ""
             }
            },
            "type": "scattermapbox"
           }
          ],
          "scatterpolar": [
           {
            "marker": {
             "colorbar": {
              "outlinewidth": 0,
              "ticks": ""
             }
            },
            "type": "scatterpolar"
           }
          ],
          "scatterpolargl": [
           {
            "marker": {
             "colorbar": {
              "outlinewidth": 0,
              "ticks": ""
             }
            },
            "type": "scatterpolargl"
           }
          ],
          "scatterternary": [
           {
            "marker": {
             "colorbar": {
              "outlinewidth": 0,
              "ticks": ""
             }
            },
            "type": "scatterternary"
           }
          ],
          "surface": [
           {
            "colorbar": {
             "outlinewidth": 0,
             "ticks": ""
            },
            "colorscale": [
             [
              0,
              "#0d0887"
             ],
             [
              0.1111111111111111,
              "#46039f"
             ],
             [
              0.2222222222222222,
              "#7201a8"
             ],
             [
              0.3333333333333333,
              "#9c179e"
             ],
             [
              0.4444444444444444,
              "#bd3786"
             ],
             [
              0.5555555555555556,
              "#d8576b"
             ],
             [
              0.6666666666666666,
              "#ed7953"
             ],
             [
              0.7777777777777778,
              "#fb9f3a"
             ],
             [
              0.8888888888888888,
              "#fdca26"
             ],
             [
              1,
              "#f0f921"
             ]
            ],
            "type": "surface"
           }
          ],
          "table": [
           {
            "cells": {
             "fill": {
              "color": "#EBF0F8"
             },
             "line": {
              "color": "white"
             }
            },
            "header": {
             "fill": {
              "color": "#C8D4E3"
             },
             "line": {
              "color": "white"
             }
            },
            "type": "table"
           }
          ]
         },
         "layout": {
          "annotationdefaults": {
           "arrowcolor": "#2a3f5f",
           "arrowhead": 0,
           "arrowwidth": 1
          },
          "autotypenumbers": "strict",
          "coloraxis": {
           "colorbar": {
            "outlinewidth": 0,
            "ticks": ""
           }
          },
          "colorscale": {
           "diverging": [
            [
             0,
             "#8e0152"
            ],
            [
             0.1,
             "#c51b7d"
            ],
            [
             0.2,
             "#de77ae"
            ],
            [
             0.3,
             "#f1b6da"
            ],
            [
             0.4,
             "#fde0ef"
            ],
            [
             0.5,
             "#f7f7f7"
            ],
            [
             0.6,
             "#e6f5d0"
            ],
            [
             0.7,
             "#b8e186"
            ],
            [
             0.8,
             "#7fbc41"
            ],
            [
             0.9,
             "#4d9221"
            ],
            [
             1,
             "#276419"
            ]
           ],
           "sequential": [
            [
             0,
             "#0d0887"
            ],
            [
             0.1111111111111111,
             "#46039f"
            ],
            [
             0.2222222222222222,
             "#7201a8"
            ],
            [
             0.3333333333333333,
             "#9c179e"
            ],
            [
             0.4444444444444444,
             "#bd3786"
            ],
            [
             0.5555555555555556,
             "#d8576b"
            ],
            [
             0.6666666666666666,
             "#ed7953"
            ],
            [
             0.7777777777777778,
             "#fb9f3a"
            ],
            [
             0.8888888888888888,
             "#fdca26"
            ],
            [
             1,
             "#f0f921"
            ]
           ],
           "sequentialminus": [
            [
             0,
             "#0d0887"
            ],
            [
             0.1111111111111111,
             "#46039f"
            ],
            [
             0.2222222222222222,
             "#7201a8"
            ],
            [
             0.3333333333333333,
             "#9c179e"
            ],
            [
             0.4444444444444444,
             "#bd3786"
            ],
            [
             0.5555555555555556,
             "#d8576b"
            ],
            [
             0.6666666666666666,
             "#ed7953"
            ],
            [
             0.7777777777777778,
             "#fb9f3a"
            ],
            [
             0.8888888888888888,
             "#fdca26"
            ],
            [
             1,
             "#f0f921"
            ]
           ]
          },
          "colorway": [
           "#636efa",
           "#EF553B",
           "#00cc96",
           "#ab63fa",
           "#FFA15A",
           "#19d3f3",
           "#FF6692",
           "#B6E880",
           "#FF97FF",
           "#FECB52"
          ],
          "font": {
           "color": "#2a3f5f"
          },
          "geo": {
           "bgcolor": "white",
           "lakecolor": "white",
           "landcolor": "#E5ECF6",
           "showlakes": true,
           "showland": true,
           "subunitcolor": "white"
          },
          "hoverlabel": {
           "align": "left"
          },
          "hovermode": "closest",
          "mapbox": {
           "style": "light"
          },
          "paper_bgcolor": "white",
          "plot_bgcolor": "#E5ECF6",
          "polar": {
           "angularaxis": {
            "gridcolor": "white",
            "linecolor": "white",
            "ticks": ""
           },
           "bgcolor": "#E5ECF6",
           "radialaxis": {
            "gridcolor": "white",
            "linecolor": "white",
            "ticks": ""
           }
          },
          "scene": {
           "xaxis": {
            "backgroundcolor": "#E5ECF6",
            "gridcolor": "white",
            "gridwidth": 2,
            "linecolor": "white",
            "showbackground": true,
            "ticks": "",
            "zerolinecolor": "white"
           },
           "yaxis": {
            "backgroundcolor": "#E5ECF6",
            "gridcolor": "white",
            "gridwidth": 2,
            "linecolor": "white",
            "showbackground": true,
            "ticks": "",
            "zerolinecolor": "white"
           },
           "zaxis": {
            "backgroundcolor": "#E5ECF6",
            "gridcolor": "white",
            "gridwidth": 2,
            "linecolor": "white",
            "showbackground": true,
            "ticks": "",
            "zerolinecolor": "white"
           }
          },
          "shapedefaults": {
           "line": {
            "color": "#2a3f5f"
           }
          },
          "ternary": {
           "aaxis": {
            "gridcolor": "white",
            "linecolor": "white",
            "ticks": ""
           },
           "baxis": {
            "gridcolor": "white",
            "linecolor": "white",
            "ticks": ""
           },
           "bgcolor": "#E5ECF6",
           "caxis": {
            "gridcolor": "white",
            "linecolor": "white",
            "ticks": ""
           }
          },
          "title": {
           "x": 0.05
          },
          "xaxis": {
           "automargin": true,
           "gridcolor": "white",
           "linecolor": "white",
           "ticks": "",
           "title": {
            "standoff": 15
           },
           "zerolinecolor": "white",
           "zerolinewidth": 2
          },
          "yaxis": {
           "automargin": true,
           "gridcolor": "white",
           "linecolor": "white",
           "ticks": "",
           "title": {
            "standoff": 15
           },
           "zerolinecolor": "white",
           "zerolinewidth": 2
          }
         }
        },
        "title": {
         "font": {
          "size": 24
         },
         "text": "<b>Correlation Matrix (cont. features)<b>",
         "x": 0.5
        },
        "width": 1000,
        "xaxis": {
         "dtick": 1,
         "gridcolor": "rgb(0, 0, 0)",
         "showgrid": false,
         "side": "bottom",
         "ticks": ""
        },
        "yaxis": {
         "autorange": "reversed",
         "dtick": 1,
         "showgrid": false,
         "ticks": "",
         "ticksuffix": "  "
        }
       }
      }
     },
     "metadata": {},
     "output_type": "display_data"
    }
   ],
   "source": [
    "cols = [col for col in df.columns if df[col].dtype != 'object'][1:]\n",
    "corr = df[cols].corr()\n",
    "\n",
    "fig = ff.create_annotated_heatmap(\n",
    "    z=corr.to_numpy().round(2),\n",
    "    x=list(corr.index.values),\n",
    "    y=list(corr.columns.values),       \n",
    "    xgap=3, ygap=3,\n",
    "    zmin=-1, zmax=1,\n",
    "    colorscale='earth',\n",
    "    colorbar_thickness=30,\n",
    "    colorbar_ticklen=3,\n",
    ")\n",
    "fig.update_layout(title_text='<b>Correlation Matrix (cont. features)<b>',\n",
    "                  title_x=0.5,\n",
    "                  titlefont={'size': 24},\n",
    "                  width=1000, height=750,\n",
    "                  margin=dict(l=150, r=100, b=100, t=100),\n",
    "                  xaxis_showgrid=False,\n",
    "                  xaxis={'side': 'bottom'},\n",
    "                  yaxis_showgrid=False,\n",
    "                  yaxis_autorange='reversed',                   \n",
    "                  paper_bgcolor=None,\n",
    "                  )\n",
    "fig.show()\n"
   ]
  },
  {
   "cell_type": "code",
   "execution_count": null,
   "metadata": {},
   "outputs": [],
   "source": []
  },
  {
   "cell_type": "markdown",
   "metadata": {},
   "source": [
    "## **4 Data Pre-Prosessing**\n",
    "\n",
    "**Data Pre-Prosessing** adalah tahapan untuk menghilangkan beberapa permasalahan yang bisa mengganggu saat pemrosesan data. Hal tersebut karena banyak data yang formatnya tidak konsisten. Data preprocessing merupakan teknik sebelum melakukan modeling.\n"
   ]
  },
  {
   "cell_type": "code",
   "execution_count": 24,
   "metadata": {},
   "outputs": [],
   "source": [
    "def replace_outliers(column, lower_bound, upper_bound):\n",
    "    mask = (column < lower_bound) | (column > upper_bound)\n",
    "    column[mask] = column.clip(lower=lower_bound, upper=upper_bound)\n",
    "\n",
    "# Define columns and their corresponding bounds\n",
    "columns_and_bounds = {\n",
    "    'average_daily_rate': (357199.5, 2374200.75 )}\n",
    "\n",
    "# Replace outliers for each column\n",
    "for column, (lower_bound, upper_bound) in columns_and_bounds.items():\n",
    "    replace_outliers(raw_data['average_daily_rate'], lower_bound, upper_bound)\n"
   ]
  },
  {
   "cell_type": "code",
   "execution_count": null,
   "metadata": {},
   "outputs": [],
   "source": []
  },
  {
   "cell_type": "code",
   "execution_count": 25,
   "metadata": {},
   "outputs": [],
   "source": [
    "\n",
    "raw_data['booking_check_in'] = pd.to_datetime(raw_data['booking_check_in'])\n",
    "raw_data['booking_check_out'] = pd.to_datetime(raw_data['booking_check_out'])\n",
    "\n",
    "def convert_to_minutes(time_str):\n",
    "    if pd.isna(time_str):\n",
    "        return None\n",
    "    if 'hour' in time_str:\n",
    "        hours = int(time_str.split()[0])\n",
    "        return hours * 60\n",
    "    elif 'minute' in time_str:\n",
    "        minutes = int(time_str.split()[0])\n",
    "        return minutes\n",
    "    else:\n",
    "        return None\n",
    "\n",
    "raw_data['area_distance_to_airport'] = raw_data['area_distance_to_airport'].apply(convert_to_minutes)\n",
    "\n",
    "raw_data['booking_check_in_date'] = raw_data['booking_check_in'].dt.day\n",
    "raw_data['booking_check_in_month'] = raw_data['booking_check_in'].dt.month\n",
    "raw_data['booking_check_in_year'] = raw_data['booking_check_in'].dt.year\n",
    "\n",
    "raw_data['booking_check_out_date'] = raw_data['booking_check_out'].dt.day\n",
    "raw_data['booking_check_out_month'] = raw_data['booking_check_out'].dt.month\n",
    "raw_data['booking_check_out_year'] = raw_data['booking_check_out'].dt.year\n",
    "\n"
   ]
  },
  {
   "cell_type": "code",
   "execution_count": 26,
   "metadata": {},
   "outputs": [],
   "source": [
    "raw_data = raw_data.drop(['booking_id','booking_check_in','booking_check_out','booking_received_timestamp','status','booking_window'\n",
    "], axis = 1)\n"
   ]
  },
  {
   "cell_type": "code",
   "execution_count": 27,
   "metadata": {},
   "outputs": [
    {
     "data": {
      "text/plain": [
       "booking_status                  0\n",
       "booking_guest_number        47810\n",
       "booking_earned                  0\n",
       "booking_currency                0\n",
       "listing_id                      0\n",
       "review_sentiment            50795\n",
       "review_sentiment_score      50795\n",
       "length_of_stay                  0\n",
       "average_daily_rate              0\n",
       "unit_id                        14\n",
       "bedroom                       513\n",
       "bathroom                    11595\n",
       "beds                        11595\n",
       "capacity                    15556\n",
       "property_id                   447\n",
       "wifi                        14743\n",
       "tv                          14743\n",
       "cable_tv                    14743\n",
       "ac                          14743\n",
       "workspace                   14743\n",
       "pool                        14743\n",
       "parking                     14743\n",
       "gym                         14743\n",
       "kitchen                     14743\n",
       "area_id                       578\n",
       "area_name                     578\n",
       "area_distance_to_airport     1469\n",
       "airport_pickup_price_idr     8781\n",
       "booking_check_in_date           0\n",
       "booking_check_in_month          0\n",
       "booking_check_in_year           0\n",
       "booking_check_out_date          0\n",
       "booking_check_out_month         0\n",
       "booking_check_out_year          0\n",
       "dtype: int64"
      ]
     },
     "execution_count": 27,
     "metadata": {},
     "output_type": "execute_result"
    }
   ],
   "source": [
    "raw_data.isnull().sum()"
   ]
  },
  {
   "cell_type": "code",
   "execution_count": 28,
   "metadata": {},
   "outputs": [
    {
     "name": "stdout",
     "output_type": "stream",
     "text": [
      "   unit_id  review_sentiment  listing_id  property_id  area_id  area_name\n",
      "0      335                 2        1817          154       11         13\n",
      "1      334                 2        1893          192       11         13\n",
      "2      334                 2        1893          192       11         13\n",
      "3      335                 2        1817          154       11         13\n",
      "4      335                 2        1817          154       11         13\n"
     ]
    }
   ],
   "source": [
    "from sklearn.preprocessing import LabelEncoder\n",
    "\n",
    "# Inisialisasi LabelEncoder\n",
    "label_encoder = LabelEncoder()\n",
    "\n",
    "# Menggunakan LabelEncoder untuk kolom unit_id\n",
    "raw_data['listing_id'] = label_encoder.fit_transform(raw_data['listing_id'])\n",
    "\n",
    "raw_data['review_sentiment'] = label_encoder.fit_transform(raw_data['review_sentiment'])\n",
    "\n",
    "\n",
    "\n",
    "raw_data['unit_id'] = label_encoder.fit_transform(raw_data['unit_id'])\n",
    "\n",
    "raw_data['unit_id'] = label_encoder.fit_transform(raw_data['unit_id'])\n",
    "\n",
    "raw_data['property_id'] = label_encoder.fit_transform(raw_data['property_id'])\n",
    "\n",
    "raw_data['area_id'] = label_encoder.fit_transform(raw_data['area_id'])\n",
    "\n",
    "raw_data['area_name'] = label_encoder.fit_transform(raw_data['area_name'])\n",
    "\n",
    "print(raw_data[['unit_id', 'review_sentiment','listing_id','property_id', 'area_id', 'area_name']].head())\n"
   ]
  },
  {
   "cell_type": "code",
   "execution_count": 29,
   "metadata": {},
   "outputs": [
    {
     "name": "stdout",
     "output_type": "stream",
     "text": [
      "\n",
      "Jumlah nilai yang hilang setelah imputasi:\n",
      " booking_status                  0\n",
      "booking_guest_number            0\n",
      "booking_earned                  0\n",
      "booking_currency                0\n",
      "listing_id                      0\n",
      "review_sentiment                0\n",
      "review_sentiment_score      50795\n",
      "length_of_stay                  0\n",
      "average_daily_rate              0\n",
      "unit_id                         0\n",
      "bedroom                         0\n",
      "bathroom                        0\n",
      "beds                            0\n",
      "capacity                        0\n",
      "property_id                     0\n",
      "wifi                            0\n",
      "tv                              0\n",
      "cable_tv                        0\n",
      "ac                              0\n",
      "workspace                       0\n",
      "pool                            0\n",
      "parking                         0\n",
      "gym                             0\n",
      "kitchen                         0\n",
      "area_id                         0\n",
      "area_name                       0\n",
      "area_distance_to_airport     1469\n",
      "airport_pickup_price_idr     8781\n",
      "booking_check_in_date           0\n",
      "booking_check_in_month          0\n",
      "booking_check_in_year           0\n",
      "booking_check_out_date          0\n",
      "booking_check_out_month         0\n",
      "booking_check_out_year          0\n",
      "cluster                         0\n",
      "dtype: int64\n"
     ]
    }
   ],
   "source": [
    "from sklearn.cluster import KMeans\n",
    "from sklearn.impute import SimpleImputer\n",
    "from sklearn.preprocessing import StandardScaler\n",
    "# Memilih kolom yang akan digunakan untuk clustering\n",
    "columns_for_clustering = ['bedroom', 'bathroom', 'beds', 'capacity','wifi','tv','cable_tv','ac','workspace','pool',\n",
    "                          'booking_guest_number','parking','gym','kitchen']\n",
    "\n",
    "# Mengisi nilai yang hilang sementara dengan SimpleImputer (mean strategy)\n",
    "imputer = SimpleImputer(strategy='mean')\n",
    "data_imputed = imputer.fit_transform(raw_data[columns_for_clustering])\n",
    "\n",
    "# Normalisasi data sebelum clustering\n",
    "scaler = StandardScaler()\n",
    "data_scaled = scaler.fit_transform(data_imputed)\n",
    "\n",
    "# Menentukan jumlah cluster (misalnya, 5)\n",
    "kmeans = KMeans(n_clusters=5, random_state=42)\n",
    "clusters = kmeans.fit_predict(data_scaled)\n",
    "\n",
    "# Menambahkan kolom cluster ke DataFrame asli\n",
    "raw_data['cluster'] = clusters\n",
    "\n",
    "# Mengisi nilai yang hilang dengan centroid dari masing-masing cluster\n",
    "for column in columns_for_clustering:\n",
    "    for cluster in range(5):\n",
    "        cluster_mean = raw_data[raw_data['cluster'] == cluster][column].mean()\n",
    "        raw_data.loc[(raw_data[column].isnull()) & (raw_data['cluster'] == cluster), column] = cluster_mean\n",
    "\n",
    "# Mengecek kembali nilai yang hilang setelah imputasi\n",
    "print(\"\\nJumlah nilai yang hilang setelah imputasi:\\n\", raw_data.isnull().sum())\n",
    "\n",
    "# Menghapus kolom cluster karena sudah tidak diperlukan\n",
    "raw_data.drop(columns=['cluster'], inplace=True)"
   ]
  },
  {
   "cell_type": "code",
   "execution_count": 30,
   "metadata": {},
   "outputs": [
    {
     "name": "stdout",
     "output_type": "stream",
     "text": [
      "\n",
      "Jumlah nilai yang hilang setelah imputasi:\n",
      " booking_status                  0\n",
      "booking_guest_number            0\n",
      "booking_earned                  0\n",
      "booking_currency                0\n",
      "listing_id                      0\n",
      "review_sentiment                0\n",
      "review_sentiment_score      50795\n",
      "length_of_stay                  0\n",
      "average_daily_rate              0\n",
      "unit_id                         0\n",
      "bedroom                         0\n",
      "bathroom                        0\n",
      "beds                            0\n",
      "capacity                        0\n",
      "property_id                     0\n",
      "wifi                            0\n",
      "tv                              0\n",
      "cable_tv                        0\n",
      "ac                              0\n",
      "workspace                       0\n",
      "pool                            0\n",
      "parking                         0\n",
      "gym                             0\n",
      "kitchen                         0\n",
      "area_id                         0\n",
      "area_name                       0\n",
      "area_distance_to_airport     1469\n",
      "airport_pickup_price_idr     8781\n",
      "booking_check_in_date           0\n",
      "booking_check_in_month          0\n",
      "booking_check_in_year           0\n",
      "booking_check_out_date          0\n",
      "booking_check_out_month         0\n",
      "booking_check_out_year          0\n",
      "cluster                         0\n",
      "dtype: int64\n"
     ]
    }
   ],
   "source": [
    "from sklearn.cluster import KMeans\n",
    "from sklearn.impute import SimpleImputer\n",
    "from sklearn.preprocessing import StandardScaler\n",
    "# Memilih kolom yang akan digunakan untuk clustering\n",
    "columns_for_clustering = ['booking_check_in_date','booking_check_in_month','booking_check_in_year',\n",
    "                          'booking_check_in_year','booking_check_out_month','booking_check_out_year']\n",
    "\n",
    "# Mengisi nilai yang hilang sementara dengan SimpleImputer (mean strategy)\n",
    "imputer = SimpleImputer(strategy='mean')\n",
    "data_imputed = imputer.fit_transform(raw_data[columns_for_clustering])\n",
    "\n",
    "# Normalisasi data sebelum clustering\n",
    "scaler = StandardScaler()\n",
    "data_scaled = scaler.fit_transform(data_imputed)\n",
    "\n",
    "# Menentukan jumlah cluster (misalnya, 5)\n",
    "kmeans = KMeans(n_clusters=5, random_state=42)\n",
    "clusters = kmeans.fit_predict(data_scaled)\n",
    "\n",
    "# Menambahkan kolom cluster ke DataFrame asli\n",
    "raw_data['cluster'] = clusters\n",
    "\n",
    "# Mengisi nilai yang hilang dengan centroid dari masing-masing cluster\n",
    "for column in columns_for_clustering:\n",
    "    for cluster in range(5):\n",
    "        cluster_mean = raw_data[raw_data['cluster'] == cluster][column].mean()\n",
    "        raw_data.loc[(raw_data[column].isnull()) & (raw_data['cluster'] == cluster), column] = cluster_mean\n",
    "\n",
    "# Mengecek kembali nilai yang hilang setelah imputasi\n",
    "print(\"\\nJumlah nilai yang hilang setelah imputasi:\\n\", raw_data.isnull().sum())\n",
    "\n",
    "# Menghapus kolom cluster karena sudah tidak diperlukan\n",
    "raw_data.drop(columns=['cluster'], inplace=True)"
   ]
  },
  {
   "cell_type": "markdown",
   "metadata": {},
   "source": []
  },
  {
   "cell_type": "code",
   "execution_count": 31,
   "metadata": {},
   "outputs": [
    {
     "name": "stdout",
     "output_type": "stream",
     "text": [
      "Hasil imputasi untuk kolom area_distance_to_airport dan airport_pickup_price_idr:\n",
      "   airport_pickup_price_idr  area_distance_to_airport  review_sentiment_score\n",
      "0                  325000.0                      45.0                0.655466\n",
      "1                  325000.0                      45.0                0.656976\n",
      "2                  325000.0                      45.0                0.687372\n",
      "3                  325000.0                      45.0                0.979358\n",
      "4                  325000.0                      45.0                0.670770\n"
     ]
    },
    {
     "data": {
      "text/plain": [
       "booking_status              0\n",
       "booking_guest_number        0\n",
       "booking_earned              0\n",
       "booking_currency            0\n",
       "listing_id                  0\n",
       "review_sentiment            0\n",
       "review_sentiment_score      0\n",
       "length_of_stay              0\n",
       "average_daily_rate          0\n",
       "unit_id                     0\n",
       "bedroom                     0\n",
       "bathroom                    0\n",
       "beds                        0\n",
       "capacity                    0\n",
       "property_id                 0\n",
       "wifi                        0\n",
       "tv                          0\n",
       "cable_tv                    0\n",
       "ac                          0\n",
       "workspace                   0\n",
       "pool                        0\n",
       "parking                     0\n",
       "gym                         0\n",
       "kitchen                     0\n",
       "area_id                     0\n",
       "area_name                   0\n",
       "area_distance_to_airport    0\n",
       "airport_pickup_price_idr    0\n",
       "booking_check_in_date       0\n",
       "booking_check_in_month      0\n",
       "booking_check_in_year       0\n",
       "booking_check_out_date      0\n",
       "booking_check_out_month     0\n",
       "booking_check_out_year      0\n",
       "dtype: int64"
      ]
     },
     "execution_count": 31,
     "metadata": {},
     "output_type": "execute_result"
    }
   ],
   "source": [
    "from sklearn.experimental import enable_iterative_imputer\n",
    "from sklearn.impute import IterativeImputer\n",
    "import pandas as pd\n",
    "import numpy as np\n",
    "from sklearn.preprocessing import StandardScaler\n",
    "columns_to_impute = [ 'airport_pickup_price_idr','area_distance_to_airport','review_sentiment_score']\n",
    "imputer = IterativeImputer(max_iter=10, random_state=0)\n",
    "\n",
    "# Memilih subset data untuk kolom-kolom yang akan diimputasi\n",
    "data_to_impute = raw_data[columns_to_impute]\n",
    "\n",
    "# Melakukan imputasi\n",
    "data_imputed = imputer.fit_transform(data_to_impute)\n",
    "\n",
    "# Mengganti nilai yang telah diimputasi kembali ke dataset asli\n",
    "raw_data[columns_to_impute] = data_imputed\n",
    "\n",
    "# Menampilkan hasil imputasi\n",
    "print(\"Hasil imputasi untuk kolom area_distance_to_airport dan airport_pickup_price_idr:\")\n",
    "print(raw_data[columns_to_impute].head())\n",
    "raw_data.isnull().sum()"
   ]
  },
  {
   "cell_type": "code",
   "execution_count": 32,
   "metadata": {},
   "outputs": [
    {
     "name": "stdout",
     "output_type": "stream",
     "text": [
      "int64\n"
     ]
    }
   ],
   "source": [
    "raw_data['average_daily_rate'] = raw_data['average_daily_rate'].astype('int64')\n",
    "\n",
    "# Jika Anda ingin melihat hasilnya\n",
    "print(raw_data['average_daily_rate'].dtypes)\n"
   ]
  },
  {
   "cell_type": "code",
   "execution_count": 33,
   "metadata": {},
   "outputs": [
    {
     "data": {
      "text/html": [
       "<div>\n",
       "<style scoped>\n",
       "    .dataframe tbody tr th:only-of-type {\n",
       "        vertical-align: middle;\n",
       "    }\n",
       "\n",
       "    .dataframe tbody tr th {\n",
       "        vertical-align: top;\n",
       "    }\n",
       "\n",
       "    .dataframe thead th {\n",
       "        text-align: right;\n",
       "    }\n",
       "</style>\n",
       "<table border=\"1\" class=\"dataframe\">\n",
       "  <thead>\n",
       "    <tr style=\"text-align: right;\">\n",
       "      <th></th>\n",
       "      <th>booking_status</th>\n",
       "      <th>booking_guest_number</th>\n",
       "      <th>booking_earned</th>\n",
       "      <th>booking_currency</th>\n",
       "      <th>listing_id</th>\n",
       "      <th>review_sentiment</th>\n",
       "      <th>review_sentiment_score</th>\n",
       "      <th>length_of_stay</th>\n",
       "      <th>average_daily_rate</th>\n",
       "      <th>unit_id</th>\n",
       "      <th>...</th>\n",
       "      <th>area_id</th>\n",
       "      <th>area_name</th>\n",
       "      <th>area_distance_to_airport</th>\n",
       "      <th>airport_pickup_price_idr</th>\n",
       "      <th>booking_check_in_date</th>\n",
       "      <th>booking_check_in_month</th>\n",
       "      <th>booking_check_in_year</th>\n",
       "      <th>booking_check_out_date</th>\n",
       "      <th>booking_check_out_month</th>\n",
       "      <th>booking_check_out_year</th>\n",
       "    </tr>\n",
       "  </thead>\n",
       "  <tbody>\n",
       "    <tr>\n",
       "      <th>count</th>\n",
       "      <td>56825.000000</td>\n",
       "      <td>56825.000000</td>\n",
       "      <td>5.682500e+04</td>\n",
       "      <td>56825.000000</td>\n",
       "      <td>56825.000000</td>\n",
       "      <td>56825.000000</td>\n",
       "      <td>56825.000000</td>\n",
       "      <td>56825.000000</td>\n",
       "      <td>5.682500e+04</td>\n",
       "      <td>56825.000000</td>\n",
       "      <td>...</td>\n",
       "      <td>56825.00000</td>\n",
       "      <td>56825.000000</td>\n",
       "      <td>56825.000000</td>\n",
       "      <td>56825.000000</td>\n",
       "      <td>56825.000000</td>\n",
       "      <td>56825.000000</td>\n",
       "      <td>56825.000000</td>\n",
       "      <td>56825.000000</td>\n",
       "      <td>56825.000000</td>\n",
       "      <td>56825.000000</td>\n",
       "    </tr>\n",
       "    <tr>\n",
       "      <th>mean</th>\n",
       "      <td>1.063968</td>\n",
       "      <td>2.601783</td>\n",
       "      <td>1.571828e+06</td>\n",
       "      <td>1.233295</td>\n",
       "      <td>883.657228</td>\n",
       "      <td>2.876392</td>\n",
       "      <td>0.703427</td>\n",
       "      <td>2.839366</td>\n",
       "      <td>8.579124e+05</td>\n",
       "      <td>504.609872</td>\n",
       "      <td>...</td>\n",
       "      <td>7.10960</td>\n",
       "      <td>11.228016</td>\n",
       "      <td>53.894294</td>\n",
       "      <td>325757.068701</td>\n",
       "      <td>15.896507</td>\n",
       "      <td>6.641443</td>\n",
       "      <td>2017.932495</td>\n",
       "      <td>15.883907</td>\n",
       "      <td>6.627030</td>\n",
       "      <td>2017.941487</td>\n",
       "    </tr>\n",
       "    <tr>\n",
       "      <th>std</th>\n",
       "      <td>0.281550</td>\n",
       "      <td>1.064270</td>\n",
       "      <td>3.034301e+06</td>\n",
       "      <td>0.427279</td>\n",
       "      <td>628.129706</td>\n",
       "      <td>0.397881</td>\n",
       "      <td>0.177158</td>\n",
       "      <td>2.982119</td>\n",
       "      <td>6.238073e+05</td>\n",
       "      <td>317.566226</td>\n",
       "      <td>...</td>\n",
       "      <td>5.51472</td>\n",
       "      <td>7.999349</td>\n",
       "      <td>12.161387</td>\n",
       "      <td>38197.363826</td>\n",
       "      <td>8.795639</td>\n",
       "      <td>3.001101</td>\n",
       "      <td>1.108479</td>\n",
       "      <td>8.841584</td>\n",
       "      <td>3.003492</td>\n",
       "      <td>1.106567</td>\n",
       "    </tr>\n",
       "    <tr>\n",
       "      <th>min</th>\n",
       "      <td>1.000000</td>\n",
       "      <td>0.000000</td>\n",
       "      <td>0.000000e+00</td>\n",
       "      <td>1.000000</td>\n",
       "      <td>0.000000</td>\n",
       "      <td>0.000000</td>\n",
       "      <td>-0.998203</td>\n",
       "      <td>-30.000000</td>\n",
       "      <td>3.571990e+05</td>\n",
       "      <td>0.000000</td>\n",
       "      <td>...</td>\n",
       "      <td>0.00000</td>\n",
       "      <td>0.000000</td>\n",
       "      <td>29.637229</td>\n",
       "      <td>195000.000000</td>\n",
       "      <td>1.000000</td>\n",
       "      <td>1.000000</td>\n",
       "      <td>2014.000000</td>\n",
       "      <td>1.000000</td>\n",
       "      <td>1.000000</td>\n",
       "      <td>2014.000000</td>\n",
       "    </tr>\n",
       "    <tr>\n",
       "      <th>25%</th>\n",
       "      <td>1.000000</td>\n",
       "      <td>2.311209</td>\n",
       "      <td>6.450000e+02</td>\n",
       "      <td>1.000000</td>\n",
       "      <td>325.000000</td>\n",
       "      <td>3.000000</td>\n",
       "      <td>0.564020</td>\n",
       "      <td>1.000000</td>\n",
       "      <td>3.571990e+05</td>\n",
       "      <td>275.000000</td>\n",
       "      <td>...</td>\n",
       "      <td>2.00000</td>\n",
       "      <td>4.000000</td>\n",
       "      <td>45.000000</td>\n",
       "      <td>325000.000000</td>\n",
       "      <td>8.000000</td>\n",
       "      <td>4.000000</td>\n",
       "      <td>2017.000000</td>\n",
       "      <td>8.000000</td>\n",
       "      <td>4.000000</td>\n",
       "      <td>2017.000000</td>\n",
       "    </tr>\n",
       "    <tr>\n",
       "      <th>50%</th>\n",
       "      <td>1.000000</td>\n",
       "      <td>2.496766</td>\n",
       "      <td>7.992800e+05</td>\n",
       "      <td>1.000000</td>\n",
       "      <td>840.000000</td>\n",
       "      <td>3.000000</td>\n",
       "      <td>0.722867</td>\n",
       "      <td>2.000000</td>\n",
       "      <td>5.588180e+05</td>\n",
       "      <td>466.000000</td>\n",
       "      <td>...</td>\n",
       "      <td>7.00000</td>\n",
       "      <td>9.000000</td>\n",
       "      <td>60.000000</td>\n",
       "      <td>325000.000000</td>\n",
       "      <td>16.000000</td>\n",
       "      <td>7.000000</td>\n",
       "      <td>2018.000000</td>\n",
       "      <td>16.000000</td>\n",
       "      <td>7.000000</td>\n",
       "      <td>2018.000000</td>\n",
       "    </tr>\n",
       "    <tr>\n",
       "      <th>75%</th>\n",
       "      <td>1.000000</td>\n",
       "      <td>2.496766</td>\n",
       "      <td>1.778367e+06</td>\n",
       "      <td>1.000000</td>\n",
       "      <td>1449.000000</td>\n",
       "      <td>3.000000</td>\n",
       "      <td>0.805748</td>\n",
       "      <td>3.000000</td>\n",
       "      <td>1.164000e+06</td>\n",
       "      <td>701.000000</td>\n",
       "      <td>...</td>\n",
       "      <td>9.00000</td>\n",
       "      <td>21.000000</td>\n",
       "      <td>60.000000</td>\n",
       "      <td>325000.000000</td>\n",
       "      <td>23.000000</td>\n",
       "      <td>9.000000</td>\n",
       "      <td>2019.000000</td>\n",
       "      <td>24.000000</td>\n",
       "      <td>9.000000</td>\n",
       "      <td>2019.000000</td>\n",
       "    </tr>\n",
       "    <tr>\n",
       "      <th>max</th>\n",
       "      <td>6.000000</td>\n",
       "      <td>30.000000</td>\n",
       "      <td>9.429215e+07</td>\n",
       "      <td>3.000000</td>\n",
       "      <td>1907.000000</td>\n",
       "      <td>3.000000</td>\n",
       "      <td>1.238226</td>\n",
       "      <td>349.000000</td>\n",
       "      <td>2.374200e+06</td>\n",
       "      <td>1253.000000</td>\n",
       "      <td>...</td>\n",
       "      <td>25.00000</td>\n",
       "      <td>25.000000</td>\n",
       "      <td>120.000000</td>\n",
       "      <td>585000.000000</td>\n",
       "      <td>31.000000</td>\n",
       "      <td>12.000000</td>\n",
       "      <td>2019.000000</td>\n",
       "      <td>31.000000</td>\n",
       "      <td>12.000000</td>\n",
       "      <td>2019.000000</td>\n",
       "    </tr>\n",
       "  </tbody>\n",
       "</table>\n",
       "<p>8 rows × 34 columns</p>\n",
       "</div>"
      ],
      "text/plain": [
       "       booking_status  booking_guest_number  booking_earned  booking_currency   \n",
       "count    56825.000000          56825.000000    5.682500e+04      56825.000000  \\\n",
       "mean         1.063968              2.601783    1.571828e+06          1.233295   \n",
       "std          0.281550              1.064270    3.034301e+06          0.427279   \n",
       "min          1.000000              0.000000    0.000000e+00          1.000000   \n",
       "25%          1.000000              2.311209    6.450000e+02          1.000000   \n",
       "50%          1.000000              2.496766    7.992800e+05          1.000000   \n",
       "75%          1.000000              2.496766    1.778367e+06          1.000000   \n",
       "max          6.000000             30.000000    9.429215e+07          3.000000   \n",
       "\n",
       "         listing_id  review_sentiment  review_sentiment_score  length_of_stay   \n",
       "count  56825.000000      56825.000000            56825.000000    56825.000000  \\\n",
       "mean     883.657228          2.876392                0.703427        2.839366   \n",
       "std      628.129706          0.397881                0.177158        2.982119   \n",
       "min        0.000000          0.000000               -0.998203      -30.000000   \n",
       "25%      325.000000          3.000000                0.564020        1.000000   \n",
       "50%      840.000000          3.000000                0.722867        2.000000   \n",
       "75%     1449.000000          3.000000                0.805748        3.000000   \n",
       "max     1907.000000          3.000000                1.238226      349.000000   \n",
       "\n",
       "       average_daily_rate       unit_id  ...      area_id     area_name   \n",
       "count        5.682500e+04  56825.000000  ...  56825.00000  56825.000000  \\\n",
       "mean         8.579124e+05    504.609872  ...      7.10960     11.228016   \n",
       "std          6.238073e+05    317.566226  ...      5.51472      7.999349   \n",
       "min          3.571990e+05      0.000000  ...      0.00000      0.000000   \n",
       "25%          3.571990e+05    275.000000  ...      2.00000      4.000000   \n",
       "50%          5.588180e+05    466.000000  ...      7.00000      9.000000   \n",
       "75%          1.164000e+06    701.000000  ...      9.00000     21.000000   \n",
       "max          2.374200e+06   1253.000000  ...     25.00000     25.000000   \n",
       "\n",
       "       area_distance_to_airport  airport_pickup_price_idr   \n",
       "count              56825.000000              56825.000000  \\\n",
       "mean                  53.894294             325757.068701   \n",
       "std                   12.161387              38197.363826   \n",
       "min                   29.637229             195000.000000   \n",
       "25%                   45.000000             325000.000000   \n",
       "50%                   60.000000             325000.000000   \n",
       "75%                   60.000000             325000.000000   \n",
       "max                  120.000000             585000.000000   \n",
       "\n",
       "       booking_check_in_date  booking_check_in_month  booking_check_in_year   \n",
       "count           56825.000000            56825.000000           56825.000000  \\\n",
       "mean               15.896507                6.641443            2017.932495   \n",
       "std                 8.795639                3.001101               1.108479   \n",
       "min                 1.000000                1.000000            2014.000000   \n",
       "25%                 8.000000                4.000000            2017.000000   \n",
       "50%                16.000000                7.000000            2018.000000   \n",
       "75%                23.000000                9.000000            2019.000000   \n",
       "max                31.000000               12.000000            2019.000000   \n",
       "\n",
       "       booking_check_out_date  booking_check_out_month  booking_check_out_year  \n",
       "count            56825.000000             56825.000000            56825.000000  \n",
       "mean                15.883907                 6.627030             2017.941487  \n",
       "std                  8.841584                 3.003492                1.106567  \n",
       "min                  1.000000                 1.000000             2014.000000  \n",
       "25%                  8.000000                 4.000000             2017.000000  \n",
       "50%                 16.000000                 7.000000             2018.000000  \n",
       "75%                 24.000000                 9.000000             2019.000000  \n",
       "max                 31.000000                12.000000             2019.000000  \n",
       "\n",
       "[8 rows x 34 columns]"
      ]
     },
     "execution_count": 33,
     "metadata": {},
     "output_type": "execute_result"
    }
   ],
   "source": [
    "data = raw_data\n",
    "data.describe()"
   ]
  },
  {
   "cell_type": "code",
   "execution_count": 34,
   "metadata": {},
   "outputs": [],
   "source": [
    "import pandas as pd\n",
    "\n",
    "# Misalkan Anda memiliki DataFrame yang disebut 'raw_data' dan Anda ingin menyimpannya ke dalam file CSV\n",
    "# Anda bisa menggantinya dengan nama DataFrame yang sesuai\n",
    "\n",
    "# Simpan DataFrame ke file CSV\n",
    "data.to_csv('nama_file.csv', index=False)\n"
   ]
  },
  {
   "cell_type": "code",
   "execution_count": 35,
   "metadata": {},
   "outputs": [
    {
     "data": {
      "text/plain": [
       "booking_status              0\n",
       "booking_guest_number        0\n",
       "booking_earned              0\n",
       "booking_currency            0\n",
       "listing_id                  0\n",
       "review_sentiment            0\n",
       "review_sentiment_score      0\n",
       "length_of_stay              0\n",
       "average_daily_rate          0\n",
       "unit_id                     0\n",
       "bedroom                     0\n",
       "bathroom                    0\n",
       "beds                        0\n",
       "capacity                    0\n",
       "property_id                 0\n",
       "wifi                        0\n",
       "tv                          0\n",
       "cable_tv                    0\n",
       "ac                          0\n",
       "workspace                   0\n",
       "pool                        0\n",
       "parking                     0\n",
       "gym                         0\n",
       "kitchen                     0\n",
       "area_id                     0\n",
       "area_name                   0\n",
       "area_distance_to_airport    0\n",
       "airport_pickup_price_idr    0\n",
       "booking_check_in_date       0\n",
       "booking_check_in_month      0\n",
       "booking_check_in_year       0\n",
       "booking_check_out_date      0\n",
       "booking_check_out_month     0\n",
       "booking_check_out_year      0\n",
       "dtype: int64"
      ]
     },
     "execution_count": 35,
     "metadata": {},
     "output_type": "execute_result"
    }
   ],
   "source": [
    "data.isnull().sum()"
   ]
  },
  {
   "cell_type": "code",
   "execution_count": null,
   "metadata": {},
   "outputs": [],
   "source": []
  },
  {
   "cell_type": "code",
   "execution_count": 36,
   "metadata": {},
   "outputs": [
    {
     "name": "stdout",
     "output_type": "stream",
     "text": [
      "Dimensi data latih: (45460, 33) (45460,)\n",
      "Dimensi data uji: (11365, 33) (11365,)\n"
     ]
    }
   ],
   "source": [
    "from sklearn.model_selection import train_test_split\n",
    "\n",
    "# Memisahkan fitur-fitur dan target\n",
    "X = data.drop(columns=['average_daily_rate'])\n",
    "y = data['average_daily_rate']\n",
    "\n",
    "# Memisahkan data menjadi data latih dan data uji\n",
    "X_train, X_test, y_train, y_test = train_test_split(X, y, test_size=0.2, random_state=42)\n",
    "\n",
    "# Menampilkan dimensi dari data latih dan data uji\n",
    "print(\"Dimensi data latih:\", X_train.shape, y_train.shape)\n",
    "print(\"Dimensi data uji:\", X_test.shape, y_test.shape)"
   ]
  },
  {
   "cell_type": "code",
   "execution_count": 37,
   "metadata": {},
   "outputs": [],
   "source": [
    "# apply transformation since it is skewed as we saw in the eda phase\n"
   ]
  },
  {
   "cell_type": "code",
   "execution_count": 38,
   "metadata": {},
   "outputs": [],
   "source": [
    "y = data['average_daily_rate']\n",
    "x = data.drop('average_daily_rate', axis=1)"
   ]
  },
  {
   "cell_type": "code",
   "execution_count": 39,
   "metadata": {},
   "outputs": [
    {
     "name": "stdout",
     "output_type": "stream",
     "text": [
      "booking_status              0\n",
      "booking_guest_number        0\n",
      "booking_earned              0\n",
      "booking_currency            0\n",
      "listing_id                  0\n",
      "review_sentiment            0\n",
      "review_sentiment_score      0\n",
      "length_of_stay              0\n",
      "unit_id                     0\n",
      "bedroom                     0\n",
      "bathroom                    0\n",
      "beds                        0\n",
      "capacity                    0\n",
      "property_id                 0\n",
      "wifi                        0\n",
      "tv                          0\n",
      "cable_tv                    0\n",
      "ac                          0\n",
      "workspace                   0\n",
      "pool                        0\n",
      "parking                     0\n",
      "gym                         0\n",
      "kitchen                     0\n",
      "area_id                     0\n",
      "area_name                   0\n",
      "area_distance_to_airport    0\n",
      "airport_pickup_price_idr    0\n",
      "booking_check_in_date       0\n",
      "booking_check_in_month      0\n",
      "booking_check_in_year       0\n",
      "booking_check_out_date      0\n",
      "booking_check_out_month     0\n",
      "booking_check_out_year      0\n",
      "dtype: int64\n",
      "booking_status              0\n",
      "booking_guest_number        0\n",
      "booking_earned              0\n",
      "booking_currency            0\n",
      "listing_id                  0\n",
      "review_sentiment            0\n",
      "review_sentiment_score      0\n",
      "length_of_stay              0\n",
      "unit_id                     0\n",
      "bedroom                     0\n",
      "bathroom                    0\n",
      "beds                        0\n",
      "capacity                    0\n",
      "property_id                 0\n",
      "wifi                        0\n",
      "tv                          0\n",
      "cable_tv                    0\n",
      "ac                          0\n",
      "workspace                   0\n",
      "pool                        0\n",
      "parking                     0\n",
      "gym                         0\n",
      "kitchen                     0\n",
      "area_id                     0\n",
      "area_name                   0\n",
      "area_distance_to_airport    0\n",
      "airport_pickup_price_idr    0\n",
      "booking_check_in_date       0\n",
      "booking_check_in_month      0\n",
      "booking_check_in_year       0\n",
      "booking_check_out_date      0\n",
      "booking_check_out_month     0\n",
      "booking_check_out_year      0\n",
      "dtype: int64\n"
     ]
    }
   ],
   "source": [
    "import numpy as np\n",
    "\n",
    "# Memeriksa apakah ada nilai NaN atau infinity dalam y_train\n",
    "print(np.isnan(X).sum())  # Jumlah nilai NaN\n",
    "print(np.isinf(x).sum())  # Jumlah nilai infinity\n"
   ]
  },
  {
   "cell_type": "code",
   "execution_count": 40,
   "metadata": {},
   "outputs": [
    {
     "name": "stdout",
     "output_type": "stream",
     "text": [
      "Jumlah nilai yang hilang dalam setiap kolom:\n",
      " booking_status              0\n",
      "booking_guest_number        0\n",
      "booking_earned              0\n",
      "booking_currency            0\n",
      "listing_id                  0\n",
      "review_sentiment            0\n",
      "review_sentiment_score      0\n",
      "length_of_stay              0\n",
      "unit_id                     0\n",
      "bedroom                     0\n",
      "bathroom                    0\n",
      "beds                        0\n",
      "capacity                    0\n",
      "property_id                 0\n",
      "wifi                        0\n",
      "tv                          0\n",
      "cable_tv                    0\n",
      "ac                          0\n",
      "workspace                   0\n",
      "pool                        0\n",
      "parking                     0\n",
      "gym                         0\n",
      "kitchen                     0\n",
      "area_id                     0\n",
      "area_name                   0\n",
      "area_distance_to_airport    0\n",
      "airport_pickup_price_idr    0\n",
      "booking_check_in_date       0\n",
      "booking_check_in_month      0\n",
      "booking_check_in_year       0\n",
      "booking_check_out_date      0\n",
      "booking_check_out_month     0\n",
      "booking_check_out_year      0\n",
      "dtype: int64\n"
     ]
    }
   ],
   "source": [
    "# Identifikasi nilai yang hilang\n",
    "missing_values = x.isnull().sum()\n",
    "print(\"Jumlah nilai yang hilang dalam setiap kolom:\\n\", missing_values)\n",
    "\n",
    "# Penanganan nilai yang hilang (contoh: menghapus baris yang mengandung nilai yang hilang)\n",
    "x_cleaned = x.dropna()\n",
    "\n",
    "# Sekarang, Anda bisa melanjutkan dengan menggunakan fungsi boxcox_normmax pada x_cleaned\n"
   ]
  },
  {
   "cell_type": "code",
   "execution_count": 41,
   "metadata": {},
   "outputs": [
    {
     "data": {
      "text/html": [
       "<div>\n",
       "<style scoped>\n",
       "    .dataframe tbody tr th:only-of-type {\n",
       "        vertical-align: middle;\n",
       "    }\n",
       "\n",
       "    .dataframe tbody tr th {\n",
       "        vertical-align: top;\n",
       "    }\n",
       "\n",
       "    .dataframe thead th {\n",
       "        text-align: right;\n",
       "    }\n",
       "</style>\n",
       "<table border=\"1\" class=\"dataframe\">\n",
       "  <thead>\n",
       "    <tr style=\"text-align: right;\">\n",
       "      <th></th>\n",
       "      <th>index</th>\n",
       "      <th>skew</th>\n",
       "    </tr>\n",
       "  </thead>\n",
       "  <tbody>\n",
       "    <tr>\n",
       "      <th>0</th>\n",
       "      <td>booking_status</td>\n",
       "      <td>5.886724</td>\n",
       "    </tr>\n",
       "    <tr>\n",
       "      <th>1</th>\n",
       "      <td>booking_guest_number</td>\n",
       "      <td>6.371349</td>\n",
       "    </tr>\n",
       "    <tr>\n",
       "      <th>2</th>\n",
       "      <td>booking_earned</td>\n",
       "      <td>7.340039</td>\n",
       "    </tr>\n",
       "    <tr>\n",
       "      <th>3</th>\n",
       "      <td>booking_currency</td>\n",
       "      <td>1.332097</td>\n",
       "    </tr>\n",
       "    <tr>\n",
       "      <th>5</th>\n",
       "      <td>review_sentiment</td>\n",
       "      <td>4.094981</td>\n",
       "    </tr>\n",
       "    <tr>\n",
       "      <th>6</th>\n",
       "      <td>review_sentiment_score</td>\n",
       "      <td>2.933164</td>\n",
       "    </tr>\n",
       "    <tr>\n",
       "      <th>7</th>\n",
       "      <td>length_of_stay</td>\n",
       "      <td>33.478140</td>\n",
       "    </tr>\n",
       "    <tr>\n",
       "      <th>8</th>\n",
       "      <td>unit_id</td>\n",
       "      <td>0.585091</td>\n",
       "    </tr>\n",
       "    <tr>\n",
       "      <th>9</th>\n",
       "      <td>bedroom</td>\n",
       "      <td>2.221732</td>\n",
       "    </tr>\n",
       "    <tr>\n",
       "      <th>10</th>\n",
       "      <td>bathroom</td>\n",
       "      <td>4.316647</td>\n",
       "    </tr>\n",
       "    <tr>\n",
       "      <th>11</th>\n",
       "      <td>beds</td>\n",
       "      <td>4.059249</td>\n",
       "    </tr>\n",
       "    <tr>\n",
       "      <th>12</th>\n",
       "      <td>capacity</td>\n",
       "      <td>3.441641</td>\n",
       "    </tr>\n",
       "    <tr>\n",
       "      <th>14</th>\n",
       "      <td>wifi</td>\n",
       "      <td>11.134031</td>\n",
       "    </tr>\n",
       "    <tr>\n",
       "      <th>16</th>\n",
       "      <td>cable_tv</td>\n",
       "      <td>1.868510</td>\n",
       "    </tr>\n",
       "    <tr>\n",
       "      <th>17</th>\n",
       "      <td>ac</td>\n",
       "      <td>12.679391</td>\n",
       "    </tr>\n",
       "    <tr>\n",
       "      <th>18</th>\n",
       "      <td>workspace</td>\n",
       "      <td>4.065802</td>\n",
       "    </tr>\n",
       "    <tr>\n",
       "      <th>19</th>\n",
       "      <td>pool</td>\n",
       "      <td>1.864037</td>\n",
       "    </tr>\n",
       "    <tr>\n",
       "      <th>20</th>\n",
       "      <td>parking</td>\n",
       "      <td>4.644668</td>\n",
       "    </tr>\n",
       "    <tr>\n",
       "      <th>21</th>\n",
       "      <td>gym</td>\n",
       "      <td>14.916450</td>\n",
       "    </tr>\n",
       "    <tr>\n",
       "      <th>22</th>\n",
       "      <td>kitchen</td>\n",
       "      <td>0.908607</td>\n",
       "    </tr>\n",
       "    <tr>\n",
       "      <th>23</th>\n",
       "      <td>area_id</td>\n",
       "      <td>1.118048</td>\n",
       "    </tr>\n",
       "    <tr>\n",
       "      <th>25</th>\n",
       "      <td>area_distance_to_airport</td>\n",
       "      <td>1.882458</td>\n",
       "    </tr>\n",
       "    <tr>\n",
       "      <th>26</th>\n",
       "      <td>airport_pickup_price_idr</td>\n",
       "      <td>4.211862</td>\n",
       "    </tr>\n",
       "    <tr>\n",
       "      <th>29</th>\n",
       "      <td>booking_check_in_year</td>\n",
       "      <td>0.864928</td>\n",
       "    </tr>\n",
       "    <tr>\n",
       "      <th>32</th>\n",
       "      <td>booking_check_out_year</td>\n",
       "      <td>0.871742</td>\n",
       "    </tr>\n",
       "  </tbody>\n",
       "</table>\n",
       "</div>"
      ],
      "text/plain": [
       "                       index       skew\n",
       "0             booking_status   5.886724\n",
       "1       booking_guest_number   6.371349\n",
       "2             booking_earned   7.340039\n",
       "3           booking_currency   1.332097\n",
       "5           review_sentiment   4.094981\n",
       "6     review_sentiment_score   2.933164\n",
       "7             length_of_stay  33.478140\n",
       "8                    unit_id   0.585091\n",
       "9                    bedroom   2.221732\n",
       "10                  bathroom   4.316647\n",
       "11                      beds   4.059249\n",
       "12                  capacity   3.441641\n",
       "14                      wifi  11.134031\n",
       "16                  cable_tv   1.868510\n",
       "17                        ac  12.679391\n",
       "18                 workspace   4.065802\n",
       "19                      pool   1.864037\n",
       "20                   parking   4.644668\n",
       "21                       gym  14.916450\n",
       "22                   kitchen   0.908607\n",
       "23                   area_id   1.118048\n",
       "25  area_distance_to_airport   1.882458\n",
       "26  airport_pickup_price_idr   4.211862\n",
       "29     booking_check_in_year   0.864928\n",
       "32    booking_check_out_year   0.871742"
      ]
     },
     "execution_count": 41,
     "metadata": {},
     "output_type": "execute_result"
    }
   ],
   "source": [
    "#checking high skewed (> 0.5)\n",
    "skew_check = x.apply(lambda x: abs(skew(x)))\n",
    "skew_check = skew_check.reset_index(name='skew')\n",
    "skewness = skew_check[skew_check['skew']>0.5]\n",
    "skewed_feats = skewness['index']\n",
    "skewness"
   ]
  },
  {
   "cell_type": "code",
   "execution_count": 42,
   "metadata": {},
   "outputs": [],
   "source": [
    "from sklearn.preprocessing import MinMaxScaler\n",
    "# Inisialisasi MinMaxScaler\n",
    "scaler = MinMaxScaler()\n",
    "\n",
    "# Terapkan normalisasi Min-Max pada fitur numerik\n",
    "x_scaled = pd.DataFrame(scaler.fit_transform(x), columns=x.columns)\n",
    "\n",
    "# Gabungkan kembali fitur yang sudah dinormalisasi dengan label\n",
    "data_normalized = pd.concat([x_scaled, y.reset_index(drop=True)], axis=1)"
   ]
  },
  {
   "cell_type": "code",
   "execution_count": 43,
   "metadata": {},
   "outputs": [],
   "source": [
    "# apply polynomial since the features are not very linear with the label, and set the degree to 2 to prevent overfitting\n",
    "poly = PolynomialFeatures(degree=2, include_bias=False)\n",
    "X_train_poly = poly.fit_transform(x)"
   ]
  },
  {
   "cell_type": "markdown",
   "metadata": {},
   "source": [
    "### MODELING"
   ]
  },
  {
   "cell_type": "code",
   "execution_count": 44,
   "metadata": {},
   "outputs": [],
   "source": [
    "from sklearn.metrics import mean_absolute_error, r2_score\n",
    "import numpy as np\n",
    "from sklearn.linear_model import BayesianRidge\n",
    "from sklearn.model_selection import RepeatedKFold\n",
    "import pandas as pd\n",
    "\n",
    "class Model:\n",
    "    def __init__(self, x, y, n_splits, repeated, rdm_seed, model, params):\n",
    "        self.x = x\n",
    "        self.y = y\n",
    "        self.n_splits = n_splits\n",
    "        self.repeated = repeated\n",
    "        self.rdm_seed = rdm_seed\n",
    "        self.model = model\n",
    "        self.params = params\n",
    "        self.cv_splitter = None\n",
    "        self.best_model = None\n",
    "        self.best_rmse = float('inf')\n",
    "        self.best_mae = float('inf')  # Initialize best_mae attribute\n",
    "\n",
    "    def split_data(self):\n",
    "        cv = RepeatedKFold(n_splits=self.n_splits, n_repeats=self.repeated, random_state=self.rdm_seed)\n",
    "        for fold, (train_idx, val_idx) in enumerate(cv.split(self.x, self.y)):\n",
    "            X_train = self.x[train_idx]\n",
    "            X_val = self.x[val_idx]\n",
    "            y_train = self.y[train_idx]\n",
    "            y_val = self.y[val_idx]\n",
    "            yield X_train, X_val, y_train, y_val\n",
    "\n",
    "    def fit(self, key):\n",
    "        mae_per_fold = []\n",
    "        r2_per_fold = []\n",
    "        self.cv_splitter = self.split_data()\n",
    "\n",
    "        for fold, (X_train, X_val, y_train, y_val) in enumerate(self.cv_splitter):\n",
    "            model = self.model(**self.params)  # Define model outside if-elif block\n",
    "            if key == 'xgb':\n",
    "                model.fit(X_train, y_train, eval_set=[(X_val, y_val)], eval_metric='mae', early_stopping_rounds=100, verbose=False)\n",
    "            elif key == 'adaboost':\n",
    "                model = self._fit_adaboost(X_train, y_train)\n",
    "            elif key == 'lgb':\n",
    "                model.fit(X_train, y_train, eval_set=[(X_val, y_val)], eval_metric='mae')\n",
    "            elif key == 'cat':\n",
    "                model = CatBoostRegressor(**self.params, loss_function='MAE')\n",
    "                model.fit(X_train, y_train, eval_set=[(X_val, y_val)], verbose=False)\n",
    "            elif key == 'bayesian_ridge':\n",
    "                model = BayesianRidge(**self.params)\n",
    "                model.fit(X_train, y_train)\n",
    "            elif key in ['linear', 'ridge', 'lasso', 'svr']:\n",
    "                model.fit(X_train, y_train)\n",
    "\n",
    "            y_val_preds = model.predict(X_val)\n",
    "            mae = mean_absolute_error(y_val, y_val_preds)\n",
    "            r2 = r2_score(y_val, y_val_preds)\n",
    "\n",
    "            print(f\"FOLD {fold} | MAE: {mae:.5f} | R2: {r2:.5f}\")\n",
    "            mae_per_fold.append(mae)\n",
    "            r2_per_fold.append(r2)\n",
    "\n",
    "            # Select the model with the lowest MAE\n",
    "            if mae < self.best_mae:\n",
    "                self.best_mae = mae\n",
    "                self.best_model = model\n",
    "\n",
    "        print(f\"Average MAE across all folds: {np.mean(mae_per_fold):.5f}\")\n",
    "        print(f\"Average R2 across all folds: {np.mean(r2_per_fold):.5f}\")\n",
    "\n",
    "    def predict(self):\n",
    "        if self.best_model is None:\n",
    "            raise ValueError(\"Model has not been trained yet. Call 'fit()' method first.\")\n",
    "\n",
    "        all_mae = []\n",
    "        all_r2 = []\n",
    "        y_preds_list = []\n",
    "        y_val_list = []\n",
    "\n",
    "        for fold, (X_train, X_val, y_train, y_val) in enumerate(self.split_data()):\n",
    "            y_preds = self.best_model.predict(X_val)\n",
    "            mae = mean_absolute_error(y_val, y_preds)\n",
    "            r2 = r2_score(y_val, y_preds)\n",
    "            all_mae.append(mae)\n",
    "            all_r2.append(r2)\n",
    "            y_preds_list.append(y_preds)\n",
    "            y_val_list.append(y_val)\n",
    "\n",
    "            print(f\"FOLD {fold} | MAE: {mae:.5f} | R2: {r2:.5f}\")\n",
    "\n",
    "        avg_mae = np.mean(all_mae)\n",
    "        avg_r2 = np.mean(all_r2)\n",
    "        print(f'Average MAE Val: {avg_mae:.5f} | Average R2 Val: {avg_r2:.5f}')\n",
    "        return all_mae, all_r2, y_preds_list, y_val_list\n",
    "\n",
    "    def feature_importance(self):\n",
    "        feature_importances = self.best_model.feature_importances_\n",
    "        n_original_features = len(x.columns)\n",
    "        polynomial_feature_indices = np.arange(n_original_features, self.x.shape[1])\n",
    "        polynomial_feature_names = [f\"Poly_{i}\" for i in polynomial_feature_indices]\n",
    "        all_feature_names = list(x.columns) + polynomial_feature_names\n",
    "        feature_importances_df = pd.DataFrame({'feature_weight': feature_importances}, index=all_feature_names)\n",
    "        feature_importances_df = feature_importances_df.sort_values('feature_weight', ascending=False)\n",
    "        return feature_importances_df\n",
    "\n",
    "    def inverse(self, y_preds, y_val):\n",
    "        y_preds = np.expm1(y_preds)\n",
    "        y_val = np.expm1(y_val)\n",
    "        return y_preds, y_val\n"
   ]
  },
  {
   "cell_type": "code",
   "execution_count": 45,
   "metadata": {},
   "outputs": [],
   "source": [
    "    def split_data(self):\n",
    "        cv = RepeatedKFold(n_splits=self.n_splits, n_repeats=self.repeated, random_state=self.rdm_seed)\n",
    "        for fold, (train_idx, val_idx) in enumerate(cv.split(self.x, self.y)):\n",
    "            X_train = self.x.iloc[train_idx]\n",
    "            X_val = self.x.iloc[val_idx]\n",
    "            y_train = self.y.iloc[train_idx]\n",
    "            y_val = self.y.iloc[val_idx]\n",
    "            yield X_train, X_val, y_train, y_val\n"
   ]
  },
  {
   "cell_type": "code",
   "execution_count": 46,
   "metadata": {},
   "outputs": [],
   "source": [
    "    def fit(self, key):\n",
    "        if key == 'xgb':\n",
    "            self._fit_xgb()\n",
    "        elif key == 'lgb':\n",
    "            self._fit_lgb()\n",
    "        elif key == 'cat':\n",
    "            self._fit_cat()\n",
    "\n"
   ]
  },
  {
   "cell_type": "code",
   "execution_count": 47,
   "metadata": {},
   "outputs": [],
   "source": [
    "def _fit_xgb(self):\n",
    "    import xgboost as xgb\n",
    "    mae_per_fold = []\n",
    "    r2_per_fold = []\n",
    "    self.cv_splitter = self.split_data()\n",
    "\n",
    "    for fold, (X_train, X_val, y_train, y_val) in enumerate(self.cv_splitter):\n",
    "        model = xgb.XGBRegressor(**self.params)\n",
    "        model.fit(X_train, y_train, eval_set=[(X_val, y_val)], eval_metric='mae', early_stopping_rounds=100, verbose=False)\n",
    "        eval_results = model.evals_result()\n",
    "        val_mae = eval_results['validation_0']['mae'][-1]\n",
    "        \n",
    "        y_val_preds = model.predict(X_val)\n",
    "        val_r2 = r2_score(y_val, y_val_preds)\n",
    "\n",
    "        if val_mae < self.best_mae:\n",
    "            self.best_mae = val_mae\n",
    "            self.best_model = model\n",
    "\n",
    "        print(f\"FOLD {fold} | MAE: {val_mae:.5f} | R2: {val_r2:.5f}\")\n",
    "        mae_per_fold.append(val_mae)\n",
    "        r2_per_fold.append(val_r2)\n",
    "\n",
    "    print(f\"Average MAE across all folds: {np.mean(mae_per_fold):.5f}\")\n",
    "    print(f\"Average R2 across all folds: {np.mean(r2_per_fold):.5f}\")"
   ]
  },
  {
   "cell_type": "code",
   "execution_count": 48,
   "metadata": {},
   "outputs": [],
   "source": [
    "    def _fit_adaboost(self, X_train, y_train):\n",
    "        from sklearn.ensemble import AdaBoostRegressor\n",
    "        base_estimator = DecisionTreeRegressor(max_depth=1)\n",
    "        adaboost = AdaBoostRegressor(base_estimator=base_estimator, **self.params)\n",
    "        adaboost.fit(X_train, y_train)\n",
    "        return adaboost"
   ]
  },
  {
   "cell_type": "code",
   "execution_count": 49,
   "metadata": {},
   "outputs": [],
   "source": [
    "def _fit_lgb(self):\n",
    "    import lightgbm as lgb\n",
    "    mae_per_fold = []\n",
    "    r2_per_fold = []\n",
    "    self.cv_splitter = self.split_data()\n",
    "\n",
    "    for fold, (X_train, X_val, y_train, y_val) in enumerate(self.cv_splitter):\n",
    "        model = lgb.LGBMRegressor(**self.params)\n",
    "        model.fit(X_train, y_train, eval_set=[(X_val, y_val)], eval_metric='mae', early_stopping_rounds=100)\n",
    "        eval_results = model.evals_result_\n",
    "        val_mae = eval_results['valid_0']['l1'][-1]\n",
    "        \n",
    "        y_val_preds = model.predict(X_val)\n",
    "        val_r2 = r2_score(y_val, y_val_preds)\n",
    "\n",
    "        if val_mae < self.best_mae:\n",
    "            self.best_mae = val_mae\n",
    "            self.best_model = model\n",
    "\n",
    "        print(f\"FOLD {fold} | MAE: {val_mae:.5f} | R2: {val_r2:.5f}\")\n",
    "        mae_per_fold.append(val_mae)\n",
    "        r2_per_fold.append(val_r2)\n",
    "\n",
    "    print(f\"Average MAE across all folds: {np.mean(mae_per_fold):.5f}\")\n",
    "    print(f\"Average R2 across all folds: {np.mean(r2_per_fold):.5f}\")"
   ]
  },
  {
   "cell_type": "code",
   "execution_count": 50,
   "metadata": {},
   "outputs": [],
   "source": [
    "def _fit_cat(self):\n",
    "    from catboost import CatBoostRegressor\n",
    "    from sklearn.metrics import mean_absolute_error, r2_score\n",
    "    rmse_per_fold = []\n",
    "    mae_per_fold = []\n",
    "    r2_per_fold = []\n",
    "    self.cv_splitter = self.split_data()\n",
    "\n",
    "    for fold, (X_train, X_val, y_train, y_val) in enumerate(self.cv_splitter):\n",
    "        model = CatBoostRegressor(**self.params, loss_function='MAE')\n",
    "        model.fit(X_train, y_train, eval_set=[(X_val, y_val)], verbose=False)\n",
    "        y_pred = model.predict(X_val)\n",
    "\n",
    "        val_mae = mean_absolute_error(y_val, y_pred)\n",
    "        val_r2 = r2_score(y_val, y_pred)\n",
    "\n",
    "        print(f\"FOLD {fold} | MAE: {val_mae:.5f} | R²: {val_r2:.5f}\")\n",
    "        mae_per_fold.append(val_mae)\n",
    "        r2_per_fold.append(val_r2)\n",
    "\n",
    "        if val_mae < self.best_mae:\n",
    "            self.best_mae = val_mae\n",
    "            self.best_model = model\n",
    "\n",
    "    print(f\"Average MAE across all folds: {np.mean(mae_per_fold):.5f}\")\n",
    "    print(f\"Average R² across all folds: {np.mean(r2_per_fold):.5f}\")"
   ]
  },
  {
   "cell_type": "code",
   "execution_count": 51,
   "metadata": {},
   "outputs": [],
   "source": [
    "    def predict(self):\n",
    "        self.cv_splitter = self.split_data()\n",
    "        all_rmse = []\n",
    "        all_rmse_train = []\n",
    "        for fold, (X_train, X_val, y_train, y_val) in enumerate(self.cv_splitter):\n",
    "            if self.best_model is None:\n",
    "                raise ValueError(\"Model has not been trained yet. Call 'fit()' method first.\")\n",
    "            else:\n",
    "                y_preds = self.best_model.predict(X_val)\n",
    "                rmse = np.sqrt(mean_squared_error(y_val, y_preds))\n",
    "                all_rmse.append(rmse)\n",
    "\n",
    "                train_preds = self.best_model.predict(X_train)\n",
    "                train_rmse = np.sqrt(mean_squared_error(y_train, train_preds))\n",
    "                all_rmse_train.append(train_rmse)\n",
    "                print(f\"FOLD {fold} | RMSE: {rmse:.5f}\")\n",
    "        avg_rmse = np.mean(all_rmse)\n",
    "        avg_rmse_train = np.mean(all_rmse_train)\n",
    "        print(f'Average RMSE Val: {avg_rmse} | Average RMSE Train: {avg_rmse_train}')\n",
    "        return all_rmse, y_preds, y_val\n"
   ]
  },
  {
   "cell_type": "code",
   "execution_count": null,
   "metadata": {},
   "outputs": [
    {
     "name": "stdout",
     "output_type": "stream",
     "text": [
      "FOLD 0 | MAE: 28331.98075 | R2: 0.99192\n",
      "FOLD 1 | MAE: 27707.37801 | R2: 0.99256\n",
      "FOLD 2 | MAE: 29140.98138 | R2: 0.99194\n",
      "FOLD 3 | MAE: 28886.58329 | R2: 0.99244\n",
      "FOLD 4 | MAE: 29696.46883 | R2: 0.99132\n",
      "FOLD 5 | MAE: 28605.90238 | R2: 0.99230\n",
      "FOLD 6 | MAE: 28167.19311 | R2: 0.99269\n",
      "FOLD 7 | MAE: 28833.88769 | R2: 0.99154\n",
      "FOLD 8 | MAE: 28779.70836 | R2: 0.99223\n",
      "FOLD 9 | MAE: 27604.50034 | R2: 0.99160\n",
      "FOLD 10 | MAE: 28697.25173 | R2: 0.99184\n",
      "FOLD 11 | MAE: 27419.12899 | R2: 0.99272\n",
      "FOLD 12 | MAE: 28688.45604 | R2: 0.99148\n",
      "FOLD 13 | MAE: 29163.72494 | R2: 0.99199\n",
      "FOLD 14 | MAE: 26923.40678 | R2: 0.99397\n",
      "FOLD 15 | MAE: 27548.34030 | R2: 0.99310\n",
      "FOLD 16 | MAE: 28422.15954 | R2: 0.99209\n",
      "FOLD 17 | MAE: 26877.06685 | R2: 0.99341\n",
      "FOLD 18 | MAE: 28074.39642 | R2: 0.99279\n",
      "FOLD 19 | MAE: 28518.60664 | R2: 0.99202\n",
      "FOLD 20 | MAE: 26467.72803 | R2: 0.99331\n",
      "FOLD 21 | MAE: 26918.07417 | R2: 0.99325\n",
      "FOLD 22 | MAE: 28721.39615 | R2: 0.99324\n",
      "FOLD 23 | MAE: 28235.93444 | R2: 0.99320\n",
      "FOLD 24 | MAE: 26572.16594 | R2: 0.99343\n",
      "FOLD 25 | MAE: 28278.19941 | R2: 0.99212\n",
      "FOLD 26 | MAE: 27613.34582 | R2: 0.99339\n",
      "FOLD 27 | MAE: 27776.85743 | R2: 0.99311\n",
      "FOLD 28 | MAE: 27195.28805 | R2: 0.99272\n",
      "FOLD 29 | MAE: 27567.18125 | R2: 0.99239\n",
      "Average MAE across all folds: 28047.77644\n",
      "Average R2 across all folds: 0.99254\n",
      "FOLD 0 | MAE: 19917.15371 | R2: 0.99731\n",
      "FOLD 1 | MAE: 20086.84651 | R2: 0.99746\n",
      "FOLD 2 | MAE: 20240.16024 | R2: 0.99723\n",
      "FOLD 3 | MAE: 20633.49330 | R2: 0.99698\n",
      "FOLD 4 | MAE: 20515.22948 | R2: 0.99726\n",
      "FOLD 5 | MAE: 20160.55617 | R2: 0.99731\n",
      "FOLD 6 | MAE: 20520.36143 | R2: 0.99693\n",
      "FOLD 7 | MAE: 19690.31020 | R2: 0.99704\n",
      "FOLD 8 | MAE: 20211.41900 | R2: 0.99722\n",
      "FOLD 9 | MAE: 19653.02447 | R2: 0.99731\n",
      "FOLD 10 | MAE: 20052.30960 | R2: 0.99698\n",
      "FOLD 11 | MAE: 20149.23362 | R2: 0.99722\n",
      "FOLD 12 | MAE: 20268.16997 | R2: 0.99684\n",
      "FOLD 13 | MAE: 20260.70252 | R2: 0.99720\n",
      "FOLD 14 | MAE: 20166.29403 | R2: 0.99727\n",
      "FOLD 15 | MAE: 19706.14195 | R2: 0.99747\n",
      "FOLD 16 | MAE: 20567.72833 | R2: 0.99727\n",
      "FOLD 17 | MAE: 19964.47914 | R2: 0.99735\n",
      "FOLD 18 | MAE: 20036.52351 | R2: 0.99721\n",
      "FOLD 19 | MAE: 20457.05917 | R2: 0.99723\n",
      "FOLD 20 | MAE: 26467.72803 | R2: 0.99331\n",
      "FOLD 21 | MAE: 19196.67160 | R2: 0.99773\n",
      "FOLD 22 | MAE: 19675.07548 | R2: 0.99767\n",
      "FOLD 23 | MAE: 19549.66321 | R2: 0.99765\n",
      "FOLD 24 | MAE: 19512.57844 | R2: 0.99763\n",
      "FOLD 25 | MAE: 19426.74803 | R2: 0.99750\n",
      "FOLD 26 | MAE: 20053.37721 | R2: 0.99749\n",
      "FOLD 27 | MAE: 19758.63519 | R2: 0.99756\n",
      "FOLD 28 | MAE: 19146.54409 | R2: 0.99764\n",
      "FOLD 29 | MAE: 18841.00370 | R2: 0.99779\n",
      "Average MAE Val: 20162.84071 | Average R2 Val: 0.99720\n"
     ]
    }
   ],
   "source": [
    "params = {'random_state':42}\n",
    "\n",
    "\n",
    "model_xgb = Model(X_train_poly, y, 10, 3, 42, XGBRegressor, params)\n",
    "model_xgb.fit('xgb')\n",
    "\n",
    "feature_importances_xgb = model_xgb.feature_importance()\n",
    "\n",
    "\n",
    "all_mae_xgb,all_r2_xgb, y_preds, y_val = model_xgb.predict()"
   ]
  },
  {
   "cell_type": "code",
   "execution_count": null,
   "metadata": {},
   "outputs": [
    {
     "name": "stdout",
     "output_type": "stream",
     "text": [
      "FOLD 0 | MAE: 30181.57651 | R2: 0.99238\n",
      "FOLD 1 | MAE: 31271.60627 | R2: 0.99236\n",
      "FOLD 2 | MAE: 31312.77494 | R2: 0.99220\n",
      "FOLD 3 | MAE: 31733.91967 | R2: 0.99196\n",
      "FOLD 4 | MAE: 31646.20306 | R2: 0.99205\n",
      "FOLD 5 | MAE: 31033.08218 | R2: 0.99235\n",
      "FOLD 6 | MAE: 31190.29280 | R2: 0.99237\n",
      "FOLD 7 | MAE: 30235.74692 | R2: 0.99253\n",
      "FOLD 8 | MAE: 30315.09179 | R2: 0.99229\n",
      "FOLD 9 | MAE: 30923.58655 | R2: 0.99155\n",
      "FOLD 10 | MAE: 32210.84958 | R2: 0.99217\n",
      "FOLD 11 | MAE: 30945.32292 | R2: 0.99221\n",
      "FOLD 12 | MAE: 30928.77385 | R2: 0.99182\n",
      "FOLD 13 | MAE: 31506.63826 | R2: 0.99138\n",
      "FOLD 14 | MAE: 31009.06298 | R2: 0.99291\n",
      "FOLD 15 | MAE: 30051.15097 | R2: 0.99272\n",
      "FOLD 16 | MAE: 31772.57798 | R2: 0.99155\n",
      "FOLD 17 | MAE: 30624.16514 | R2: 0.99301\n",
      "FOLD 18 | MAE: 30238.24160 | R2: 0.99257\n",
      "FOLD 19 | MAE: 30977.20200 | R2: 0.99153\n",
      "FOLD 20 | MAE: 31272.44847 | R2: 0.99191\n",
      "FOLD 21 | MAE: 31269.10356 | R2: 0.99164\n",
      "FOLD 22 | MAE: 31016.82715 | R2: 0.99220\n",
      "FOLD 23 | MAE: 29452.77635 | R2: 0.99365\n",
      "FOLD 24 | MAE: 31090.48627 | R2: 0.99214\n",
      "FOLD 25 | MAE: 30291.26710 | R2: 0.99166\n",
      "FOLD 26 | MAE: 30604.03453 | R2: 0.99249\n",
      "FOLD 27 | MAE: 30848.44609 | R2: 0.99273\n",
      "FOLD 28 | MAE: 30626.41967 | R2: 0.99207\n",
      "FOLD 29 | MAE: 30321.02911 | R2: 0.99203\n",
      "Average MAE across all folds: 30896.69014\n",
      "Average R2 across all folds: 0.99221\n",
      "FOLD 0 | MAE: 27631.67104 | R2: 0.99460\n",
      "FOLD 1 | MAE: 27719.29304 | R2: 0.99462\n",
      "FOLD 2 | MAE: 27903.28159 | R2: 0.99479\n",
      "FOLD 3 | MAE: 28002.30663 | R2: 0.99450\n",
      "FOLD 4 | MAE: 27526.65803 | R2: 0.99472\n",
      "FOLD 5 | MAE: 27675.03506 | R2: 0.99477\n",
      "FOLD 6 | MAE: 27607.85215 | R2: 0.99489\n",
      "FOLD 7 | MAE: 27369.03853 | R2: 0.99476\n",
      "FOLD 8 | MAE: 27573.93689 | R2: 0.99462\n",
      "FOLD 9 | MAE: 27533.11755 | R2: 0.99461\n",
      "FOLD 10 | MAE: 28177.55255 | R2: 0.99469\n",
      "FOLD 11 | MAE: 27884.78903 | R2: 0.99457\n",
      "FOLD 12 | MAE: 27664.02256 | R2: 0.99448\n",
      "FOLD 13 | MAE: 27608.46265 | R2: 0.99446\n",
      "FOLD 14 | MAE: 27509.67023 | R2: 0.99497\n",
      "FOLD 15 | MAE: 26964.40568 | R2: 0.99512\n",
      "FOLD 16 | MAE: 27986.66746 | R2: 0.99438\n",
      "FOLD 17 | MAE: 26843.02608 | R2: 0.99511\n",
      "FOLD 18 | MAE: 27796.78297 | R2: 0.99458\n",
      "FOLD 19 | MAE: 28106.80052 | R2: 0.99452\n",
      "FOLD 20 | MAE: 27489.35857 | R2: 0.99471\n",
      "FOLD 21 | MAE: 27238.50410 | R2: 0.99476\n",
      "FOLD 22 | MAE: 28278.70346 | R2: 0.99457\n",
      "FOLD 23 | MAE: 29452.77635 | R2: 0.99365\n",
      "FOLD 24 | MAE: 27299.49541 | R2: 0.99514\n",
      "FOLD 25 | MAE: 27164.04386 | R2: 0.99473\n",
      "FOLD 26 | MAE: 27447.41517 | R2: 0.99483\n",
      "FOLD 27 | MAE: 27727.73239 | R2: 0.99488\n",
      "FOLD 28 | MAE: 27896.82035 | R2: 0.99459\n",
      "FOLD 29 | MAE: 26547.16914 | R2: 0.99503\n",
      "Average MAE Val: 27654.21297 | Average R2 Val: 0.99469\n"
     ]
    }
   ],
   "source": [
    "params = {'random_state':42,'verbosity':-1}\n",
    "model_lgbm = Model(X_train_poly, y, 10, 3, 42, lgbm.LGBMRegressor, params)\n",
    "\n",
    "\n",
    "# Fit the model using RepeatedKFold\n",
    "model_lgbm.fit('lgb')\n",
    "\n",
    "all_mae_lgb,all_r2_lgb, y_preds, y_val = model_lgbm.predict()\n",
    "feature_importances_lgbm = model_lgbm.feature_importance()\n"
   ]
  },
  {
   "cell_type": "code",
   "execution_count": null,
   "metadata": {},
   "outputs": [
    {
     "name": "stdout",
     "output_type": "stream",
     "text": [
      "FOLD 0 | MAE: 173697.11565 | R2: 0.79054\n",
      "FOLD 1 | MAE: 177077.89663 | R2: 0.81214\n",
      "FOLD 2 | MAE: 176047.10512 | R2: 0.81145\n",
      "FOLD 3 | MAE: 173071.27688 | R2: 0.82744\n",
      "FOLD 4 | MAE: 178830.28747 | R2: 0.70660\n",
      "FOLD 5 | MAE: 171388.40691 | R2: 0.80384\n",
      "FOLD 6 | MAE: 172515.56924 | R2: 0.80491\n",
      "FOLD 7 | MAE: 178205.75550 | R2: 0.79783\n",
      "FOLD 8 | MAE: 175349.31068 | R2: 0.80855\n",
      "FOLD 9 | MAE: 181288.53384 | R2: 0.09403\n",
      "FOLD 10 | MAE: 173856.69647 | R2: 0.80545\n",
      "FOLD 11 | MAE: 174088.14907 | R2: 0.79430\n",
      "FOLD 12 | MAE: 179791.48767 | R2: 0.70954\n",
      "FOLD 13 | MAE: 173247.48431 | R2: 0.81283\n",
      "FOLD 14 | MAE: 173825.91214 | R2: 0.82341\n",
      "FOLD 15 | MAE: 175194.23359 | R2: 0.80961\n",
      "FOLD 16 | MAE: 176049.24719 | R2: 0.80017\n",
      "FOLD 17 | MAE: 175189.47476 | R2: 0.81122\n",
      "FOLD 18 | MAE: 172680.90446 | R2: 0.81385\n",
      "FOLD 19 | MAE: 181711.76291 | R2: 0.60991\n",
      "FOLD 20 | MAE: 174098.76072 | R2: 0.80323\n",
      "FOLD 21 | MAE: 172786.23055 | R2: 0.81719\n",
      "FOLD 22 | MAE: 174873.95186 | R2: 0.81965\n",
      "FOLD 23 | MAE: 174448.67923 | R2: 0.79528\n",
      "FOLD 24 | MAE: 175811.88755 | R2: 0.80035\n",
      "FOLD 25 | MAE: 172146.39551 | R2: 0.82837\n",
      "FOLD 26 | MAE: 180233.87320 | R2: 0.68995\n",
      "FOLD 27 | MAE: 176679.12569 | R2: 0.81105\n",
      "FOLD 28 | MAE: 175332.96700 | R2: 0.79452\n",
      "FOLD 29 | MAE: 184660.37207 | R2: -0.49465\n",
      "Average MAE across all folds: 175805.96180\n",
      "Average R2 across all folds: 0.72375\n",
      "FOLD 0 | MAE: 170678.29237 | R2: 0.81846\n",
      "FOLD 1 | MAE: 174778.16824 | R2: 0.81955\n",
      "FOLD 2 | MAE: 172630.01043 | R2: 0.82399\n",
      "FOLD 3 | MAE: 170658.63412 | R2: 0.83517\n",
      "FOLD 4 | MAE: 174807.62728 | R2: 0.81155\n",
      "FOLD 5 | MAE: 171388.40691 | R2: 0.80384\n",
      "FOLD 6 | MAE: 169381.09833 | R2: 0.82230\n",
      "FOLD 7 | MAE: 175631.45178 | R2: 0.80702\n",
      "FOLD 8 | MAE: 172734.54933 | R2: 0.82319\n",
      "FOLD 9 | MAE: 172154.54193 | R2: 0.81148\n",
      "FOLD 10 | MAE: 170936.41995 | R2: 0.81950\n",
      "FOLD 11 | MAE: 172027.89574 | R2: 0.80735\n",
      "FOLD 12 | MAE: 175520.44690 | R2: 0.80588\n",
      "FOLD 13 | MAE: 170654.55845 | R2: 0.82194\n",
      "FOLD 14 | MAE: 171389.37604 | R2: 0.82920\n",
      "FOLD 15 | MAE: 172000.41369 | R2: 0.82094\n",
      "FOLD 16 | MAE: 174106.68604 | R2: 0.80908\n",
      "FOLD 17 | MAE: 172814.95362 | R2: 0.82043\n",
      "FOLD 18 | MAE: 169946.06748 | R2: 0.82358\n",
      "FOLD 19 | MAE: 175446.49503 | R2: 0.81905\n",
      "FOLD 20 | MAE: 171729.21919 | R2: 0.81631\n",
      "FOLD 21 | MAE: 169580.39562 | R2: 0.83165\n",
      "FOLD 22 | MAE: 172477.04163 | R2: 0.82659\n",
      "FOLD 23 | MAE: 171531.77939 | R2: 0.82447\n",
      "FOLD 24 | MAE: 173150.66940 | R2: 0.81569\n",
      "FOLD 25 | MAE: 169687.61057 | R2: 0.83405\n",
      "FOLD 26 | MAE: 176199.86484 | R2: 0.80302\n",
      "FOLD 27 | MAE: 174266.05535 | R2: 0.81840\n",
      "FOLD 28 | MAE: 173227.98434 | R2: 0.80212\n",
      "FOLD 29 | MAE: 172993.05507 | R2: 0.80419\n",
      "Average MAE Val: 172484.32563 | Average R2 Val: 0.81767\n"
     ]
    }
   ],
   "source": [
    "from sklearn.linear_model import LinearRegression, Ridge, Lasso\n",
    "# Parameter untuk Ridge Regression\n",
    "params_ridge = {'alpha': 1.0}\n",
    "model_ridge = Model(X_train_poly, y, 10, 3, 42, Ridge, params_ridge)\n",
    "model_ridge.fit('ridge')\n",
    "all_mae_ridge,all_r2_ridge, y_preds_ridge, y_val_ridge = model_ridge.predict()"
   ]
  },
  {
   "cell_type": "code",
   "execution_count": null,
   "metadata": {},
   "outputs": [
    {
     "name": "stdout",
     "output_type": "stream",
     "text": [
      "FOLD 0 | MAE: 178435.25359 | R2: 0.78681\n",
      "FOLD 1 | MAE: 182940.23761 | R2: 0.80111\n",
      "FOLD 2 | MAE: 178786.95696 | R2: 0.80905\n",
      "FOLD 3 | MAE: 174537.76410 | R2: 0.82592\n",
      "FOLD 4 | MAE: 181242.58497 | R2: 0.70898\n",
      "FOLD 5 | MAE: 184890.79234 | R2: 0.78905\n",
      "FOLD 6 | MAE: 175292.65841 | R2: 0.79902\n",
      "FOLD 7 | MAE: 183646.63879 | R2: 0.78919\n",
      "FOLD 8 | MAE: 179945.11583 | R2: 0.80581\n",
      "FOLD 9 | MAE: 191535.92007 | R2: -0.17904\n",
      "FOLD 10 | MAE: 177770.60813 | R2: 0.80116\n",
      "FOLD 11 | MAE: 178469.87365 | R2: 0.78665\n",
      "FOLD 12 | MAE: 181526.15195 | R2: 0.69374\n",
      "FOLD 13 | MAE: 180047.01023 | R2: 0.80266\n",
      "FOLD 14 | MAE: 176313.37998 | R2: 0.81979\n",
      "FOLD 15 | MAE: 175754.28109 | R2: 0.81042\n",
      "FOLD 16 | MAE: 177883.48437 | R2: 0.79654\n",
      "FOLD 17 | MAE: 180074.02982 | R2: 0.80627\n",
      "FOLD 18 | MAE: 175691.78399 | R2: 0.80948\n",
      "FOLD 19 | MAE: 184795.14893 | R2: 0.78276\n",
      "FOLD 20 | MAE: 187269.91936 | R2: 0.78638\n",
      "FOLD 21 | MAE: 179969.75209 | R2: 0.80653\n",
      "FOLD 22 | MAE: 177921.45551 | R2: 0.81552\n",
      "FOLD 23 | MAE: 182062.21916 | R2: 0.76922\n",
      "FOLD 24 | MAE: 186208.72215 | R2: 0.78921\n",
      "FOLD 25 | MAE: 174549.98357 | R2: 0.82504\n",
      "FOLD 26 | MAE: 183201.26861 | R2: 0.66954\n",
      "FOLD 27 | MAE: 178504.11433 | R2: 0.80981\n",
      "FOLD 28 | MAE: 180279.22425 | R2: 0.78236\n",
      "FOLD 29 | MAE: 188008.43780 | R2: -0.84223\n",
      "Average MAE across all folds: 180585.15905\n",
      "Average R2 across all folds: 0.70189\n",
      "FOLD 0 | MAE: 172634.64797 | R2: 0.81655\n",
      "FOLD 1 | MAE: 176985.47056 | R2: 0.81634\n",
      "FOLD 2 | MAE: 175338.14600 | R2: 0.82063\n",
      "FOLD 3 | MAE: 174537.76410 | R2: 0.82592\n",
      "FOLD 4 | MAE: 177609.09468 | R2: 0.80714\n",
      "FOLD 5 | MAE: 171129.06679 | R2: 0.81827\n",
      "FOLD 6 | MAE: 172040.40227 | R2: 0.81849\n",
      "FOLD 7 | MAE: 178455.88187 | R2: 0.80263\n",
      "FOLD 8 | MAE: 175136.80493 | R2: 0.82180\n",
      "FOLD 9 | MAE: 174474.48884 | R2: 0.80832\n",
      "FOLD 10 | MAE: 174183.52941 | R2: 0.81429\n",
      "FOLD 11 | MAE: 173855.24962 | R2: 0.80671\n",
      "FOLD 12 | MAE: 177915.42191 | R2: 0.80475\n",
      "FOLD 13 | MAE: 172846.38852 | R2: 0.81969\n",
      "FOLD 14 | MAE: 174347.28311 | R2: 0.82486\n",
      "FOLD 15 | MAE: 174251.11344 | R2: 0.81782\n",
      "FOLD 16 | MAE: 175773.07388 | R2: 0.81254\n",
      "FOLD 17 | MAE: 174818.97547 | R2: 0.81896\n",
      "FOLD 18 | MAE: 172082.16960 | R2: 0.82211\n",
      "FOLD 19 | MAE: 178269.25950 | R2: 0.81465\n",
      "FOLD 20 | MAE: 174400.69449 | R2: 0.81153\n",
      "FOLD 21 | MAE: 172325.79277 | R2: 0.82715\n",
      "FOLD 22 | MAE: 174990.60876 | R2: 0.82257\n",
      "FOLD 23 | MAE: 174142.63972 | R2: 0.81865\n",
      "FOLD 24 | MAE: 175598.50873 | R2: 0.81293\n",
      "FOLD 25 | MAE: 172311.42361 | R2: 0.83146\n",
      "FOLD 26 | MAE: 178403.51548 | R2: 0.80350\n",
      "FOLD 27 | MAE: 175958.91464 | R2: 0.81727\n",
      "FOLD 28 | MAE: 175375.52022 | R2: 0.80847\n",
      "FOLD 29 | MAE: 174835.14342 | R2: 0.80243\n",
      "Average MAE Val: 174834.23314 | Average R2 Val: 0.81561\n"
     ]
    }
   ],
   "source": [
    "# Parameter untuk Linear Regression\n",
    "params_linear = {}\n",
    "model_linear = Model(X_train_poly, y, 10, 3, 42, LinearRegression, params_linear)\n",
    "model_linear.fit('linear')\n",
    "\n",
    "all_mae_linear,all_r2_linier, y_preds_linear, y_val_linear = model_linear.predict()"
   ]
  },
  {
   "cell_type": "code",
   "execution_count": null,
   "metadata": {},
   "outputs": [
    {
     "data": {
      "application/vnd.plotly.v1+json": {
       "config": {
        "plotlyServerURL": "https://plot.ly"
       },
       "data": [
        {
         "alignmentgroup": "True",
         "hovertemplate": "x=%{x}<br>y=%{y}<extra></extra>",
         "legendgroup": "",
         "marker": {
          "color": [
           "lightseagreen",
           "gray",
           "gray",
           "gray",
           "gray",
           "gray",
           "gray",
           "gray",
           "gray",
           "lightsalmon"
          ],
          "pattern": {
           "shape": ""
          }
         },
         "name": "",
         "offsetgroup": "",
         "orientation": "h",
         "showlegend": false,
         "textposition": "auto",
         "type": "bar",
         "x": [
          0.030762000009417534,
          0.005427436903119087,
          0.0011424911208450794,
          0.0001821938785724342,
          0.00014075484068598598,
          0.0001237591786775738,
          0.00011047433508792892,
          0.00006163442594697699,
          0.0000426466649514623,
          0.000029492386602214538
         ],
         "xaxis": "x",
         "y": [
          "booking_currency",
          "length_of_stay",
          "booking_earned",
          "unit_id",
          "capacity",
          "ac",
          "area_id",
          "booking_check_in_year",
          "booking_check_out_year",
          "review_sentiment_score"
         ],
         "yaxis": "y"
        }
       ],
       "layout": {
        "autosize": false,
        "barmode": "relative",
        "font": {
         "family": "San Serif"
        },
        "height": 700,
        "legend": {
         "tracegroupgap": 0
        },
        "margin": {
         "b": 100,
         "l": 150,
         "r": 100,
         "t": 100
        },
        "template": {
         "data": {
          "bar": [
           {
            "error_x": {
             "color": "#2a3f5f"
            },
            "error_y": {
             "color": "#2a3f5f"
            },
            "marker": {
             "line": {
              "color": "#E5ECF6",
              "width": 0.5
             },
             "pattern": {
              "fillmode": "overlay",
              "size": 10,
              "solidity": 0.2
             }
            },
            "type": "bar"
           }
          ],
          "barpolar": [
           {
            "marker": {
             "line": {
              "color": "#E5ECF6",
              "width": 0.5
             },
             "pattern": {
              "fillmode": "overlay",
              "size": 10,
              "solidity": 0.2
             }
            },
            "type": "barpolar"
           }
          ],
          "carpet": [
           {
            "aaxis": {
             "endlinecolor": "#2a3f5f",
             "gridcolor": "white",
             "linecolor": "white",
             "minorgridcolor": "white",
             "startlinecolor": "#2a3f5f"
            },
            "baxis": {
             "endlinecolor": "#2a3f5f",
             "gridcolor": "white",
             "linecolor": "white",
             "minorgridcolor": "white",
             "startlinecolor": "#2a3f5f"
            },
            "type": "carpet"
           }
          ],
          "choropleth": [
           {
            "colorbar": {
             "outlinewidth": 0,
             "ticks": ""
            },
            "type": "choropleth"
           }
          ],
          "contour": [
           {
            "colorbar": {
             "outlinewidth": 0,
             "ticks": ""
            },
            "colorscale": [
             [
              0,
              "#0d0887"
             ],
             [
              0.1111111111111111,
              "#46039f"
             ],
             [
              0.2222222222222222,
              "#7201a8"
             ],
             [
              0.3333333333333333,
              "#9c179e"
             ],
             [
              0.4444444444444444,
              "#bd3786"
             ],
             [
              0.5555555555555556,
              "#d8576b"
             ],
             [
              0.6666666666666666,
              "#ed7953"
             ],
             [
              0.7777777777777778,
              "#fb9f3a"
             ],
             [
              0.8888888888888888,
              "#fdca26"
             ],
             [
              1,
              "#f0f921"
             ]
            ],
            "type": "contour"
           }
          ],
          "contourcarpet": [
           {
            "colorbar": {
             "outlinewidth": 0,
             "ticks": ""
            },
            "type": "contourcarpet"
           }
          ],
          "heatmap": [
           {
            "colorbar": {
             "outlinewidth": 0,
             "ticks": ""
            },
            "colorscale": [
             [
              0,
              "#0d0887"
             ],
             [
              0.1111111111111111,
              "#46039f"
             ],
             [
              0.2222222222222222,
              "#7201a8"
             ],
             [
              0.3333333333333333,
              "#9c179e"
             ],
             [
              0.4444444444444444,
              "#bd3786"
             ],
             [
              0.5555555555555556,
              "#d8576b"
             ],
             [
              0.6666666666666666,
              "#ed7953"
             ],
             [
              0.7777777777777778,
              "#fb9f3a"
             ],
             [
              0.8888888888888888,
              "#fdca26"
             ],
             [
              1,
              "#f0f921"
             ]
            ],
            "type": "heatmap"
           }
          ],
          "heatmapgl": [
           {
            "colorbar": {
             "outlinewidth": 0,
             "ticks": ""
            },
            "colorscale": [
             [
              0,
              "#0d0887"
             ],
             [
              0.1111111111111111,
              "#46039f"
             ],
             [
              0.2222222222222222,
              "#7201a8"
             ],
             [
              0.3333333333333333,
              "#9c179e"
             ],
             [
              0.4444444444444444,
              "#bd3786"
             ],
             [
              0.5555555555555556,
              "#d8576b"
             ],
             [
              0.6666666666666666,
              "#ed7953"
             ],
             [
              0.7777777777777778,
              "#fb9f3a"
             ],
             [
              0.8888888888888888,
              "#fdca26"
             ],
             [
              1,
              "#f0f921"
             ]
            ],
            "type": "heatmapgl"
           }
          ],
          "histogram": [
           {
            "marker": {
             "pattern": {
              "fillmode": "overlay",
              "size": 10,
              "solidity": 0.2
             }
            },
            "type": "histogram"
           }
          ],
          "histogram2d": [
           {
            "colorbar": {
             "outlinewidth": 0,
             "ticks": ""
            },
            "colorscale": [
             [
              0,
              "#0d0887"
             ],
             [
              0.1111111111111111,
              "#46039f"
             ],
             [
              0.2222222222222222,
              "#7201a8"
             ],
             [
              0.3333333333333333,
              "#9c179e"
             ],
             [
              0.4444444444444444,
              "#bd3786"
             ],
             [
              0.5555555555555556,
              "#d8576b"
             ],
             [
              0.6666666666666666,
              "#ed7953"
             ],
             [
              0.7777777777777778,
              "#fb9f3a"
             ],
             [
              0.8888888888888888,
              "#fdca26"
             ],
             [
              1,
              "#f0f921"
             ]
            ],
            "type": "histogram2d"
           }
          ],
          "histogram2dcontour": [
           {
            "colorbar": {
             "outlinewidth": 0,
             "ticks": ""
            },
            "colorscale": [
             [
              0,
              "#0d0887"
             ],
             [
              0.1111111111111111,
              "#46039f"
             ],
             [
              0.2222222222222222,
              "#7201a8"
             ],
             [
              0.3333333333333333,
              "#9c179e"
             ],
             [
              0.4444444444444444,
              "#bd3786"
             ],
             [
              0.5555555555555556,
              "#d8576b"
             ],
             [
              0.6666666666666666,
              "#ed7953"
             ],
             [
              0.7777777777777778,
              "#fb9f3a"
             ],
             [
              0.8888888888888888,
              "#fdca26"
             ],
             [
              1,
              "#f0f921"
             ]
            ],
            "type": "histogram2dcontour"
           }
          ],
          "mesh3d": [
           {
            "colorbar": {
             "outlinewidth": 0,
             "ticks": ""
            },
            "type": "mesh3d"
           }
          ],
          "parcoords": [
           {
            "line": {
             "colorbar": {
              "outlinewidth": 0,
              "ticks": ""
             }
            },
            "type": "parcoords"
           }
          ],
          "pie": [
           {
            "automargin": true,
            "type": "pie"
           }
          ],
          "scatter": [
           {
            "fillpattern": {
             "fillmode": "overlay",
             "size": 10,
             "solidity": 0.2
            },
            "type": "scatter"
           }
          ],
          "scatter3d": [
           {
            "line": {
             "colorbar": {
              "outlinewidth": 0,
              "ticks": ""
             }
            },
            "marker": {
             "colorbar": {
              "outlinewidth": 0,
              "ticks": ""
             }
            },
            "type": "scatter3d"
           }
          ],
          "scattercarpet": [
           {
            "marker": {
             "colorbar": {
              "outlinewidth": 0,
              "ticks": ""
             }
            },
            "type": "scattercarpet"
           }
          ],
          "scattergeo": [
           {
            "marker": {
             "colorbar": {
              "outlinewidth": 0,
              "ticks": ""
             }
            },
            "type": "scattergeo"
           }
          ],
          "scattergl": [
           {
            "marker": {
             "colorbar": {
              "outlinewidth": 0,
              "ticks": ""
             }
            },
            "type": "scattergl"
           }
          ],
          "scattermapbox": [
           {
            "marker": {
             "colorbar": {
              "outlinewidth": 0,
              "ticks": ""
             }
            },
            "type": "scattermapbox"
           }
          ],
          "scatterpolar": [
           {
            "marker": {
             "colorbar": {
              "outlinewidth": 0,
              "ticks": ""
             }
            },
            "type": "scatterpolar"
           }
          ],
          "scatterpolargl": [
           {
            "marker": {
             "colorbar": {
              "outlinewidth": 0,
              "ticks": ""
             }
            },
            "type": "scatterpolargl"
           }
          ],
          "scatterternary": [
           {
            "marker": {
             "colorbar": {
              "outlinewidth": 0,
              "ticks": ""
             }
            },
            "type": "scatterternary"
           }
          ],
          "surface": [
           {
            "colorbar": {
             "outlinewidth": 0,
             "ticks": ""
            },
            "colorscale": [
             [
              0,
              "#0d0887"
             ],
             [
              0.1111111111111111,
              "#46039f"
             ],
             [
              0.2222222222222222,
              "#7201a8"
             ],
             [
              0.3333333333333333,
              "#9c179e"
             ],
             [
              0.4444444444444444,
              "#bd3786"
             ],
             [
              0.5555555555555556,
              "#d8576b"
             ],
             [
              0.6666666666666666,
              "#ed7953"
             ],
             [
              0.7777777777777778,
              "#fb9f3a"
             ],
             [
              0.8888888888888888,
              "#fdca26"
             ],
             [
              1,
              "#f0f921"
             ]
            ],
            "type": "surface"
           }
          ],
          "table": [
           {
            "cells": {
             "fill": {
              "color": "#EBF0F8"
             },
             "line": {
              "color": "white"
             }
            },
            "header": {
             "fill": {
              "color": "#C8D4E3"
             },
             "line": {
              "color": "white"
             }
            },
            "type": "table"
           }
          ]
         },
         "layout": {
          "annotationdefaults": {
           "arrowcolor": "#2a3f5f",
           "arrowhead": 0,
           "arrowwidth": 1
          },
          "autotypenumbers": "strict",
          "coloraxis": {
           "colorbar": {
            "outlinewidth": 0,
            "ticks": ""
           }
          },
          "colorscale": {
           "diverging": [
            [
             0,
             "#8e0152"
            ],
            [
             0.1,
             "#c51b7d"
            ],
            [
             0.2,
             "#de77ae"
            ],
            [
             0.3,
             "#f1b6da"
            ],
            [
             0.4,
             "#fde0ef"
            ],
            [
             0.5,
             "#f7f7f7"
            ],
            [
             0.6,
             "#e6f5d0"
            ],
            [
             0.7,
             "#b8e186"
            ],
            [
             0.8,
             "#7fbc41"
            ],
            [
             0.9,
             "#4d9221"
            ],
            [
             1,
             "#276419"
            ]
           ],
           "sequential": [
            [
             0,
             "#0d0887"
            ],
            [
             0.1111111111111111,
             "#46039f"
            ],
            [
             0.2222222222222222,
             "#7201a8"
            ],
            [
             0.3333333333333333,
             "#9c179e"
            ],
            [
             0.4444444444444444,
             "#bd3786"
            ],
            [
             0.5555555555555556,
             "#d8576b"
            ],
            [
             0.6666666666666666,
             "#ed7953"
            ],
            [
             0.7777777777777778,
             "#fb9f3a"
            ],
            [
             0.8888888888888888,
             "#fdca26"
            ],
            [
             1,
             "#f0f921"
            ]
           ],
           "sequentialminus": [
            [
             0,
             "#0d0887"
            ],
            [
             0.1111111111111111,
             "#46039f"
            ],
            [
             0.2222222222222222,
             "#7201a8"
            ],
            [
             0.3333333333333333,
             "#9c179e"
            ],
            [
             0.4444444444444444,
             "#bd3786"
            ],
            [
             0.5555555555555556,
             "#d8576b"
            ],
            [
             0.6666666666666666,
             "#ed7953"
            ],
            [
             0.7777777777777778,
             "#fb9f3a"
            ],
            [
             0.8888888888888888,
             "#fdca26"
            ],
            [
             1,
             "#f0f921"
            ]
           ]
          },
          "colorway": [
           "#636efa",
           "#EF553B",
           "#00cc96",
           "#ab63fa",
           "#FFA15A",
           "#19d3f3",
           "#FF6692",
           "#B6E880",
           "#FF97FF",
           "#FECB52"
          ],
          "font": {
           "color": "#2a3f5f"
          },
          "geo": {
           "bgcolor": "white",
           "lakecolor": "white",
           "landcolor": "#E5ECF6",
           "showlakes": true,
           "showland": true,
           "subunitcolor": "white"
          },
          "hoverlabel": {
           "align": "left"
          },
          "hovermode": "closest",
          "mapbox": {
           "style": "light"
          },
          "paper_bgcolor": "white",
          "plot_bgcolor": "#E5ECF6",
          "polar": {
           "angularaxis": {
            "gridcolor": "white",
            "linecolor": "white",
            "ticks": ""
           },
           "bgcolor": "#E5ECF6",
           "radialaxis": {
            "gridcolor": "white",
            "linecolor": "white",
            "ticks": ""
           }
          },
          "scene": {
           "xaxis": {
            "backgroundcolor": "#E5ECF6",
            "gridcolor": "white",
            "gridwidth": 2,
            "linecolor": "white",
            "showbackground": true,
            "ticks": "",
            "zerolinecolor": "white"
           },
           "yaxis": {
            "backgroundcolor": "#E5ECF6",
            "gridcolor": "white",
            "gridwidth": 2,
            "linecolor": "white",
            "showbackground": true,
            "ticks": "",
            "zerolinecolor": "white"
           },
           "zaxis": {
            "backgroundcolor": "#E5ECF6",
            "gridcolor": "white",
            "gridwidth": 2,
            "linecolor": "white",
            "showbackground": true,
            "ticks": "",
            "zerolinecolor": "white"
           }
          },
          "shapedefaults": {
           "line": {
            "color": "#2a3f5f"
           }
          },
          "ternary": {
           "aaxis": {
            "gridcolor": "white",
            "linecolor": "white",
            "ticks": ""
           },
           "baxis": {
            "gridcolor": "white",
            "linecolor": "white",
            "ticks": ""
           },
           "bgcolor": "#E5ECF6",
           "caxis": {
            "gridcolor": "white",
            "linecolor": "white",
            "ticks": ""
           }
          },
          "title": {
           "x": 0.05
          },
          "xaxis": {
           "automargin": true,
           "gridcolor": "white",
           "linecolor": "white",
           "ticks": "",
           "title": {
            "standoff": 15
           },
           "zerolinecolor": "white",
           "zerolinewidth": 2
          },
          "yaxis": {
           "automargin": true,
           "gridcolor": "white",
           "linecolor": "white",
           "ticks": "",
           "title": {
            "standoff": 15
           },
           "zerolinecolor": "white",
           "zerolinewidth": 2
          }
         }
        },
        "title": {
         "font": {
          "size": 20
         },
         "text": "Top 10 Feature Importances by XGB"
        },
        "width": 700,
        "xaxis": {
         "anchor": "y",
         "domain": [
          0,
          1
         ],
         "showgrid": false,
         "title": {
          "text": "Feature Weight"
         }
        },
        "yaxis": {
         "anchor": "x",
         "categoryorder": "total ascending",
         "domain": [
          0,
          1
         ],
         "showgrid": false,
         "title": {
          "text": ""
         }
        }
       }
      }
     },
     "metadata": {},
     "output_type": "display_data"
    }
   ],
   "source": [
    "a = feature_importances_xgb.reset_index()\n",
    "feature_importances_xgb = a[a['index'].isin(x.columns)]\n",
    "\n",
    "# Ambil 10 fitur teratas\n",
    "top_10_features = feature_importances_xgb.nlargest(10, 'feature_weight')\n",
    "\n",
    "fig = px.bar(\n",
    "    x=top_10_features['feature_weight'],\n",
    "    y=top_10_features['index'],\n",
    "    orientation='h',\n",
    "    width=700,\n",
    "    height=700,\n",
    ")\n",
    "\n",
    "fig.update_layout(\n",
    "    autosize=False,\n",
    "    title=\"Top 10 Feature Importances by XGB\",\n",
    "    font_family=\"San Serif\",\n",
    "    titlefont={'size': 20},\n",
    "    margin=dict(l=150, r=100, b=100, t=100),\n",
    "    xaxis_title=\"Feature Weight\",\n",
    "    yaxis_title=\"\"\n",
    ")\n",
    "\n",
    "fig.update_xaxes(showgrid=False)\n",
    "fig.update_yaxes(showgrid=False, categoryorder='total ascending')\n",
    "\n",
    "colors = ['gray',] * 10\n",
    "colors[0]  = 'lightseagreen'\n",
    "colors[-1] = 'lightsalmon'\n",
    "fig.update_traces(marker_color=colors, marker_line_color=None,\n",
    "                   opacity=None)\n",
    "\n",
    "fig.show()\n"
   ]
  },
  {
   "cell_type": "code",
   "execution_count": null,
   "metadata": {},
   "outputs": [
    {
     "data": {
      "application/vnd.plotly.v1+json": {
       "config": {
        "plotlyServerURL": "https://plot.ly"
       },
       "data": [
        {
         "alignmentgroup": "True",
         "hovertemplate": "x=%{x}<br>y=%{y}<extra></extra>",
         "legendgroup": "",
         "marker": {
          "color": [
           "lightseagreen",
           "gray",
           "gray",
           "gray",
           "gray",
           "gray",
           "gray",
           "gray",
           "gray",
           "lightsalmon"
          ],
          "pattern": {
           "shape": ""
          }
         },
         "name": "",
         "offsetgroup": "",
         "orientation": "h",
         "showlegend": false,
         "textposition": "auto",
         "type": "bar",
         "x": [
          0.030762000009417534,
          0.005427436903119087,
          0.0011424911208450794,
          0.0001821938785724342,
          0.00014075484068598598,
          0.0001237591786775738,
          0.00011047433508792892,
          0.00006163442594697699,
          0.0000426466649514623,
          0.000029492386602214538
         ],
         "xaxis": "x",
         "y": [
          "booking_currency",
          "length_of_stay",
          "booking_earned",
          "unit_id",
          "capacity",
          "ac",
          "area_id",
          "booking_check_in_year",
          "booking_check_out_year",
          "review_sentiment_score"
         ],
         "yaxis": "y"
        }
       ],
       "layout": {
        "autosize": false,
        "barmode": "relative",
        "font": {
         "family": "San Serif"
        },
        "height": 700,
        "legend": {
         "tracegroupgap": 0
        },
        "margin": {
         "b": 100,
         "l": 150,
         "r": 100,
         "t": 100
        },
        "template": {
         "data": {
          "bar": [
           {
            "error_x": {
             "color": "#2a3f5f"
            },
            "error_y": {
             "color": "#2a3f5f"
            },
            "marker": {
             "line": {
              "color": "#E5ECF6",
              "width": 0.5
             },
             "pattern": {
              "fillmode": "overlay",
              "size": 10,
              "solidity": 0.2
             }
            },
            "type": "bar"
           }
          ],
          "barpolar": [
           {
            "marker": {
             "line": {
              "color": "#E5ECF6",
              "width": 0.5
             },
             "pattern": {
              "fillmode": "overlay",
              "size": 10,
              "solidity": 0.2
             }
            },
            "type": "barpolar"
           }
          ],
          "carpet": [
           {
            "aaxis": {
             "endlinecolor": "#2a3f5f",
             "gridcolor": "white",
             "linecolor": "white",
             "minorgridcolor": "white",
             "startlinecolor": "#2a3f5f"
            },
            "baxis": {
             "endlinecolor": "#2a3f5f",
             "gridcolor": "white",
             "linecolor": "white",
             "minorgridcolor": "white",
             "startlinecolor": "#2a3f5f"
            },
            "type": "carpet"
           }
          ],
          "choropleth": [
           {
            "colorbar": {
             "outlinewidth": 0,
             "ticks": ""
            },
            "type": "choropleth"
           }
          ],
          "contour": [
           {
            "colorbar": {
             "outlinewidth": 0,
             "ticks": ""
            },
            "colorscale": [
             [
              0,
              "#0d0887"
             ],
             [
              0.1111111111111111,
              "#46039f"
             ],
             [
              0.2222222222222222,
              "#7201a8"
             ],
             [
              0.3333333333333333,
              "#9c179e"
             ],
             [
              0.4444444444444444,
              "#bd3786"
             ],
             [
              0.5555555555555556,
              "#d8576b"
             ],
             [
              0.6666666666666666,
              "#ed7953"
             ],
             [
              0.7777777777777778,
              "#fb9f3a"
             ],
             [
              0.8888888888888888,
              "#fdca26"
             ],
             [
              1,
              "#f0f921"
             ]
            ],
            "type": "contour"
           }
          ],
          "contourcarpet": [
           {
            "colorbar": {
             "outlinewidth": 0,
             "ticks": ""
            },
            "type": "contourcarpet"
           }
          ],
          "heatmap": [
           {
            "colorbar": {
             "outlinewidth": 0,
             "ticks": ""
            },
            "colorscale": [
             [
              0,
              "#0d0887"
             ],
             [
              0.1111111111111111,
              "#46039f"
             ],
             [
              0.2222222222222222,
              "#7201a8"
             ],
             [
              0.3333333333333333,
              "#9c179e"
             ],
             [
              0.4444444444444444,
              "#bd3786"
             ],
             [
              0.5555555555555556,
              "#d8576b"
             ],
             [
              0.6666666666666666,
              "#ed7953"
             ],
             [
              0.7777777777777778,
              "#fb9f3a"
             ],
             [
              0.8888888888888888,
              "#fdca26"
             ],
             [
              1,
              "#f0f921"
             ]
            ],
            "type": "heatmap"
           }
          ],
          "heatmapgl": [
           {
            "colorbar": {
             "outlinewidth": 0,
             "ticks": ""
            },
            "colorscale": [
             [
              0,
              "#0d0887"
             ],
             [
              0.1111111111111111,
              "#46039f"
             ],
             [
              0.2222222222222222,
              "#7201a8"
             ],
             [
              0.3333333333333333,
              "#9c179e"
             ],
             [
              0.4444444444444444,
              "#bd3786"
             ],
             [
              0.5555555555555556,
              "#d8576b"
             ],
             [
              0.6666666666666666,
              "#ed7953"
             ],
             [
              0.7777777777777778,
              "#fb9f3a"
             ],
             [
              0.8888888888888888,
              "#fdca26"
             ],
             [
              1,
              "#f0f921"
             ]
            ],
            "type": "heatmapgl"
           }
          ],
          "histogram": [
           {
            "marker": {
             "pattern": {
              "fillmode": "overlay",
              "size": 10,
              "solidity": 0.2
             }
            },
            "type": "histogram"
           }
          ],
          "histogram2d": [
           {
            "colorbar": {
             "outlinewidth": 0,
             "ticks": ""
            },
            "colorscale": [
             [
              0,
              "#0d0887"
             ],
             [
              0.1111111111111111,
              "#46039f"
             ],
             [
              0.2222222222222222,
              "#7201a8"
             ],
             [
              0.3333333333333333,
              "#9c179e"
             ],
             [
              0.4444444444444444,
              "#bd3786"
             ],
             [
              0.5555555555555556,
              "#d8576b"
             ],
             [
              0.6666666666666666,
              "#ed7953"
             ],
             [
              0.7777777777777778,
              "#fb9f3a"
             ],
             [
              0.8888888888888888,
              "#fdca26"
             ],
             [
              1,
              "#f0f921"
             ]
            ],
            "type": "histogram2d"
           }
          ],
          "histogram2dcontour": [
           {
            "colorbar": {
             "outlinewidth": 0,
             "ticks": ""
            },
            "colorscale": [
             [
              0,
              "#0d0887"
             ],
             [
              0.1111111111111111,
              "#46039f"
             ],
             [
              0.2222222222222222,
              "#7201a8"
             ],
             [
              0.3333333333333333,
              "#9c179e"
             ],
             [
              0.4444444444444444,
              "#bd3786"
             ],
             [
              0.5555555555555556,
              "#d8576b"
             ],
             [
              0.6666666666666666,
              "#ed7953"
             ],
             [
              0.7777777777777778,
              "#fb9f3a"
             ],
             [
              0.8888888888888888,
              "#fdca26"
             ],
             [
              1,
              "#f0f921"
             ]
            ],
            "type": "histogram2dcontour"
           }
          ],
          "mesh3d": [
           {
            "colorbar": {
             "outlinewidth": 0,
             "ticks": ""
            },
            "type": "mesh3d"
           }
          ],
          "parcoords": [
           {
            "line": {
             "colorbar": {
              "outlinewidth": 0,
              "ticks": ""
             }
            },
            "type": "parcoords"
           }
          ],
          "pie": [
           {
            "automargin": true,
            "type": "pie"
           }
          ],
          "scatter": [
           {
            "fillpattern": {
             "fillmode": "overlay",
             "size": 10,
             "solidity": 0.2
            },
            "type": "scatter"
           }
          ],
          "scatter3d": [
           {
            "line": {
             "colorbar": {
              "outlinewidth": 0,
              "ticks": ""
             }
            },
            "marker": {
             "colorbar": {
              "outlinewidth": 0,
              "ticks": ""
             }
            },
            "type": "scatter3d"
           }
          ],
          "scattercarpet": [
           {
            "marker": {
             "colorbar": {
              "outlinewidth": 0,
              "ticks": ""
             }
            },
            "type": "scattercarpet"
           }
          ],
          "scattergeo": [
           {
            "marker": {
             "colorbar": {
              "outlinewidth": 0,
              "ticks": ""
             }
            },
            "type": "scattergeo"
           }
          ],
          "scattergl": [
           {
            "marker": {
             "colorbar": {
              "outlinewidth": 0,
              "ticks": ""
             }
            },
            "type": "scattergl"
           }
          ],
          "scattermapbox": [
           {
            "marker": {
             "colorbar": {
              "outlinewidth": 0,
              "ticks": ""
             }
            },
            "type": "scattermapbox"
           }
          ],
          "scatterpolar": [
           {
            "marker": {
             "colorbar": {
              "outlinewidth": 0,
              "ticks": ""
             }
            },
            "type": "scatterpolar"
           }
          ],
          "scatterpolargl": [
           {
            "marker": {
             "colorbar": {
              "outlinewidth": 0,
              "ticks": ""
             }
            },
            "type": "scatterpolargl"
           }
          ],
          "scatterternary": [
           {
            "marker": {
             "colorbar": {
              "outlinewidth": 0,
              "ticks": ""
             }
            },
            "type": "scatterternary"
           }
          ],
          "surface": [
           {
            "colorbar": {
             "outlinewidth": 0,
             "ticks": ""
            },
            "colorscale": [
             [
              0,
              "#0d0887"
             ],
             [
              0.1111111111111111,
              "#46039f"
             ],
             [
              0.2222222222222222,
              "#7201a8"
             ],
             [
              0.3333333333333333,
              "#9c179e"
             ],
             [
              0.4444444444444444,
              "#bd3786"
             ],
             [
              0.5555555555555556,
              "#d8576b"
             ],
             [
              0.6666666666666666,
              "#ed7953"
             ],
             [
              0.7777777777777778,
              "#fb9f3a"
             ],
             [
              0.8888888888888888,
              "#fdca26"
             ],
             [
              1,
              "#f0f921"
             ]
            ],
            "type": "surface"
           }
          ],
          "table": [
           {
            "cells": {
             "fill": {
              "color": "#EBF0F8"
             },
             "line": {
              "color": "white"
             }
            },
            "header": {
             "fill": {
              "color": "#C8D4E3"
             },
             "line": {
              "color": "white"
             }
            },
            "type": "table"
           }
          ]
         },
         "layout": {
          "annotationdefaults": {
           "arrowcolor": "#2a3f5f",
           "arrowhead": 0,
           "arrowwidth": 1
          },
          "autotypenumbers": "strict",
          "coloraxis": {
           "colorbar": {
            "outlinewidth": 0,
            "ticks": ""
           }
          },
          "colorscale": {
           "diverging": [
            [
             0,
             "#8e0152"
            ],
            [
             0.1,
             "#c51b7d"
            ],
            [
             0.2,
             "#de77ae"
            ],
            [
             0.3,
             "#f1b6da"
            ],
            [
             0.4,
             "#fde0ef"
            ],
            [
             0.5,
             "#f7f7f7"
            ],
            [
             0.6,
             "#e6f5d0"
            ],
            [
             0.7,
             "#b8e186"
            ],
            [
             0.8,
             "#7fbc41"
            ],
            [
             0.9,
             "#4d9221"
            ],
            [
             1,
             "#276419"
            ]
           ],
           "sequential": [
            [
             0,
             "#0d0887"
            ],
            [
             0.1111111111111111,
             "#46039f"
            ],
            [
             0.2222222222222222,
             "#7201a8"
            ],
            [
             0.3333333333333333,
             "#9c179e"
            ],
            [
             0.4444444444444444,
             "#bd3786"
            ],
            [
             0.5555555555555556,
             "#d8576b"
            ],
            [
             0.6666666666666666,
             "#ed7953"
            ],
            [
             0.7777777777777778,
             "#fb9f3a"
            ],
            [
             0.8888888888888888,
             "#fdca26"
            ],
            [
             1,
             "#f0f921"
            ]
           ],
           "sequentialminus": [
            [
             0,
             "#0d0887"
            ],
            [
             0.1111111111111111,
             "#46039f"
            ],
            [
             0.2222222222222222,
             "#7201a8"
            ],
            [
             0.3333333333333333,
             "#9c179e"
            ],
            [
             0.4444444444444444,
             "#bd3786"
            ],
            [
             0.5555555555555556,
             "#d8576b"
            ],
            [
             0.6666666666666666,
             "#ed7953"
            ],
            [
             0.7777777777777778,
             "#fb9f3a"
            ],
            [
             0.8888888888888888,
             "#fdca26"
            ],
            [
             1,
             "#f0f921"
            ]
           ]
          },
          "colorway": [
           "#636efa",
           "#EF553B",
           "#00cc96",
           "#ab63fa",
           "#FFA15A",
           "#19d3f3",
           "#FF6692",
           "#B6E880",
           "#FF97FF",
           "#FECB52"
          ],
          "font": {
           "color": "#2a3f5f"
          },
          "geo": {
           "bgcolor": "white",
           "lakecolor": "white",
           "landcolor": "#E5ECF6",
           "showlakes": true,
           "showland": true,
           "subunitcolor": "white"
          },
          "hoverlabel": {
           "align": "left"
          },
          "hovermode": "closest",
          "mapbox": {
           "style": "light"
          },
          "paper_bgcolor": "white",
          "plot_bgcolor": "#E5ECF6",
          "polar": {
           "angularaxis": {
            "gridcolor": "white",
            "linecolor": "white",
            "ticks": ""
           },
           "bgcolor": "#E5ECF6",
           "radialaxis": {
            "gridcolor": "white",
            "linecolor": "white",
            "ticks": ""
           }
          },
          "scene": {
           "xaxis": {
            "backgroundcolor": "#E5ECF6",
            "gridcolor": "white",
            "gridwidth": 2,
            "linecolor": "white",
            "showbackground": true,
            "ticks": "",
            "zerolinecolor": "white"
           },
           "yaxis": {
            "backgroundcolor": "#E5ECF6",
            "gridcolor": "white",
            "gridwidth": 2,
            "linecolor": "white",
            "showbackground": true,
            "ticks": "",
            "zerolinecolor": "white"
           },
           "zaxis": {
            "backgroundcolor": "#E5ECF6",
            "gridcolor": "white",
            "gridwidth": 2,
            "linecolor": "white",
            "showbackground": true,
            "ticks": "",
            "zerolinecolor": "white"
           }
          },
          "shapedefaults": {
           "line": {
            "color": "#2a3f5f"
           }
          },
          "ternary": {
           "aaxis": {
            "gridcolor": "white",
            "linecolor": "white",
            "ticks": ""
           },
           "baxis": {
            "gridcolor": "white",
            "linecolor": "white",
            "ticks": ""
           },
           "bgcolor": "#E5ECF6",
           "caxis": {
            "gridcolor": "white",
            "linecolor": "white",
            "ticks": ""
           }
          },
          "title": {
           "x": 0.05
          },
          "xaxis": {
           "automargin": true,
           "gridcolor": "white",
           "linecolor": "white",
           "ticks": "",
           "title": {
            "standoff": 15
           },
           "zerolinecolor": "white",
           "zerolinewidth": 2
          },
          "yaxis": {
           "automargin": true,
           "gridcolor": "white",
           "linecolor": "white",
           "ticks": "",
           "title": {
            "standoff": 15
           },
           "zerolinecolor": "white",
           "zerolinewidth": 2
          }
         }
        },
        "title": {
         "font": {
          "size": 20
         },
         "text": "Top 10 Feature Importances by XGB"
        },
        "width": 700,
        "xaxis": {
         "anchor": "y",
         "domain": [
          0,
          1
         ],
         "showgrid": false,
         "title": {
          "text": "Feature Weight"
         }
        },
        "yaxis": {
         "anchor": "x",
         "categoryorder": "total ascending",
         "domain": [
          0,
          1
         ],
         "showgrid": false,
         "title": {
          "text": ""
         }
        }
       }
      }
     },
     "metadata": {},
     "output_type": "display_data"
    }
   ],
   "source": [
    "a = feature_importances_lgbm.reset_index()\n",
    "feature_importances_lgbm = a[a['index'].isin(x.columns)]\n",
    "\n",
    "# Ambil 10 fitur teratas\n",
    "top_10_features = feature_importances_lgbm.nlargest(10, 'feature_weight')\n",
    "\n",
    "fig = px.bar(\n",
    "    x=top_10_features['feature_weight'],\n",
    "    y=top_10_features['index'],\n",
    "    orientation='h',\n",
    "    width=700,\n",
    "    height=700,\n",
    ")\n",
    "\n",
    "fig.update_layout(\n",
    "    autosize=False,\n",
    "    title=\"Top 10 Feature Importances by XGB\",\n",
    "    font_family=\"San Serif\",\n",
    "    titlefont={'size': 20},\n",
    "    margin=dict(l=150, r=100, b=100, t=100),\n",
    "    xaxis_title=\"Feature Weight\",\n",
    "    yaxis_title=\"\"\n",
    ")\n",
    "\n",
    "fig.update_xaxes(showgrid=False)\n",
    "fig.update_yaxes(showgrid=False, categoryorder='total ascending')\n",
    "\n",
    "colors = ['gray',] * 10\n",
    "colors[0]  = 'lightseagreen'\n",
    "colors[-1] = 'lightsalmon'\n",
    "fig.update_traces(marker_color=colors, marker_line_color=None,\n",
    "                   opacity=None)\n",
    "\n",
    "fig.show()\n"
   ]
  },
  {
   "cell_type": "code",
   "execution_count": null,
   "metadata": {},
   "outputs": [
    {
     "data": {
      "text/html": [
       "<pre style=\"white-space:pre;overflow-x:auto;line-height:normal;font-family:Menlo,'DejaVu Sans Mono',consolas,'Courier New',monospace\"><span style=\"font-weight: bold\">Model: \"sequential_8\"</span>\n",
       "</pre>\n"
      ],
      "text/plain": [
       "\u001b[1mModel: \"sequential_8\"\u001b[0m\n"
      ]
     },
     "metadata": {},
     "output_type": "display_data"
    },
    {
     "data": {
      "text/html": [
       "<pre style=\"white-space:pre;overflow-x:auto;line-height:normal;font-family:Menlo,'DejaVu Sans Mono',consolas,'Courier New',monospace\">┏━━━━━━━━━━━━━━━━━━━━━━━━━━━━━━━━━┳━━━━━━━━━━━━━━━━━━━━━━━━┳━━━━━━━━━━━━━━━┓\n",
       "┃<span style=\"font-weight: bold\"> Layer (type)                    </span>┃<span style=\"font-weight: bold\"> Output Shape           </span>┃<span style=\"font-weight: bold\">       Param # </span>┃\n",
       "┡━━━━━━━━━━━━━━━━━━━━━━━━━━━━━━━━━╇━━━━━━━━━━━━━━━━━━━━━━━━╇━━━━━━━━━━━━━━━┩\n",
       "│ dense_48 (<span style=\"color: #0087ff; text-decoration-color: #0087ff\">Dense</span>)                │ (<span style=\"color: #00d7ff; text-decoration-color: #00d7ff\">None</span>, <span style=\"color: #00af00; text-decoration-color: #00af00\">2048</span>)           │        <span style=\"color: #00af00; text-decoration-color: #00af00\">71,680</span> │\n",
       "├─────────────────────────────────┼────────────────────────┼───────────────┤\n",
       "│ dropout_28 (<span style=\"color: #0087ff; text-decoration-color: #0087ff\">Dropout</span>)            │ (<span style=\"color: #00d7ff; text-decoration-color: #00d7ff\">None</span>, <span style=\"color: #00af00; text-decoration-color: #00af00\">2048</span>)           │             <span style=\"color: #00af00; text-decoration-color: #00af00\">0</span> │\n",
       "├─────────────────────────────────┼────────────────────────┼───────────────┤\n",
       "│ dense_49 (<span style=\"color: #0087ff; text-decoration-color: #0087ff\">Dense</span>)                │ (<span style=\"color: #00d7ff; text-decoration-color: #00d7ff\">None</span>, <span style=\"color: #00af00; text-decoration-color: #00af00\">1024</span>)           │     <span style=\"color: #00af00; text-decoration-color: #00af00\">2,098,176</span> │\n",
       "├─────────────────────────────────┼────────────────────────┼───────────────┤\n",
       "│ dropout_29 (<span style=\"color: #0087ff; text-decoration-color: #0087ff\">Dropout</span>)            │ (<span style=\"color: #00d7ff; text-decoration-color: #00d7ff\">None</span>, <span style=\"color: #00af00; text-decoration-color: #00af00\">1024</span>)           │             <span style=\"color: #00af00; text-decoration-color: #00af00\">0</span> │\n",
       "├─────────────────────────────────┼────────────────────────┼───────────────┤\n",
       "│ dense_50 (<span style=\"color: #0087ff; text-decoration-color: #0087ff\">Dense</span>)                │ (<span style=\"color: #00d7ff; text-decoration-color: #00d7ff\">None</span>, <span style=\"color: #00af00; text-decoration-color: #00af00\">512</span>)            │       <span style=\"color: #00af00; text-decoration-color: #00af00\">524,800</span> │\n",
       "├─────────────────────────────────┼────────────────────────┼───────────────┤\n",
       "│ dropout_30 (<span style=\"color: #0087ff; text-decoration-color: #0087ff\">Dropout</span>)            │ (<span style=\"color: #00d7ff; text-decoration-color: #00d7ff\">None</span>, <span style=\"color: #00af00; text-decoration-color: #00af00\">512</span>)            │             <span style=\"color: #00af00; text-decoration-color: #00af00\">0</span> │\n",
       "├─────────────────────────────────┼────────────────────────┼───────────────┤\n",
       "│ dense_51 (<span style=\"color: #0087ff; text-decoration-color: #0087ff\">Dense</span>)                │ (<span style=\"color: #00d7ff; text-decoration-color: #00d7ff\">None</span>, <span style=\"color: #00af00; text-decoration-color: #00af00\">256</span>)            │       <span style=\"color: #00af00; text-decoration-color: #00af00\">131,328</span> │\n",
       "├─────────────────────────────────┼────────────────────────┼───────────────┤\n",
       "│ dropout_31 (<span style=\"color: #0087ff; text-decoration-color: #0087ff\">Dropout</span>)            │ (<span style=\"color: #00d7ff; text-decoration-color: #00d7ff\">None</span>, <span style=\"color: #00af00; text-decoration-color: #00af00\">256</span>)            │             <span style=\"color: #00af00; text-decoration-color: #00af00\">0</span> │\n",
       "├─────────────────────────────────┼────────────────────────┼───────────────┤\n",
       "│ dense_52 (<span style=\"color: #0087ff; text-decoration-color: #0087ff\">Dense</span>)                │ (<span style=\"color: #00d7ff; text-decoration-color: #00d7ff\">None</span>, <span style=\"color: #00af00; text-decoration-color: #00af00\">128</span>)            │        <span style=\"color: #00af00; text-decoration-color: #00af00\">32,896</span> │\n",
       "├─────────────────────────────────┼────────────────────────┼───────────────┤\n",
       "│ dense_53 (<span style=\"color: #0087ff; text-decoration-color: #0087ff\">Dense</span>)                │ (<span style=\"color: #00d7ff; text-decoration-color: #00d7ff\">None</span>, <span style=\"color: #00af00; text-decoration-color: #00af00\">1</span>)              │           <span style=\"color: #00af00; text-decoration-color: #00af00\">129</span> │\n",
       "└─────────────────────────────────┴────────────────────────┴───────────────┘\n",
       "</pre>\n"
      ],
      "text/plain": [
       "┏━━━━━━━━━━━━━━━━━━━━━━━━━━━━━━━━━┳━━━━━━━━━━━━━━━━━━━━━━━━┳━━━━━━━━━━━━━━━┓\n",
       "┃\u001b[1m \u001b[0m\u001b[1mLayer (type)                   \u001b[0m\u001b[1m \u001b[0m┃\u001b[1m \u001b[0m\u001b[1mOutput Shape          \u001b[0m\u001b[1m \u001b[0m┃\u001b[1m \u001b[0m\u001b[1m      Param #\u001b[0m\u001b[1m \u001b[0m┃\n",
       "┡━━━━━━━━━━━━━━━━━━━━━━━━━━━━━━━━━╇━━━━━━━━━━━━━━━━━━━━━━━━╇━━━━━━━━━━━━━━━┩\n",
       "│ dense_48 (\u001b[38;5;33mDense\u001b[0m)                │ (\u001b[38;5;45mNone\u001b[0m, \u001b[38;5;34m2048\u001b[0m)           │        \u001b[38;5;34m71,680\u001b[0m │\n",
       "├─────────────────────────────────┼────────────────────────┼───────────────┤\n",
       "│ dropout_28 (\u001b[38;5;33mDropout\u001b[0m)            │ (\u001b[38;5;45mNone\u001b[0m, \u001b[38;5;34m2048\u001b[0m)           │             \u001b[38;5;34m0\u001b[0m │\n",
       "├─────────────────────────────────┼────────────────────────┼───────────────┤\n",
       "│ dense_49 (\u001b[38;5;33mDense\u001b[0m)                │ (\u001b[38;5;45mNone\u001b[0m, \u001b[38;5;34m1024\u001b[0m)           │     \u001b[38;5;34m2,098,176\u001b[0m │\n",
       "├─────────────────────────────────┼────────────────────────┼───────────────┤\n",
       "│ dropout_29 (\u001b[38;5;33mDropout\u001b[0m)            │ (\u001b[38;5;45mNone\u001b[0m, \u001b[38;5;34m1024\u001b[0m)           │             \u001b[38;5;34m0\u001b[0m │\n",
       "├─────────────────────────────────┼────────────────────────┼───────────────┤\n",
       "│ dense_50 (\u001b[38;5;33mDense\u001b[0m)                │ (\u001b[38;5;45mNone\u001b[0m, \u001b[38;5;34m512\u001b[0m)            │       \u001b[38;5;34m524,800\u001b[0m │\n",
       "├─────────────────────────────────┼────────────────────────┼───────────────┤\n",
       "│ dropout_30 (\u001b[38;5;33mDropout\u001b[0m)            │ (\u001b[38;5;45mNone\u001b[0m, \u001b[38;5;34m512\u001b[0m)            │             \u001b[38;5;34m0\u001b[0m │\n",
       "├─────────────────────────────────┼────────────────────────┼───────────────┤\n",
       "│ dense_51 (\u001b[38;5;33mDense\u001b[0m)                │ (\u001b[38;5;45mNone\u001b[0m, \u001b[38;5;34m256\u001b[0m)            │       \u001b[38;5;34m131,328\u001b[0m │\n",
       "├─────────────────────────────────┼────────────────────────┼───────────────┤\n",
       "│ dropout_31 (\u001b[38;5;33mDropout\u001b[0m)            │ (\u001b[38;5;45mNone\u001b[0m, \u001b[38;5;34m256\u001b[0m)            │             \u001b[38;5;34m0\u001b[0m │\n",
       "├─────────────────────────────────┼────────────────────────┼───────────────┤\n",
       "│ dense_52 (\u001b[38;5;33mDense\u001b[0m)                │ (\u001b[38;5;45mNone\u001b[0m, \u001b[38;5;34m128\u001b[0m)            │        \u001b[38;5;34m32,896\u001b[0m │\n",
       "├─────────────────────────────────┼────────────────────────┼───────────────┤\n",
       "│ dense_53 (\u001b[38;5;33mDense\u001b[0m)                │ (\u001b[38;5;45mNone\u001b[0m, \u001b[38;5;34m1\u001b[0m)              │           \u001b[38;5;34m129\u001b[0m │\n",
       "└─────────────────────────────────┴────────────────────────┴───────────────┘\n"
      ]
     },
     "metadata": {},
     "output_type": "display_data"
    },
    {
     "data": {
      "text/html": [
       "<pre style=\"white-space:pre;overflow-x:auto;line-height:normal;font-family:Menlo,'DejaVu Sans Mono',consolas,'Courier New',monospace\"><span style=\"font-weight: bold\"> Total params: </span><span style=\"color: #00af00; text-decoration-color: #00af00\">2,859,009</span> (10.91 MB)\n",
       "</pre>\n"
      ],
      "text/plain": [
       "\u001b[1m Total params: \u001b[0m\u001b[38;5;34m2,859,009\u001b[0m (10.91 MB)\n"
      ]
     },
     "metadata": {},
     "output_type": "display_data"
    },
    {
     "data": {
      "text/html": [
       "<pre style=\"white-space:pre;overflow-x:auto;line-height:normal;font-family:Menlo,'DejaVu Sans Mono',consolas,'Courier New',monospace\"><span style=\"font-weight: bold\"> Trainable params: </span><span style=\"color: #00af00; text-decoration-color: #00af00\">2,859,009</span> (10.91 MB)\n",
       "</pre>\n"
      ],
      "text/plain": [
       "\u001b[1m Trainable params: \u001b[0m\u001b[38;5;34m2,859,009\u001b[0m (10.91 MB)\n"
      ]
     },
     "metadata": {},
     "output_type": "display_data"
    },
    {
     "data": {
      "text/html": [
       "<pre style=\"white-space:pre;overflow-x:auto;line-height:normal;font-family:Menlo,'DejaVu Sans Mono',consolas,'Courier New',monospace\"><span style=\"font-weight: bold\"> Non-trainable params: </span><span style=\"color: #00af00; text-decoration-color: #00af00\">0</span> (0.00 B)\n",
       "</pre>\n"
      ],
      "text/plain": [
       "\u001b[1m Non-trainable params: \u001b[0m\u001b[38;5;34m0\u001b[0m (0.00 B)\n"
      ]
     },
     "metadata": {},
     "output_type": "display_data"
    },
    {
     "name": "stdout",
     "output_type": "stream",
     "text": [
      "Epoch 1/50\n",
      "\u001b[1m1137/1137\u001b[0m \u001b[32m━━━━━━━━━━━━━━━━━━━━\u001b[0m\u001b[37m\u001b[0m \u001b[1m55s\u001b[0m 45ms/step - loss: 318460100608.0000 - mae: 372993.0938 - val_loss: 135493861376.0000 - val_mae: 246721.5000\n",
      "Epoch 2/50\n",
      "\u001b[1m1137/1137\u001b[0m \u001b[32m━━━━━━━━━━━━━━━━━━━━\u001b[0m\u001b[37m\u001b[0m \u001b[1m83s\u001b[0m 46ms/step - loss: 130248400896.0000 - mae: 245660.5000 - val_loss: 110194049024.0000 - val_mae: 213363.8125\n",
      "Epoch 3/50\n",
      "\u001b[1m1137/1137\u001b[0m \u001b[32m━━━━━━━━━━━━━━━━━━━━\u001b[0m\u001b[37m\u001b[0m \u001b[1m51s\u001b[0m 45ms/step - loss: 106349248512.0000 - mae: 215230.3750 - val_loss: 81314676736.0000 - val_mae: 171659.4219\n",
      "Epoch 4/50\n",
      "\u001b[1m1137/1137\u001b[0m \u001b[32m━━━━━━━━━━━━━━━━━━━━\u001b[0m\u001b[37m\u001b[0m \u001b[1m52s\u001b[0m 46ms/step - loss: 82794905600.0000 - mae: 184347.2812 - val_loss: 74874224640.0000 - val_mae: 155617.4531\n",
      "Epoch 5/50\n",
      "\u001b[1m1137/1137\u001b[0m \u001b[32m━━━━━━━━━━━━━━━━━━━━\u001b[0m\u001b[37m\u001b[0m \u001b[1m52s\u001b[0m 46ms/step - loss: 70719021056.0000 - mae: 165218.7031 - val_loss: 67033362432.0000 - val_mae: 146973.0781\n",
      "Epoch 6/50\n",
      "\u001b[1m1137/1137\u001b[0m \u001b[32m━━━━━━━━━━━━━━━━━━━━\u001b[0m\u001b[37m\u001b[0m \u001b[1m54s\u001b[0m 48ms/step - loss: 67205603328.0000 - mae: 159502.7969 - val_loss: 56484139008.0000 - val_mae: 133618.1406\n",
      "Epoch 7/50\n",
      "\u001b[1m1137/1137\u001b[0m \u001b[32m━━━━━━━━━━━━━━━━━━━━\u001b[0m\u001b[37m\u001b[0m \u001b[1m81s\u001b[0m 46ms/step - loss: 60595556352.0000 - mae: 151547.2656 - val_loss: 53418934272.0000 - val_mae: 129005.6406\n",
      "Epoch 8/50\n",
      "\u001b[1m1137/1137\u001b[0m \u001b[32m━━━━━━━━━━━━━━━━━━━━\u001b[0m\u001b[37m\u001b[0m \u001b[1m56s\u001b[0m 49ms/step - loss: 60934332416.0000 - mae: 149897.0625 - val_loss: 47520964608.0000 - val_mae: 121579.6016\n",
      "Epoch 9/50\n",
      "\u001b[1m1137/1137\u001b[0m \u001b[32m━━━━━━━━━━━━━━━━━━━━\u001b[0m\u001b[37m\u001b[0m \u001b[1m59s\u001b[0m 52ms/step - loss: 55094415360.0000 - mae: 141977.5312 - val_loss: 46253879296.0000 - val_mae: 118074.1719\n",
      "Epoch 10/50\n",
      "\u001b[1m1137/1137\u001b[0m \u001b[32m━━━━━━━━━━━━━━━━━━━━\u001b[0m\u001b[37m\u001b[0m \u001b[1m58s\u001b[0m 51ms/step - loss: 53486465024.0000 - mae: 139104.8594 - val_loss: 42979536896.0000 - val_mae: 118255.5703\n",
      "Epoch 11/50\n",
      "\u001b[1m1137/1137\u001b[0m \u001b[32m━━━━━━━━━━━━━━━━━━━━\u001b[0m\u001b[37m\u001b[0m \u001b[1m65s\u001b[0m 57ms/step - loss: 51523117056.0000 - mae: 134931.6719 - val_loss: 38959124480.0000 - val_mae: 104442.0625\n",
      "Epoch 12/50\n",
      "\u001b[1m1137/1137\u001b[0m \u001b[32m━━━━━━━━━━━━━━━━━━━━\u001b[0m\u001b[37m\u001b[0m \u001b[1m72s\u001b[0m 48ms/step - loss: 48736423936.0000 - mae: 132106.1875 - val_loss: 38706622464.0000 - val_mae: 101246.8281\n",
      "Epoch 13/50\n",
      "\u001b[1m1137/1137\u001b[0m \u001b[32m━━━━━━━━━━━━━━━━━━━━\u001b[0m\u001b[37m\u001b[0m \u001b[1m57s\u001b[0m 50ms/step - loss: 46085701632.0000 - mae: 127388.3906 - val_loss: 36572827648.0000 - val_mae: 100174.5078\n",
      "Epoch 14/50\n",
      "\u001b[1m1137/1137\u001b[0m \u001b[32m━━━━━━━━━━━━━━━━━━━━\u001b[0m\u001b[37m\u001b[0m \u001b[1m59s\u001b[0m 52ms/step - loss: 45012463616.0000 - mae: 125751.0547 - val_loss: 43531059200.0000 - val_mae: 117341.5156\n",
      "Epoch 15/50\n",
      "\u001b[1m1137/1137\u001b[0m \u001b[32m━━━━━━━━━━━━━━━━━━━━\u001b[0m\u001b[37m\u001b[0m \u001b[1m57s\u001b[0m 51ms/step - loss: 43890880512.0000 - mae: 123965.4375 - val_loss: 38415593472.0000 - val_mae: 106234.3281\n",
      "Epoch 16/50\n",
      "\u001b[1m1137/1137\u001b[0m \u001b[32m━━━━━━━━━━━━━━━━━━━━\u001b[0m\u001b[37m\u001b[0m \u001b[1m67s\u001b[0m 59ms/step - loss: 43616083968.0000 - mae: 121070.6094 - val_loss: 32504225792.0000 - val_mae: 93220.6484\n",
      "Epoch 17/50\n",
      "\u001b[1m1137/1137\u001b[0m \u001b[32m━━━━━━━━━━━━━━━━━━━━\u001b[0m\u001b[37m\u001b[0m \u001b[1m76s\u001b[0m 66ms/step - loss: 42755358720.0000 - mae: 120311.8047 - val_loss: 32033658880.0000 - val_mae: 91849.6484\n",
      "Epoch 18/50\n",
      "\u001b[1m1137/1137\u001b[0m \u001b[32m━━━━━━━━━━━━━━━━━━━━\u001b[0m\u001b[37m\u001b[0m \u001b[1m64s\u001b[0m 56ms/step - loss: 42526699520.0000 - mae: 119991.4609 - val_loss: 31424323584.0000 - val_mae: 90081.3750\n",
      "Epoch 19/50\n",
      "\u001b[1m1137/1137\u001b[0m \u001b[32m━━━━━━━━━━━━━━━━━━━━\u001b[0m\u001b[37m\u001b[0m \u001b[1m60s\u001b[0m 52ms/step - loss: 42646990848.0000 - mae: 119447.7500 - val_loss: 35232202752.0000 - val_mae: 98875.1016\n",
      "Epoch 20/50\n",
      "\u001b[1m1137/1137\u001b[0m \u001b[32m━━━━━━━━━━━━━━━━━━━━\u001b[0m\u001b[37m\u001b[0m \u001b[1m60s\u001b[0m 52ms/step - loss: 41445687296.0000 - mae: 117490.4844 - val_loss: 31512489984.0000 - val_mae: 89648.4844\n",
      "Epoch 21/50\n",
      "\u001b[1m1137/1137\u001b[0m \u001b[32m━━━━━━━━━━━━━━━━━━━━\u001b[0m\u001b[37m\u001b[0m \u001b[1m66s\u001b[0m 58ms/step - loss: 40820858880.0000 - mae: 116128.8438 - val_loss: 32502063104.0000 - val_mae: 88693.8750\n",
      "Epoch 22/50\n",
      "\u001b[1m1137/1137\u001b[0m \u001b[32m━━━━━━━━━━━━━━━━━━━━\u001b[0m\u001b[37m\u001b[0m \u001b[1m74s\u001b[0m 51ms/step - loss: 38821060608.0000 - mae: 113536.3203 - val_loss: 29271820288.0000 - val_mae: 83692.9453\n",
      "Epoch 23/50\n",
      "\u001b[1m1137/1137\u001b[0m \u001b[32m━━━━━━━━━━━━━━━━━━━━\u001b[0m\u001b[37m\u001b[0m \u001b[1m64s\u001b[0m 56ms/step - loss: 40258449408.0000 - mae: 114236.3516 - val_loss: 30701514752.0000 - val_mae: 84935.9922\n",
      "Epoch 24/50\n",
      "\u001b[1m1137/1137\u001b[0m \u001b[32m━━━━━━━━━━━━━━━━━━━━\u001b[0m\u001b[37m\u001b[0m \u001b[1m60s\u001b[0m 53ms/step - loss: 39729848320.0000 - mae: 114210.5391 - val_loss: 33729916928.0000 - val_mae: 96484.2266\n",
      "Epoch 25/50\n",
      "\u001b[1m1137/1137\u001b[0m \u001b[32m━━━━━━━━━━━━━━━━━━━━\u001b[0m\u001b[37m\u001b[0m \u001b[1m59s\u001b[0m 52ms/step - loss: 38148042752.0000 - mae: 112347.1250 - val_loss: 29612693504.0000 - val_mae: 86199.0781\n",
      "Epoch 26/50\n",
      "\u001b[1m1137/1137\u001b[0m \u001b[32m━━━━━━━━━━━━━━━━━━━━\u001b[0m\u001b[37m\u001b[0m \u001b[1m59s\u001b[0m 52ms/step - loss: 39470637056.0000 - mae: 112942.0156 - val_loss: 30718631936.0000 - val_mae: 93777.5938\n",
      "Epoch 27/50\n",
      "\u001b[1m1137/1137\u001b[0m \u001b[32m━━━━━━━━━━━━━━━━━━━━\u001b[0m\u001b[37m\u001b[0m \u001b[1m61s\u001b[0m 53ms/step - loss: 37435039744.0000 - mae: 110190.0078 - val_loss: 29844555776.0000 - val_mae: 86797.6172\n",
      "Epoch 28/50\n",
      "\u001b[1m1137/1137\u001b[0m \u001b[32m━━━━━━━━━━━━━━━━━━━━\u001b[0m\u001b[37m\u001b[0m \u001b[1m60s\u001b[0m 53ms/step - loss: 37423964160.0000 - mae: 110994.0391 - val_loss: 29010524160.0000 - val_mae: 81836.9531\n",
      "Epoch 29/50\n",
      "\u001b[1m1137/1137\u001b[0m \u001b[32m━━━━━━━━━━━━━━━━━━━━\u001b[0m\u001b[37m\u001b[0m \u001b[1m60s\u001b[0m 53ms/step - loss: 37191815168.0000 - mae: 110573.6250 - val_loss: 27826315264.0000 - val_mae: 78509.8359\n",
      "Epoch 30/50\n",
      "\u001b[1m1137/1137\u001b[0m \u001b[32m━━━━━━━━━━━━━━━━━━━━\u001b[0m\u001b[37m\u001b[0m \u001b[1m59s\u001b[0m 52ms/step - loss: 36074926080.0000 - mae: 106882.4297 - val_loss: 32117159936.0000 - val_mae: 96544.7969\n",
      "Epoch 31/50\n",
      "\u001b[1m1137/1137\u001b[0m \u001b[32m━━━━━━━━━━━━━━━━━━━━\u001b[0m\u001b[37m\u001b[0m \u001b[1m60s\u001b[0m 52ms/step - loss: 34214258688.0000 - mae: 105250.4141 - val_loss: 28583147520.0000 - val_mae: 83107.8672\n",
      "Epoch 32/50\n",
      "\u001b[1m1137/1137\u001b[0m \u001b[32m━━━━━━━━━━━━━━━━━━━━\u001b[0m\u001b[37m\u001b[0m \u001b[1m78s\u001b[0m 49ms/step - loss: 36496158720.0000 - mae: 108726.7109 - val_loss: 27890391040.0000 - val_mae: 79243.4062\n",
      "Epoch 33/50\n",
      "\u001b[1m1137/1137\u001b[0m \u001b[32m━━━━━━━━━━━━━━━━━━━━\u001b[0m\u001b[37m\u001b[0m \u001b[1m62s\u001b[0m 54ms/step - loss: 33616586752.0000 - mae: 103791.2656 - val_loss: 31842285568.0000 - val_mae: 99928.3203\n",
      "Epoch 34/50\n",
      "\u001b[1m1137/1137\u001b[0m \u001b[32m━━━━━━━━━━━━━━━━━━━━\u001b[0m\u001b[37m\u001b[0m \u001b[1m61s\u001b[0m 53ms/step - loss: 35438669824.0000 - mae: 107182.6016 - val_loss: 26645626880.0000 - val_mae: 78456.4297\n",
      "Epoch 35/50\n",
      "\u001b[1m1137/1137\u001b[0m \u001b[32m━━━━━━━━━━━━━━━━━━━━\u001b[0m\u001b[37m\u001b[0m \u001b[1m60s\u001b[0m 53ms/step - loss: 34606735360.0000 - mae: 105107.3750 - val_loss: 27856640000.0000 - val_mae: 77769.5469\n",
      "Epoch 36/50\n",
      "\u001b[1m1137/1137\u001b[0m \u001b[32m━━━━━━━━━━━━━━━━━━━━\u001b[0m\u001b[37m\u001b[0m \u001b[1m70s\u001b[0m 61ms/step - loss: 33499955200.0000 - mae: 104070.7344 - val_loss: 29196566528.0000 - val_mae: 85333.7344\n",
      "Epoch 37/50\n",
      "\u001b[1m1137/1137\u001b[0m \u001b[32m━━━━━━━━━━━━━━━━━━━━\u001b[0m\u001b[37m\u001b[0m \u001b[1m67s\u001b[0m 59ms/step - loss: 33937682432.0000 - mae: 105150.5859 - val_loss: 27888781312.0000 - val_mae: 81225.9688\n",
      "Epoch 38/50\n",
      "\u001b[1m1137/1137\u001b[0m \u001b[32m━━━━━━━━━━━━━━━━━━━━\u001b[0m\u001b[37m\u001b[0m \u001b[1m61s\u001b[0m 54ms/step - loss: 32934092800.0000 - mae: 103551.9609 - val_loss: 26831554560.0000 - val_mae: 79919.7734\n",
      "Epoch 39/50\n",
      "\u001b[1m1137/1137\u001b[0m \u001b[32m━━━━━━━━━━━━━━━━━━━━\u001b[0m\u001b[37m\u001b[0m \u001b[1m78s\u001b[0m 50ms/step - loss: 34975711232.0000 - mae: 105364.7031 - val_loss: 26181711872.0000 - val_mae: 75483.4688\n",
      "Epoch 40/50\n",
      "\u001b[1m1137/1137\u001b[0m \u001b[32m━━━━━━━━━━━━━━━━━━━━\u001b[0m\u001b[37m\u001b[0m \u001b[1m61s\u001b[0m 54ms/step - loss: 33377155072.0000 - mae: 103632.2969 - val_loss: 27520710656.0000 - val_mae: 88087.0781\n",
      "Epoch 41/50\n",
      "\u001b[1m1137/1137\u001b[0m \u001b[32m━━━━━━━━━━━━━━━━━━━━\u001b[0m\u001b[37m\u001b[0m \u001b[1m62s\u001b[0m 54ms/step - loss: 32102993920.0000 - mae: 101338.4531 - val_loss: 25608355840.0000 - val_mae: 75564.9062\n",
      "Epoch 42/50\n",
      "\u001b[1m1137/1137\u001b[0m \u001b[32m━━━━━━━━━━━━━━━━━━━━\u001b[0m\u001b[37m\u001b[0m \u001b[1m69s\u001b[0m 61ms/step - loss: 32797677568.0000 - mae: 102553.3594 - val_loss: 26613479424.0000 - val_mae: 75228.2344\n",
      "Epoch 43/50\n",
      "\u001b[1m1137/1137\u001b[0m \u001b[32m━━━━━━━━━━━━━━━━━━━━\u001b[0m\u001b[37m\u001b[0m \u001b[1m61s\u001b[0m 54ms/step - loss: 32579985408.0000 - mae: 101248.1328 - val_loss: 33817427968.0000 - val_mae: 117312.9844\n",
      "Epoch 44/50\n",
      "\u001b[1m1137/1137\u001b[0m \u001b[32m━━━━━━━━━━━━━━━━━━━━\u001b[0m\u001b[37m\u001b[0m \u001b[1m61s\u001b[0m 53ms/step - loss: 31826421760.0000 - mae: 101739.6797 - val_loss: 25904467968.0000 - val_mae: 84884.9219\n",
      "Epoch 45/50\n",
      "\u001b[1m1137/1137\u001b[0m \u001b[32m━━━━━━━━━━━━━━━━━━━━\u001b[0m\u001b[37m\u001b[0m \u001b[1m62s\u001b[0m 54ms/step - loss: 31775870976.0000 - mae: 100914.7500 - val_loss: 25509261312.0000 - val_mae: 73098.4922\n",
      "Epoch 46/50\n",
      "\u001b[1m1137/1137\u001b[0m \u001b[32m━━━━━━━━━━━━━━━━━━━━\u001b[0m\u001b[37m\u001b[0m \u001b[1m61s\u001b[0m 54ms/step - loss: 33228347392.0000 - mae: 102033.4531 - val_loss: 28520914944.0000 - val_mae: 77660.7188\n",
      "Epoch 47/50\n",
      "\u001b[1m1137/1137\u001b[0m \u001b[32m━━━━━━━━━━━━━━━━━━━━\u001b[0m\u001b[37m\u001b[0m \u001b[1m64s\u001b[0m 57ms/step - loss: 32618739712.0000 - mae: 101065.0312 - val_loss: 25314961408.0000 - val_mae: 70676.8594\n",
      "Epoch 48/50\n",
      "\u001b[1m1137/1137\u001b[0m \u001b[32m━━━━━━━━━━━━━━━━━━━━\u001b[0m\u001b[37m\u001b[0m \u001b[1m52s\u001b[0m 46ms/step - loss: 31432536064.0000 - mae: 99469.1094 - val_loss: 25216688128.0000 - val_mae: 71707.7969\n",
      "Epoch 49/50\n",
      "\u001b[1m1137/1137\u001b[0m \u001b[32m━━━━━━━━━━━━━━━━━━━━\u001b[0m\u001b[37m\u001b[0m \u001b[1m65s\u001b[0m 57ms/step - loss: 30803101696.0000 - mae: 99358.7734 - val_loss: 25872181248.0000 - val_mae: 78882.2891\n",
      "Epoch 50/50\n",
      "\u001b[1m1137/1137\u001b[0m \u001b[32m━━━━━━━━━━━━━━━━━━━━\u001b[0m\u001b[37m\u001b[0m \u001b[1m73s\u001b[0m 64ms/step - loss: 32057323520.0000 - mae: 100712.2500 - val_loss: 27639820288.0000 - val_mae: 90969.0234\n",
      "\u001b[1m356/356\u001b[0m \u001b[32m━━━━━━━━━━━━━━━━━━━━\u001b[0m\u001b[37m\u001b[0m \u001b[1m4s\u001b[0m 11ms/step - loss: 25128628224.0000 - mae: 72300.6094\n",
      "Test Loss (MSE): 26342735872.0\n",
      "Test MAE: 72459.4296875\n",
      "\u001b[1m356/356\u001b[0m \u001b[32m━━━━━━━━━━━━━━━━━━━━\u001b[0m\u001b[37m\u001b[0m \u001b[1m4s\u001b[0m 11ms/step\n"
     ]
    },
    {
     "data": {
      "image/png": "[encoded data removed]",
      "text/plain": [
       "<Figure size 800x550 with 1 Axes>"
      ]
     },
     "metadata": {},
     "output_type": "display_data"
    }
   ],
   "source": [
    "import tensorflow as tf\n",
    "from sklearn.preprocessing import StandardScaler\n",
    "import matplotlib.pyplot as plt\n",
    "\n",
    "# Normalize the features\n",
    "scaler = StandardScaler()\n",
    "X_train_scaled = scaler.fit_transform(X_train)\n",
    "X_test_scaled = scaler.transform(X_test)\n",
    "\n",
    "# Define the TensorFlow model\n",
    "def build_model():\n",
    "    model = tf.keras.Sequential([\n",
    "        tf.keras.layers.Dense(2048, activation='relu', input_shape=(X_train_scaled.shape[1],)),\n",
    "        tf.keras.layers.Dropout(0.3),  # Adding dropout for regularization\n",
    "        tf.keras.layers.Dense(1024, activation='relu'),\n",
    "        tf.keras.layers.Dropout(0.3),  # Adding dropout for regularization\n",
    "        tf.keras.layers.Dense(512, activation='relu'),\n",
    "        tf.keras.layers.Dropout(0.2),  # Adding dropout for regularization\n",
    "        tf.keras.layers.Dense(256, activation='relu'),\n",
    "        tf.keras.layers.Dropout(0.2),  # Adding dropout for regularization\n",
    "        tf.keras.layers.Dense(128, activation='relu'),\n",
    "        tf.keras.layers.Dense(1)  # Output layer for regression\n",
    "    ])\n",
    "    model.compile(optimizer=tf.keras.optimizers.Adam(learning_rate=0.001),\n",
    "                  loss='mean_squared_error',\n",
    "                  metrics=['mae'])\n",
    "    return model\n",
    "\n",
    "# Custom callback to stop training when target is reached\n",
    "class TargetCallback(tf.keras.callbacks.Callback):\n",
    "    def on_epoch_end(self, epoch, logs={}):\n",
    "        if logs.get('mae') < 30000 and logs.get('val_mae') < 30000:  # Adjusting the target MAE\n",
    "            print(\"\\n\\nTarget tercapai\\n\")\n",
    "            self.model.stop_training = True\n",
    "\n",
    "# Build the model\n",
    "model = build_model()\n",
    "\n",
    "# Print the model summary\n",
    "model.summary()\n",
    "\n",
    "# Define early stopping callback\n",
    "early_stopping = tf.keras.callbacks.EarlyStopping(monitor='val_loss', patience=10, restore_best_weights=True)\n",
    "\n",
    "# Define the custom callback\n",
    "target_callback = TargetCallback()\n",
    "\n",
    "# Train the model with 50 epochs to give more room for improvement\n",
    "history = model.fit(X_train_scaled, y_train,\n",
    "                    validation_split=0.2,\n",
    "                    epochs=50,\n",
    "                    batch_size=32,\n",
    "                    callbacks=[early_stopping, target_callback])\n",
    "\n",
    "# Evaluate the model on the test set\n",
    "test_loss, test_mae = model.evaluate(X_test_scaled, y_test)\n",
    "print(f'Test Loss (MSE): {test_loss}')\n",
    "print(f'Test MAE: {test_mae}')\n",
    "\n",
    "# If you want to make predictions\n",
    "predictions = model.predict(X_test_scaled)\n",
    "\n",
    "# Plot training history\n",
    "plt.plot(history.history['loss'], label='Training Loss')\n",
    "plt.plot(history.history['val_loss'], label='Validation Loss')\n",
    "plt.xlabel('Epoch')\n",
    "plt.ylabel('Loss')\n",
    "plt.legend()\n",
    "plt.show()\n"
   ]
  }
 ],
 "metadata": {
  "kernelspec": {
   "display_name": "Python 3",
   "language": "python",
   "name": "python3"
  },
  "language_info": {
   "codemirror_mode": {
    "name": "ipython",
    "version": 3
   },
   "file_extension": ".py",
   "mimetype": "text/x-python",
   "name": "python",
   "nbconvert_exporter": "python",
   "pygments_lexer": "ipython3",
   "version": "3.11.0"
  }
 },
 "nbformat": 4,
 "nbformat_minor": 2
}
